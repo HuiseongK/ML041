{
  "cells": [
    {
      "cell_type": "markdown",
      "metadata": {
        "id": "I9_jA88fivdv"
      },
      "source": [
        "# soft voting\n",
        "- randomforest\n",
        "- xgbm\n",
        "- lgbm\n",
        "- weight 1,1,1\n",
        "\n",
        "\n"
      ]
    },
    {
      "cell_type": "code",
      "execution_count": 2,
      "metadata": {
        "colab": {
          "base_uri": "https://localhost:8080/"
        },
        "id": "VTFpRwrHi7LO",
        "outputId": "fda79769-71c1-47b7-a9f7-8fe009ca4c44"
      },
      "outputs": [
        {
          "name": "stdout",
          "output_type": "stream",
          "text": [
            "Requirement already satisfied: scikit-learn in /Users/summerlee/.pyenv/versions/py_3_11_ml/lib/python3.11/site-packages (1.5.2)\n",
            "Requirement already satisfied: pandas in /Users/summerlee/.pyenv/versions/py_3_11_ml/lib/python3.11/site-packages (2.2.2)\n",
            "Requirement already satisfied: numpy in /Users/summerlee/.pyenv/versions/py_3_11_ml/lib/python3.11/site-packages (2.1.1)\n",
            "Requirement already satisfied: matplotlib in /Users/summerlee/.pyenv/versions/py_3_11_ml/lib/python3.11/site-packages (3.9.2)\n",
            "Requirement already satisfied: seaborn in /Users/summerlee/.pyenv/versions/py_3_11_ml/lib/python3.11/site-packages (0.13.2)\n",
            "Requirement already satisfied: Optuna in /Users/summerlee/.pyenv/versions/py_3_11_ml/lib/python3.11/site-packages (4.0.0)\n",
            "Requirement already satisfied: xgboost in /Users/summerlee/.pyenv/versions/py_3_11_ml/lib/python3.11/site-packages (2.1.1)\n",
            "Requirement already satisfied: scipy>=1.6.0 in /Users/summerlee/.pyenv/versions/py_3_11_ml/lib/python3.11/site-packages (from scikit-learn) (1.14.1)\n",
            "Requirement already satisfied: joblib>=1.2.0 in /Users/summerlee/.pyenv/versions/py_3_11_ml/lib/python3.11/site-packages (from scikit-learn) (1.4.2)\n",
            "Requirement already satisfied: threadpoolctl>=3.1.0 in /Users/summerlee/.pyenv/versions/py_3_11_ml/lib/python3.11/site-packages (from scikit-learn) (3.5.0)\n",
            "Requirement already satisfied: python-dateutil>=2.8.2 in /Users/summerlee/.pyenv/versions/py_3_11_ml/lib/python3.11/site-packages (from pandas) (2.9.0.post0)\n",
            "Requirement already satisfied: pytz>=2020.1 in /Users/summerlee/.pyenv/versions/py_3_11_ml/lib/python3.11/site-packages (from pandas) (2024.2)\n",
            "Requirement already satisfied: tzdata>=2022.7 in /Users/summerlee/.pyenv/versions/py_3_11_ml/lib/python3.11/site-packages (from pandas) (2024.1)\n",
            "Requirement already satisfied: contourpy>=1.0.1 in /Users/summerlee/.pyenv/versions/py_3_11_ml/lib/python3.11/site-packages (from matplotlib) (1.3.0)\n",
            "Requirement already satisfied: cycler>=0.10 in /Users/summerlee/.pyenv/versions/py_3_11_ml/lib/python3.11/site-packages (from matplotlib) (0.12.1)\n",
            "Requirement already satisfied: fonttools>=4.22.0 in /Users/summerlee/.pyenv/versions/py_3_11_ml/lib/python3.11/site-packages (from matplotlib) (4.53.1)\n",
            "Requirement already satisfied: kiwisolver>=1.3.1 in /Users/summerlee/.pyenv/versions/py_3_11_ml/lib/python3.11/site-packages (from matplotlib) (1.4.7)\n",
            "Requirement already satisfied: packaging>=20.0 in /Users/summerlee/.pyenv/versions/py_3_11_ml/lib/python3.11/site-packages (from matplotlib) (24.1)\n",
            "Requirement already satisfied: pillow>=8 in /Users/summerlee/.pyenv/versions/py_3_11_ml/lib/python3.11/site-packages (from matplotlib) (10.4.0)\n",
            "Requirement already satisfied: pyparsing>=2.3.1 in /Users/summerlee/.pyenv/versions/py_3_11_ml/lib/python3.11/site-packages (from matplotlib) (3.1.4)\n",
            "Requirement already satisfied: alembic>=1.5.0 in /Users/summerlee/.pyenv/versions/py_3_11_ml/lib/python3.11/site-packages (from Optuna) (1.13.2)\n",
            "Requirement already satisfied: colorlog in /Users/summerlee/.pyenv/versions/py_3_11_ml/lib/python3.11/site-packages (from Optuna) (6.8.2)\n",
            "Requirement already satisfied: sqlalchemy>=1.3.0 in /Users/summerlee/.pyenv/versions/py_3_11_ml/lib/python3.11/site-packages (from Optuna) (2.0.35)\n",
            "Requirement already satisfied: tqdm in /Users/summerlee/.pyenv/versions/py_3_11_ml/lib/python3.11/site-packages (from Optuna) (4.66.5)\n",
            "Requirement already satisfied: PyYAML in /Users/summerlee/.pyenv/versions/py_3_11_ml/lib/python3.11/site-packages (from Optuna) (6.0.2)\n",
            "Requirement already satisfied: Mako in /Users/summerlee/.pyenv/versions/py_3_11_ml/lib/python3.11/site-packages (from alembic>=1.5.0->Optuna) (1.3.5)\n",
            "Requirement already satisfied: typing-extensions>=4 in /Users/summerlee/.pyenv/versions/py_3_11_ml/lib/python3.11/site-packages (from alembic>=1.5.0->Optuna) (4.12.2)\n",
            "Requirement already satisfied: six>=1.5 in /Users/summerlee/.pyenv/versions/py_3_11_ml/lib/python3.11/site-packages (from python-dateutil>=2.8.2->pandas) (1.16.0)\n",
            "Requirement already satisfied: MarkupSafe>=0.9.2 in /Users/summerlee/.pyenv/versions/py_3_11_ml/lib/python3.11/site-packages (from Mako->alembic>=1.5.0->Optuna) (2.1.5)\n"
          ]
        }
      ],
      "source": [
        "! pip install  scikit-learn pandas numpy matplotlib seaborn Optuna xgboost\n",
        "# pycaret\n",
        "\n"
      ]
    },
    {
      "cell_type": "code",
      "execution_count": 15,
      "metadata": {
        "colab": {
          "base_uri": "https://localhost:8080/",
          "height": 461
        },
        "id": "OGxkBiwXjNIl",
        "outputId": "1d2f85ad-c0fa-45ae-d7fc-7f5321bc14fa"
      },
      "outputs": [
        {
          "data": {
            "text/html": [
              "<div>\n",
              "<style scoped>\n",
              "    .dataframe tbody tr th:only-of-type {\n",
              "        vertical-align: middle;\n",
              "    }\n",
              "\n",
              "    .dataframe tbody tr th {\n",
              "        vertical-align: top;\n",
              "    }\n",
              "\n",
              "    .dataframe thead th {\n",
              "        text-align: right;\n",
              "    }\n",
              "</style>\n",
              "<table border=\"1\" class=\"dataframe\">\n",
              "  <thead>\n",
              "    <tr style=\"text-align: right;\">\n",
              "      <th></th>\n",
              "      <th>age</th>\n",
              "      <th>job</th>\n",
              "      <th>marital</th>\n",
              "      <th>education</th>\n",
              "      <th>default</th>\n",
              "      <th>balance</th>\n",
              "      <th>housing</th>\n",
              "      <th>loan</th>\n",
              "      <th>contact</th>\n",
              "      <th>day</th>\n",
              "      <th>month</th>\n",
              "      <th>duration</th>\n",
              "      <th>campaign</th>\n",
              "      <th>pdays</th>\n",
              "      <th>previous</th>\n",
              "      <th>poutcome</th>\n",
              "      <th>deposit</th>\n",
              "    </tr>\n",
              "  </thead>\n",
              "  <tbody>\n",
              "    <tr>\n",
              "      <th>0</th>\n",
              "      <td>59</td>\n",
              "      <td>admin.</td>\n",
              "      <td>married</td>\n",
              "      <td>secondary</td>\n",
              "      <td>no</td>\n",
              "      <td>2343</td>\n",
              "      <td>yes</td>\n",
              "      <td>no</td>\n",
              "      <td>unknown</td>\n",
              "      <td>5</td>\n",
              "      <td>may</td>\n",
              "      <td>1042</td>\n",
              "      <td>1</td>\n",
              "      <td>-1</td>\n",
              "      <td>0</td>\n",
              "      <td>unknown</td>\n",
              "      <td>yes</td>\n",
              "    </tr>\n",
              "    <tr>\n",
              "      <th>1</th>\n",
              "      <td>56</td>\n",
              "      <td>admin.</td>\n",
              "      <td>married</td>\n",
              "      <td>secondary</td>\n",
              "      <td>no</td>\n",
              "      <td>45</td>\n",
              "      <td>no</td>\n",
              "      <td>no</td>\n",
              "      <td>unknown</td>\n",
              "      <td>5</td>\n",
              "      <td>may</td>\n",
              "      <td>1467</td>\n",
              "      <td>1</td>\n",
              "      <td>-1</td>\n",
              "      <td>0</td>\n",
              "      <td>unknown</td>\n",
              "      <td>yes</td>\n",
              "    </tr>\n",
              "    <tr>\n",
              "      <th>2</th>\n",
              "      <td>41</td>\n",
              "      <td>technician</td>\n",
              "      <td>married</td>\n",
              "      <td>secondary</td>\n",
              "      <td>no</td>\n",
              "      <td>1270</td>\n",
              "      <td>yes</td>\n",
              "      <td>no</td>\n",
              "      <td>unknown</td>\n",
              "      <td>5</td>\n",
              "      <td>may</td>\n",
              "      <td>1389</td>\n",
              "      <td>1</td>\n",
              "      <td>-1</td>\n",
              "      <td>0</td>\n",
              "      <td>unknown</td>\n",
              "      <td>yes</td>\n",
              "    </tr>\n",
              "    <tr>\n",
              "      <th>3</th>\n",
              "      <td>55</td>\n",
              "      <td>services</td>\n",
              "      <td>married</td>\n",
              "      <td>secondary</td>\n",
              "      <td>no</td>\n",
              "      <td>2476</td>\n",
              "      <td>yes</td>\n",
              "      <td>no</td>\n",
              "      <td>unknown</td>\n",
              "      <td>5</td>\n",
              "      <td>may</td>\n",
              "      <td>579</td>\n",
              "      <td>1</td>\n",
              "      <td>-1</td>\n",
              "      <td>0</td>\n",
              "      <td>unknown</td>\n",
              "      <td>yes</td>\n",
              "    </tr>\n",
              "    <tr>\n",
              "      <th>4</th>\n",
              "      <td>54</td>\n",
              "      <td>admin.</td>\n",
              "      <td>married</td>\n",
              "      <td>tertiary</td>\n",
              "      <td>no</td>\n",
              "      <td>184</td>\n",
              "      <td>no</td>\n",
              "      <td>no</td>\n",
              "      <td>unknown</td>\n",
              "      <td>5</td>\n",
              "      <td>may</td>\n",
              "      <td>673</td>\n",
              "      <td>2</td>\n",
              "      <td>-1</td>\n",
              "      <td>0</td>\n",
              "      <td>unknown</td>\n",
              "      <td>yes</td>\n",
              "    </tr>\n",
              "    <tr>\n",
              "      <th>...</th>\n",
              "      <td>...</td>\n",
              "      <td>...</td>\n",
              "      <td>...</td>\n",
              "      <td>...</td>\n",
              "      <td>...</td>\n",
              "      <td>...</td>\n",
              "      <td>...</td>\n",
              "      <td>...</td>\n",
              "      <td>...</td>\n",
              "      <td>...</td>\n",
              "      <td>...</td>\n",
              "      <td>...</td>\n",
              "      <td>...</td>\n",
              "      <td>...</td>\n",
              "      <td>...</td>\n",
              "      <td>...</td>\n",
              "      <td>...</td>\n",
              "    </tr>\n",
              "    <tr>\n",
              "      <th>11157</th>\n",
              "      <td>33</td>\n",
              "      <td>blue-collar</td>\n",
              "      <td>single</td>\n",
              "      <td>primary</td>\n",
              "      <td>no</td>\n",
              "      <td>1</td>\n",
              "      <td>yes</td>\n",
              "      <td>no</td>\n",
              "      <td>cellular</td>\n",
              "      <td>20</td>\n",
              "      <td>apr</td>\n",
              "      <td>257</td>\n",
              "      <td>1</td>\n",
              "      <td>-1</td>\n",
              "      <td>0</td>\n",
              "      <td>unknown</td>\n",
              "      <td>no</td>\n",
              "    </tr>\n",
              "    <tr>\n",
              "      <th>11158</th>\n",
              "      <td>39</td>\n",
              "      <td>services</td>\n",
              "      <td>married</td>\n",
              "      <td>secondary</td>\n",
              "      <td>no</td>\n",
              "      <td>733</td>\n",
              "      <td>no</td>\n",
              "      <td>no</td>\n",
              "      <td>unknown</td>\n",
              "      <td>16</td>\n",
              "      <td>jun</td>\n",
              "      <td>83</td>\n",
              "      <td>4</td>\n",
              "      <td>-1</td>\n",
              "      <td>0</td>\n",
              "      <td>unknown</td>\n",
              "      <td>no</td>\n",
              "    </tr>\n",
              "    <tr>\n",
              "      <th>11159</th>\n",
              "      <td>32</td>\n",
              "      <td>technician</td>\n",
              "      <td>single</td>\n",
              "      <td>secondary</td>\n",
              "      <td>no</td>\n",
              "      <td>29</td>\n",
              "      <td>no</td>\n",
              "      <td>no</td>\n",
              "      <td>cellular</td>\n",
              "      <td>19</td>\n",
              "      <td>aug</td>\n",
              "      <td>156</td>\n",
              "      <td>2</td>\n",
              "      <td>-1</td>\n",
              "      <td>0</td>\n",
              "      <td>unknown</td>\n",
              "      <td>no</td>\n",
              "    </tr>\n",
              "    <tr>\n",
              "      <th>11160</th>\n",
              "      <td>43</td>\n",
              "      <td>technician</td>\n",
              "      <td>married</td>\n",
              "      <td>secondary</td>\n",
              "      <td>no</td>\n",
              "      <td>0</td>\n",
              "      <td>no</td>\n",
              "      <td>yes</td>\n",
              "      <td>cellular</td>\n",
              "      <td>8</td>\n",
              "      <td>may</td>\n",
              "      <td>9</td>\n",
              "      <td>2</td>\n",
              "      <td>172</td>\n",
              "      <td>5</td>\n",
              "      <td>failure</td>\n",
              "      <td>no</td>\n",
              "    </tr>\n",
              "    <tr>\n",
              "      <th>11161</th>\n",
              "      <td>34</td>\n",
              "      <td>technician</td>\n",
              "      <td>married</td>\n",
              "      <td>secondary</td>\n",
              "      <td>no</td>\n",
              "      <td>0</td>\n",
              "      <td>no</td>\n",
              "      <td>no</td>\n",
              "      <td>cellular</td>\n",
              "      <td>9</td>\n",
              "      <td>jul</td>\n",
              "      <td>628</td>\n",
              "      <td>1</td>\n",
              "      <td>-1</td>\n",
              "      <td>0</td>\n",
              "      <td>unknown</td>\n",
              "      <td>no</td>\n",
              "    </tr>\n",
              "  </tbody>\n",
              "</table>\n",
              "<p>11162 rows × 17 columns</p>\n",
              "</div>"
            ],
            "text/plain": [
              "       age          job  marital  education default  balance housing loan  \\\n",
              "0       59       admin.  married  secondary      no     2343     yes   no   \n",
              "1       56       admin.  married  secondary      no       45      no   no   \n",
              "2       41   technician  married  secondary      no     1270     yes   no   \n",
              "3       55     services  married  secondary      no     2476     yes   no   \n",
              "4       54       admin.  married   tertiary      no      184      no   no   \n",
              "...    ...          ...      ...        ...     ...      ...     ...  ...   \n",
              "11157   33  blue-collar   single    primary      no        1     yes   no   \n",
              "11158   39     services  married  secondary      no      733      no   no   \n",
              "11159   32   technician   single  secondary      no       29      no   no   \n",
              "11160   43   technician  married  secondary      no        0      no  yes   \n",
              "11161   34   technician  married  secondary      no        0      no   no   \n",
              "\n",
              "        contact  day month  duration  campaign  pdays  previous poutcome  \\\n",
              "0       unknown    5   may      1042         1     -1         0  unknown   \n",
              "1       unknown    5   may      1467         1     -1         0  unknown   \n",
              "2       unknown    5   may      1389         1     -1         0  unknown   \n",
              "3       unknown    5   may       579         1     -1         0  unknown   \n",
              "4       unknown    5   may       673         2     -1         0  unknown   \n",
              "...         ...  ...   ...       ...       ...    ...       ...      ...   \n",
              "11157  cellular   20   apr       257         1     -1         0  unknown   \n",
              "11158   unknown   16   jun        83         4     -1         0  unknown   \n",
              "11159  cellular   19   aug       156         2     -1         0  unknown   \n",
              "11160  cellular    8   may         9         2    172         5  failure   \n",
              "11161  cellular    9   jul       628         1     -1         0  unknown   \n",
              "\n",
              "      deposit  \n",
              "0         yes  \n",
              "1         yes  \n",
              "2         yes  \n",
              "3         yes  \n",
              "4         yes  \n",
              "...       ...  \n",
              "11157      no  \n",
              "11158      no  \n",
              "11159      no  \n",
              "11160      no  \n",
              "11161      no  \n",
              "\n",
              "[11162 rows x 17 columns]"
            ]
          },
          "execution_count": 15,
          "metadata": {},
          "output_type": "execute_result"
        }
      ],
      "source": [
        "import numpy as np\n",
        "import pandas as pd\n",
        "from sklearn.model_selection import train_test_split\n",
        "from sklearn.ensemble import RandomForestClassifier, GradientBoostingClassifier, VotingClassifier\n",
        "from sklearn.metrics import roc_auc_score, recall_score, accuracy_score\n",
        "from xgboost import XGBClassifier\n",
        "from lightgbm import LGBMClassifier\n",
        "import matplotlib.pyplot as plt\n",
        "import seaborn as sns\n",
        "\n",
        "\n",
        "# data import\n",
        "df=pd.read_csv('/Users/summerlee/fisa/09_ML/hy-0920-ml/bank.csv')\n",
        "df"
      ]
    },
    {
      "cell_type": "markdown",
      "metadata": {},
      "source": [
        "## basic soft_voting\n",
        "result\n",
        "- Accuracy: 0.7421\n",
        "- AUC: 0.8000\n",
        "- Recall: 0.6261\n"
      ]
    },
    {
      "cell_type": "code",
      "execution_count": 16,
      "metadata": {
        "colab": {
          "base_uri": "https://localhost:8080/"
        },
        "id": "SecoY6qU18z8",
        "outputId": "5032a830-a722-40fe-8004-da6a6951280c"
      },
      "outputs": [
        {
          "name": "stderr",
          "output_type": "stream",
          "text": [
            "/var/folders/0h/6t5rrrkd413d6v0z43zmchmm0000gn/T/ipykernel_38998/4060499925.py:3: FutureWarning:\n",
            "\n",
            "Downcasting behavior in `replace` is deprecated and will be removed in a future version. To retain the old behavior, explicitly call `result.infer_objects(copy=False)`. To opt-in to the future behavior, set `pd.set_option('future.no_silent_downcasting', True)`\n",
            "\n"
          ]
        },
        {
          "name": "stdout",
          "output_type": "stream",
          "text": [
            "[LightGBM] [Info] Number of positive: 3362, number of negative: 3781\n",
            "[LightGBM] [Info] Auto-choosing row-wise multi-threading, the overhead of testing was 0.000858 seconds.\n",
            "You can set `force_row_wise=true` to remove the overhead.\n",
            "And if memory is not enough, you can set `force_col_wise=true`.\n",
            "[LightGBM] [Info] Total Bins 733\n",
            "[LightGBM] [Info] Number of data points in the train set: 7143, number of used features: 41\n",
            "[LightGBM] [Info] [binary:BoostFromScore]: pavg=0.470671 -> initscore=-0.117452\n",
            "[LightGBM] [Info] Start training from score -0.117452\n",
            "AUC: 0.8000\n",
            "Recall: 0.6261\n",
            "Accuracy: 0.7421\n"
          ]
        }
      ],
      "source": [
        "\n",
        "\n",
        "# 데이터 준비 (예시 데이터를 df라고 가정)\n",
        "X = df.drop(['deposit', 'duration'], axis=1)\n",
        "df['deposit'] = df['deposit'].replace({'yes': 1, 'no': 0})\n",
        "y = df['deposit']\n",
        "\n",
        "\n",
        "# 범주형 변수 원-핫 인코딩\n",
        "X = pd.get_dummies(X, drop_first=True)\n",
        "\n",
        "# 데이터 분할\n",
        "# 데이터를 train+validation과 test로 분할\n",
        "X_train_val, X_test, y_train_val, y_test = train_test_split(X, y, test_size=0.2, random_state=42)\n",
        "\n",
        "# train+validation을 다시 train과 validation으로 분할\n",
        "X_train, X_val, y_train, y_val = train_test_split(X_train_val, y_train_val, test_size=0.2, random_state=42)\n",
        "\n",
        "\n",
        "\n",
        "\n",
        "\n",
        "# 모델 생성\n",
        "rf = RandomForestClassifier(n_estimators=100, random_state=42)\n",
        "# gbm = GradientBoostingClassifier(n_estimators=100, random_state=42)\n",
        "xgb = XGBClassifier(n_estimators=100, random_state=42)\n",
        "lgbm = LGBMClassifier(n_estimators=100, random_state=42)\n",
        "\n",
        "# Voting Classifier 생성\n",
        "voting_clf = VotingClassifier([\n",
        "    ('rf', rf),\n",
        "    ('xgb', xgb),\n",
        "    ('lgbm', lgbm)\n",
        "], voting='soft', weights=[1, 1, 1])\n",
        "\n",
        "# 모델 학습\n",
        "voting_clf.fit(X_train, y_train)\n",
        "\n",
        "# 예측\n",
        "y_pred = voting_clf.predict(X_test)\n",
        "y_pred_proba = voting_clf.predict_proba(X_test)[:, 1]\n",
        "\n",
        "# accuracy, AUC와 Recall 계산\n",
        "accuracy = accuracy_score(y_test, y_pred)\n",
        "auc = roc_auc_score(y_test, y_pred_proba)\n",
        "recall = recall_score(y_test, y_pred, pos_label=1)\n",
        "\n",
        "print(f\"Accuracy: {accuracy:.4f}\")\n",
        "print(f\"AUC: {auc:.4f}\")\n",
        "print(f\"Recall: {recall:.4f}\")\n",
        "\n",
        "\n",
        "# ## 특성 중요도 (Random Forest 기준)\n",
        "# importances = voting_clf.named_estimators_['rf'].feature_importances_\n",
        "# indices = np.argsort(importances)[::-1]\n",
        "# feature_names = X.columns\n",
        "\n",
        "# plt.figure(figsize=(10, 6))\n",
        "# plt.title(\"Feature Importances\")\n",
        "# plt.bar(range(X.shape[1]), importances[indices])\n",
        "# plt.xticks(range(X.shape[1]), [feature_names[i] for i in indices], rotation=90)\n",
        "# plt.tight_layout()\n",
        "# plt.show()"
      ]
    },
    {
      "cell_type": "markdown",
      "metadata": {
        "id": "yDMwDbB3omWQ"
      },
      "source": [
        "## gridsearch 사용\n",
        "\n",
        "result\n",
        "\n",
        "- Accuracy: 0.7425\n",
        "- AUC: 0.8073\n",
        "- Recall: 0.6289"
      ]
    },
    {
      "cell_type": "code",
      "execution_count": 17,
      "metadata": {
        "colab": {
          "base_uri": "https://localhost:8080/",
          "height": 1000
        },
        "id": "qD91Sd_ojlpX",
        "outputId": "461632af-e703-4fe8-844a-cf94ddad6428"
      },
      "outputs": [
        {
          "name": "stdout",
          "output_type": "stream",
          "text": [
            "Performing GridSearch for rf...\n"
          ]
        },
        {
          "name": "stderr",
          "output_type": "stream",
          "text": [
            "/Users/summerlee/.pyenv/versions/3.11.10/envs/py_3_11_ml/lib/python3.11/site-packages/sklearn/metrics/_scorer.py:610: FutureWarning:\n",
            "\n",
            "The `needs_threshold` and `needs_proba` parameter are deprecated in version 1.4 and will be removed in 1.6. You can either let `response_method` be `None` or set it to `predict` to preserve the same behaviour.\n",
            "\n"
          ]
        },
        {
          "name": "stdout",
          "output_type": "stream",
          "text": [
            "Best parameters for rf: {'max_depth': None, 'min_samples_split': 5, 'n_estimators': 200}\n",
            "Best score for rf: 0.6974\n",
            "Performing GridSearch for xgb...\n",
            "Best parameters for xgb: {'learning_rate': 0.1, 'max_depth': 5, 'n_estimators': 200}\n",
            "Best score for xgb: 0.6872\n",
            "Performing GridSearch for lgbm...\n",
            "[LightGBM] [Info] Number of positive: 2241, number of negative: 2521\n",
            "[LightGBM] [Info] Number of positive: 2241, number of negative: 2521\n",
            "[LightGBM] [Info] Number of positive: 2242, number of negative: 2520\n",
            "[LightGBM] [Info] Auto-choosing row-wise multi-threading, the overhead of testing was 0.002281 seconds.\n",
            "You can set `force_row_wise=true` to remove the overhead.\n",
            "And if memory is not enough, you can set `force_col_wise=true`.\n",
            "[LightGBM] [Info] Total Bins 722\n",
            "[LightGBM] [Info] Number of data points in the train set: 4762, number of used features: 41\n",
            "[LightGBM] [Info] Number of positive: 2242, number of negative: 2520\n",
            "[LightGBM] [Info] Number of positive: 2241, number of negative: 2521\n",
            "[LightGBM] [Info] [binary:BoostFromScore]: pavg=0.470601 -> initscore=-0.117733\n",
            "[LightGBM] [Info] Start training from score -0.117733\n",
            "[LightGBM] [Info] Auto-choosing row-wise multi-threading, the overhead of testing was 0.004442 seconds.\n",
            "You can set `force_row_wise=true` to remove the overhead.\n",
            "And if memory is not enough, you can set `force_col_wise=true`.\n",
            "[LightGBM] [Info] Total Bins 722\n",
            "[LightGBM] [Info] Number of data points in the train set: 4762, number of used features: 41\n",
            "[LightGBM] [Info] Number of positive: 2241, number of negative: 2521\n",
            "[LightGBM] [Info] [binary:BoostFromScore]: pavg=0.470601 -> initscore=-0.117733\n",
            "[LightGBM] [Info] Start training from score -0.117733\n",
            "[LightGBM] [Info] Number of positive: 2242, number of negative: 2520\n",
            "[LightGBM] [Info] Number of positive: 2241, number of negative: 2521\n",
            "[LightGBM] [Info] Auto-choosing row-wise multi-threading, the overhead of testing was 0.009549 seconds.\n",
            "You can set `force_row_wise=true` to remove the overhead.\n",
            "And if memory is not enough, you can set `force_col_wise=true`.\n",
            "[LightGBM] [Info] Total Bins 720\n",
            "[LightGBM] [Info] Number of data points in the train set: 4762, number of used features: 41\n",
            "[LightGBM] [Info] Auto-choosing row-wise multi-threading, the overhead of testing was 0.007400 seconds.\n",
            "You can set `force_row_wise=true` to remove the overhead.\n",
            "And if memory is not enough, you can set `force_col_wise=true`.\n",
            "[LightGBM] [Info] Total Bins 718\n",
            "[LightGBM] [Info] Auto-choosing row-wise multi-threading, the overhead of testing was 0.012275 seconds.\n",
            "You can set `force_row_wise=true` to remove the overhead.\n",
            "And if memory is not enough, you can set `force_col_wise=true`.\n",
            "[LightGBM] [Info] Total Bins 720\n",
            "[LightGBM] [Info] Number of data points in the train set: 4762, number of used features: 41\n",
            "[LightGBM] [Info] [binary:BoostFromScore]: pavg=0.470811 -> initscore=-0.116891\n",
            "[LightGBM] [Info] Start training from score -0.116891\n",
            "[LightGBM] [Info] Number of data points in the train set: 4762, number of used features: 41\n",
            "[LightGBM] [Info] [binary:BoostFromScore]: pavg=0.470811 -> initscore=-0.116891\n",
            "[LightGBM] [Info] Start training from score -0.116891\n",
            "[LightGBM] [Info] [binary:BoostFromScore]: pavg=0.470601 -> initscore=-0.117733\n",
            "[LightGBM] [Info] Start training from score -0.117733\n",
            "[LightGBM] [Info] Auto-choosing row-wise multi-threading, the overhead of testing was 0.007314 seconds.\n",
            "You can set `force_row_wise=true` to remove the overhead.\n",
            "And if memory is not enough, you can set `force_col_wise=true`.\n",
            "[LightGBM] [Info] Total Bins 720\n",
            "[LightGBM] [Info] Number of data points in the train set: 4762, number of used features: 41\n",
            "[LightGBM] [Info] [binary:BoostFromScore]: pavg=0.470811 -> initscore=-0.116891\n",
            "[LightGBM] [Info] Start training from score -0.116891\n",
            "[LightGBM] [Info] Auto-choosing col-wise multi-threading, the overhead of testing was 0.022789 seconds.\n",
            "You can set `force_col_wise=true` to remove the overhead.\n",
            "[LightGBM] [Info] Auto-choosing col-wise multi-threading, the overhead of testing was 0.035446 seconds.\n",
            "You can set `force_col_wise=true` to remove the overhead.\n",
            "[LightGBM] [Info] Total Bins 722\n",
            "[LightGBM] [Info] Number of data points in the train set: 4762, number of used features: 41\n",
            "[LightGBM] [Info] Total Bins 718\n",
            "[LightGBM] [Info] Number of data points in the train set: 4762, number of used features: 41\n",
            "[LightGBM] [Info] [binary:BoostFromScore]: pavg=0.470601 -> initscore=-0.117733\n",
            "[LightGBM] [Info] [binary:BoostFromScore]: pavg=0.470601 -> initscore=-0.117733\n",
            "[LightGBM] [Info] Start training from score -0.117733[LightGBM] [Info] Start training from score -0.117733\n",
            "\n",
            "[LightGBM] [Info] Number of positive: 2241, number of negative: 2521\n",
            "[LightGBM] [Info] Auto-choosing row-wise multi-threading, the overhead of testing was 0.002366 seconds.\n",
            "You can set `force_row_wise=true` to remove the overhead.\n",
            "And if memory is not enough, you can set `force_col_wise=true`.\n",
            "[LightGBM] [Info] Total Bins 718\n",
            "[LightGBM] [Info] Number of data points in the train set: 4762, number of used features: 41\n",
            "[LightGBM] [Info] [binary:BoostFromScore]: pavg=0.470601 -> initscore=-0.117733\n",
            "[LightGBM] [Info] Start training from score -0.117733\n",
            "[LightGBM] [Info] Number of positive: 2242, number of negative: 2520\n",
            "[LightGBM] [Info] Auto-choosing row-wise multi-threading, the overhead of testing was 0.002752 seconds.\n",
            "You can set `force_row_wise=true` to remove the overhead.\n",
            "And if memory is not enough, you can set `force_col_wise=true`.\n",
            "[LightGBM] [Info] Total Bins 720\n",
            "[LightGBM] [Info] Number of data points in the train set: 4762, number of used features: 41\n",
            "[LightGBM] [Info] [binary:BoostFromScore]: pavg=0.470811 -> initscore=-0.116891\n",
            "[LightGBM] [Info] Start training from score -0.116891\n",
            "[LightGBM] [Info] Number of positive: 2241, number of negative: 2521\n",
            "[LightGBM] [Info] Auto-choosing row-wise multi-threading, the overhead of testing was 0.008037 seconds.\n",
            "You can set `force_row_wise=true` to remove the overhead.\n",
            "And if memory is not enough, you can set `force_col_wise=true`.\n",
            "[LightGBM] [Info] Total Bins 722\n",
            "[LightGBM] [Info] Number of data points in the train set: 4762, number of used features: 41\n",
            "[LightGBM] [Info] [binary:BoostFromScore]: pavg=0.470601 -> initscore=-0.117733\n",
            "[LightGBM] [Info] Start training from score -0.117733\n",
            "[LightGBM] [Info] Number of positive: 2241, number of negative: 2521\n",
            "[LightGBM] [Info] Auto-choosing col-wise multi-threading, the overhead of testing was 0.009345 seconds.\n",
            "You can set `force_col_wise=true` to remove the overhead.\n",
            "[LightGBM] [Info] Total Bins 718\n",
            "[LightGBM] [Info] Number of data points in the train set: 4762, number of used features: 41\n",
            "[LightGBM] [Info] [binary:BoostFromScore]: pavg=0.470601 -> initscore=-0.117733\n",
            "[LightGBM] [Info] Start training from score -0.117733\n",
            "[LightGBM] [Info] Number of positive: 3362, number of negative: 3781\n",
            "[LightGBM] [Info] Auto-choosing row-wise multi-threading, the overhead of testing was 0.001025 seconds.\n",
            "You can set `force_row_wise=true` to remove the overhead.\n",
            "And if memory is not enough, you can set `force_col_wise=true`.\n",
            "[LightGBM] [Info] Total Bins 733\n",
            "[LightGBM] [Info] Number of data points in the train set: 7143, number of used features: 41\n",
            "[LightGBM] [Info] [binary:BoostFromScore]: pavg=0.470671 -> initscore=-0.117452\n",
            "[LightGBM] [Info] Start training from score -0.117452\n",
            "[LightGBM] [Info] Number of positive: 3362, number of negative: 3781\n",
            "[LightGBM] [Info] Auto-choosing row-wise multi-threading, the overhead of testing was 0.000904 seconds.\n",
            "You can set `force_row_wise=true` to remove the overhead.\n",
            "And if memory is not enough, you can set `force_col_wise=true`.\n",
            "[LightGBM] [Info] Total Bins 733\n",
            "[LightGBM] [Info] Number of data points in the train set: 7143, number of used features: 41\n",
            "[LightGBM] [Info] [binary:BoostFromScore]: pavg=0.470671 -> initscore=-0.117452\n",
            "[LightGBM] [Info] Start training from score -0.117452\n",
            "Training until validation scores don't improve for 50 rounds\n",
            "Early stopping, best iteration is:\n",
            "[250]\tvalid_0's auc: 0.784909\tvalid_0's binary_logloss: 0.554844\n",
            "Best parameters for lgbm: {'learning_rate': 0.01, 'n_estimators': 1000, 'num_leaves': 63}\n",
            "Best score for lgbm: 0.6948\n",
            "[LightGBM] [Info] Number of positive: 4222, number of negative: 4707\n",
            "[LightGBM] [Info] Auto-choosing row-wise multi-threading, the overhead of testing was 0.001218 seconds.\n",
            "You can set `force_row_wise=true` to remove the overhead.\n",
            "And if memory is not enough, you can set `force_col_wise=true`.\n",
            "[LightGBM] [Info] Total Bins 735\n",
            "[LightGBM] [Info] Number of data points in the train set: 8929, number of used features: 41\n",
            "[LightGBM] [Info] [binary:BoostFromScore]: pavg=0.472841 -> initscore=-0.108742\n",
            "[LightGBM] [Info] Start training from score -0.108742\n",
            "Accuracy: 0.7425\n",
            "AUC: 0.8073\n",
            "Recall: 0.6289\n"
          ]
        }
      ],
      "source": [
        "import numpy as np\n",
        "import pandas as pd\n",
        "from sklearn.model_selection import train_test_split, GridSearchCV\n",
        "from sklearn.ensemble import RandomForestClassifier, VotingClassifier\n",
        "from sklearn.metrics import roc_auc_score, recall_score, make_scorer\n",
        "from xgboost import XGBClassifier\n",
        "from lightgbm import LGBMClassifier\n",
        "from lightgbm import early_stopping\n",
        "\n",
        "\n",
        "# 데이터 준비\n",
        "X = df.drop(['deposit', 'duration'], axis=1)\n",
        "df['deposit'] = df['deposit'].replace({'yes': 1, 'no': 0})\n",
        "y = df['deposit']\n",
        "\n",
        "# 범주형 변수 원-핫 인코딩\n",
        "X = pd.get_dummies(X, drop_first=True)\n",
        "\n",
        "# 데이터를 train+validation과 test로 분할\n",
        "X_train_val, X_test, y_train_val, y_test = train_test_split(X, y, test_size=0.2, random_state=42)\n",
        "\n",
        "# train+validation을 다시 train과 validation으로 분할\n",
        "X_train, X_val, y_train, y_val = train_test_split(X_train_val, y_train_val, test_size=0.2, random_state=42)\n",
        "\n",
        "# 커스텀 스코어 함수 (AUC와 Recall의 조화 평균)\n",
        "def custom_score(y_true, y_pred_proba):\n",
        "    auc = roc_auc_score(y_true, y_pred_proba)\n",
        "    recall = recall_score(y_true, y_pred_proba > 0.5, pos_label=1)\n",
        "    return 2 * (auc * recall) / (auc + recall)\n",
        "\n",
        "custom_scorer = make_scorer(custom_score, needs_proba=True)\n",
        "\n",
        "# 각 모델에 대한 파라미터 그리드 정의\n",
        "param_grids = {\n",
        "    'rf': {\n",
        "        'n_estimators': [100, 200],\n",
        "        'max_depth': [None, 10, 20],\n",
        "        'min_samples_split': [2, 5]\n",
        "    },\n",
        "    'xgb': {\n",
        "        'n_estimators': [100, 200],\n",
        "        'learning_rate': [0.01, 0.1],\n",
        "        'max_depth': [3, 5, 7]\n",
        "    },\n",
        "    'lgbm': {\n",
        "        'learning_rate': [0.01, 0.1],\n",
        "        'num_leaves': [31, 63]\n",
        "    }\n",
        "}\n",
        "from sklearn.model_selection import GridSearchCV\n",
        "from lightgbm import LGBMClassifier\n",
        "\n",
        "import numpy as np\n",
        "import pandas as pd\n",
        "from sklearn.model_selection import train_test_split, GridSearchCV\n",
        "from sklearn.ensemble import RandomForestClassifier, VotingClassifier\n",
        "from sklearn.metrics import roc_auc_score, recall_score, make_scorer\n",
        "from xgboost import XGBClassifier\n",
        "from lightgbm import LGBMClassifier\n",
        "from lightgbm.callback import early_stopping\n",
        "\n",
        "\n",
        "best_models = {}\n",
        "\n",
        "for name, model in [('rf', RandomForestClassifier(random_state=42)),\n",
        "                    ('xgb', XGBClassifier(random_state=42)),\n",
        "                    ('lgbm', LGBMClassifier(random_state=42))]:\n",
        "    print(f\"Performing GridSearch for {name}...\")\n",
        "\n",
        "    if name == 'lgbm':\n",
        "        param_grids[name]['n_estimators'] = [1000]  # Set a high number of estimators\n",
        "        # Use GridSearchCV for parameter tuning\n",
        "        grid_search = GridSearchCV(model, param_grids[name], cv=3, scoring=custom_scorer, n_jobs=-1)\n",
        "        grid_search.fit(X_train, y_train)\n",
        "\n",
        "        # Extract the best model and perform early stopping separately\n",
        "        best_lgbm_model = grid_search.best_estimator_\n",
        "        best_lgbm_model.fit(X_train, y_train,\n",
        "                            eval_set=[(X_val, y_val)],\n",
        "                            eval_metric='auc',\n",
        "                            callbacks=[early_stopping(50)])\n",
        "\n",
        "        best_models[name] = best_lgbm_model\n",
        "    else:\n",
        "        grid_search = GridSearchCV(model, param_grids[name], cv=3, scoring=custom_scorer, n_jobs=-1)\n",
        "        grid_search.fit(X_train, y_train)\n",
        "        best_models[name] = grid_search.best_estimator_\n",
        "\n",
        "    print(f\"Best parameters for {name}: {grid_search.best_params_}\")\n",
        "    print(f\"Best score for {name}: {grid_search.best_score_:.4f}\")\n",
        "\n",
        "\n",
        "\n",
        "\n",
        "# Voting Classifier 생성\n",
        "voting_clf = VotingClassifier([\n",
        "    ('rf', best_models['rf']),\n",
        "    ('xgb', best_models['xgb']),\n",
        "    ('lgbm', best_models['lgbm'])\n",
        "], voting='soft', weights=[1, 1, 1])\n",
        "\n",
        "# 모델 학습 (train+validation 데이터 사용)\n",
        "voting_clf.fit(X_train_val, y_train_val)\n",
        "\n",
        "# 예측\n",
        "y_pred = voting_clf.predict(X_test)\n",
        "y_pred_proba = voting_clf.predict_proba(X_test)[:, 1]\n",
        "\n",
        "\n",
        "\n",
        "# accuracy, AUC와 Recall 계산\n",
        "accuracy = accuracy_score(y_test, y_pred)\n",
        "auc = roc_auc_score(y_test, y_pred_proba)\n",
        "recall = recall_score(y_test, y_pred, pos_label=1)\n",
        "\n",
        "print(f\"Accuracy: {accuracy:.4f}\")\n",
        "print(f\"AUC: {auc:.4f}\")\n",
        "print(f\"Recall: {recall:.4f}\")\n",
        "\n"
      ]
    },
    {
      "cell_type": "markdown",
      "metadata": {
        "id": "5_brIaj9iuVP"
      },
      "source": []
    },
    {
      "cell_type": "markdown",
      "metadata": {
        "id": "q7_f9fFlxzf9"
      },
      "source": [
        "## optuna 사용\n",
        "\n",
        "- optuna Accuracy: 0.7273\n",
        "- optuna AUC: 0.7929\n",
        "- optuna Recall: 0.6401"
      ]
    },
    {
      "cell_type": "code",
      "execution_count": 18,
      "metadata": {},
      "outputs": [
        {
          "name": "stderr",
          "output_type": "stream",
          "text": [
            "[I 2024-09-20 04:04:10,737] Using an existing study with name 'bank_marketing_optimization' instead of creating a new one.\n",
            "/var/folders/0h/6t5rrrkd413d6v0z43zmchmm0000gn/T/ipykernel_38998/847976484.py:48: FutureWarning:\n",
            "\n",
            "suggest_loguniform has been deprecated in v3.0.0. This feature will be removed in v6.0.0. See https://github.com/optuna/optuna/releases/tag/v3.0.0. Use suggest_float(..., log=True) instead.\n",
            "\n",
            "/var/folders/0h/6t5rrrkd413d6v0z43zmchmm0000gn/T/ipykernel_38998/847976484.py:54: FutureWarning:\n",
            "\n",
            "suggest_loguniform has been deprecated in v3.0.0. This feature will be removed in v6.0.0. See https://github.com/optuna/optuna/releases/tag/v3.0.0. Use suggest_float(..., log=True) instead.\n",
            "\n"
          ]
        },
        {
          "name": "stdout",
          "output_type": "stream",
          "text": [
            "[LightGBM] [Info] Number of positive: 3362, number of negative: 3781\n",
            "[LightGBM] [Info] Auto-choosing row-wise multi-threading, the overhead of testing was 0.000875 seconds.\n",
            "You can set `force_row_wise=true` to remove the overhead.\n",
            "And if memory is not enough, you can set `force_col_wise=true`.\n",
            "[LightGBM] [Info] Total Bins 733\n",
            "[LightGBM] [Info] Number of data points in the train set: 7143, number of used features: 41\n",
            "[LightGBM] [Info] [binary:BoostFromScore]: pavg=0.470671 -> initscore=-0.117452\n",
            "[LightGBM] [Info] Start training from score -0.117452\n"
          ]
        },
        {
          "name": "stderr",
          "output_type": "stream",
          "text": [
            "[I 2024-09-20 04:04:15,905] Trial 200 finished with value: 0.7035383975476716 and parameters: {'rf_n_estimators': 282, 'rf_max_depth': 25, 'rf_min_samples_split': 8, 'xgb_n_estimators': 231, 'xgb_learning_rate': 0.06943489506054942, 'xgb_max_depth': 9, 'lgbm_n_estimators': 272, 'lgbm_learning_rate': 0.16342091280021973, 'lgbm_num_leaves': 41}. Best is trial 40 with value: 0.7109753023947039.\n",
            "/var/folders/0h/6t5rrrkd413d6v0z43zmchmm0000gn/T/ipykernel_38998/847976484.py:48: FutureWarning:\n",
            "\n",
            "suggest_loguniform has been deprecated in v3.0.0. This feature will be removed in v6.0.0. See https://github.com/optuna/optuna/releases/tag/v3.0.0. Use suggest_float(..., log=True) instead.\n",
            "\n",
            "/var/folders/0h/6t5rrrkd413d6v0z43zmchmm0000gn/T/ipykernel_38998/847976484.py:54: FutureWarning:\n",
            "\n",
            "suggest_loguniform has been deprecated in v3.0.0. This feature will be removed in v6.0.0. See https://github.com/optuna/optuna/releases/tag/v3.0.0. Use suggest_float(..., log=True) instead.\n",
            "\n"
          ]
        },
        {
          "name": "stdout",
          "output_type": "stream",
          "text": [
            "[LightGBM] [Info] Number of positive: 3362, number of negative: 3781\n",
            "[LightGBM] [Info] Auto-choosing row-wise multi-threading, the overhead of testing was 0.000883 seconds.\n",
            "You can set `force_row_wise=true` to remove the overhead.\n",
            "And if memory is not enough, you can set `force_col_wise=true`.\n",
            "[LightGBM] [Info] Total Bins 733\n",
            "[LightGBM] [Info] Number of data points in the train set: 7143, number of used features: 41\n",
            "[LightGBM] [Info] [binary:BoostFromScore]: pavg=0.470671 -> initscore=-0.117452\n",
            "[LightGBM] [Info] Start training from score -0.117452\n"
          ]
        },
        {
          "name": "stderr",
          "output_type": "stream",
          "text": [
            "[I 2024-09-20 04:04:21,080] Trial 201 finished with value: 0.6996787067223433 and parameters: {'rf_n_estimators': 285, 'rf_max_depth': 24, 'rf_min_samples_split': 8, 'xgb_n_estimators': 254, 'xgb_learning_rate': 0.0931421944974977, 'xgb_max_depth': 9, 'lgbm_n_estimators': 258, 'lgbm_learning_rate': 0.4363370871563635, 'lgbm_num_leaves': 45}. Best is trial 40 with value: 0.7109753023947039.\n",
            "/var/folders/0h/6t5rrrkd413d6v0z43zmchmm0000gn/T/ipykernel_38998/847976484.py:48: FutureWarning:\n",
            "\n",
            "suggest_loguniform has been deprecated in v3.0.0. This feature will be removed in v6.0.0. See https://github.com/optuna/optuna/releases/tag/v3.0.0. Use suggest_float(..., log=True) instead.\n",
            "\n",
            "/var/folders/0h/6t5rrrkd413d6v0z43zmchmm0000gn/T/ipykernel_38998/847976484.py:54: FutureWarning:\n",
            "\n",
            "suggest_loguniform has been deprecated in v3.0.0. This feature will be removed in v6.0.0. See https://github.com/optuna/optuna/releases/tag/v3.0.0. Use suggest_float(..., log=True) instead.\n",
            "\n"
          ]
        },
        {
          "name": "stdout",
          "output_type": "stream",
          "text": [
            "[LightGBM] [Info] Number of positive: 3362, number of negative: 3781\n",
            "[LightGBM] [Info] Auto-choosing row-wise multi-threading, the overhead of testing was 0.000895 seconds.\n",
            "You can set `force_row_wise=true` to remove the overhead.\n",
            "And if memory is not enough, you can set `force_col_wise=true`.\n",
            "[LightGBM] [Info] Total Bins 733\n",
            "[LightGBM] [Info] Number of data points in the train set: 7143, number of used features: 41\n",
            "[LightGBM] [Info] [binary:BoostFromScore]: pavg=0.470671 -> initscore=-0.117452\n",
            "[LightGBM] [Info] Start training from score -0.117452\n"
          ]
        },
        {
          "name": "stderr",
          "output_type": "stream",
          "text": [
            "[I 2024-09-20 04:04:25,754] Trial 202 finished with value: 0.7044672108269893 and parameters: {'rf_n_estimators': 292, 'rf_max_depth': 23, 'rf_min_samples_split': 9, 'xgb_n_estimators': 245, 'xgb_learning_rate': 0.0776366025456217, 'xgb_max_depth': 9, 'lgbm_n_estimators': 260, 'lgbm_learning_rate': 0.3057843486594117, 'lgbm_num_leaves': 42}. Best is trial 40 with value: 0.7109753023947039.\n",
            "/var/folders/0h/6t5rrrkd413d6v0z43zmchmm0000gn/T/ipykernel_38998/847976484.py:48: FutureWarning:\n",
            "\n",
            "suggest_loguniform has been deprecated in v3.0.0. This feature will be removed in v6.0.0. See https://github.com/optuna/optuna/releases/tag/v3.0.0. Use suggest_float(..., log=True) instead.\n",
            "\n",
            "/var/folders/0h/6t5rrrkd413d6v0z43zmchmm0000gn/T/ipykernel_38998/847976484.py:54: FutureWarning:\n",
            "\n",
            "suggest_loguniform has been deprecated in v3.0.0. This feature will be removed in v6.0.0. See https://github.com/optuna/optuna/releases/tag/v3.0.0. Use suggest_float(..., log=True) instead.\n",
            "\n"
          ]
        },
        {
          "name": "stdout",
          "output_type": "stream",
          "text": [
            "[LightGBM] [Info] Number of positive: 3362, number of negative: 3781\n",
            "[LightGBM] [Info] Auto-choosing row-wise multi-threading, the overhead of testing was 0.000877 seconds.\n",
            "You can set `force_row_wise=true` to remove the overhead.\n",
            "And if memory is not enough, you can set `force_col_wise=true`.\n",
            "[LightGBM] [Info] Total Bins 733\n",
            "[LightGBM] [Info] Number of data points in the train set: 7143, number of used features: 41\n",
            "[LightGBM] [Info] [binary:BoostFromScore]: pavg=0.470671 -> initscore=-0.117452\n",
            "[LightGBM] [Info] Start training from score -0.117452\n"
          ]
        },
        {
          "name": "stderr",
          "output_type": "stream",
          "text": [
            "[I 2024-09-20 04:04:30,557] Trial 203 finished with value: 0.7017342683073129 and parameters: {'rf_n_estimators': 276, 'rf_max_depth': 24, 'rf_min_samples_split': 7, 'xgb_n_estimators': 252, 'xgb_learning_rate': 0.09825967110178081, 'xgb_max_depth': 10, 'lgbm_n_estimators': 266, 'lgbm_learning_rate': 0.3668252161424995, 'lgbm_num_leaves': 50}. Best is trial 40 with value: 0.7109753023947039.\n",
            "/var/folders/0h/6t5rrrkd413d6v0z43zmchmm0000gn/T/ipykernel_38998/847976484.py:48: FutureWarning:\n",
            "\n",
            "suggest_loguniform has been deprecated in v3.0.0. This feature will be removed in v6.0.0. See https://github.com/optuna/optuna/releases/tag/v3.0.0. Use suggest_float(..., log=True) instead.\n",
            "\n",
            "/var/folders/0h/6t5rrrkd413d6v0z43zmchmm0000gn/T/ipykernel_38998/847976484.py:54: FutureWarning:\n",
            "\n",
            "suggest_loguniform has been deprecated in v3.0.0. This feature will be removed in v6.0.0. See https://github.com/optuna/optuna/releases/tag/v3.0.0. Use suggest_float(..., log=True) instead.\n",
            "\n"
          ]
        },
        {
          "name": "stdout",
          "output_type": "stream",
          "text": [
            "[LightGBM] [Info] Number of positive: 3362, number of negative: 3781\n",
            "[LightGBM] [Info] Auto-choosing row-wise multi-threading, the overhead of testing was 0.000872 seconds.\n",
            "You can set `force_row_wise=true` to remove the overhead.\n",
            "And if memory is not enough, you can set `force_col_wise=true`.\n",
            "[LightGBM] [Info] Total Bins 733\n",
            "[LightGBM] [Info] Number of data points in the train set: 7143, number of used features: 41\n",
            "[LightGBM] [Info] [binary:BoostFromScore]: pavg=0.470671 -> initscore=-0.117452\n",
            "[LightGBM] [Info] Start training from score -0.117452\n"
          ]
        },
        {
          "name": "stderr",
          "output_type": "stream",
          "text": [
            "[I 2024-09-20 04:04:35,356] Trial 204 finished with value: 0.6998939946415678 and parameters: {'rf_n_estimators': 290, 'rf_max_depth': 23, 'rf_min_samples_split': 9, 'xgb_n_estimators': 239, 'xgb_learning_rate': 0.1345436608847637, 'xgb_max_depth': 9, 'lgbm_n_estimators': 277, 'lgbm_learning_rate': 0.5548988697049891, 'lgbm_num_leaves': 44}. Best is trial 40 with value: 0.7109753023947039.\n",
            "/var/folders/0h/6t5rrrkd413d6v0z43zmchmm0000gn/T/ipykernel_38998/847976484.py:48: FutureWarning:\n",
            "\n",
            "suggest_loguniform has been deprecated in v3.0.0. This feature will be removed in v6.0.0. See https://github.com/optuna/optuna/releases/tag/v3.0.0. Use suggest_float(..., log=True) instead.\n",
            "\n",
            "/var/folders/0h/6t5rrrkd413d6v0z43zmchmm0000gn/T/ipykernel_38998/847976484.py:54: FutureWarning:\n",
            "\n",
            "suggest_loguniform has been deprecated in v3.0.0. This feature will be removed in v6.0.0. See https://github.com/optuna/optuna/releases/tag/v3.0.0. Use suggest_float(..., log=True) instead.\n",
            "\n"
          ]
        },
        {
          "name": "stdout",
          "output_type": "stream",
          "text": [
            "[LightGBM] [Info] Number of positive: 3362, number of negative: 3781\n",
            "[LightGBM] [Info] Auto-choosing row-wise multi-threading, the overhead of testing was 0.000857 seconds.\n",
            "You can set `force_row_wise=true` to remove the overhead.\n",
            "And if memory is not enough, you can set `force_col_wise=true`.\n",
            "[LightGBM] [Info] Total Bins 733\n",
            "[LightGBM] [Info] Number of data points in the train set: 7143, number of used features: 41\n",
            "[LightGBM] [Info] [binary:BoostFromScore]: pavg=0.470671 -> initscore=-0.117452\n",
            "[LightGBM] [Info] Start training from score -0.117452\n"
          ]
        },
        {
          "name": "stderr",
          "output_type": "stream",
          "text": [
            "[I 2024-09-20 04:04:39,897] Trial 205 finished with value: 0.7014890645303836 and parameters: {'rf_n_estimators': 269, 'rf_max_depth': 26, 'rf_min_samples_split': 9, 'xgb_n_estimators': 260, 'xgb_learning_rate': 0.11379021329803106, 'xgb_max_depth': 9, 'lgbm_n_estimators': 254, 'lgbm_learning_rate': 0.4720349776547381, 'lgbm_num_leaves': 48}. Best is trial 40 with value: 0.7109753023947039.\n",
            "/var/folders/0h/6t5rrrkd413d6v0z43zmchmm0000gn/T/ipykernel_38998/847976484.py:48: FutureWarning:\n",
            "\n",
            "suggest_loguniform has been deprecated in v3.0.0. This feature will be removed in v6.0.0. See https://github.com/optuna/optuna/releases/tag/v3.0.0. Use suggest_float(..., log=True) instead.\n",
            "\n",
            "/var/folders/0h/6t5rrrkd413d6v0z43zmchmm0000gn/T/ipykernel_38998/847976484.py:54: FutureWarning:\n",
            "\n",
            "suggest_loguniform has been deprecated in v3.0.0. This feature will be removed in v6.0.0. See https://github.com/optuna/optuna/releases/tag/v3.0.0. Use suggest_float(..., log=True) instead.\n",
            "\n"
          ]
        },
        {
          "name": "stdout",
          "output_type": "stream",
          "text": [
            "[LightGBM] [Info] Number of positive: 3362, number of negative: 3781\n",
            "[LightGBM] [Info] Auto-choosing row-wise multi-threading, the overhead of testing was 0.000894 seconds.\n",
            "You can set `force_row_wise=true` to remove the overhead.\n",
            "And if memory is not enough, you can set `force_col_wise=true`.\n",
            "[LightGBM] [Info] Total Bins 733\n",
            "[LightGBM] [Info] Number of data points in the train set: 7143, number of used features: 41\n",
            "[LightGBM] [Info] [binary:BoostFromScore]: pavg=0.470671 -> initscore=-0.117452\n",
            "[LightGBM] [Info] Start training from score -0.117452\n"
          ]
        },
        {
          "name": "stderr",
          "output_type": "stream",
          "text": [
            "[I 2024-09-20 04:04:43,830] Trial 206 finished with value: 0.7007327459563596 and parameters: {'rf_n_estimators': 239, 'rf_max_depth': 23, 'rf_min_samples_split': 9, 'xgb_n_estimators': 234, 'xgb_learning_rate': 0.15428941475245686, 'xgb_max_depth': 7, 'lgbm_n_estimators': 270, 'lgbm_learning_rate': 0.6209844711820256, 'lgbm_num_leaves': 38}. Best is trial 40 with value: 0.7109753023947039.\n",
            "/var/folders/0h/6t5rrrkd413d6v0z43zmchmm0000gn/T/ipykernel_38998/847976484.py:48: FutureWarning:\n",
            "\n",
            "suggest_loguniform has been deprecated in v3.0.0. This feature will be removed in v6.0.0. See https://github.com/optuna/optuna/releases/tag/v3.0.0. Use suggest_float(..., log=True) instead.\n",
            "\n",
            "/var/folders/0h/6t5rrrkd413d6v0z43zmchmm0000gn/T/ipykernel_38998/847976484.py:54: FutureWarning:\n",
            "\n",
            "suggest_loguniform has been deprecated in v3.0.0. This feature will be removed in v6.0.0. See https://github.com/optuna/optuna/releases/tag/v3.0.0. Use suggest_float(..., log=True) instead.\n",
            "\n"
          ]
        },
        {
          "name": "stdout",
          "output_type": "stream",
          "text": [
            "[LightGBM] [Info] Number of positive: 3362, number of negative: 3781\n",
            "[LightGBM] [Info] Auto-choosing row-wise multi-threading, the overhead of testing was 0.000840 seconds.\n",
            "You can set `force_row_wise=true` to remove the overhead.\n",
            "And if memory is not enough, you can set `force_col_wise=true`.\n",
            "[LightGBM] [Info] Total Bins 733\n",
            "[LightGBM] [Info] Number of data points in the train set: 7143, number of used features: 41\n",
            "[LightGBM] [Info] [binary:BoostFromScore]: pavg=0.470671 -> initscore=-0.117452\n",
            "[LightGBM] [Info] Start training from score -0.117452\n"
          ]
        },
        {
          "name": "stderr",
          "output_type": "stream",
          "text": [
            "[I 2024-09-20 04:04:48,338] Trial 207 finished with value: 0.6977691984131236 and parameters: {'rf_n_estimators': 279, 'rf_max_depth': 25, 'rf_min_samples_split': 8, 'xgb_n_estimators': 250, 'xgb_learning_rate': 0.07797632376191128, 'xgb_max_depth': 7, 'lgbm_n_estimators': 262, 'lgbm_learning_rate': 0.21562702381362797, 'lgbm_num_leaves': 40}. Best is trial 40 with value: 0.7109753023947039.\n",
            "/var/folders/0h/6t5rrrkd413d6v0z43zmchmm0000gn/T/ipykernel_38998/847976484.py:48: FutureWarning:\n",
            "\n",
            "suggest_loguniform has been deprecated in v3.0.0. This feature will be removed in v6.0.0. See https://github.com/optuna/optuna/releases/tag/v3.0.0. Use suggest_float(..., log=True) instead.\n",
            "\n",
            "/var/folders/0h/6t5rrrkd413d6v0z43zmchmm0000gn/T/ipykernel_38998/847976484.py:54: FutureWarning:\n",
            "\n",
            "suggest_loguniform has been deprecated in v3.0.0. This feature will be removed in v6.0.0. See https://github.com/optuna/optuna/releases/tag/v3.0.0. Use suggest_float(..., log=True) instead.\n",
            "\n"
          ]
        },
        {
          "name": "stdout",
          "output_type": "stream",
          "text": [
            "[LightGBM] [Info] Number of positive: 3362, number of negative: 3781\n",
            "[LightGBM] [Info] Auto-choosing row-wise multi-threading, the overhead of testing was 0.001059 seconds.\n",
            "You can set `force_row_wise=true` to remove the overhead.\n",
            "And if memory is not enough, you can set `force_col_wise=true`.\n",
            "[LightGBM] [Info] Total Bins 733\n",
            "[LightGBM] [Info] Number of data points in the train set: 7143, number of used features: 41\n",
            "[LightGBM] [Info] [binary:BoostFromScore]: pavg=0.470671 -> initscore=-0.117452\n",
            "[LightGBM] [Info] Start training from score -0.117452\n"
          ]
        },
        {
          "name": "stderr",
          "output_type": "stream",
          "text": [
            "[I 2024-09-20 04:04:53,776] Trial 208 finished with value: 0.7101142570292192 and parameters: {'rf_n_estimators': 299, 'rf_max_depth': 23, 'rf_min_samples_split': 9, 'xgb_n_estimators': 241, 'xgb_learning_rate': 0.09709753342428061, 'xgb_max_depth': 9, 'lgbm_n_estimators': 252, 'lgbm_learning_rate': 0.4302594701939555, 'lgbm_num_leaves': 59}. Best is trial 40 with value: 0.7109753023947039.\n",
            "/var/folders/0h/6t5rrrkd413d6v0z43zmchmm0000gn/T/ipykernel_38998/847976484.py:48: FutureWarning:\n",
            "\n",
            "suggest_loguniform has been deprecated in v3.0.0. This feature will be removed in v6.0.0. See https://github.com/optuna/optuna/releases/tag/v3.0.0. Use suggest_float(..., log=True) instead.\n",
            "\n",
            "/var/folders/0h/6t5rrrkd413d6v0z43zmchmm0000gn/T/ipykernel_38998/847976484.py:54: FutureWarning:\n",
            "\n",
            "suggest_loguniform has been deprecated in v3.0.0. This feature will be removed in v6.0.0. See https://github.com/optuna/optuna/releases/tag/v3.0.0. Use suggest_float(..., log=True) instead.\n",
            "\n"
          ]
        },
        {
          "name": "stdout",
          "output_type": "stream",
          "text": [
            "[LightGBM] [Info] Number of positive: 3362, number of negative: 3781\n",
            "[LightGBM] [Info] Auto-choosing row-wise multi-threading, the overhead of testing was 0.000949 seconds.\n",
            "You can set `force_row_wise=true` to remove the overhead.\n",
            "And if memory is not enough, you can set `force_col_wise=true`.\n",
            "[LightGBM] [Info] Total Bins 733\n",
            "[LightGBM] [Info] Number of data points in the train set: 7143, number of used features: 41\n",
            "[LightGBM] [Info] [binary:BoostFromScore]: pavg=0.470671 -> initscore=-0.117452\n",
            "[LightGBM] [Info] Start training from score -0.117452\n"
          ]
        },
        {
          "name": "stderr",
          "output_type": "stream",
          "text": [
            "[I 2024-09-20 04:04:57,979] Trial 209 finished with value: 0.7102395878770957 and parameters: {'rf_n_estimators': 291, 'rf_max_depth': 24, 'rf_min_samples_split': 9, 'xgb_n_estimators': 227, 'xgb_learning_rate': 0.09268217721735798, 'xgb_max_depth': 9, 'lgbm_n_estimators': 249, 'lgbm_learning_rate': 0.27658294511092546, 'lgbm_num_leaves': 31}. Best is trial 40 with value: 0.7109753023947039.\n",
            "/var/folders/0h/6t5rrrkd413d6v0z43zmchmm0000gn/T/ipykernel_38998/847976484.py:48: FutureWarning:\n",
            "\n",
            "suggest_loguniform has been deprecated in v3.0.0. This feature will be removed in v6.0.0. See https://github.com/optuna/optuna/releases/tag/v3.0.0. Use suggest_float(..., log=True) instead.\n",
            "\n",
            "/var/folders/0h/6t5rrrkd413d6v0z43zmchmm0000gn/T/ipykernel_38998/847976484.py:54: FutureWarning:\n",
            "\n",
            "suggest_loguniform has been deprecated in v3.0.0. This feature will be removed in v6.0.0. See https://github.com/optuna/optuna/releases/tag/v3.0.0. Use suggest_float(..., log=True) instead.\n",
            "\n"
          ]
        },
        {
          "name": "stdout",
          "output_type": "stream",
          "text": [
            "[LightGBM] [Info] Number of positive: 3362, number of negative: 3781\n",
            "[LightGBM] [Info] Auto-choosing row-wise multi-threading, the overhead of testing was 0.001448 seconds.\n",
            "You can set `force_row_wise=true` to remove the overhead.\n",
            "And if memory is not enough, you can set `force_col_wise=true`.\n",
            "[LightGBM] [Info] Total Bins 733\n",
            "[LightGBM] [Info] Number of data points in the train set: 7143, number of used features: 41\n",
            "[LightGBM] [Info] [binary:BoostFromScore]: pavg=0.470671 -> initscore=-0.117452\n",
            "[LightGBM] [Info] Start training from score -0.117452\n"
          ]
        },
        {
          "name": "stderr",
          "output_type": "stream",
          "text": [
            "[I 2024-09-20 04:05:02,253] Trial 210 finished with value: 0.6995874252556071 and parameters: {'rf_n_estimators': 299, 'rf_max_depth': 24, 'rf_min_samples_split': 7, 'xgb_n_estimators': 224, 'xgb_learning_rate': 0.0917088876333067, 'xgb_max_depth': 9, 'lgbm_n_estimators': 253, 'lgbm_learning_rate': 0.29381819479599286, 'lgbm_num_leaves': 30}. Best is trial 40 with value: 0.7109753023947039.\n",
            "/var/folders/0h/6t5rrrkd413d6v0z43zmchmm0000gn/T/ipykernel_38998/847976484.py:48: FutureWarning:\n",
            "\n",
            "suggest_loguniform has been deprecated in v3.0.0. This feature will be removed in v6.0.0. See https://github.com/optuna/optuna/releases/tag/v3.0.0. Use suggest_float(..., log=True) instead.\n",
            "\n",
            "/var/folders/0h/6t5rrrkd413d6v0z43zmchmm0000gn/T/ipykernel_38998/847976484.py:54: FutureWarning:\n",
            "\n",
            "suggest_loguniform has been deprecated in v3.0.0. This feature will be removed in v6.0.0. See https://github.com/optuna/optuna/releases/tag/v3.0.0. Use suggest_float(..., log=True) instead.\n",
            "\n"
          ]
        },
        {
          "name": "stdout",
          "output_type": "stream",
          "text": [
            "[LightGBM] [Info] Number of positive: 3362, number of negative: 3781\n",
            "[LightGBM] [Info] Auto-choosing row-wise multi-threading, the overhead of testing was 0.000943 seconds.\n",
            "You can set `force_row_wise=true` to remove the overhead.\n",
            "And if memory is not enough, you can set `force_col_wise=true`.\n",
            "[LightGBM] [Info] Total Bins 733\n",
            "[LightGBM] [Info] Number of data points in the train set: 7143, number of used features: 41\n",
            "[LightGBM] [Info] [binary:BoostFromScore]: pavg=0.470671 -> initscore=-0.117452\n",
            "[LightGBM] [Info] Start training from score -0.117452\n"
          ]
        },
        {
          "name": "stderr",
          "output_type": "stream",
          "text": [
            "[I 2024-09-20 04:05:06,592] Trial 211 finished with value: 0.7033059735925462 and parameters: {'rf_n_estimators': 290, 'rf_max_depth': 24, 'rf_min_samples_split': 9, 'xgb_n_estimators': 239, 'xgb_learning_rate': 0.06696866600647844, 'xgb_max_depth': 9, 'lgbm_n_estimators': 251, 'lgbm_learning_rate': 0.3111061733610362, 'lgbm_num_leaves': 32}. Best is trial 40 with value: 0.7109753023947039.\n",
            "/var/folders/0h/6t5rrrkd413d6v0z43zmchmm0000gn/T/ipykernel_38998/847976484.py:48: FutureWarning:\n",
            "\n",
            "suggest_loguniform has been deprecated in v3.0.0. This feature will be removed in v6.0.0. See https://github.com/optuna/optuna/releases/tag/v3.0.0. Use suggest_float(..., log=True) instead.\n",
            "\n",
            "/var/folders/0h/6t5rrrkd413d6v0z43zmchmm0000gn/T/ipykernel_38998/847976484.py:54: FutureWarning:\n",
            "\n",
            "suggest_loguniform has been deprecated in v3.0.0. This feature will be removed in v6.0.0. See https://github.com/optuna/optuna/releases/tag/v3.0.0. Use suggest_float(..., log=True) instead.\n",
            "\n"
          ]
        },
        {
          "name": "stdout",
          "output_type": "stream",
          "text": [
            "[LightGBM] [Info] Number of positive: 3362, number of negative: 3781\n",
            "[LightGBM] [Info] Auto-choosing row-wise multi-threading, the overhead of testing was 0.000878 seconds.\n",
            "You can set `force_row_wise=true` to remove the overhead.\n",
            "And if memory is not enough, you can set `force_col_wise=true`.\n",
            "[LightGBM] [Info] Total Bins 733\n",
            "[LightGBM] [Info] Number of data points in the train set: 7143, number of used features: 41\n",
            "[LightGBM] [Info] [binary:BoostFromScore]: pavg=0.470671 -> initscore=-0.117452\n",
            "[LightGBM] [Info] Start training from score -0.117452\n"
          ]
        },
        {
          "name": "stderr",
          "output_type": "stream",
          "text": [
            "[I 2024-09-20 04:05:10,910] Trial 212 finished with value: 0.7013369498452439 and parameters: {'rf_n_estimators': 300, 'rf_max_depth': 23, 'rf_min_samples_split': 9, 'xgb_n_estimators': 241, 'xgb_learning_rate': 0.10313610246772102, 'xgb_max_depth': 9, 'lgbm_n_estimators': 247, 'lgbm_learning_rate': 0.37329247308665997, 'lgbm_num_leaves': 35}. Best is trial 40 with value: 0.7109753023947039.\n",
            "/var/folders/0h/6t5rrrkd413d6v0z43zmchmm0000gn/T/ipykernel_38998/847976484.py:48: FutureWarning:\n",
            "\n",
            "suggest_loguniform has been deprecated in v3.0.0. This feature will be removed in v6.0.0. See https://github.com/optuna/optuna/releases/tag/v3.0.0. Use suggest_float(..., log=True) instead.\n",
            "\n",
            "/var/folders/0h/6t5rrrkd413d6v0z43zmchmm0000gn/T/ipykernel_38998/847976484.py:54: FutureWarning:\n",
            "\n",
            "suggest_loguniform has been deprecated in v3.0.0. This feature will be removed in v6.0.0. See https://github.com/optuna/optuna/releases/tag/v3.0.0. Use suggest_float(..., log=True) instead.\n",
            "\n"
          ]
        },
        {
          "name": "stdout",
          "output_type": "stream",
          "text": [
            "[LightGBM] [Info] Number of positive: 3362, number of negative: 3781\n",
            "[LightGBM] [Info] Auto-choosing row-wise multi-threading, the overhead of testing was 0.000892 seconds.\n",
            "You can set `force_row_wise=true` to remove the overhead.\n",
            "And if memory is not enough, you can set `force_col_wise=true`.\n",
            "[LightGBM] [Info] Total Bins 733\n",
            "[LightGBM] [Info] Number of data points in the train set: 7143, number of used features: 41\n",
            "[LightGBM] [Info] [binary:BoostFromScore]: pavg=0.470671 -> initscore=-0.117452\n",
            "[LightGBM] [Info] Start training from score -0.117452\n"
          ]
        },
        {
          "name": "stderr",
          "output_type": "stream",
          "text": [
            "[I 2024-09-20 04:05:15,579] Trial 213 finished with value: 0.7011128819134106 and parameters: {'rf_n_estimators': 294, 'rf_max_depth': 25, 'rf_min_samples_split': 9, 'xgb_n_estimators': 227, 'xgb_learning_rate': 0.08210824161557033, 'xgb_max_depth': 9, 'lgbm_n_estimators': 260, 'lgbm_learning_rate': 0.2676959629493816, 'lgbm_num_leaves': 43}. Best is trial 40 with value: 0.7109753023947039.\n",
            "/var/folders/0h/6t5rrrkd413d6v0z43zmchmm0000gn/T/ipykernel_38998/847976484.py:48: FutureWarning:\n",
            "\n",
            "suggest_loguniform has been deprecated in v3.0.0. This feature will be removed in v6.0.0. See https://github.com/optuna/optuna/releases/tag/v3.0.0. Use suggest_float(..., log=True) instead.\n",
            "\n",
            "/var/folders/0h/6t5rrrkd413d6v0z43zmchmm0000gn/T/ipykernel_38998/847976484.py:54: FutureWarning:\n",
            "\n",
            "suggest_loguniform has been deprecated in v3.0.0. This feature will be removed in v6.0.0. See https://github.com/optuna/optuna/releases/tag/v3.0.0. Use suggest_float(..., log=True) instead.\n",
            "\n"
          ]
        },
        {
          "name": "stdout",
          "output_type": "stream",
          "text": [
            "[LightGBM] [Info] Number of positive: 3362, number of negative: 3781\n",
            "[LightGBM] [Info] Auto-choosing row-wise multi-threading, the overhead of testing was 0.001320 seconds.\n",
            "You can set `force_row_wise=true` to remove the overhead.\n",
            "And if memory is not enough, you can set `force_col_wise=true`.\n",
            "[LightGBM] [Info] Total Bins 733\n",
            "[LightGBM] [Info] Number of data points in the train set: 7143, number of used features: 41\n",
            "[LightGBM] [Info] [binary:BoostFromScore]: pavg=0.470671 -> initscore=-0.117452\n",
            "[LightGBM] [Info] Start training from score -0.117452\n"
          ]
        },
        {
          "name": "stderr",
          "output_type": "stream",
          "text": [
            "[I 2024-09-20 04:05:19,833] Trial 214 finished with value: 0.7011677431415254 and parameters: {'rf_n_estimators': 283, 'rf_max_depth': 23, 'rf_min_samples_split': 9, 'xgb_n_estimators': 243, 'xgb_learning_rate': 0.04879663107056791, 'xgb_max_depth': 9, 'lgbm_n_estimators': 242, 'lgbm_learning_rate': 0.43109473861723546, 'lgbm_num_leaves': 28}. Best is trial 40 with value: 0.7109753023947039.\n",
            "/var/folders/0h/6t5rrrkd413d6v0z43zmchmm0000gn/T/ipykernel_38998/847976484.py:48: FutureWarning:\n",
            "\n",
            "suggest_loguniform has been deprecated in v3.0.0. This feature will be removed in v6.0.0. See https://github.com/optuna/optuna/releases/tag/v3.0.0. Use suggest_float(..., log=True) instead.\n",
            "\n",
            "/var/folders/0h/6t5rrrkd413d6v0z43zmchmm0000gn/T/ipykernel_38998/847976484.py:54: FutureWarning:\n",
            "\n",
            "suggest_loguniform has been deprecated in v3.0.0. This feature will be removed in v6.0.0. See https://github.com/optuna/optuna/releases/tag/v3.0.0. Use suggest_float(..., log=True) instead.\n",
            "\n"
          ]
        },
        {
          "name": "stdout",
          "output_type": "stream",
          "text": [
            "[LightGBM] [Info] Number of positive: 3362, number of negative: 3781\n",
            "[LightGBM] [Info] Auto-choosing row-wise multi-threading, the overhead of testing was 0.001145 seconds.\n",
            "You can set `force_row_wise=true` to remove the overhead.\n",
            "And if memory is not enough, you can set `force_col_wise=true`.\n",
            "[LightGBM] [Info] Total Bins 733\n",
            "[LightGBM] [Info] Number of data points in the train set: 7143, number of used features: 41\n",
            "[LightGBM] [Info] [binary:BoostFromScore]: pavg=0.470671 -> initscore=-0.117452\n",
            "[LightGBM] [Info] Start training from score -0.117452\n"
          ]
        },
        {
          "name": "stderr",
          "output_type": "stream",
          "text": [
            "[I 2024-09-20 04:05:24,087] Trial 215 finished with value: 0.7083267389064154 and parameters: {'rf_n_estimators': 294, 'rf_max_depth': 24, 'rf_min_samples_split': 9, 'xgb_n_estimators': 233, 'xgb_learning_rate': 0.11224989136423345, 'xgb_max_depth': 9, 'lgbm_n_estimators': 255, 'lgbm_learning_rate': 0.34668839393159717, 'lgbm_num_leaves': 33}. Best is trial 40 with value: 0.7109753023947039.\n",
            "/var/folders/0h/6t5rrrkd413d6v0z43zmchmm0000gn/T/ipykernel_38998/847976484.py:48: FutureWarning:\n",
            "\n",
            "suggest_loguniform has been deprecated in v3.0.0. This feature will be removed in v6.0.0. See https://github.com/optuna/optuna/releases/tag/v3.0.0. Use suggest_float(..., log=True) instead.\n",
            "\n",
            "/var/folders/0h/6t5rrrkd413d6v0z43zmchmm0000gn/T/ipykernel_38998/847976484.py:54: FutureWarning:\n",
            "\n",
            "suggest_loguniform has been deprecated in v3.0.0. This feature will be removed in v6.0.0. See https://github.com/optuna/optuna/releases/tag/v3.0.0. Use suggest_float(..., log=True) instead.\n",
            "\n"
          ]
        },
        {
          "name": "stdout",
          "output_type": "stream",
          "text": [
            "[LightGBM] [Info] Number of positive: 3362, number of negative: 3781\n",
            "[LightGBM] [Info] Auto-choosing row-wise multi-threading, the overhead of testing was 0.000880 seconds.\n",
            "You can set `force_row_wise=true` to remove the overhead.\n",
            "And if memory is not enough, you can set `force_col_wise=true`.\n",
            "[LightGBM] [Info] Total Bins 733\n",
            "[LightGBM] [Info] Number of data points in the train set: 7143, number of used features: 41\n",
            "[LightGBM] [Info] [binary:BoostFromScore]: pavg=0.470671 -> initscore=-0.117452\n",
            "[LightGBM] [Info] Start training from score -0.117452\n"
          ]
        },
        {
          "name": "stderr",
          "output_type": "stream",
          "text": [
            "[I 2024-09-20 04:05:28,381] Trial 216 finished with value: 0.702831528736584 and parameters: {'rf_n_estimators': 294, 'rf_max_depth': 25, 'rf_min_samples_split': 9, 'xgb_n_estimators': 229, 'xgb_learning_rate': 0.11011809243715152, 'xgb_max_depth': 9, 'lgbm_n_estimators': 254, 'lgbm_learning_rate': 0.3591989878607966, 'lgbm_num_leaves': 33}. Best is trial 40 with value: 0.7109753023947039.\n",
            "/var/folders/0h/6t5rrrkd413d6v0z43zmchmm0000gn/T/ipykernel_38998/847976484.py:48: FutureWarning:\n",
            "\n",
            "suggest_loguniform has been deprecated in v3.0.0. This feature will be removed in v6.0.0. See https://github.com/optuna/optuna/releases/tag/v3.0.0. Use suggest_float(..., log=True) instead.\n",
            "\n",
            "/var/folders/0h/6t5rrrkd413d6v0z43zmchmm0000gn/T/ipykernel_38998/847976484.py:54: FutureWarning:\n",
            "\n",
            "suggest_loguniform has been deprecated in v3.0.0. This feature will be removed in v6.0.0. See https://github.com/optuna/optuna/releases/tag/v3.0.0. Use suggest_float(..., log=True) instead.\n",
            "\n"
          ]
        },
        {
          "name": "stdout",
          "output_type": "stream",
          "text": [
            "[LightGBM] [Info] Number of positive: 3362, number of negative: 3781\n",
            "[LightGBM] [Info] Auto-choosing row-wise multi-threading, the overhead of testing was 0.000993 seconds.\n",
            "You can set `force_row_wise=true` to remove the overhead.\n",
            "And if memory is not enough, you can set `force_col_wise=true`.\n",
            "[LightGBM] [Info] Total Bins 733\n",
            "[LightGBM] [Info] Number of data points in the train set: 7143, number of used features: 41\n",
            "[LightGBM] [Info] [binary:BoostFromScore]: pavg=0.470671 -> initscore=-0.117452\n",
            "[LightGBM] [Info] Start training from score -0.117452\n"
          ]
        },
        {
          "name": "stderr",
          "output_type": "stream",
          "text": [
            "[I 2024-09-20 04:05:32,734] Trial 217 finished with value: 0.6978275380855588 and parameters: {'rf_n_estimators': 295, 'rf_max_depth': 24, 'rf_min_samples_split': 9, 'xgb_n_estimators': 233, 'xgb_learning_rate': 0.11591261811257915, 'xgb_max_depth': 9, 'lgbm_n_estimators': 266, 'lgbm_learning_rate': 0.33047927480599004, 'lgbm_num_leaves': 30}. Best is trial 40 with value: 0.7109753023947039.\n",
            "/var/folders/0h/6t5rrrkd413d6v0z43zmchmm0000gn/T/ipykernel_38998/847976484.py:48: FutureWarning:\n",
            "\n",
            "suggest_loguniform has been deprecated in v3.0.0. This feature will be removed in v6.0.0. See https://github.com/optuna/optuna/releases/tag/v3.0.0. Use suggest_float(..., log=True) instead.\n",
            "\n",
            "/var/folders/0h/6t5rrrkd413d6v0z43zmchmm0000gn/T/ipykernel_38998/847976484.py:54: FutureWarning:\n",
            "\n",
            "suggest_loguniform has been deprecated in v3.0.0. This feature will be removed in v6.0.0. See https://github.com/optuna/optuna/releases/tag/v3.0.0. Use suggest_float(..., log=True) instead.\n",
            "\n"
          ]
        },
        {
          "name": "stdout",
          "output_type": "stream",
          "text": [
            "[LightGBM] [Info] Number of positive: 3362, number of negative: 3781\n",
            "[LightGBM] [Info] Auto-choosing row-wise multi-threading, the overhead of testing was 0.000969 seconds.\n",
            "You can set `force_row_wise=true` to remove the overhead.\n",
            "And if memory is not enough, you can set `force_col_wise=true`.\n",
            "[LightGBM] [Info] Total Bins 733\n",
            "[LightGBM] [Info] Number of data points in the train set: 7143, number of used features: 41\n",
            "[LightGBM] [Info] [binary:BoostFromScore]: pavg=0.470671 -> initscore=-0.117452\n",
            "[LightGBM] [Info] Start training from score -0.117452\n"
          ]
        },
        {
          "name": "stderr",
          "output_type": "stream",
          "text": [
            "[I 2024-09-20 04:05:37,202] Trial 218 finished with value: 0.6939492916464134 and parameters: {'rf_n_estimators': 286, 'rf_max_depth': 23, 'rf_min_samples_split': 8, 'xgb_n_estimators': 206, 'xgb_learning_rate': 0.1266176333156787, 'xgb_max_depth': 9, 'lgbm_n_estimators': 259, 'lgbm_learning_rate': 0.2450493731325851, 'lgbm_num_leaves': 37}. Best is trial 40 with value: 0.7109753023947039.\n",
            "/var/folders/0h/6t5rrrkd413d6v0z43zmchmm0000gn/T/ipykernel_38998/847976484.py:48: FutureWarning:\n",
            "\n",
            "suggest_loguniform has been deprecated in v3.0.0. This feature will be removed in v6.0.0. See https://github.com/optuna/optuna/releases/tag/v3.0.0. Use suggest_float(..., log=True) instead.\n",
            "\n",
            "/var/folders/0h/6t5rrrkd413d6v0z43zmchmm0000gn/T/ipykernel_38998/847976484.py:54: FutureWarning:\n",
            "\n",
            "suggest_loguniform has been deprecated in v3.0.0. This feature will be removed in v6.0.0. See https://github.com/optuna/optuna/releases/tag/v3.0.0. Use suggest_float(..., log=True) instead.\n",
            "\n"
          ]
        },
        {
          "name": "stdout",
          "output_type": "stream",
          "text": [
            "[LightGBM] [Info] Number of positive: 3362, number of negative: 3781\n",
            "[LightGBM] [Info] Auto-choosing row-wise multi-threading, the overhead of testing was 0.000985 seconds.\n",
            "You can set `force_row_wise=true` to remove the overhead.\n",
            "And if memory is not enough, you can set `force_col_wise=true`.\n",
            "[LightGBM] [Info] Total Bins 733\n",
            "[LightGBM] [Info] Number of data points in the train set: 7143, number of used features: 41\n",
            "[LightGBM] [Info] [binary:BoostFromScore]: pavg=0.470671 -> initscore=-0.117452\n",
            "[LightGBM] [Info] Start training from score -0.117452\n"
          ]
        },
        {
          "name": "stderr",
          "output_type": "stream",
          "text": [
            "[I 2024-09-20 04:05:41,347] Trial 219 finished with value: 0.6981406601757413 and parameters: {'rf_n_estimators': 288, 'rf_max_depth': 24, 'rf_min_samples_split': 9, 'xgb_n_estimators': 235, 'xgb_learning_rate': 0.09111728764145068, 'xgb_max_depth': 9, 'lgbm_n_estimators': 248, 'lgbm_learning_rate': 0.40776510803656635, 'lgbm_num_leaves': 31}. Best is trial 40 with value: 0.7109753023947039.\n",
            "/var/folders/0h/6t5rrrkd413d6v0z43zmchmm0000gn/T/ipykernel_38998/847976484.py:48: FutureWarning:\n",
            "\n",
            "suggest_loguniform has been deprecated in v3.0.0. This feature will be removed in v6.0.0. See https://github.com/optuna/optuna/releases/tag/v3.0.0. Use suggest_float(..., log=True) instead.\n",
            "\n",
            "/var/folders/0h/6t5rrrkd413d6v0z43zmchmm0000gn/T/ipykernel_38998/847976484.py:54: FutureWarning:\n",
            "\n",
            "suggest_loguniform has been deprecated in v3.0.0. This feature will be removed in v6.0.0. See https://github.com/optuna/optuna/releases/tag/v3.0.0. Use suggest_float(..., log=True) instead.\n",
            "\n"
          ]
        },
        {
          "name": "stdout",
          "output_type": "stream",
          "text": [
            "[LightGBM] [Info] Number of positive: 3362, number of negative: 3781\n",
            "[LightGBM] [Info] Auto-choosing row-wise multi-threading, the overhead of testing was 0.000880 seconds.\n",
            "You can set `force_row_wise=true` to remove the overhead.\n",
            "And if memory is not enough, you can set `force_col_wise=true`.\n",
            "[LightGBM] [Info] Total Bins 733\n",
            "[LightGBM] [Info] Number of data points in the train set: 7143, number of used features: 41\n",
            "[LightGBM] [Info] [binary:BoostFromScore]: pavg=0.470671 -> initscore=-0.117452\n",
            "[LightGBM] [Info] Start training from score -0.117452\n"
          ]
        },
        {
          "name": "stderr",
          "output_type": "stream",
          "text": [
            "[I 2024-09-20 04:05:45,472] Trial 220 finished with value: 0.7000480240206126 and parameters: {'rf_n_estimators': 272, 'rf_max_depth': 25, 'rf_min_samples_split': 9, 'xgb_n_estimators': 242, 'xgb_learning_rate': 0.09842550426927758, 'xgb_max_depth': 9, 'lgbm_n_estimators': 272, 'lgbm_learning_rate': 0.27671799514787215, 'lgbm_num_leaves': 33}. Best is trial 40 with value: 0.7109753023947039.\n",
            "/var/folders/0h/6t5rrrkd413d6v0z43zmchmm0000gn/T/ipykernel_38998/847976484.py:48: FutureWarning:\n",
            "\n",
            "suggest_loguniform has been deprecated in v3.0.0. This feature will be removed in v6.0.0. See https://github.com/optuna/optuna/releases/tag/v3.0.0. Use suggest_float(..., log=True) instead.\n",
            "\n",
            "/var/folders/0h/6t5rrrkd413d6v0z43zmchmm0000gn/T/ipykernel_38998/847976484.py:54: FutureWarning:\n",
            "\n",
            "suggest_loguniform has been deprecated in v3.0.0. This feature will be removed in v6.0.0. See https://github.com/optuna/optuna/releases/tag/v3.0.0. Use suggest_float(..., log=True) instead.\n",
            "\n"
          ]
        },
        {
          "name": "stdout",
          "output_type": "stream",
          "text": [
            "[LightGBM] [Info] Number of positive: 3362, number of negative: 3781\n",
            "[LightGBM] [Info] Auto-choosing row-wise multi-threading, the overhead of testing was 0.001087 seconds.\n",
            "You can set `force_row_wise=true` to remove the overhead.\n",
            "And if memory is not enough, you can set `force_col_wise=true`.\n",
            "[LightGBM] [Info] Total Bins 733\n",
            "[LightGBM] [Info] Number of data points in the train set: 7143, number of used features: 41\n",
            "[LightGBM] [Info] [binary:BoostFromScore]: pavg=0.470671 -> initscore=-0.117452\n",
            "[LightGBM] [Info] Start training from score -0.117452\n"
          ]
        },
        {
          "name": "stderr",
          "output_type": "stream",
          "text": [
            "[I 2024-09-20 04:05:49,839] Trial 221 finished with value: 0.7018171890687519 and parameters: {'rf_n_estimators': 290, 'rf_max_depth': 23, 'rf_min_samples_split': 9, 'xgb_n_estimators': 246, 'xgb_learning_rate': 0.078287815639555, 'xgb_max_depth': 9, 'lgbm_n_estimators': 265, 'lgbm_learning_rate': 0.5271708603671568, 'lgbm_num_leaves': 34}. Best is trial 40 with value: 0.7109753023947039.\n",
            "/var/folders/0h/6t5rrrkd413d6v0z43zmchmm0000gn/T/ipykernel_38998/847976484.py:48: FutureWarning:\n",
            "\n",
            "suggest_loguniform has been deprecated in v3.0.0. This feature will be removed in v6.0.0. See https://github.com/optuna/optuna/releases/tag/v3.0.0. Use suggest_float(..., log=True) instead.\n",
            "\n",
            "/var/folders/0h/6t5rrrkd413d6v0z43zmchmm0000gn/T/ipykernel_38998/847976484.py:54: FutureWarning:\n",
            "\n",
            "suggest_loguniform has been deprecated in v3.0.0. This feature will be removed in v6.0.0. See https://github.com/optuna/optuna/releases/tag/v3.0.0. Use suggest_float(..., log=True) instead.\n",
            "\n"
          ]
        },
        {
          "name": "stdout",
          "output_type": "stream",
          "text": [
            "[LightGBM] [Info] Number of positive: 3362, number of negative: 3781\n",
            "[LightGBM] [Info] Auto-choosing row-wise multi-threading, the overhead of testing was 0.001046 seconds.\n",
            "You can set `force_row_wise=true` to remove the overhead.\n",
            "And if memory is not enough, you can set `force_col_wise=true`.\n",
            "[LightGBM] [Info] Total Bins 733\n",
            "[LightGBM] [Info] Number of data points in the train set: 7143, number of used features: 41\n",
            "[LightGBM] [Info] [binary:BoostFromScore]: pavg=0.470671 -> initscore=-0.117452\n",
            "[LightGBM] [Info] Start training from score -0.117452\n"
          ]
        },
        {
          "name": "stderr",
          "output_type": "stream",
          "text": [
            "[I 2024-09-20 04:05:55,010] Trial 222 finished with value: 0.7019446785103415 and parameters: {'rf_n_estimators': 284, 'rf_max_depth': 22, 'rf_min_samples_split': 9, 'xgb_n_estimators': 223, 'xgb_learning_rate': 0.1023837257560865, 'xgb_max_depth': 9, 'lgbm_n_estimators': 255, 'lgbm_learning_rate': 0.3440263495793574, 'lgbm_num_leaves': 62}. Best is trial 40 with value: 0.7109753023947039.\n",
            "/var/folders/0h/6t5rrrkd413d6v0z43zmchmm0000gn/T/ipykernel_38998/847976484.py:48: FutureWarning:\n",
            "\n",
            "suggest_loguniform has been deprecated in v3.0.0. This feature will be removed in v6.0.0. See https://github.com/optuna/optuna/releases/tag/v3.0.0. Use suggest_float(..., log=True) instead.\n",
            "\n",
            "/var/folders/0h/6t5rrrkd413d6v0z43zmchmm0000gn/T/ipykernel_38998/847976484.py:54: FutureWarning:\n",
            "\n",
            "suggest_loguniform has been deprecated in v3.0.0. This feature will be removed in v6.0.0. See https://github.com/optuna/optuna/releases/tag/v3.0.0. Use suggest_float(..., log=True) instead.\n",
            "\n"
          ]
        },
        {
          "name": "stdout",
          "output_type": "stream",
          "text": [
            "[LightGBM] [Info] Number of positive: 3362, number of negative: 3781\n",
            "[LightGBM] [Info] Auto-choosing row-wise multi-threading, the overhead of testing was 0.000829 seconds.\n",
            "You can set `force_row_wise=true` to remove the overhead.\n",
            "And if memory is not enough, you can set `force_col_wise=true`.\n",
            "[LightGBM] [Info] Total Bins 733\n",
            "[LightGBM] [Info] Number of data points in the train set: 7143, number of used features: 41\n",
            "[LightGBM] [Info] [binary:BoostFromScore]: pavg=0.470671 -> initscore=-0.117452\n",
            "[LightGBM] [Info] Start training from score -0.117452\n"
          ]
        },
        {
          "name": "stderr",
          "output_type": "stream",
          "text": [
            "[I 2024-09-20 04:06:00,027] Trial 223 finished with value: 0.7045558826943704 and parameters: {'rf_n_estimators': 264, 'rf_max_depth': 22, 'rf_min_samples_split': 9, 'xgb_n_estimators': 234, 'xgb_learning_rate': 0.032006438040204054, 'xgb_max_depth': 10, 'lgbm_n_estimators': 261, 'lgbm_learning_rate': 0.4201118662409813, 'lgbm_num_leaves': 58}. Best is trial 40 with value: 0.7109753023947039.\n",
            "/var/folders/0h/6t5rrrkd413d6v0z43zmchmm0000gn/T/ipykernel_38998/847976484.py:48: FutureWarning:\n",
            "\n",
            "suggest_loguniform has been deprecated in v3.0.0. This feature will be removed in v6.0.0. See https://github.com/optuna/optuna/releases/tag/v3.0.0. Use suggest_float(..., log=True) instead.\n",
            "\n",
            "/var/folders/0h/6t5rrrkd413d6v0z43zmchmm0000gn/T/ipykernel_38998/847976484.py:54: FutureWarning:\n",
            "\n",
            "suggest_loguniform has been deprecated in v3.0.0. This feature will be removed in v6.0.0. See https://github.com/optuna/optuna/releases/tag/v3.0.0. Use suggest_float(..., log=True) instead.\n",
            "\n"
          ]
        },
        {
          "name": "stdout",
          "output_type": "stream",
          "text": [
            "[LightGBM] [Info] Number of positive: 3362, number of negative: 3781\n",
            "[LightGBM] [Info] Auto-choosing row-wise multi-threading, the overhead of testing was 0.000994 seconds.\n",
            "You can set `force_row_wise=true` to remove the overhead.\n",
            "And if memory is not enough, you can set `force_col_wise=true`.\n",
            "[LightGBM] [Info] Total Bins 733\n",
            "[LightGBM] [Info] Number of data points in the train set: 7143, number of used features: 41\n",
            "[LightGBM] [Info] [binary:BoostFromScore]: pavg=0.470671 -> initscore=-0.117452\n",
            "[LightGBM] [Info] Start training from score -0.117452\n"
          ]
        },
        {
          "name": "stderr",
          "output_type": "stream",
          "text": [
            "[I 2024-09-20 04:06:04,252] Trial 224 finished with value: 0.6914097496827415 and parameters: {'rf_n_estimators': 277, 'rf_max_depth': 24, 'rf_min_samples_split': 10, 'xgb_n_estimators': 239, 'xgb_learning_rate': 0.1324775114519518, 'xgb_max_depth': 7, 'lgbm_n_estimators': 245, 'lgbm_learning_rate': 0.47819387919492307, 'lgbm_num_leaves': 31}. Best is trial 40 with value: 0.7109753023947039.\n",
            "/var/folders/0h/6t5rrrkd413d6v0z43zmchmm0000gn/T/ipykernel_38998/847976484.py:48: FutureWarning:\n",
            "\n",
            "suggest_loguniform has been deprecated in v3.0.0. This feature will be removed in v6.0.0. See https://github.com/optuna/optuna/releases/tag/v3.0.0. Use suggest_float(..., log=True) instead.\n",
            "\n",
            "/var/folders/0h/6t5rrrkd413d6v0z43zmchmm0000gn/T/ipykernel_38998/847976484.py:54: FutureWarning:\n",
            "\n",
            "suggest_loguniform has been deprecated in v3.0.0. This feature will be removed in v6.0.0. See https://github.com/optuna/optuna/releases/tag/v3.0.0. Use suggest_float(..., log=True) instead.\n",
            "\n"
          ]
        },
        {
          "name": "stdout",
          "output_type": "stream",
          "text": [
            "[LightGBM] [Info] Number of positive: 3362, number of negative: 3781\n",
            "[LightGBM] [Info] Auto-choosing row-wise multi-threading, the overhead of testing was 0.000838 seconds.\n",
            "You can set `force_row_wise=true` to remove the overhead.\n",
            "And if memory is not enough, you can set `force_col_wise=true`.\n",
            "[LightGBM] [Info] Total Bins 733\n",
            "[LightGBM] [Info] Number of data points in the train set: 7143, number of used features: 41\n",
            "[LightGBM] [Info] [binary:BoostFromScore]: pavg=0.470671 -> initscore=-0.117452\n",
            "[LightGBM] [Info] Start training from score -0.117452\n"
          ]
        },
        {
          "name": "stderr",
          "output_type": "stream",
          "text": [
            "[I 2024-09-20 04:06:09,696] Trial 225 finished with value: 0.7020775892493643 and parameters: {'rf_n_estimators': 295, 'rf_max_depth': 24, 'rf_min_samples_split': 6, 'xgb_n_estimators': 212, 'xgb_learning_rate': 0.059395447993369, 'xgb_max_depth': 9, 'lgbm_n_estimators': 268, 'lgbm_learning_rate': 0.3046956874680584, 'lgbm_num_leaves': 63}. Best is trial 40 with value: 0.7109753023947039.\n",
            "/var/folders/0h/6t5rrrkd413d6v0z43zmchmm0000gn/T/ipykernel_38998/847976484.py:48: FutureWarning:\n",
            "\n",
            "suggest_loguniform has been deprecated in v3.0.0. This feature will be removed in v6.0.0. See https://github.com/optuna/optuna/releases/tag/v3.0.0. Use suggest_float(..., log=True) instead.\n",
            "\n",
            "/var/folders/0h/6t5rrrkd413d6v0z43zmchmm0000gn/T/ipykernel_38998/847976484.py:54: FutureWarning:\n",
            "\n",
            "suggest_loguniform has been deprecated in v3.0.0. This feature will be removed in v6.0.0. See https://github.com/optuna/optuna/releases/tag/v3.0.0. Use suggest_float(..., log=True) instead.\n",
            "\n"
          ]
        },
        {
          "name": "stdout",
          "output_type": "stream",
          "text": [
            "[LightGBM] [Info] Number of positive: 3362, number of negative: 3781\n",
            "[LightGBM] [Info] Auto-choosing row-wise multi-threading, the overhead of testing was 0.000992 seconds.\n",
            "You can set `force_row_wise=true` to remove the overhead.\n",
            "And if memory is not enough, you can set `force_col_wise=true`.\n",
            "[LightGBM] [Info] Total Bins 733\n",
            "[LightGBM] [Info] Number of data points in the train set: 7143, number of used features: 41\n",
            "[LightGBM] [Info] [binary:BoostFromScore]: pavg=0.470671 -> initscore=-0.117452\n",
            "[LightGBM] [Info] Start training from score -0.117452\n"
          ]
        },
        {
          "name": "stderr",
          "output_type": "stream",
          "text": [
            "[I 2024-09-20 04:06:13,675] Trial 226 finished with value: 0.6971785056954048 and parameters: {'rf_n_estimators': 299, 'rf_max_depth': 22, 'rf_min_samples_split': 9, 'xgb_n_estimators': 247, 'xgb_learning_rate': 0.0883533864677307, 'xgb_max_depth': 7, 'lgbm_n_estimators': 251, 'lgbm_learning_rate': 0.3753949246230052, 'lgbm_num_leaves': 28}. Best is trial 40 with value: 0.7109753023947039.\n",
            "/var/folders/0h/6t5rrrkd413d6v0z43zmchmm0000gn/T/ipykernel_38998/847976484.py:48: FutureWarning:\n",
            "\n",
            "suggest_loguniform has been deprecated in v3.0.0. This feature will be removed in v6.0.0. See https://github.com/optuna/optuna/releases/tag/v3.0.0. Use suggest_float(..., log=True) instead.\n",
            "\n",
            "/var/folders/0h/6t5rrrkd413d6v0z43zmchmm0000gn/T/ipykernel_38998/847976484.py:54: FutureWarning:\n",
            "\n",
            "suggest_loguniform has been deprecated in v3.0.0. This feature will be removed in v6.0.0. See https://github.com/optuna/optuna/releases/tag/v3.0.0. Use suggest_float(..., log=True) instead.\n",
            "\n"
          ]
        },
        {
          "name": "stdout",
          "output_type": "stream",
          "text": [
            "[LightGBM] [Info] Number of positive: 3362, number of negative: 3781\n",
            "[LightGBM] [Info] Auto-choosing row-wise multi-threading, the overhead of testing was 0.000692 seconds.\n",
            "You can set `force_row_wise=true` to remove the overhead.\n",
            "And if memory is not enough, you can set `force_col_wise=true`.\n",
            "[LightGBM] [Info] Total Bins 733\n",
            "[LightGBM] [Info] Number of data points in the train set: 7143, number of used features: 41\n",
            "[LightGBM] [Info] [binary:BoostFromScore]: pavg=0.470671 -> initscore=-0.117452\n",
            "[LightGBM] [Info] Start training from score -0.117452\n"
          ]
        },
        {
          "name": "stderr",
          "output_type": "stream",
          "text": [
            "[I 2024-09-20 04:06:19,102] Trial 227 finished with value: 0.7053133272115075 and parameters: {'rf_n_estimators': 289, 'rf_max_depth': 26, 'rf_min_samples_split': 9, 'xgb_n_estimators': 192, 'xgb_learning_rate': 0.11258756253694678, 'xgb_max_depth': 8, 'lgbm_n_estimators': 279, 'lgbm_learning_rate': 0.22113442490822868, 'lgbm_num_leaves': 67}. Best is trial 40 with value: 0.7109753023947039.\n",
            "/var/folders/0h/6t5rrrkd413d6v0z43zmchmm0000gn/T/ipykernel_38998/847976484.py:48: FutureWarning:\n",
            "\n",
            "suggest_loguniform has been deprecated in v3.0.0. This feature will be removed in v6.0.0. See https://github.com/optuna/optuna/releases/tag/v3.0.0. Use suggest_float(..., log=True) instead.\n",
            "\n",
            "/var/folders/0h/6t5rrrkd413d6v0z43zmchmm0000gn/T/ipykernel_38998/847976484.py:54: FutureWarning:\n",
            "\n",
            "suggest_loguniform has been deprecated in v3.0.0. This feature will be removed in v6.0.0. See https://github.com/optuna/optuna/releases/tag/v3.0.0. Use suggest_float(..., log=True) instead.\n",
            "\n"
          ]
        },
        {
          "name": "stdout",
          "output_type": "stream",
          "text": [
            "[LightGBM] [Info] Number of positive: 3362, number of negative: 3781\n",
            "[LightGBM] [Info] Auto-choosing row-wise multi-threading, the overhead of testing was 0.000983 seconds.\n",
            "You can set `force_row_wise=true` to remove the overhead.\n",
            "And if memory is not enough, you can set `force_col_wise=true`.\n",
            "[LightGBM] [Info] Total Bins 733\n",
            "[LightGBM] [Info] Number of data points in the train set: 7143, number of used features: 41\n",
            "[LightGBM] [Info] [binary:BoostFromScore]: pavg=0.470671 -> initscore=-0.117452\n",
            "[LightGBM] [Info] Start training from score -0.117452\n"
          ]
        },
        {
          "name": "stderr",
          "output_type": "stream",
          "text": [
            "[I 2024-09-20 04:06:23,505] Trial 228 finished with value: 0.6950648599586979 and parameters: {'rf_n_estimators': 281, 'rf_max_depth': 23, 'rf_min_samples_split': 9, 'xgb_n_estimators': 218, 'xgb_learning_rate': 0.06965810335438587, 'xgb_max_depth': 9, 'lgbm_n_estimators': 257, 'lgbm_learning_rate': 0.616568805257995, 'lgbm_num_leaves': 35}. Best is trial 40 with value: 0.7109753023947039.\n",
            "/var/folders/0h/6t5rrrkd413d6v0z43zmchmm0000gn/T/ipykernel_38998/847976484.py:48: FutureWarning:\n",
            "\n",
            "suggest_loguniform has been deprecated in v3.0.0. This feature will be removed in v6.0.0. See https://github.com/optuna/optuna/releases/tag/v3.0.0. Use suggest_float(..., log=True) instead.\n",
            "\n",
            "/var/folders/0h/6t5rrrkd413d6v0z43zmchmm0000gn/T/ipykernel_38998/847976484.py:54: FutureWarning:\n",
            "\n",
            "suggest_loguniform has been deprecated in v3.0.0. This feature will be removed in v6.0.0. See https://github.com/optuna/optuna/releases/tag/v3.0.0. Use suggest_float(..., log=True) instead.\n",
            "\n"
          ]
        },
        {
          "name": "stdout",
          "output_type": "stream",
          "text": [
            "[LightGBM] [Info] Number of positive: 3362, number of negative: 3781\n",
            "[LightGBM] [Info] Auto-choosing row-wise multi-threading, the overhead of testing was 0.000854 seconds.\n",
            "You can set `force_row_wise=true` to remove the overhead.\n",
            "And if memory is not enough, you can set `force_col_wise=true`.\n",
            "[LightGBM] [Info] Total Bins 733\n",
            "[LightGBM] [Info] Number of data points in the train set: 7143, number of used features: 41\n",
            "[LightGBM] [Info] [binary:BoostFromScore]: pavg=0.470671 -> initscore=-0.117452\n",
            "[LightGBM] [Info] Start training from score -0.117452\n"
          ]
        },
        {
          "name": "stderr",
          "output_type": "stream",
          "text": [
            "[I 2024-09-20 04:06:25,897] Trial 229 finished with value: 0.6940183758418933 and parameters: {'rf_n_estimators': 84, 'rf_max_depth': 20, 'rf_min_samples_split': 2, 'xgb_n_estimators': 143, 'xgb_learning_rate': 0.12184531969335746, 'xgb_max_depth': 7, 'lgbm_n_estimators': 241, 'lgbm_learning_rate': 0.07205842446890652, 'lgbm_num_leaves': 37}. Best is trial 40 with value: 0.7109753023947039.\n",
            "/var/folders/0h/6t5rrrkd413d6v0z43zmchmm0000gn/T/ipykernel_38998/847976484.py:48: FutureWarning:\n",
            "\n",
            "suggest_loguniform has been deprecated in v3.0.0. This feature will be removed in v6.0.0. See https://github.com/optuna/optuna/releases/tag/v3.0.0. Use suggest_float(..., log=True) instead.\n",
            "\n",
            "/var/folders/0h/6t5rrrkd413d6v0z43zmchmm0000gn/T/ipykernel_38998/847976484.py:54: FutureWarning:\n",
            "\n",
            "suggest_loguniform has been deprecated in v3.0.0. This feature will be removed in v6.0.0. See https://github.com/optuna/optuna/releases/tag/v3.0.0. Use suggest_float(..., log=True) instead.\n",
            "\n"
          ]
        },
        {
          "name": "stdout",
          "output_type": "stream",
          "text": [
            "[LightGBM] [Info] Number of positive: 3362, number of negative: 3781\n",
            "[LightGBM] [Info] Auto-choosing row-wise multi-threading, the overhead of testing was 0.000827 seconds.\n",
            "You can set `force_row_wise=true` to remove the overhead.\n",
            "And if memory is not enough, you can set `force_col_wise=true`.\n",
            "[LightGBM] [Info] Total Bins 733\n",
            "[LightGBM] [Info] Number of data points in the train set: 7143, number of used features: 41\n",
            "[LightGBM] [Info] [binary:BoostFromScore]: pavg=0.470671 -> initscore=-0.117452\n",
            "[LightGBM] [Info] Start training from score -0.117452\n"
          ]
        },
        {
          "name": "stderr",
          "output_type": "stream",
          "text": [
            "[I 2024-09-20 04:06:30,186] Trial 230 finished with value: 0.6900275266158049 and parameters: {'rf_n_estimators': 255, 'rf_max_depth': 17, 'rf_min_samples_split': 7, 'xgb_n_estimators': 163, 'xgb_learning_rate': 0.09788661341887434, 'xgb_max_depth': 5, 'lgbm_n_estimators': 263, 'lgbm_learning_rate': 0.7277352787637511, 'lgbm_num_leaves': 56}. Best is trial 40 with value: 0.7109753023947039.\n",
            "/var/folders/0h/6t5rrrkd413d6v0z43zmchmm0000gn/T/ipykernel_38998/847976484.py:48: FutureWarning:\n",
            "\n",
            "suggest_loguniform has been deprecated in v3.0.0. This feature will be removed in v6.0.0. See https://github.com/optuna/optuna/releases/tag/v3.0.0. Use suggest_float(..., log=True) instead.\n",
            "\n",
            "/var/folders/0h/6t5rrrkd413d6v0z43zmchmm0000gn/T/ipykernel_38998/847976484.py:54: FutureWarning:\n",
            "\n",
            "suggest_loguniform has been deprecated in v3.0.0. This feature will be removed in v6.0.0. See https://github.com/optuna/optuna/releases/tag/v3.0.0. Use suggest_float(..., log=True) instead.\n",
            "\n"
          ]
        },
        {
          "name": "stdout",
          "output_type": "stream",
          "text": [
            "[LightGBM] [Info] Number of positive: 3362, number of negative: 3781\n",
            "[LightGBM] [Info] Auto-choosing row-wise multi-threading, the overhead of testing was 0.000904 seconds.\n",
            "You can set `force_row_wise=true` to remove the overhead.\n",
            "And if memory is not enough, you can set `force_col_wise=true`.\n",
            "[LightGBM] [Info] Total Bins 733\n",
            "[LightGBM] [Info] Number of data points in the train set: 7143, number of used features: 41\n",
            "[LightGBM] [Info] [binary:BoostFromScore]: pavg=0.470671 -> initscore=-0.117452\n",
            "[LightGBM] [Info] Start training from score -0.117452\n"
          ]
        },
        {
          "name": "stderr",
          "output_type": "stream",
          "text": [
            "[I 2024-09-20 04:06:35,324] Trial 231 finished with value: 0.704213586819431 and parameters: {'rf_n_estimators': 285, 'rf_max_depth': 21, 'rf_min_samples_split': 9, 'xgb_n_estimators': 272, 'xgb_learning_rate': 0.13994573761372103, 'xgb_max_depth': 9, 'lgbm_n_estimators': 273, 'lgbm_learning_rate': 0.46225341012343796, 'lgbm_num_leaves': 59}. Best is trial 40 with value: 0.7109753023947039.\n",
            "/var/folders/0h/6t5rrrkd413d6v0z43zmchmm0000gn/T/ipykernel_38998/847976484.py:48: FutureWarning:\n",
            "\n",
            "suggest_loguniform has been deprecated in v3.0.0. This feature will be removed in v6.0.0. See https://github.com/optuna/optuna/releases/tag/v3.0.0. Use suggest_float(..., log=True) instead.\n",
            "\n",
            "/var/folders/0h/6t5rrrkd413d6v0z43zmchmm0000gn/T/ipykernel_38998/847976484.py:54: FutureWarning:\n",
            "\n",
            "suggest_loguniform has been deprecated in v3.0.0. This feature will be removed in v6.0.0. See https://github.com/optuna/optuna/releases/tag/v3.0.0. Use suggest_float(..., log=True) instead.\n",
            "\n"
          ]
        },
        {
          "name": "stdout",
          "output_type": "stream",
          "text": [
            "[LightGBM] [Info] Number of positive: 3362, number of negative: 3781\n",
            "[LightGBM] [Info] Auto-choosing row-wise multi-threading, the overhead of testing was 0.000871 seconds.\n",
            "You can set `force_row_wise=true` to remove the overhead.\n",
            "And if memory is not enough, you can set `force_col_wise=true`.\n",
            "[LightGBM] [Info] Total Bins 733\n",
            "[LightGBM] [Info] Number of data points in the train set: 7143, number of used features: 41\n",
            "[LightGBM] [Info] [binary:BoostFromScore]: pavg=0.470671 -> initscore=-0.117452\n",
            "[LightGBM] [Info] Start training from score -0.117452\n"
          ]
        },
        {
          "name": "stderr",
          "output_type": "stream",
          "text": [
            "[I 2024-09-20 04:06:38,917] Trial 232 finished with value: 0.6969223777359422 and parameters: {'rf_n_estimators': 144, 'rf_max_depth': 21, 'rf_min_samples_split': 9, 'xgb_n_estimators': 265, 'xgb_learning_rate': 0.16389410358922057, 'xgb_max_depth': 7, 'lgbm_n_estimators': 216, 'lgbm_learning_rate': 0.5061463500824516, 'lgbm_num_leaves': 60}. Best is trial 40 with value: 0.7109753023947039.\n",
            "/var/folders/0h/6t5rrrkd413d6v0z43zmchmm0000gn/T/ipykernel_38998/847976484.py:48: FutureWarning:\n",
            "\n",
            "suggest_loguniform has been deprecated in v3.0.0. This feature will be removed in v6.0.0. See https://github.com/optuna/optuna/releases/tag/v3.0.0. Use suggest_float(..., log=True) instead.\n",
            "\n",
            "/var/folders/0h/6t5rrrkd413d6v0z43zmchmm0000gn/T/ipykernel_38998/847976484.py:54: FutureWarning:\n",
            "\n",
            "suggest_loguniform has been deprecated in v3.0.0. This feature will be removed in v6.0.0. See https://github.com/optuna/optuna/releases/tag/v3.0.0. Use suggest_float(..., log=True) instead.\n",
            "\n"
          ]
        },
        {
          "name": "stdout",
          "output_type": "stream",
          "text": [
            "[LightGBM] [Info] Number of positive: 3362, number of negative: 3781\n",
            "[LightGBM] [Info] Auto-choosing row-wise multi-threading, the overhead of testing was 0.000942 seconds.\n",
            "You can set `force_row_wise=true` to remove the overhead.\n",
            "And if memory is not enough, you can set `force_col_wise=true`.\n",
            "[LightGBM] [Info] Total Bins 733\n",
            "[LightGBM] [Info] Number of data points in the train set: 7143, number of used features: 41\n",
            "[LightGBM] [Info] [binary:BoostFromScore]: pavg=0.470671 -> initscore=-0.117452\n",
            "[LightGBM] [Info] Start training from score -0.117452\n"
          ]
        },
        {
          "name": "stderr",
          "output_type": "stream",
          "text": [
            "[I 2024-09-20 04:06:43,777] Trial 233 finished with value: 0.6996664661452282 and parameters: {'rf_n_estimators': 293, 'rf_max_depth': 22, 'rf_min_samples_split': 9, 'xgb_n_estimators': 278, 'xgb_learning_rate': 0.11402775508853859, 'xgb_max_depth': 5, 'lgbm_n_estimators': 268, 'lgbm_learning_rate': 0.4248146092042812, 'lgbm_num_leaves': 58}. Best is trial 40 with value: 0.7109753023947039.\n",
            "/var/folders/0h/6t5rrrkd413d6v0z43zmchmm0000gn/T/ipykernel_38998/847976484.py:48: FutureWarning:\n",
            "\n",
            "suggest_loguniform has been deprecated in v3.0.0. This feature will be removed in v6.0.0. See https://github.com/optuna/optuna/releases/tag/v3.0.0. Use suggest_float(..., log=True) instead.\n",
            "\n",
            "/var/folders/0h/6t5rrrkd413d6v0z43zmchmm0000gn/T/ipykernel_38998/847976484.py:54: FutureWarning:\n",
            "\n",
            "suggest_loguniform has been deprecated in v3.0.0. This feature will be removed in v6.0.0. See https://github.com/optuna/optuna/releases/tag/v3.0.0. Use suggest_float(..., log=True) instead.\n",
            "\n"
          ]
        },
        {
          "name": "stdout",
          "output_type": "stream",
          "text": [
            "[LightGBM] [Info] Number of positive: 3362, number of negative: 3781\n",
            "[LightGBM] [Info] Auto-choosing row-wise multi-threading, the overhead of testing was 0.000843 seconds.\n",
            "You can set `force_row_wise=true` to remove the overhead.\n",
            "And if memory is not enough, you can set `force_col_wise=true`.\n",
            "[LightGBM] [Info] Total Bins 733\n",
            "[LightGBM] [Info] Number of data points in the train set: 7143, number of used features: 41\n",
            "[LightGBM] [Info] [binary:BoostFromScore]: pavg=0.470671 -> initscore=-0.117452\n",
            "[LightGBM] [Info] Start training from score -0.117452\n"
          ]
        },
        {
          "name": "stderr",
          "output_type": "stream",
          "text": [
            "[I 2024-09-20 04:06:47,044] Trial 234 finished with value: 0.6956014592135704 and parameters: {'rf_n_estimators': 134, 'rf_max_depth': 20, 'rf_min_samples_split': 9, 'xgb_n_estimators': 67, 'xgb_learning_rate': 0.14191458385854994, 'xgb_max_depth': 8, 'lgbm_n_estimators': 236, 'lgbm_learning_rate': 0.3483191498280484, 'lgbm_num_leaves': 61}. Best is trial 40 with value: 0.7109753023947039.\n",
            "/var/folders/0h/6t5rrrkd413d6v0z43zmchmm0000gn/T/ipykernel_38998/847976484.py:48: FutureWarning:\n",
            "\n",
            "suggest_loguniform has been deprecated in v3.0.0. This feature will be removed in v6.0.0. See https://github.com/optuna/optuna/releases/tag/v3.0.0. Use suggest_float(..., log=True) instead.\n",
            "\n",
            "/var/folders/0h/6t5rrrkd413d6v0z43zmchmm0000gn/T/ipykernel_38998/847976484.py:54: FutureWarning:\n",
            "\n",
            "suggest_loguniform has been deprecated in v3.0.0. This feature will be removed in v6.0.0. See https://github.com/optuna/optuna/releases/tag/v3.0.0. Use suggest_float(..., log=True) instead.\n",
            "\n"
          ]
        },
        {
          "name": "stdout",
          "output_type": "stream",
          "text": [
            "[LightGBM] [Info] Number of positive: 3362, number of negative: 3781\n",
            "[LightGBM] [Info] Auto-choosing row-wise multi-threading, the overhead of testing was 0.000844 seconds.\n",
            "You can set `force_row_wise=true` to remove the overhead.\n",
            "And if memory is not enough, you can set `force_col_wise=true`.\n",
            "[LightGBM] [Info] Total Bins 733\n",
            "[LightGBM] [Info] Number of data points in the train set: 7143, number of used features: 41\n",
            "[LightGBM] [Info] [binary:BoostFromScore]: pavg=0.470671 -> initscore=-0.117452\n",
            "[LightGBM] [Info] Start training from score -0.117452\n"
          ]
        },
        {
          "name": "stderr",
          "output_type": "stream",
          "text": [
            "[I 2024-09-20 04:06:51,679] Trial 235 finished with value: 0.7001101605535338 and parameters: {'rf_n_estimators': 288, 'rf_max_depth': 21, 'rf_min_samples_split': 9, 'xgb_n_estimators': 250, 'xgb_learning_rate': 0.08344341765537856, 'xgb_max_depth': 5, 'lgbm_n_estimators': 256, 'lgbm_learning_rate': 0.5630651459170571, 'lgbm_num_leaves': 64}. Best is trial 40 with value: 0.7109753023947039.\n",
            "/var/folders/0h/6t5rrrkd413d6v0z43zmchmm0000gn/T/ipykernel_38998/847976484.py:48: FutureWarning:\n",
            "\n",
            "suggest_loguniform has been deprecated in v3.0.0. This feature will be removed in v6.0.0. See https://github.com/optuna/optuna/releases/tag/v3.0.0. Use suggest_float(..., log=True) instead.\n",
            "\n",
            "/var/folders/0h/6t5rrrkd413d6v0z43zmchmm0000gn/T/ipykernel_38998/847976484.py:54: FutureWarning:\n",
            "\n",
            "suggest_loguniform has been deprecated in v3.0.0. This feature will be removed in v6.0.0. See https://github.com/optuna/optuna/releases/tag/v3.0.0. Use suggest_float(..., log=True) instead.\n",
            "\n"
          ]
        },
        {
          "name": "stdout",
          "output_type": "stream",
          "text": [
            "[LightGBM] [Info] Number of positive: 3362, number of negative: 3781\n",
            "[LightGBM] [Info] Auto-choosing row-wise multi-threading, the overhead of testing was 0.000866 seconds.\n",
            "You can set `force_row_wise=true` to remove the overhead.\n",
            "And if memory is not enough, you can set `force_col_wise=true`.\n",
            "[LightGBM] [Info] Total Bins 733\n",
            "[LightGBM] [Info] Number of data points in the train set: 7143, number of used features: 41\n",
            "[LightGBM] [Info] [binary:BoostFromScore]: pavg=0.470671 -> initscore=-0.117452\n",
            "[LightGBM] [Info] Start training from score -0.117452\n"
          ]
        },
        {
          "name": "stderr",
          "output_type": "stream",
          "text": [
            "[I 2024-09-20 04:06:54,314] Trial 236 finished with value: 0.7071367764384481 and parameters: {'rf_n_estimators': 107, 'rf_max_depth': 23, 'rf_min_samples_split': 9, 'xgb_n_estimators': 271, 'xgb_learning_rate': 0.1306859147879908, 'xgb_max_depth': 8, 'lgbm_n_estimators': 262, 'lgbm_learning_rate': 0.40602500497520927, 'lgbm_num_leaves': 32}. Best is trial 40 with value: 0.7109753023947039.\n",
            "/var/folders/0h/6t5rrrkd413d6v0z43zmchmm0000gn/T/ipykernel_38998/847976484.py:48: FutureWarning:\n",
            "\n",
            "suggest_loguniform has been deprecated in v3.0.0. This feature will be removed in v6.0.0. See https://github.com/optuna/optuna/releases/tag/v3.0.0. Use suggest_float(..., log=True) instead.\n",
            "\n",
            "/var/folders/0h/6t5rrrkd413d6v0z43zmchmm0000gn/T/ipykernel_38998/847976484.py:54: FutureWarning:\n",
            "\n",
            "suggest_loguniform has been deprecated in v3.0.0. This feature will be removed in v6.0.0. See https://github.com/optuna/optuna/releases/tag/v3.0.0. Use suggest_float(..., log=True) instead.\n",
            "\n"
          ]
        },
        {
          "name": "stdout",
          "output_type": "stream",
          "text": [
            "[LightGBM] [Info] Number of positive: 3362, number of negative: 3781\n",
            "[LightGBM] [Info] Auto-choosing row-wise multi-threading, the overhead of testing was 0.000819 seconds.\n",
            "You can set `force_row_wise=true` to remove the overhead.\n",
            "And if memory is not enough, you can set `force_col_wise=true`.\n",
            "[LightGBM] [Info] Total Bins 733\n",
            "[LightGBM] [Info] Number of data points in the train set: 7143, number of used features: 41\n",
            "[LightGBM] [Info] [binary:BoostFromScore]: pavg=0.470671 -> initscore=-0.117452\n",
            "[LightGBM] [Info] Start training from score -0.117452\n"
          ]
        },
        {
          "name": "stderr",
          "output_type": "stream",
          "text": [
            "[I 2024-09-20 04:06:57,561] Trial 237 finished with value: 0.7001585420538454 and parameters: {'rf_n_estimators': 278, 'rf_max_depth': 23, 'rf_min_samples_split': 8, 'xgb_n_estimators': 264, 'xgb_learning_rate': 0.10129789280518946, 'xgb_max_depth': 8, 'lgbm_n_estimators': 117, 'lgbm_learning_rate': 0.25953160975059436, 'lgbm_num_leaves': 32}. Best is trial 40 with value: 0.7109753023947039.\n",
            "/var/folders/0h/6t5rrrkd413d6v0z43zmchmm0000gn/T/ipykernel_38998/847976484.py:48: FutureWarning:\n",
            "\n",
            "suggest_loguniform has been deprecated in v3.0.0. This feature will be removed in v6.0.0. See https://github.com/optuna/optuna/releases/tag/v3.0.0. Use suggest_float(..., log=True) instead.\n",
            "\n",
            "/var/folders/0h/6t5rrrkd413d6v0z43zmchmm0000gn/T/ipykernel_38998/847976484.py:54: FutureWarning:\n",
            "\n",
            "suggest_loguniform has been deprecated in v3.0.0. This feature will be removed in v6.0.0. See https://github.com/optuna/optuna/releases/tag/v3.0.0. Use suggest_float(..., log=True) instead.\n",
            "\n"
          ]
        },
        {
          "name": "stdout",
          "output_type": "stream",
          "text": [
            "[LightGBM] [Info] Number of positive: 3362, number of negative: 3781\n",
            "[LightGBM] [Info] Auto-choosing row-wise multi-threading, the overhead of testing was 0.000853 seconds.\n",
            "You can set `force_row_wise=true` to remove the overhead.\n",
            "And if memory is not enough, you can set `force_col_wise=true`.\n",
            "[LightGBM] [Info] Total Bins 733\n",
            "[LightGBM] [Info] Number of data points in the train set: 7143, number of used features: 41\n",
            "[LightGBM] [Info] [binary:BoostFromScore]: pavg=0.470671 -> initscore=-0.117452\n",
            "[LightGBM] [Info] Start training from score -0.117452\n"
          ]
        },
        {
          "name": "stderr",
          "output_type": "stream",
          "text": [
            "[I 2024-09-20 04:07:00,304] Trial 238 finished with value: 0.6964878953623351 and parameters: {'rf_n_estimators': 108, 'rf_max_depth': 23, 'rf_min_samples_split': 2, 'xgb_n_estimators': 256, 'xgb_learning_rate': 0.7792644469921073, 'xgb_max_depth': 8, 'lgbm_n_estimators': 261, 'lgbm_learning_rate': 0.316096302153874, 'lgbm_num_leaves': 34}. Best is trial 40 with value: 0.7109753023947039.\n",
            "/var/folders/0h/6t5rrrkd413d6v0z43zmchmm0000gn/T/ipykernel_38998/847976484.py:48: FutureWarning:\n",
            "\n",
            "suggest_loguniform has been deprecated in v3.0.0. This feature will be removed in v6.0.0. See https://github.com/optuna/optuna/releases/tag/v3.0.0. Use suggest_float(..., log=True) instead.\n",
            "\n",
            "/var/folders/0h/6t5rrrkd413d6v0z43zmchmm0000gn/T/ipykernel_38998/847976484.py:54: FutureWarning:\n",
            "\n",
            "suggest_loguniform has been deprecated in v3.0.0. This feature will be removed in v6.0.0. See https://github.com/optuna/optuna/releases/tag/v3.0.0. Use suggest_float(..., log=True) instead.\n",
            "\n"
          ]
        },
        {
          "name": "stdout",
          "output_type": "stream",
          "text": [
            "[LightGBM] [Info] Number of positive: 3362, number of negative: 3781\n",
            "[LightGBM] [Info] Auto-choosing row-wise multi-threading, the overhead of testing was 0.000902 seconds.\n",
            "You can set `force_row_wise=true` to remove the overhead.\n",
            "And if memory is not enough, you can set `force_col_wise=true`.\n",
            "[LightGBM] [Info] Total Bins 733\n",
            "[LightGBM] [Info] Number of data points in the train set: 7143, number of used features: 41\n",
            "[LightGBM] [Info] [binary:BoostFromScore]: pavg=0.470671 -> initscore=-0.117452\n",
            "[LightGBM] [Info] Start training from score -0.117452\n"
          ]
        },
        {
          "name": "stderr",
          "output_type": "stream",
          "text": [
            "[I 2024-09-20 04:07:02,863] Trial 239 finished with value: 0.7029236544530797 and parameters: {'rf_n_estimators': 97, 'rf_max_depth': 24, 'rf_min_samples_split': 9, 'xgb_n_estimators': 270, 'xgb_learning_rate': 0.12564049400834737, 'xgb_max_depth': 8, 'lgbm_n_estimators': 251, 'lgbm_learning_rate': 0.38807950507873007, 'lgbm_num_leaves': 30}. Best is trial 40 with value: 0.7109753023947039.\n",
            "/var/folders/0h/6t5rrrkd413d6v0z43zmchmm0000gn/T/ipykernel_38998/847976484.py:48: FutureWarning:\n",
            "\n",
            "suggest_loguniform has been deprecated in v3.0.0. This feature will be removed in v6.0.0. See https://github.com/optuna/optuna/releases/tag/v3.0.0. Use suggest_float(..., log=True) instead.\n",
            "\n",
            "/var/folders/0h/6t5rrrkd413d6v0z43zmchmm0000gn/T/ipykernel_38998/847976484.py:54: FutureWarning:\n",
            "\n",
            "suggest_loguniform has been deprecated in v3.0.0. This feature will be removed in v6.0.0. See https://github.com/optuna/optuna/releases/tag/v3.0.0. Use suggest_float(..., log=True) instead.\n",
            "\n"
          ]
        },
        {
          "name": "stdout",
          "output_type": "stream",
          "text": [
            "[LightGBM] [Info] Number of positive: 3362, number of negative: 3781\n",
            "[LightGBM] [Info] Auto-choosing row-wise multi-threading, the overhead of testing was 0.000858 seconds.\n",
            "You can set `force_row_wise=true` to remove the overhead.\n",
            "And if memory is not enough, you can set `force_col_wise=true`.\n",
            "[LightGBM] [Info] Total Bins 733\n",
            "[LightGBM] [Info] Number of data points in the train set: 7143, number of used features: 41\n",
            "[LightGBM] [Info] [binary:BoostFromScore]: pavg=0.470671 -> initscore=-0.117452\n",
            "[LightGBM] [Info] Start training from score -0.117452\n"
          ]
        },
        {
          "name": "stderr",
          "output_type": "stream",
          "text": [
            "[I 2024-09-20 04:07:07,503] Trial 240 finished with value: 0.6950534274522817 and parameters: {'rf_n_estimators': 300, 'rf_max_depth': 22, 'rf_min_samples_split': 9, 'xgb_n_estimators': 231, 'xgb_learning_rate': 0.09331988256037405, 'xgb_max_depth': 8, 'lgbm_n_estimators': 266, 'lgbm_learning_rate': 0.003500554103021965, 'lgbm_num_leaves': 32}. Best is trial 40 with value: 0.7109753023947039.\n",
            "/var/folders/0h/6t5rrrkd413d6v0z43zmchmm0000gn/T/ipykernel_38998/847976484.py:48: FutureWarning:\n",
            "\n",
            "suggest_loguniform has been deprecated in v3.0.0. This feature will be removed in v6.0.0. See https://github.com/optuna/optuna/releases/tag/v3.0.0. Use suggest_float(..., log=True) instead.\n",
            "\n",
            "/var/folders/0h/6t5rrrkd413d6v0z43zmchmm0000gn/T/ipykernel_38998/847976484.py:54: FutureWarning:\n",
            "\n",
            "suggest_loguniform has been deprecated in v3.0.0. This feature will be removed in v6.0.0. See https://github.com/optuna/optuna/releases/tag/v3.0.0. Use suggest_float(..., log=True) instead.\n",
            "\n"
          ]
        },
        {
          "name": "stdout",
          "output_type": "stream",
          "text": [
            "[LightGBM] [Info] Number of positive: 3362, number of negative: 3781\n",
            "[LightGBM] [Info] Auto-choosing row-wise multi-threading, the overhead of testing was 0.001049 seconds.\n",
            "You can set `force_row_wise=true` to remove the overhead.\n",
            "And if memory is not enough, you can set `force_col_wise=true`.\n",
            "[LightGBM] [Info] Total Bins 733\n",
            "[LightGBM] [Info] Number of data points in the train set: 7143, number of used features: 41\n",
            "[LightGBM] [Info] [binary:BoostFromScore]: pavg=0.470671 -> initscore=-0.117452\n",
            "[LightGBM] [Info] Start training from score -0.117452\n"
          ]
        },
        {
          "name": "stderr",
          "output_type": "stream",
          "text": [
            "[I 2024-09-20 04:07:11,207] Trial 241 finished with value: 0.6931199347417237 and parameters: {'rf_n_estimators': 102, 'rf_max_depth': 20, 'rf_min_samples_split': 9, 'xgb_n_estimators': 269, 'xgb_learning_rate': 0.15190532024190362, 'xgb_max_depth': 9, 'lgbm_n_estimators': 262, 'lgbm_learning_rate': 0.4628546188918016, 'lgbm_num_leaves': 53}. Best is trial 40 with value: 0.7109753023947039.\n",
            "/var/folders/0h/6t5rrrkd413d6v0z43zmchmm0000gn/T/ipykernel_38998/847976484.py:48: FutureWarning:\n",
            "\n",
            "suggest_loguniform has been deprecated in v3.0.0. This feature will be removed in v6.0.0. See https://github.com/optuna/optuna/releases/tag/v3.0.0. Use suggest_float(..., log=True) instead.\n",
            "\n",
            "/var/folders/0h/6t5rrrkd413d6v0z43zmchmm0000gn/T/ipykernel_38998/847976484.py:54: FutureWarning:\n",
            "\n",
            "suggest_loguniform has been deprecated in v3.0.0. This feature will be removed in v6.0.0. See https://github.com/optuna/optuna/releases/tag/v3.0.0. Use suggest_float(..., log=True) instead.\n",
            "\n"
          ]
        },
        {
          "name": "stdout",
          "output_type": "stream",
          "text": [
            "[LightGBM] [Info] Number of positive: 3362, number of negative: 3781\n",
            "[LightGBM] [Info] Auto-choosing row-wise multi-threading, the overhead of testing was 0.001246 seconds.\n",
            "You can set `force_row_wise=true` to remove the overhead.\n",
            "And if memory is not enough, you can set `force_col_wise=true`.\n",
            "[LightGBM] [Info] Total Bins 733\n",
            "[LightGBM] [Info] Number of data points in the train set: 7143, number of used features: 41\n",
            "[LightGBM] [Info] [binary:BoostFromScore]: pavg=0.470671 -> initscore=-0.117452\n",
            "[LightGBM] [Info] Start training from score -0.117452\n"
          ]
        },
        {
          "name": "stderr",
          "output_type": "stream",
          "text": [
            "[I 2024-09-20 04:07:16,324] Trial 242 finished with value: 0.6976666493141469 and parameters: {'rf_n_estimators': 117, 'rf_max_depth': 21, 'rf_min_samples_split': 9, 'xgb_n_estimators': 273, 'xgb_learning_rate': 0.11703389842482922, 'xgb_max_depth': 8, 'lgbm_n_estimators': 273, 'lgbm_learning_rate': 0.12449842028901019, 'lgbm_num_leaves': 47}. Best is trial 40 with value: 0.7109753023947039.\n",
            "/var/folders/0h/6t5rrrkd413d6v0z43zmchmm0000gn/T/ipykernel_38998/847976484.py:48: FutureWarning:\n",
            "\n",
            "suggest_loguniform has been deprecated in v3.0.0. This feature will be removed in v6.0.0. See https://github.com/optuna/optuna/releases/tag/v3.0.0. Use suggest_float(..., log=True) instead.\n",
            "\n",
            "/var/folders/0h/6t5rrrkd413d6v0z43zmchmm0000gn/T/ipykernel_38998/847976484.py:54: FutureWarning:\n",
            "\n",
            "suggest_loguniform has been deprecated in v3.0.0. This feature will be removed in v6.0.0. See https://github.com/optuna/optuna/releases/tag/v3.0.0. Use suggest_float(..., log=True) instead.\n",
            "\n"
          ]
        },
        {
          "name": "stdout",
          "output_type": "stream",
          "text": [
            "[LightGBM] [Info] Number of positive: 3362, number of negative: 3781\n",
            "[LightGBM] [Info] Auto-choosing row-wise multi-threading, the overhead of testing was 0.000787 seconds.\n",
            "You can set `force_row_wise=true` to remove the overhead.\n",
            "And if memory is not enough, you can set `force_col_wise=true`.\n",
            "[LightGBM] [Info] Total Bins 733\n",
            "[LightGBM] [Info] Number of data points in the train set: 7143, number of used features: 41\n",
            "[LightGBM] [Info] [binary:BoostFromScore]: pavg=0.470671 -> initscore=-0.117452\n",
            "[LightGBM] [Info] Start training from score -0.117452\n"
          ]
        },
        {
          "name": "stderr",
          "output_type": "stream",
          "text": [
            "[I 2024-09-20 04:07:19,557] Trial 243 finished with value: 0.6966078251851885 and parameters: {'rf_n_estimators': 147, 'rf_max_depth': 24, 'rf_min_samples_split': 9, 'xgb_n_estimators': 282, 'xgb_learning_rate': 0.13880072025671136, 'xgb_max_depth': 7, 'lgbm_n_estimators': 256, 'lgbm_learning_rate': 0.5018211718343172, 'lgbm_num_leaves': 39}. Best is trial 40 with value: 0.7109753023947039.\n",
            "/var/folders/0h/6t5rrrkd413d6v0z43zmchmm0000gn/T/ipykernel_38998/847976484.py:48: FutureWarning:\n",
            "\n",
            "suggest_loguniform has been deprecated in v3.0.0. This feature will be removed in v6.0.0. See https://github.com/optuna/optuna/releases/tag/v3.0.0. Use suggest_float(..., log=True) instead.\n",
            "\n",
            "/var/folders/0h/6t5rrrkd413d6v0z43zmchmm0000gn/T/ipykernel_38998/847976484.py:54: FutureWarning:\n",
            "\n",
            "suggest_loguniform has been deprecated in v3.0.0. This feature will be removed in v6.0.0. See https://github.com/optuna/optuna/releases/tag/v3.0.0. Use suggest_float(..., log=True) instead.\n",
            "\n"
          ]
        },
        {
          "name": "stdout",
          "output_type": "stream",
          "text": [
            "[LightGBM] [Info] Number of positive: 3362, number of negative: 3781\n",
            "[LightGBM] [Info] Auto-choosing row-wise multi-threading, the overhead of testing was 0.000907 seconds.\n",
            "You can set `force_row_wise=true` to remove the overhead.\n",
            "And if memory is not enough, you can set `force_col_wise=true`.\n",
            "[LightGBM] [Info] Total Bins 733\n",
            "[LightGBM] [Info] Number of data points in the train set: 7143, number of used features: 41\n",
            "[LightGBM] [Info] [binary:BoostFromScore]: pavg=0.470671 -> initscore=-0.117452\n",
            "[LightGBM] [Info] Start training from score -0.117452\n"
          ]
        },
        {
          "name": "stderr",
          "output_type": "stream",
          "text": [
            "[I 2024-09-20 04:07:23,024] Trial 244 finished with value: 0.7046341753699065 and parameters: {'rf_n_estimators': 138, 'rf_max_depth': 22, 'rf_min_samples_split': 9, 'xgb_n_estimators': 135, 'xgb_learning_rate': 0.10766539927205847, 'xgb_max_depth': 5, 'lgbm_n_estimators': 247, 'lgbm_learning_rate': 0.40075633448186354, 'lgbm_num_leaves': 60}. Best is trial 40 with value: 0.7109753023947039.\n",
            "/var/folders/0h/6t5rrrkd413d6v0z43zmchmm0000gn/T/ipykernel_38998/847976484.py:48: FutureWarning:\n",
            "\n",
            "suggest_loguniform has been deprecated in v3.0.0. This feature will be removed in v6.0.0. See https://github.com/optuna/optuna/releases/tag/v3.0.0. Use suggest_float(..., log=True) instead.\n",
            "\n",
            "/var/folders/0h/6t5rrrkd413d6v0z43zmchmm0000gn/T/ipykernel_38998/847976484.py:54: FutureWarning:\n",
            "\n",
            "suggest_loguniform has been deprecated in v3.0.0. This feature will be removed in v6.0.0. See https://github.com/optuna/optuna/releases/tag/v3.0.0. Use suggest_float(..., log=True) instead.\n",
            "\n"
          ]
        },
        {
          "name": "stdout",
          "output_type": "stream",
          "text": [
            "[LightGBM] [Info] Number of positive: 3362, number of negative: 3781\n",
            "[LightGBM] [Info] Auto-choosing row-wise multi-threading, the overhead of testing was 0.000851 seconds.\n",
            "You can set `force_row_wise=true` to remove the overhead.\n",
            "And if memory is not enough, you can set `force_col_wise=true`.\n",
            "[LightGBM] [Info] Total Bins 733\n",
            "[LightGBM] [Info] Number of data points in the train set: 7143, number of used features: 41\n",
            "[LightGBM] [Info] [binary:BoostFromScore]: pavg=0.470671 -> initscore=-0.117452\n",
            "[LightGBM] [Info] Start training from score -0.117452\n"
          ]
        },
        {
          "name": "stderr",
          "output_type": "stream",
          "text": [
            "[I 2024-09-20 04:07:26,735] Trial 245 finished with value: 0.6969540884050816 and parameters: {'rf_n_estimators': 293, 'rf_max_depth': 17, 'rf_min_samples_split': 9, 'xgb_n_estimators': 278, 'xgb_learning_rate': 0.12618178086242945, 'xgb_max_depth': 7, 'lgbm_n_estimators': 220, 'lgbm_learning_rate': 0.3408245839616723, 'lgbm_num_leaves': 33}. Best is trial 40 with value: 0.7109753023947039.\n",
            "/var/folders/0h/6t5rrrkd413d6v0z43zmchmm0000gn/T/ipykernel_38998/847976484.py:48: FutureWarning:\n",
            "\n",
            "suggest_loguniform has been deprecated in v3.0.0. This feature will be removed in v6.0.0. See https://github.com/optuna/optuna/releases/tag/v3.0.0. Use suggest_float(..., log=True) instead.\n",
            "\n",
            "/var/folders/0h/6t5rrrkd413d6v0z43zmchmm0000gn/T/ipykernel_38998/847976484.py:54: FutureWarning:\n",
            "\n",
            "suggest_loguniform has been deprecated in v3.0.0. This feature will be removed in v6.0.0. See https://github.com/optuna/optuna/releases/tag/v3.0.0. Use suggest_float(..., log=True) instead.\n",
            "\n"
          ]
        },
        {
          "name": "stdout",
          "output_type": "stream",
          "text": [
            "[LightGBM] [Info] Number of positive: 3362, number of negative: 3781\n",
            "[LightGBM] [Info] Auto-choosing row-wise multi-threading, the overhead of testing was 0.001172 seconds.\n",
            "You can set `force_row_wise=true` to remove the overhead.\n",
            "And if memory is not enough, you can set `force_col_wise=true`.\n",
            "[LightGBM] [Info] Total Bins 733\n",
            "[LightGBM] [Info] Number of data points in the train set: 7143, number of used features: 41\n",
            "[LightGBM] [Info] [binary:BoostFromScore]: pavg=0.470671 -> initscore=-0.117452\n",
            "[LightGBM] [Info] Start training from score -0.117452\n"
          ]
        },
        {
          "name": "stderr",
          "output_type": "stream",
          "text": [
            "[I 2024-09-20 04:07:29,570] Trial 246 finished with value: 0.7059147364882035 and parameters: {'rf_n_estimators': 128, 'rf_max_depth': 23, 'rf_min_samples_split': 2, 'xgb_n_estimators': 238, 'xgb_learning_rate': 0.08927249279850827, 'xgb_max_depth': 9, 'lgbm_n_estimators': 163, 'lgbm_learning_rate': 0.6230417712653281, 'lgbm_num_leaves': 42}. Best is trial 40 with value: 0.7109753023947039.\n",
            "/var/folders/0h/6t5rrrkd413d6v0z43zmchmm0000gn/T/ipykernel_38998/847976484.py:48: FutureWarning:\n",
            "\n",
            "suggest_loguniform has been deprecated in v3.0.0. This feature will be removed in v6.0.0. See https://github.com/optuna/optuna/releases/tag/v3.0.0. Use suggest_float(..., log=True) instead.\n",
            "\n",
            "/var/folders/0h/6t5rrrkd413d6v0z43zmchmm0000gn/T/ipykernel_38998/847976484.py:54: FutureWarning:\n",
            "\n",
            "suggest_loguniform has been deprecated in v3.0.0. This feature will be removed in v6.0.0. See https://github.com/optuna/optuna/releases/tag/v3.0.0. Use suggest_float(..., log=True) instead.\n",
            "\n"
          ]
        },
        {
          "name": "stdout",
          "output_type": "stream",
          "text": [
            "[LightGBM] [Info] Number of positive: 3362, number of negative: 3781\n",
            "[LightGBM] [Info] Auto-choosing row-wise multi-threading, the overhead of testing was 0.000873 seconds.\n",
            "You can set `force_row_wise=true` to remove the overhead.\n",
            "And if memory is not enough, you can set `force_col_wise=true`.\n",
            "[LightGBM] [Info] Total Bins 733\n",
            "[LightGBM] [Info] Number of data points in the train set: 7143, number of used features: 41\n",
            "[LightGBM] [Info] [binary:BoostFromScore]: pavg=0.470671 -> initscore=-0.117452\n",
            "[LightGBM] [Info] Start training from score -0.117452\n"
          ]
        },
        {
          "name": "stderr",
          "output_type": "stream",
          "text": [
            "[I 2024-09-20 04:07:32,267] Trial 247 finished with value: 0.7036519067878892 and parameters: {'rf_n_estimators': 120, 'rf_max_depth': 23, 'rf_min_samples_split': 2, 'xgb_n_estimators': 172, 'xgb_learning_rate': 0.07959296573036294, 'xgb_max_depth': 9, 'lgbm_n_estimators': 167, 'lgbm_learning_rate': 0.8883193573406838, 'lgbm_num_leaves': 45}. Best is trial 40 with value: 0.7109753023947039.\n",
            "/var/folders/0h/6t5rrrkd413d6v0z43zmchmm0000gn/T/ipykernel_38998/847976484.py:48: FutureWarning:\n",
            "\n",
            "suggest_loguniform has been deprecated in v3.0.0. This feature will be removed in v6.0.0. See https://github.com/optuna/optuna/releases/tag/v3.0.0. Use suggest_float(..., log=True) instead.\n",
            "\n",
            "/var/folders/0h/6t5rrrkd413d6v0z43zmchmm0000gn/T/ipykernel_38998/847976484.py:54: FutureWarning:\n",
            "\n",
            "suggest_loguniform has been deprecated in v3.0.0. This feature will be removed in v6.0.0. See https://github.com/optuna/optuna/releases/tag/v3.0.0. Use suggest_float(..., log=True) instead.\n",
            "\n"
          ]
        },
        {
          "name": "stdout",
          "output_type": "stream",
          "text": [
            "[LightGBM] [Info] Number of positive: 3362, number of negative: 3781\n",
            "[LightGBM] [Info] Auto-choosing row-wise multi-threading, the overhead of testing was 0.000940 seconds.\n",
            "You can set `force_row_wise=true` to remove the overhead.\n",
            "And if memory is not enough, you can set `force_col_wise=true`.\n",
            "[LightGBM] [Info] Total Bins 733\n",
            "[LightGBM] [Info] Number of data points in the train set: 7143, number of used features: 41\n",
            "[LightGBM] [Info] [binary:BoostFromScore]: pavg=0.470671 -> initscore=-0.117452\n",
            "[LightGBM] [Info] Start training from score -0.117452\n"
          ]
        },
        {
          "name": "stderr",
          "output_type": "stream",
          "text": [
            "[I 2024-09-20 04:07:35,073] Trial 248 finished with value: 0.7043821469486538 and parameters: {'rf_n_estimators': 127, 'rf_max_depth': 23, 'rf_min_samples_split': 2, 'xgb_n_estimators': 237, 'xgb_learning_rate': 0.08859939962656282, 'xgb_max_depth': 9, 'lgbm_n_estimators': 144, 'lgbm_learning_rate': 0.6136058838839654, 'lgbm_num_leaves': 41}. Best is trial 40 with value: 0.7109753023947039.\n",
            "/var/folders/0h/6t5rrrkd413d6v0z43zmchmm0000gn/T/ipykernel_38998/847976484.py:48: FutureWarning:\n",
            "\n",
            "suggest_loguniform has been deprecated in v3.0.0. This feature will be removed in v6.0.0. See https://github.com/optuna/optuna/releases/tag/v3.0.0. Use suggest_float(..., log=True) instead.\n",
            "\n",
            "/var/folders/0h/6t5rrrkd413d6v0z43zmchmm0000gn/T/ipykernel_38998/847976484.py:54: FutureWarning:\n",
            "\n",
            "suggest_loguniform has been deprecated in v3.0.0. This feature will be removed in v6.0.0. See https://github.com/optuna/optuna/releases/tag/v3.0.0. Use suggest_float(..., log=True) instead.\n",
            "\n"
          ]
        },
        {
          "name": "stdout",
          "output_type": "stream",
          "text": [
            "[LightGBM] [Info] Number of positive: 3362, number of negative: 3781\n",
            "[LightGBM] [Info] Auto-choosing row-wise multi-threading, the overhead of testing was 0.000882 seconds.\n",
            "You can set `force_row_wise=true` to remove the overhead.\n",
            "And if memory is not enough, you can set `force_col_wise=true`.\n",
            "[LightGBM] [Info] Total Bins 733\n",
            "[LightGBM] [Info] Number of data points in the train set: 7143, number of used features: 41\n",
            "[LightGBM] [Info] [binary:BoostFromScore]: pavg=0.470671 -> initscore=-0.117452\n",
            "[LightGBM] [Info] Start training from score -0.117452\n"
          ]
        },
        {
          "name": "stderr",
          "output_type": "stream",
          "text": [
            "[I 2024-09-20 04:07:40,139] Trial 249 finished with value: 0.7089877909437723 and parameters: {'rf_n_estimators': 284, 'rf_max_depth': 25, 'rf_min_samples_split': 2, 'xgb_n_estimators': 242, 'xgb_learning_rate': 0.07155363581413111, 'xgb_max_depth': 9, 'lgbm_n_estimators': 269, 'lgbm_learning_rate': 0.745105796081843, 'lgbm_num_leaves': 43}. Best is trial 40 with value: 0.7109753023947039.\n",
            "/var/folders/0h/6t5rrrkd413d6v0z43zmchmm0000gn/T/ipykernel_38998/847976484.py:48: FutureWarning:\n",
            "\n",
            "suggest_loguniform has been deprecated in v3.0.0. This feature will be removed in v6.0.0. See https://github.com/optuna/optuna/releases/tag/v3.0.0. Use suggest_float(..., log=True) instead.\n",
            "\n",
            "/var/folders/0h/6t5rrrkd413d6v0z43zmchmm0000gn/T/ipykernel_38998/847976484.py:54: FutureWarning:\n",
            "\n",
            "suggest_loguniform has been deprecated in v3.0.0. This feature will be removed in v6.0.0. See https://github.com/optuna/optuna/releases/tag/v3.0.0. Use suggest_float(..., log=True) instead.\n",
            "\n"
          ]
        },
        {
          "name": "stdout",
          "output_type": "stream",
          "text": [
            "[LightGBM] [Info] Number of positive: 3362, number of negative: 3781\n",
            "[LightGBM] [Info] Auto-choosing row-wise multi-threading, the overhead of testing was 0.000833 seconds.\n",
            "You can set `force_row_wise=true` to remove the overhead.\n",
            "And if memory is not enough, you can set `force_col_wise=true`.\n",
            "[LightGBM] [Info] Total Bins 733\n",
            "[LightGBM] [Info] Number of data points in the train set: 7143, number of used features: 41\n",
            "[LightGBM] [Info] [binary:BoostFromScore]: pavg=0.470671 -> initscore=-0.117452\n",
            "[LightGBM] [Info] Start training from score -0.117452\n"
          ]
        },
        {
          "name": "stderr",
          "output_type": "stream",
          "text": [
            "[I 2024-09-20 04:07:44,560] Trial 250 finished with value: 0.6880487698394506 and parameters: {'rf_n_estimators': 284, 'rf_max_depth': 25, 'rf_min_samples_split': 2, 'xgb_n_estimators': 243, 'xgb_learning_rate': 0.07086574087770514, 'xgb_max_depth': 9, 'lgbm_n_estimators': 156, 'lgbm_learning_rate': 0.6651568442487678, 'lgbm_num_leaves': 46}. Best is trial 40 with value: 0.7109753023947039.\n",
            "/var/folders/0h/6t5rrrkd413d6v0z43zmchmm0000gn/T/ipykernel_38998/847976484.py:48: FutureWarning:\n",
            "\n",
            "suggest_loguniform has been deprecated in v3.0.0. This feature will be removed in v6.0.0. See https://github.com/optuna/optuna/releases/tag/v3.0.0. Use suggest_float(..., log=True) instead.\n",
            "\n",
            "/var/folders/0h/6t5rrrkd413d6v0z43zmchmm0000gn/T/ipykernel_38998/847976484.py:54: FutureWarning:\n",
            "\n",
            "suggest_loguniform has been deprecated in v3.0.0. This feature will be removed in v6.0.0. See https://github.com/optuna/optuna/releases/tag/v3.0.0. Use suggest_float(..., log=True) instead.\n",
            "\n"
          ]
        },
        {
          "name": "stdout",
          "output_type": "stream",
          "text": [
            "[LightGBM] [Info] Number of positive: 3362, number of negative: 3781\n",
            "[LightGBM] [Info] Auto-choosing row-wise multi-threading, the overhead of testing was 0.000854 seconds.\n",
            "You can set `force_row_wise=true` to remove the overhead.\n",
            "And if memory is not enough, you can set `force_col_wise=true`.\n",
            "[LightGBM] [Info] Total Bins 733\n",
            "[LightGBM] [Info] Number of data points in the train set: 7143, number of used features: 41\n",
            "[LightGBM] [Info] [binary:BoostFromScore]: pavg=0.470671 -> initscore=-0.117452\n",
            "[LightGBM] [Info] Start training from score -0.117452\n"
          ]
        },
        {
          "name": "stderr",
          "output_type": "stream",
          "text": [
            "[I 2024-09-20 04:07:48,746] Trial 251 finished with value: 0.704085085846828 and parameters: {'rf_n_estimators': 274, 'rf_max_depth': 25, 'rf_min_samples_split': 2, 'xgb_n_estimators': 242, 'xgb_learning_rate': 0.09871457607675112, 'xgb_max_depth': 9, 'lgbm_n_estimators': 178, 'lgbm_learning_rate': 0.7538157771626123, 'lgbm_num_leaves': 42}. Best is trial 40 with value: 0.7109753023947039.\n",
            "/var/folders/0h/6t5rrrkd413d6v0z43zmchmm0000gn/T/ipykernel_38998/847976484.py:48: FutureWarning:\n",
            "\n",
            "suggest_loguniform has been deprecated in v3.0.0. This feature will be removed in v6.0.0. See https://github.com/optuna/optuna/releases/tag/v3.0.0. Use suggest_float(..., log=True) instead.\n",
            "\n",
            "/var/folders/0h/6t5rrrkd413d6v0z43zmchmm0000gn/T/ipykernel_38998/847976484.py:54: FutureWarning:\n",
            "\n",
            "suggest_loguniform has been deprecated in v3.0.0. This feature will be removed in v6.0.0. See https://github.com/optuna/optuna/releases/tag/v3.0.0. Use suggest_float(..., log=True) instead.\n",
            "\n"
          ]
        },
        {
          "name": "stdout",
          "output_type": "stream",
          "text": [
            "[LightGBM] [Info] Number of positive: 3362, number of negative: 3781\n",
            "[LightGBM] [Info] Auto-choosing row-wise multi-threading, the overhead of testing was 0.000862 seconds.\n",
            "You can set `force_row_wise=true` to remove the overhead.\n",
            "And if memory is not enough, you can set `force_col_wise=true`.\n",
            "[LightGBM] [Info] Total Bins 733\n",
            "[LightGBM] [Info] Number of data points in the train set: 7143, number of used features: 41\n",
            "[LightGBM] [Info] [binary:BoostFromScore]: pavg=0.470671 -> initscore=-0.117452\n",
            "[LightGBM] [Info] Start training from score -0.117452\n"
          ]
        },
        {
          "name": "stderr",
          "output_type": "stream",
          "text": [
            "[I 2024-09-20 04:07:52,144] Trial 252 finished with value: 0.6990184415222711 and parameters: {'rf_n_estimators': 109, 'rf_max_depth': 24, 'rf_min_samples_split': 2, 'xgb_n_estimators': 236, 'xgb_learning_rate': 0.11484141889204581, 'xgb_max_depth': 9, 'lgbm_n_estimators': 270, 'lgbm_learning_rate': 0.5701555413105109, 'lgbm_num_leaves': 43}. Best is trial 40 with value: 0.7109753023947039.\n",
            "/var/folders/0h/6t5rrrkd413d6v0z43zmchmm0000gn/T/ipykernel_38998/847976484.py:48: FutureWarning:\n",
            "\n",
            "suggest_loguniform has been deprecated in v3.0.0. This feature will be removed in v6.0.0. See https://github.com/optuna/optuna/releases/tag/v3.0.0. Use suggest_float(..., log=True) instead.\n",
            "\n",
            "/var/folders/0h/6t5rrrkd413d6v0z43zmchmm0000gn/T/ipykernel_38998/847976484.py:54: FutureWarning:\n",
            "\n",
            "suggest_loguniform has been deprecated in v3.0.0. This feature will be removed in v6.0.0. See https://github.com/optuna/optuna/releases/tag/v3.0.0. Use suggest_float(..., log=True) instead.\n",
            "\n"
          ]
        },
        {
          "name": "stdout",
          "output_type": "stream",
          "text": [
            "[LightGBM] [Info] Number of positive: 3362, number of negative: 3781\n",
            "[LightGBM] [Info] Auto-choosing row-wise multi-threading, the overhead of testing was 0.000854 seconds.\n",
            "You can set `force_row_wise=true` to remove the overhead.\n",
            "And if memory is not enough, you can set `force_col_wise=true`.\n",
            "[LightGBM] [Info] Total Bins 733\n",
            "[LightGBM] [Info] Number of data points in the train set: 7143, number of used features: 41\n",
            "[LightGBM] [Info] [binary:BoostFromScore]: pavg=0.470671 -> initscore=-0.117452\n",
            "[LightGBM] [Info] Start training from score -0.117452\n"
          ]
        },
        {
          "name": "stderr",
          "output_type": "stream",
          "text": [
            "[I 2024-09-20 04:07:55,009] Trial 253 finished with value: 0.7033140800912365 and parameters: {'rf_n_estimators': 130, 'rf_max_depth': 25, 'rf_min_samples_split': 2, 'xgb_n_estimators': 227, 'xgb_learning_rate': 0.07283492786282902, 'xgb_max_depth': 9, 'lgbm_n_estimators': 167, 'lgbm_learning_rate': 0.2954590835060836, 'lgbm_num_leaves': 41}. Best is trial 40 with value: 0.7109753023947039.\n",
            "/var/folders/0h/6t5rrrkd413d6v0z43zmchmm0000gn/T/ipykernel_38998/847976484.py:48: FutureWarning:\n",
            "\n",
            "suggest_loguniform has been deprecated in v3.0.0. This feature will be removed in v6.0.0. See https://github.com/optuna/optuna/releases/tag/v3.0.0. Use suggest_float(..., log=True) instead.\n",
            "\n",
            "/var/folders/0h/6t5rrrkd413d6v0z43zmchmm0000gn/T/ipykernel_38998/847976484.py:54: FutureWarning:\n",
            "\n",
            "suggest_loguniform has been deprecated in v3.0.0. This feature will be removed in v6.0.0. See https://github.com/optuna/optuna/releases/tag/v3.0.0. Use suggest_float(..., log=True) instead.\n",
            "\n"
          ]
        },
        {
          "name": "stdout",
          "output_type": "stream",
          "text": [
            "[LightGBM] [Info] Number of positive: 3362, number of negative: 3781\n",
            "[LightGBM] [Info] Auto-choosing row-wise multi-threading, the overhead of testing was 0.000848 seconds.\n",
            "You can set `force_row_wise=true` to remove the overhead.\n",
            "And if memory is not enough, you can set `force_col_wise=true`.\n",
            "[LightGBM] [Info] Total Bins 733\n",
            "[LightGBM] [Info] Number of data points in the train set: 7143, number of used features: 41\n",
            "[LightGBM] [Info] [binary:BoostFromScore]: pavg=0.470671 -> initscore=-0.117452\n",
            "[LightGBM] [Info] Start training from score -0.117452\n"
          ]
        },
        {
          "name": "stderr",
          "output_type": "stream",
          "text": [
            "[I 2024-09-20 04:07:57,999] Trial 254 finished with value: 0.6940557584543443 and parameters: {'rf_n_estimators': 125, 'rf_max_depth': 19, 'rf_min_samples_split': 2, 'xgb_n_estimators': 247, 'xgb_learning_rate': 0.4057900008970046, 'xgb_max_depth': 9, 'lgbm_n_estimators': 172, 'lgbm_learning_rate': 0.4170574692417186, 'lgbm_num_leaves': 44}. Best is trial 40 with value: 0.7109753023947039.\n",
            "/var/folders/0h/6t5rrrkd413d6v0z43zmchmm0000gn/T/ipykernel_38998/847976484.py:48: FutureWarning:\n",
            "\n",
            "suggest_loguniform has been deprecated in v3.0.0. This feature will be removed in v6.0.0. See https://github.com/optuna/optuna/releases/tag/v3.0.0. Use suggest_float(..., log=True) instead.\n",
            "\n",
            "/var/folders/0h/6t5rrrkd413d6v0z43zmchmm0000gn/T/ipykernel_38998/847976484.py:54: FutureWarning:\n",
            "\n",
            "suggest_loguniform has been deprecated in v3.0.0. This feature will be removed in v6.0.0. See https://github.com/optuna/optuna/releases/tag/v3.0.0. Use suggest_float(..., log=True) instead.\n",
            "\n"
          ]
        },
        {
          "name": "stdout",
          "output_type": "stream",
          "text": [
            "[LightGBM] [Info] Number of positive: 3362, number of negative: 3781\n",
            "[LightGBM] [Info] Auto-choosing row-wise multi-threading, the overhead of testing was 0.000926 seconds.\n",
            "You can set `force_row_wise=true` to remove the overhead.\n",
            "And if memory is not enough, you can set `force_col_wise=true`.\n",
            "[LightGBM] [Info] Total Bins 733\n",
            "[LightGBM] [Info] Number of data points in the train set: 7143, number of used features: 41\n",
            "[LightGBM] [Info] [binary:BoostFromScore]: pavg=0.470671 -> initscore=-0.117452\n",
            "[LightGBM] [Info] Start training from score -0.117452\n"
          ]
        },
        {
          "name": "stderr",
          "output_type": "stream",
          "text": [
            "[I 2024-09-20 04:08:02,448] Trial 255 finished with value: 0.70133583610145 and parameters: {'rf_n_estimators': 289, 'rf_max_depth': 26, 'rf_min_samples_split': 2, 'xgb_n_estimators': 238, 'xgb_learning_rate': 0.08673245516886022, 'xgb_max_depth': 9, 'lgbm_n_estimators': 160, 'lgbm_learning_rate': 0.5440155281265535, 'lgbm_num_leaves': 40}. Best is trial 40 with value: 0.7109753023947039.\n",
            "/var/folders/0h/6t5rrrkd413d6v0z43zmchmm0000gn/T/ipykernel_38998/847976484.py:48: FutureWarning:\n",
            "\n",
            "suggest_loguniform has been deprecated in v3.0.0. This feature will be removed in v6.0.0. See https://github.com/optuna/optuna/releases/tag/v3.0.0. Use suggest_float(..., log=True) instead.\n",
            "\n",
            "/var/folders/0h/6t5rrrkd413d6v0z43zmchmm0000gn/T/ipykernel_38998/847976484.py:54: FutureWarning:\n",
            "\n",
            "suggest_loguniform has been deprecated in v3.0.0. This feature will be removed in v6.0.0. See https://github.com/optuna/optuna/releases/tag/v3.0.0. Use suggest_float(..., log=True) instead.\n",
            "\n"
          ]
        },
        {
          "name": "stdout",
          "output_type": "stream",
          "text": [
            "[LightGBM] [Info] Number of positive: 3362, number of negative: 3781\n",
            "[LightGBM] [Info] Auto-choosing row-wise multi-threading, the overhead of testing was 0.001122 seconds.\n",
            "You can set `force_row_wise=true` to remove the overhead.\n",
            "And if memory is not enough, you can set `force_col_wise=true`.\n",
            "[LightGBM] [Info] Total Bins 733\n",
            "[LightGBM] [Info] Number of data points in the train set: 7143, number of used features: 41\n",
            "[LightGBM] [Info] [binary:BoostFromScore]: pavg=0.470671 -> initscore=-0.117452\n",
            "[LightGBM] [Info] Start training from score -0.117452\n"
          ]
        },
        {
          "name": "stderr",
          "output_type": "stream",
          "text": [
            "[I 2024-09-20 04:08:07,426] Trial 256 finished with value: 0.7060152758411411 and parameters: {'rf_n_estimators': 280, 'rf_max_depth': 24, 'rf_min_samples_split': 2, 'xgb_n_estimators': 260, 'xgb_learning_rate': 0.10490873781680478, 'xgb_max_depth': 9, 'lgbm_n_estimators': 277, 'lgbm_learning_rate': 0.6711299262896203, 'lgbm_num_leaves': 38}. Best is trial 40 with value: 0.7109753023947039.\n",
            "/var/folders/0h/6t5rrrkd413d6v0z43zmchmm0000gn/T/ipykernel_38998/847976484.py:48: FutureWarning:\n",
            "\n",
            "suggest_loguniform has been deprecated in v3.0.0. This feature will be removed in v6.0.0. See https://github.com/optuna/optuna/releases/tag/v3.0.0. Use suggest_float(..., log=True) instead.\n",
            "\n",
            "/var/folders/0h/6t5rrrkd413d6v0z43zmchmm0000gn/T/ipykernel_38998/847976484.py:54: FutureWarning:\n",
            "\n",
            "suggest_loguniform has been deprecated in v3.0.0. This feature will be removed in v6.0.0. See https://github.com/optuna/optuna/releases/tag/v3.0.0. Use suggest_float(..., log=True) instead.\n",
            "\n"
          ]
        },
        {
          "name": "stdout",
          "output_type": "stream",
          "text": [
            "[LightGBM] [Info] Number of positive: 3362, number of negative: 3781\n",
            "[LightGBM] [Info] Auto-choosing row-wise multi-threading, the overhead of testing was 0.001005 seconds.\n",
            "You can set `force_row_wise=true` to remove the overhead.\n",
            "And if memory is not enough, you can set `force_col_wise=true`.\n",
            "[LightGBM] [Info] Total Bins 733\n",
            "[LightGBM] [Info] Number of data points in the train set: 7143, number of used features: 41\n",
            "[LightGBM] [Info] [binary:BoostFromScore]: pavg=0.470671 -> initscore=-0.117452\n",
            "[LightGBM] [Info] Start training from score -0.117452\n"
          ]
        },
        {
          "name": "stderr",
          "output_type": "stream",
          "text": [
            "[I 2024-09-20 04:08:12,202] Trial 257 finished with value: 0.7118772960901607 and parameters: {'rf_n_estimators': 270, 'rf_max_depth': 24, 'rf_min_samples_split': 2, 'xgb_n_estimators': 259, 'xgb_learning_rate': 0.1151624266616914, 'xgb_max_depth': 9, 'lgbm_n_estimators': 283, 'lgbm_learning_rate': 0.3532886871217311, 'lgbm_num_leaves': 37}. Best is trial 257 with value: 0.7118772960901607.\n",
            "/var/folders/0h/6t5rrrkd413d6v0z43zmchmm0000gn/T/ipykernel_38998/847976484.py:48: FutureWarning:\n",
            "\n",
            "suggest_loguniform has been deprecated in v3.0.0. This feature will be removed in v6.0.0. See https://github.com/optuna/optuna/releases/tag/v3.0.0. Use suggest_float(..., log=True) instead.\n",
            "\n",
            "/var/folders/0h/6t5rrrkd413d6v0z43zmchmm0000gn/T/ipykernel_38998/847976484.py:54: FutureWarning:\n",
            "\n",
            "suggest_loguniform has been deprecated in v3.0.0. This feature will be removed in v6.0.0. See https://github.com/optuna/optuna/releases/tag/v3.0.0. Use suggest_float(..., log=True) instead.\n",
            "\n"
          ]
        },
        {
          "name": "stdout",
          "output_type": "stream",
          "text": [
            "[LightGBM] [Info] Number of positive: 3362, number of negative: 3781\n",
            "[LightGBM] [Info] Auto-choosing row-wise multi-threading, the overhead of testing was 0.000854 seconds.\n",
            "You can set `force_row_wise=true` to remove the overhead.\n",
            "And if memory is not enough, you can set `force_col_wise=true`.\n",
            "[LightGBM] [Info] Total Bins 733\n",
            "[LightGBM] [Info] Number of data points in the train set: 7143, number of used features: 41\n",
            "[LightGBM] [Info] [binary:BoostFromScore]: pavg=0.470671 -> initscore=-0.117452\n",
            "[LightGBM] [Info] Start training from score -0.117452\n"
          ]
        },
        {
          "name": "stderr",
          "output_type": "stream",
          "text": [
            "[I 2024-09-20 04:08:16,880] Trial 258 finished with value: 0.7064448479081915 and parameters: {'rf_n_estimators': 273, 'rf_max_depth': 24, 'rf_min_samples_split': 2, 'xgb_n_estimators': 260, 'xgb_learning_rate': 0.10551379289994661, 'xgb_max_depth': 9, 'lgbm_n_estimators': 284, 'lgbm_learning_rate': 0.35284589106504216, 'lgbm_num_leaves': 37}. Best is trial 257 with value: 0.7118772960901607.\n",
            "/var/folders/0h/6t5rrrkd413d6v0z43zmchmm0000gn/T/ipykernel_38998/847976484.py:48: FutureWarning:\n",
            "\n",
            "suggest_loguniform has been deprecated in v3.0.0. This feature will be removed in v6.0.0. See https://github.com/optuna/optuna/releases/tag/v3.0.0. Use suggest_float(..., log=True) instead.\n",
            "\n",
            "/var/folders/0h/6t5rrrkd413d6v0z43zmchmm0000gn/T/ipykernel_38998/847976484.py:54: FutureWarning:\n",
            "\n",
            "suggest_loguniform has been deprecated in v3.0.0. This feature will be removed in v6.0.0. See https://github.com/optuna/optuna/releases/tag/v3.0.0. Use suggest_float(..., log=True) instead.\n",
            "\n"
          ]
        },
        {
          "name": "stdout",
          "output_type": "stream",
          "text": [
            "[LightGBM] [Info] Number of positive: 3362, number of negative: 3781\n",
            "[LightGBM] [Info] Auto-choosing row-wise multi-threading, the overhead of testing was 0.000694 seconds.\n",
            "You can set `force_row_wise=true` to remove the overhead.\n",
            "And if memory is not enough, you can set `force_col_wise=true`.\n",
            "[LightGBM] [Info] Total Bins 733\n",
            "[LightGBM] [Info] Number of data points in the train set: 7143, number of used features: 41\n",
            "[LightGBM] [Info] [binary:BoostFromScore]: pavg=0.470671 -> initscore=-0.117452\n",
            "[LightGBM] [Info] Start training from score -0.117452\n"
          ]
        },
        {
          "name": "stderr",
          "output_type": "stream",
          "text": [
            "[I 2024-09-20 04:08:21,820] Trial 259 finished with value: 0.7117202304270024 and parameters: {'rf_n_estimators': 279, 'rf_max_depth': 24, 'rf_min_samples_split': 2, 'xgb_n_estimators': 259, 'xgb_learning_rate': 0.1044615619931173, 'xgb_max_depth': 9, 'lgbm_n_estimators': 281, 'lgbm_learning_rate': 0.26707837171535664, 'lgbm_num_leaves': 39}. Best is trial 257 with value: 0.7118772960901607.\n",
            "/var/folders/0h/6t5rrrkd413d6v0z43zmchmm0000gn/T/ipykernel_38998/847976484.py:48: FutureWarning:\n",
            "\n",
            "suggest_loguniform has been deprecated in v3.0.0. This feature will be removed in v6.0.0. See https://github.com/optuna/optuna/releases/tag/v3.0.0. Use suggest_float(..., log=True) instead.\n",
            "\n",
            "/var/folders/0h/6t5rrrkd413d6v0z43zmchmm0000gn/T/ipykernel_38998/847976484.py:54: FutureWarning:\n",
            "\n",
            "suggest_loguniform has been deprecated in v3.0.0. This feature will be removed in v6.0.0. See https://github.com/optuna/optuna/releases/tag/v3.0.0. Use suggest_float(..., log=True) instead.\n",
            "\n"
          ]
        },
        {
          "name": "stdout",
          "output_type": "stream",
          "text": [
            "[LightGBM] [Info] Number of positive: 3362, number of negative: 3781\n",
            "[LightGBM] [Info] Auto-choosing row-wise multi-threading, the overhead of testing was 0.000849 seconds.\n",
            "You can set `force_row_wise=true` to remove the overhead.\n",
            "And if memory is not enough, you can set `force_col_wise=true`.\n",
            "[LightGBM] [Info] Total Bins 733\n",
            "[LightGBM] [Info] Number of data points in the train set: 7143, number of used features: 41\n",
            "[LightGBM] [Info] [binary:BoostFromScore]: pavg=0.470671 -> initscore=-0.117452\n",
            "[LightGBM] [Info] Start training from score -0.117452\n"
          ]
        },
        {
          "name": "stderr",
          "output_type": "stream",
          "text": [
            "[I 2024-09-20 04:08:26,656] Trial 260 finished with value: 0.7055487191356253 and parameters: {'rf_n_estimators': 279, 'rf_max_depth': 24, 'rf_min_samples_split': 2, 'xgb_n_estimators': 259, 'xgb_learning_rate': 0.10404426336533518, 'xgb_max_depth': 9, 'lgbm_n_estimators': 288, 'lgbm_learning_rate': 0.245611138820459, 'lgbm_num_leaves': 37}. Best is trial 257 with value: 0.7118772960901607.\n",
            "/var/folders/0h/6t5rrrkd413d6v0z43zmchmm0000gn/T/ipykernel_38998/847976484.py:48: FutureWarning:\n",
            "\n",
            "suggest_loguniform has been deprecated in v3.0.0. This feature will be removed in v6.0.0. See https://github.com/optuna/optuna/releases/tag/v3.0.0. Use suggest_float(..., log=True) instead.\n",
            "\n",
            "/var/folders/0h/6t5rrrkd413d6v0z43zmchmm0000gn/T/ipykernel_38998/847976484.py:54: FutureWarning:\n",
            "\n",
            "suggest_loguniform has been deprecated in v3.0.0. This feature will be removed in v6.0.0. See https://github.com/optuna/optuna/releases/tag/v3.0.0. Use suggest_float(..., log=True) instead.\n",
            "\n"
          ]
        },
        {
          "name": "stdout",
          "output_type": "stream",
          "text": [
            "[LightGBM] [Info] Number of positive: 3362, number of negative: 3781\n",
            "[LightGBM] [Info] Auto-choosing row-wise multi-threading, the overhead of testing was 0.000862 seconds.\n",
            "You can set `force_row_wise=true` to remove the overhead.\n",
            "And if memory is not enough, you can set `force_col_wise=true`.\n",
            "[LightGBM] [Info] Total Bins 733\n",
            "[LightGBM] [Info] Number of data points in the train set: 7143, number of used features: 41\n",
            "[LightGBM] [Info] [binary:BoostFromScore]: pavg=0.470671 -> initscore=-0.117452\n",
            "[LightGBM] [Info] Start training from score -0.117452\n"
          ]
        },
        {
          "name": "stderr",
          "output_type": "stream",
          "text": [
            "[I 2024-09-20 04:08:31,741] Trial 261 finished with value: 0.7014301249970487 and parameters: {'rf_n_estimators': 263, 'rf_max_depth': 24, 'rf_min_samples_split': 2, 'xgb_n_estimators': 259, 'xgb_learning_rate': 0.10880267567409521, 'xgb_max_depth': 9, 'lgbm_n_estimators': 294, 'lgbm_learning_rate': 0.33250452104456113, 'lgbm_num_leaves': 38}. Best is trial 257 with value: 0.7118772960901607.\n",
            "/var/folders/0h/6t5rrrkd413d6v0z43zmchmm0000gn/T/ipykernel_38998/847976484.py:48: FutureWarning:\n",
            "\n",
            "suggest_loguniform has been deprecated in v3.0.0. This feature will be removed in v6.0.0. See https://github.com/optuna/optuna/releases/tag/v3.0.0. Use suggest_float(..., log=True) instead.\n",
            "\n",
            "/var/folders/0h/6t5rrrkd413d6v0z43zmchmm0000gn/T/ipykernel_38998/847976484.py:54: FutureWarning:\n",
            "\n",
            "suggest_loguniform has been deprecated in v3.0.0. This feature will be removed in v6.0.0. See https://github.com/optuna/optuna/releases/tag/v3.0.0. Use suggest_float(..., log=True) instead.\n",
            "\n"
          ]
        },
        {
          "name": "stdout",
          "output_type": "stream",
          "text": [
            "[LightGBM] [Info] Number of positive: 3362, number of negative: 3781\n",
            "[LightGBM] [Info] Auto-choosing row-wise multi-threading, the overhead of testing was 0.001055 seconds.\n",
            "You can set `force_row_wise=true` to remove the overhead.\n",
            "And if memory is not enough, you can set `force_col_wise=true`.\n",
            "[LightGBM] [Info] Total Bins 733\n",
            "[LightGBM] [Info] Number of data points in the train set: 7143, number of used features: 41\n",
            "[LightGBM] [Info] [binary:BoostFromScore]: pavg=0.470671 -> initscore=-0.117452\n",
            "[LightGBM] [Info] Start training from score -0.117452\n"
          ]
        },
        {
          "name": "stderr",
          "output_type": "stream",
          "text": [
            "[I 2024-09-20 04:08:34,982] Trial 262 finished with value: 0.7065429953679809 and parameters: {'rf_n_estimators': 91, 'rf_max_depth': 25, 'rf_min_samples_split': 2, 'xgb_n_estimators': 254, 'xgb_learning_rate': 0.09721487140093495, 'xgb_max_depth': 9, 'lgbm_n_estimators': 285, 'lgbm_learning_rate': 0.10519450551119208, 'lgbm_num_leaves': 35}. Best is trial 257 with value: 0.7118772960901607.\n",
            "/var/folders/0h/6t5rrrkd413d6v0z43zmchmm0000gn/T/ipykernel_38998/847976484.py:48: FutureWarning:\n",
            "\n",
            "suggest_loguniform has been deprecated in v3.0.0. This feature will be removed in v6.0.0. See https://github.com/optuna/optuna/releases/tag/v3.0.0. Use suggest_float(..., log=True) instead.\n",
            "\n",
            "/var/folders/0h/6t5rrrkd413d6v0z43zmchmm0000gn/T/ipykernel_38998/847976484.py:54: FutureWarning:\n",
            "\n",
            "suggest_loguniform has been deprecated in v3.0.0. This feature will be removed in v6.0.0. See https://github.com/optuna/optuna/releases/tag/v3.0.0. Use suggest_float(..., log=True) instead.\n",
            "\n"
          ]
        },
        {
          "name": "stdout",
          "output_type": "stream",
          "text": [
            "[LightGBM] [Info] Number of positive: 3362, number of negative: 3781\n",
            "[LightGBM] [Info] Auto-choosing row-wise multi-threading, the overhead of testing was 0.000874 seconds.\n",
            "You can set `force_row_wise=true` to remove the overhead.\n",
            "And if memory is not enough, you can set `force_col_wise=true`.\n",
            "[LightGBM] [Info] Total Bins 733\n",
            "[LightGBM] [Info] Number of data points in the train set: 7143, number of used features: 41\n",
            "[LightGBM] [Info] [binary:BoostFromScore]: pavg=0.470671 -> initscore=-0.117452\n",
            "[LightGBM] [Info] Start training from score -0.117452\n"
          ]
        },
        {
          "name": "stderr",
          "output_type": "stream",
          "text": [
            "[I 2024-09-20 04:08:38,206] Trial 263 finished with value: 0.7028633150987288 and parameters: {'rf_n_estimators': 93, 'rf_max_depth': 26, 'rf_min_samples_split': 2, 'xgb_n_estimators': 253, 'xgb_learning_rate': 0.08021931683052981, 'xgb_max_depth': 9, 'lgbm_n_estimators': 291, 'lgbm_learning_rate': 0.17943565776012677, 'lgbm_num_leaves': 36}. Best is trial 257 with value: 0.7118772960901607.\n",
            "/var/folders/0h/6t5rrrkd413d6v0z43zmchmm0000gn/T/ipykernel_38998/847976484.py:48: FutureWarning:\n",
            "\n",
            "suggest_loguniform has been deprecated in v3.0.0. This feature will be removed in v6.0.0. See https://github.com/optuna/optuna/releases/tag/v3.0.0. Use suggest_float(..., log=True) instead.\n",
            "\n",
            "/var/folders/0h/6t5rrrkd413d6v0z43zmchmm0000gn/T/ipykernel_38998/847976484.py:54: FutureWarning:\n",
            "\n",
            "suggest_loguniform has been deprecated in v3.0.0. This feature will be removed in v6.0.0. See https://github.com/optuna/optuna/releases/tag/v3.0.0. Use suggest_float(..., log=True) instead.\n",
            "\n"
          ]
        },
        {
          "name": "stdout",
          "output_type": "stream",
          "text": [
            "[LightGBM] [Info] Number of positive: 3362, number of negative: 3781\n",
            "[LightGBM] [Info] Auto-choosing row-wise multi-threading, the overhead of testing was 0.001018 seconds.\n",
            "You can set `force_row_wise=true` to remove the overhead.\n",
            "And if memory is not enough, you can set `force_col_wise=true`.\n",
            "[LightGBM] [Info] Total Bins 733\n",
            "[LightGBM] [Info] Number of data points in the train set: 7143, number of used features: 41\n",
            "[LightGBM] [Info] [binary:BoostFromScore]: pavg=0.470671 -> initscore=-0.117452\n",
            "[LightGBM] [Info] Start training from score -0.117452\n"
          ]
        },
        {
          "name": "stderr",
          "output_type": "stream",
          "text": [
            "[I 2024-09-20 04:08:41,711] Trial 264 finished with value: 0.7025726324853662 and parameters: {'rf_n_estimators': 79, 'rf_max_depth': 25, 'rf_min_samples_split': 2, 'xgb_n_estimators': 255, 'xgb_learning_rate': 0.09437293352370138, 'xgb_max_depth': 9, 'lgbm_n_estimators': 286, 'lgbm_learning_rate': 0.08985211664615583, 'lgbm_num_leaves': 36}. Best is trial 257 with value: 0.7118772960901607.\n",
            "/var/folders/0h/6t5rrrkd413d6v0z43zmchmm0000gn/T/ipykernel_38998/847976484.py:48: FutureWarning:\n",
            "\n",
            "suggest_loguniform has been deprecated in v3.0.0. This feature will be removed in v6.0.0. See https://github.com/optuna/optuna/releases/tag/v3.0.0. Use suggest_float(..., log=True) instead.\n",
            "\n",
            "/var/folders/0h/6t5rrrkd413d6v0z43zmchmm0000gn/T/ipykernel_38998/847976484.py:54: FutureWarning:\n",
            "\n",
            "suggest_loguniform has been deprecated in v3.0.0. This feature will be removed in v6.0.0. See https://github.com/optuna/optuna/releases/tag/v3.0.0. Use suggest_float(..., log=True) instead.\n",
            "\n"
          ]
        },
        {
          "name": "stdout",
          "output_type": "stream",
          "text": [
            "[LightGBM] [Info] Number of positive: 3362, number of negative: 3781\n",
            "[LightGBM] [Info] Auto-choosing row-wise multi-threading, the overhead of testing was 0.000964 seconds.\n",
            "You can set `force_row_wise=true` to remove the overhead.\n",
            "And if memory is not enough, you can set `force_col_wise=true`.\n",
            "[LightGBM] [Info] Total Bins 733\n",
            "[LightGBM] [Info] Number of data points in the train set: 7143, number of used features: 41\n",
            "[LightGBM] [Info] [binary:BoostFromScore]: pavg=0.470671 -> initscore=-0.117452\n",
            "[LightGBM] [Info] Start training from score -0.117452\n"
          ]
        },
        {
          "name": "stderr",
          "output_type": "stream",
          "text": [
            "[I 2024-09-20 04:08:46,691] Trial 265 finished with value: 0.6969244644841364 and parameters: {'rf_n_estimators': 267, 'rf_max_depth': 25, 'rf_min_samples_split': 2, 'xgb_n_estimators': 262, 'xgb_learning_rate': 0.00955455429342343, 'xgb_max_depth': 9, 'lgbm_n_estimators': 283, 'lgbm_learning_rate': 0.28397643442576304, 'lgbm_num_leaves': 35}. Best is trial 257 with value: 0.7118772960901607.\n",
            "/var/folders/0h/6t5rrrkd413d6v0z43zmchmm0000gn/T/ipykernel_38998/847976484.py:48: FutureWarning:\n",
            "\n",
            "suggest_loguniform has been deprecated in v3.0.0. This feature will be removed in v6.0.0. See https://github.com/optuna/optuna/releases/tag/v3.0.0. Use suggest_float(..., log=True) instead.\n",
            "\n",
            "/var/folders/0h/6t5rrrkd413d6v0z43zmchmm0000gn/T/ipykernel_38998/847976484.py:54: FutureWarning:\n",
            "\n",
            "suggest_loguniform has been deprecated in v3.0.0. This feature will be removed in v6.0.0. See https://github.com/optuna/optuna/releases/tag/v3.0.0. Use suggest_float(..., log=True) instead.\n",
            "\n"
          ]
        },
        {
          "name": "stdout",
          "output_type": "stream",
          "text": [
            "[LightGBM] [Info] Number of positive: 3362, number of negative: 3781\n",
            "[LightGBM] [Info] Auto-choosing row-wise multi-threading, the overhead of testing was 0.000955 seconds.\n",
            "You can set `force_row_wise=true` to remove the overhead.\n",
            "And if memory is not enough, you can set `force_col_wise=true`.\n",
            "[LightGBM] [Info] Total Bins 733\n",
            "[LightGBM] [Info] Number of data points in the train set: 7143, number of used features: 41\n",
            "[LightGBM] [Info] [binary:BoostFromScore]: pavg=0.470671 -> initscore=-0.117452\n",
            "[LightGBM] [Info] Start training from score -0.117452\n"
          ]
        },
        {
          "name": "stderr",
          "output_type": "stream",
          "text": [
            "[I 2024-09-20 04:08:49,756] Trial 266 finished with value: 0.6985114014222561 and parameters: {'rf_n_estimators': 69, 'rf_max_depth': 25, 'rf_min_samples_split': 2, 'xgb_n_estimators': 266, 'xgb_learning_rate': 0.09697336894432543, 'xgb_max_depth': 9, 'lgbm_n_estimators': 286, 'lgbm_learning_rate': 0.2066235490442418, 'lgbm_num_leaves': 34}. Best is trial 257 with value: 0.7118772960901607.\n",
            "/var/folders/0h/6t5rrrkd413d6v0z43zmchmm0000gn/T/ipykernel_38998/847976484.py:48: FutureWarning:\n",
            "\n",
            "suggest_loguniform has been deprecated in v3.0.0. This feature will be removed in v6.0.0. See https://github.com/optuna/optuna/releases/tag/v3.0.0. Use suggest_float(..., log=True) instead.\n",
            "\n",
            "/var/folders/0h/6t5rrrkd413d6v0z43zmchmm0000gn/T/ipykernel_38998/847976484.py:54: FutureWarning:\n",
            "\n",
            "suggest_loguniform has been deprecated in v3.0.0. This feature will be removed in v6.0.0. See https://github.com/optuna/optuna/releases/tag/v3.0.0. Use suggest_float(..., log=True) instead.\n",
            "\n"
          ]
        },
        {
          "name": "stdout",
          "output_type": "stream",
          "text": [
            "[LightGBM] [Info] Number of positive: 3362, number of negative: 3781\n",
            "[LightGBM] [Info] Auto-choosing row-wise multi-threading, the overhead of testing was 0.000847 seconds.\n",
            "You can set `force_row_wise=true` to remove the overhead.\n",
            "And if memory is not enough, you can set `force_col_wise=true`.\n",
            "[LightGBM] [Info] Total Bins 733\n",
            "[LightGBM] [Info] Number of data points in the train set: 7143, number of used features: 41\n",
            "[LightGBM] [Info] [binary:BoostFromScore]: pavg=0.470671 -> initscore=-0.117452\n",
            "[LightGBM] [Info] Start training from score -0.117452\n"
          ]
        },
        {
          "name": "stderr",
          "output_type": "stream",
          "text": [
            "[I 2024-09-20 04:08:52,827] Trial 267 finished with value: 0.6994590934927547 and parameters: {'rf_n_estimators': 88, 'rf_max_depth': 24, 'rf_min_samples_split': 2, 'xgb_n_estimators': 257, 'xgb_learning_rate': 0.0741810933081475, 'xgb_max_depth': 9, 'lgbm_n_estimators': 280, 'lgbm_learning_rate': 0.362260839185292, 'lgbm_num_leaves': 33}. Best is trial 257 with value: 0.7118772960901607.\n",
            "/var/folders/0h/6t5rrrkd413d6v0z43zmchmm0000gn/T/ipykernel_38998/847976484.py:48: FutureWarning:\n",
            "\n",
            "suggest_loguniform has been deprecated in v3.0.0. This feature will be removed in v6.0.0. See https://github.com/optuna/optuna/releases/tag/v3.0.0. Use suggest_float(..., log=True) instead.\n",
            "\n",
            "/var/folders/0h/6t5rrrkd413d6v0z43zmchmm0000gn/T/ipykernel_38998/847976484.py:54: FutureWarning:\n",
            "\n",
            "suggest_loguniform has been deprecated in v3.0.0. This feature will be removed in v6.0.0. See https://github.com/optuna/optuna/releases/tag/v3.0.0. Use suggest_float(..., log=True) instead.\n",
            "\n"
          ]
        },
        {
          "name": "stdout",
          "output_type": "stream",
          "text": [
            "[LightGBM] [Info] Number of positive: 3362, number of negative: 3781\n",
            "[LightGBM] [Info] Auto-choosing row-wise multi-threading, the overhead of testing was 0.000905 seconds.\n",
            "You can set `force_row_wise=true` to remove the overhead.\n",
            "And if memory is not enough, you can set `force_col_wise=true`.\n",
            "[LightGBM] [Info] Total Bins 733\n",
            "[LightGBM] [Info] Number of data points in the train set: 7143, number of used features: 41\n",
            "[LightGBM] [Info] [binary:BoostFromScore]: pavg=0.470671 -> initscore=-0.117452\n",
            "[LightGBM] [Info] Start training from score -0.117452\n"
          ]
        },
        {
          "name": "stderr",
          "output_type": "stream",
          "text": [
            "[I 2024-09-20 04:08:57,416] Trial 268 finished with value: 0.6999797822108148 and parameters: {'rf_n_estimators': 271, 'rf_max_depth': 26, 'rf_min_samples_split': 2, 'xgb_n_estimators': 251, 'xgb_learning_rate': 0.1208351965704772, 'xgb_max_depth': 9, 'lgbm_n_estimators': 275, 'lgbm_learning_rate': 0.4572761840260807, 'lgbm_num_leaves': 31}. Best is trial 257 with value: 0.7118772960901607.\n",
            "/var/folders/0h/6t5rrrkd413d6v0z43zmchmm0000gn/T/ipykernel_38998/847976484.py:48: FutureWarning:\n",
            "\n",
            "suggest_loguniform has been deprecated in v3.0.0. This feature will be removed in v6.0.0. See https://github.com/optuna/optuna/releases/tag/v3.0.0. Use suggest_float(..., log=True) instead.\n",
            "\n",
            "/var/folders/0h/6t5rrrkd413d6v0z43zmchmm0000gn/T/ipykernel_38998/847976484.py:54: FutureWarning:\n",
            "\n",
            "suggest_loguniform has been deprecated in v3.0.0. This feature will be removed in v6.0.0. See https://github.com/optuna/optuna/releases/tag/v3.0.0. Use suggest_float(..., log=True) instead.\n",
            "\n"
          ]
        },
        {
          "name": "stdout",
          "output_type": "stream",
          "text": [
            "[LightGBM] [Info] Number of positive: 3362, number of negative: 3781\n",
            "[LightGBM] [Info] Auto-choosing row-wise multi-threading, the overhead of testing was 0.000890 seconds.\n",
            "You can set `force_row_wise=true` to remove the overhead.\n",
            "And if memory is not enough, you can set `force_col_wise=true`.\n",
            "[LightGBM] [Info] Total Bins 733\n",
            "[LightGBM] [Info] Number of data points in the train set: 7143, number of used features: 41\n",
            "[LightGBM] [Info] [binary:BoostFromScore]: pavg=0.470671 -> initscore=-0.117452\n",
            "[LightGBM] [Info] Start training from score -0.117452\n"
          ]
        },
        {
          "name": "stderr",
          "output_type": "stream",
          "text": [
            "[I 2024-09-20 04:09:02,029] Trial 269 finished with value: 0.6949632461960813 and parameters: {'rf_n_estimators': 276, 'rf_max_depth': 24, 'rf_min_samples_split': 2, 'xgb_n_estimators': 178, 'xgb_learning_rate': 0.06072409937142518, 'xgb_max_depth': 9, 'lgbm_n_estimators': 280, 'lgbm_learning_rate': 0.09720231746088603, 'lgbm_num_leaves': 36}. Best is trial 257 with value: 0.7118772960901607.\n",
            "/var/folders/0h/6t5rrrkd413d6v0z43zmchmm0000gn/T/ipykernel_38998/847976484.py:48: FutureWarning:\n",
            "\n",
            "suggest_loguniform has been deprecated in v3.0.0. This feature will be removed in v6.0.0. See https://github.com/optuna/optuna/releases/tag/v3.0.0. Use suggest_float(..., log=True) instead.\n",
            "\n",
            "/var/folders/0h/6t5rrrkd413d6v0z43zmchmm0000gn/T/ipykernel_38998/847976484.py:54: FutureWarning:\n",
            "\n",
            "suggest_loguniform has been deprecated in v3.0.0. This feature will be removed in v6.0.0. See https://github.com/optuna/optuna/releases/tag/v3.0.0. Use suggest_float(..., log=True) instead.\n",
            "\n"
          ]
        },
        {
          "name": "stdout",
          "output_type": "stream",
          "text": [
            "[LightGBM] [Info] Number of positive: 3362, number of negative: 3781\n",
            "[LightGBM] [Info] Auto-choosing row-wise multi-threading, the overhead of testing was 0.001140 seconds.\n",
            "You can set `force_row_wise=true` to remove the overhead.\n",
            "And if memory is not enough, you can set `force_col_wise=true`.\n",
            "[LightGBM] [Info] Total Bins 733\n",
            "[LightGBM] [Info] Number of data points in the train set: 7143, number of used features: 41\n",
            "[LightGBM] [Info] [binary:BoostFromScore]: pavg=0.470671 -> initscore=-0.117452\n",
            "[LightGBM] [Info] Start training from score -0.117452\n"
          ]
        },
        {
          "name": "stderr",
          "output_type": "stream",
          "text": [
            "[I 2024-09-20 04:09:06,996] Trial 270 finished with value: 0.7021124833838731 and parameters: {'rf_n_estimators': 284, 'rf_max_depth': 25, 'rf_min_samples_split': 2, 'xgb_n_estimators': 265, 'xgb_learning_rate': 0.08517023441498664, 'xgb_max_depth': 10, 'lgbm_n_estimators': 283, 'lgbm_learning_rate': 0.32971372024744927, 'lgbm_num_leaves': 35}. Best is trial 257 with value: 0.7118772960901607.\n",
            "/var/folders/0h/6t5rrrkd413d6v0z43zmchmm0000gn/T/ipykernel_38998/847976484.py:48: FutureWarning:\n",
            "\n",
            "suggest_loguniform has been deprecated in v3.0.0. This feature will be removed in v6.0.0. See https://github.com/optuna/optuna/releases/tag/v3.0.0. Use suggest_float(..., log=True) instead.\n",
            "\n",
            "/var/folders/0h/6t5rrrkd413d6v0z43zmchmm0000gn/T/ipykernel_38998/847976484.py:54: FutureWarning:\n",
            "\n",
            "suggest_loguniform has been deprecated in v3.0.0. This feature will be removed in v6.0.0. See https://github.com/optuna/optuna/releases/tag/v3.0.0. Use suggest_float(..., log=True) instead.\n",
            "\n"
          ]
        },
        {
          "name": "stdout",
          "output_type": "stream",
          "text": [
            "[LightGBM] [Info] Number of positive: 3362, number of negative: 3781\n",
            "[LightGBM] [Info] Auto-choosing row-wise multi-threading, the overhead of testing was 0.001062 seconds.\n",
            "You can set `force_row_wise=true` to remove the overhead.\n",
            "And if memory is not enough, you can set `force_col_wise=true`.\n",
            "[LightGBM] [Info] Total Bins 733\n",
            "[LightGBM] [Info] Number of data points in the train set: 7143, number of used features: 41\n",
            "[LightGBM] [Info] [binary:BoostFromScore]: pavg=0.470671 -> initscore=-0.117452\n",
            "[LightGBM] [Info] Start training from score -0.117452\n"
          ]
        },
        {
          "name": "stderr",
          "output_type": "stream",
          "text": [
            "[I 2024-09-20 04:09:11,700] Trial 271 finished with value: 0.7039565470912699 and parameters: {'rf_n_estimators': 269, 'rf_max_depth': 24, 'rf_min_samples_split': 2, 'xgb_n_estimators': 251, 'xgb_learning_rate': 0.10983793059395731, 'xgb_max_depth': 9, 'lgbm_n_estimators': 292, 'lgbm_learning_rate': 0.2568072472372807, 'lgbm_num_leaves': 38}. Best is trial 257 with value: 0.7118772960901607.\n",
            "/var/folders/0h/6t5rrrkd413d6v0z43zmchmm0000gn/T/ipykernel_38998/847976484.py:48: FutureWarning:\n",
            "\n",
            "suggest_loguniform has been deprecated in v3.0.0. This feature will be removed in v6.0.0. See https://github.com/optuna/optuna/releases/tag/v3.0.0. Use suggest_float(..., log=True) instead.\n",
            "\n",
            "/var/folders/0h/6t5rrrkd413d6v0z43zmchmm0000gn/T/ipykernel_38998/847976484.py:54: FutureWarning:\n",
            "\n",
            "suggest_loguniform has been deprecated in v3.0.0. This feature will be removed in v6.0.0. See https://github.com/optuna/optuna/releases/tag/v3.0.0. Use suggest_float(..., log=True) instead.\n",
            "\n"
          ]
        },
        {
          "name": "stdout",
          "output_type": "stream",
          "text": [
            "[LightGBM] [Info] Number of positive: 3362, number of negative: 3781\n",
            "[LightGBM] [Info] Auto-choosing row-wise multi-threading, the overhead of testing was 0.001425 seconds.\n",
            "You can set `force_row_wise=true` to remove the overhead.\n",
            "And if memory is not enough, you can set `force_col_wise=true`.\n",
            "[LightGBM] [Info] Total Bins 733\n",
            "[LightGBM] [Info] Number of data points in the train set: 7143, number of used features: 41\n",
            "[LightGBM] [Info] [binary:BoostFromScore]: pavg=0.470671 -> initscore=-0.117452\n",
            "[LightGBM] [Info] Start training from score -0.117452\n"
          ]
        },
        {
          "name": "stderr",
          "output_type": "stream",
          "text": [
            "[I 2024-09-20 04:09:16,681] Trial 272 finished with value: 0.6947027638065121 and parameters: {'rf_n_estimators': 292, 'rf_max_depth': 25, 'rf_min_samples_split': 2, 'xgb_n_estimators': 262, 'xgb_learning_rate': 0.14095859540799252, 'xgb_max_depth': 9, 'lgbm_n_estimators': 276, 'lgbm_learning_rate': 0.11564757507092123, 'lgbm_num_leaves': 34}. Best is trial 257 with value: 0.7118772960901607.\n",
            "/var/folders/0h/6t5rrrkd413d6v0z43zmchmm0000gn/T/ipykernel_38998/847976484.py:48: FutureWarning:\n",
            "\n",
            "suggest_loguniform has been deprecated in v3.0.0. This feature will be removed in v6.0.0. See https://github.com/optuna/optuna/releases/tag/v3.0.0. Use suggest_float(..., log=True) instead.\n",
            "\n",
            "/var/folders/0h/6t5rrrkd413d6v0z43zmchmm0000gn/T/ipykernel_38998/847976484.py:54: FutureWarning:\n",
            "\n",
            "suggest_loguniform has been deprecated in v3.0.0. This feature will be removed in v6.0.0. See https://github.com/optuna/optuna/releases/tag/v3.0.0. Use suggest_float(..., log=True) instead.\n",
            "\n"
          ]
        },
        {
          "name": "stdout",
          "output_type": "stream",
          "text": [
            "[LightGBM] [Info] Number of positive: 3362, number of negative: 3781\n",
            "[LightGBM] [Info] Auto-choosing row-wise multi-threading, the overhead of testing was 0.000866 seconds.\n",
            "You can set `force_row_wise=true` to remove the overhead.\n",
            "And if memory is not enough, you can set `force_col_wise=true`.\n",
            "[LightGBM] [Info] Total Bins 733\n",
            "[LightGBM] [Info] Number of data points in the train set: 7143, number of used features: 41\n",
            "[LightGBM] [Info] [binary:BoostFromScore]: pavg=0.470671 -> initscore=-0.117452\n",
            "[LightGBM] [Info] Start training from score -0.117452\n"
          ]
        },
        {
          "name": "stderr",
          "output_type": "stream",
          "text": [
            "[I 2024-09-20 04:09:21,067] Trial 273 finished with value: 0.6939917106745059 and parameters: {'rf_n_estimators': 258, 'rf_max_depth': 24, 'rf_min_samples_split': 6, 'xgb_n_estimators': 255, 'xgb_learning_rate': 0.10060020303135694, 'xgb_max_depth': 9, 'lgbm_n_estimators': 270, 'lgbm_learning_rate': 0.3774062658388435, 'lgbm_num_leaves': 28}. Best is trial 257 with value: 0.7118772960901607.\n",
            "/var/folders/0h/6t5rrrkd413d6v0z43zmchmm0000gn/T/ipykernel_38998/847976484.py:48: FutureWarning:\n",
            "\n",
            "suggest_loguniform has been deprecated in v3.0.0. This feature will be removed in v6.0.0. See https://github.com/optuna/optuna/releases/tag/v3.0.0. Use suggest_float(..., log=True) instead.\n",
            "\n",
            "/var/folders/0h/6t5rrrkd413d6v0z43zmchmm0000gn/T/ipykernel_38998/847976484.py:54: FutureWarning:\n",
            "\n",
            "suggest_loguniform has been deprecated in v3.0.0. This feature will be removed in v6.0.0. See https://github.com/optuna/optuna/releases/tag/v3.0.0. Use suggest_float(..., log=True) instead.\n",
            "\n"
          ]
        },
        {
          "name": "stdout",
          "output_type": "stream",
          "text": [
            "[LightGBM] [Info] Number of positive: 3362, number of negative: 3781\n",
            "[LightGBM] [Info] Auto-choosing row-wise multi-threading, the overhead of testing was 0.000876 seconds.\n",
            "You can set `force_row_wise=true` to remove the overhead.\n",
            "And if memory is not enough, you can set `force_col_wise=true`.\n",
            "[LightGBM] [Info] Total Bins 733\n",
            "[LightGBM] [Info] Number of data points in the train set: 7143, number of used features: 41\n",
            "[LightGBM] [Info] [binary:BoostFromScore]: pavg=0.470671 -> initscore=-0.117452\n",
            "[LightGBM] [Info] Start training from score -0.117452\n"
          ]
        },
        {
          "name": "stderr",
          "output_type": "stream",
          "text": [
            "[I 2024-09-20 04:09:25,677] Trial 274 finished with value: 0.6970434453148142 and parameters: {'rf_n_estimators': 281, 'rf_max_depth': 24, 'rf_min_samples_split': 2, 'xgb_n_estimators': 243, 'xgb_learning_rate': 0.12440580204651064, 'xgb_max_depth': 9, 'lgbm_n_estimators': 281, 'lgbm_learning_rate': 0.4348787325556302, 'lgbm_num_leaves': 32}. Best is trial 257 with value: 0.7118772960901607.\n",
            "/var/folders/0h/6t5rrrkd413d6v0z43zmchmm0000gn/T/ipykernel_38998/847976484.py:48: FutureWarning:\n",
            "\n",
            "suggest_loguniform has been deprecated in v3.0.0. This feature will be removed in v6.0.0. See https://github.com/optuna/optuna/releases/tag/v3.0.0. Use suggest_float(..., log=True) instead.\n",
            "\n",
            "/var/folders/0h/6t5rrrkd413d6v0z43zmchmm0000gn/T/ipykernel_38998/847976484.py:54: FutureWarning:\n",
            "\n",
            "suggest_loguniform has been deprecated in v3.0.0. This feature will be removed in v6.0.0. See https://github.com/optuna/optuna/releases/tag/v3.0.0. Use suggest_float(..., log=True) instead.\n",
            "\n"
          ]
        },
        {
          "name": "stdout",
          "output_type": "stream",
          "text": [
            "[LightGBM] [Info] Number of positive: 3362, number of negative: 3781\n",
            "[LightGBM] [Info] Auto-choosing row-wise multi-threading, the overhead of testing was 0.000831 seconds.\n",
            "You can set `force_row_wise=true` to remove the overhead.\n",
            "And if memory is not enough, you can set `force_col_wise=true`.\n",
            "[LightGBM] [Info] Total Bins 733\n",
            "[LightGBM] [Info] Number of data points in the train set: 7143, number of used features: 41\n",
            "[LightGBM] [Info] [binary:BoostFromScore]: pavg=0.470671 -> initscore=-0.117452\n",
            "[LightGBM] [Info] Start training from score -0.117452\n"
          ]
        },
        {
          "name": "stderr",
          "output_type": "stream",
          "text": [
            "[I 2024-09-20 04:09:30,283] Trial 275 finished with value: 0.7040777397507753 and parameters: {'rf_n_estimators': 285, 'rf_max_depth': 25, 'rf_min_samples_split': 3, 'xgb_n_estimators': 249, 'xgb_learning_rate': 0.054439062235786824, 'xgb_max_depth': 9, 'lgbm_n_estimators': 297, 'lgbm_learning_rate': 0.21901717303772997, 'lgbm_num_leaves': 29}. Best is trial 257 with value: 0.7118772960901607.\n",
            "/var/folders/0h/6t5rrrkd413d6v0z43zmchmm0000gn/T/ipykernel_38998/847976484.py:48: FutureWarning:\n",
            "\n",
            "suggest_loguniform has been deprecated in v3.0.0. This feature will be removed in v6.0.0. See https://github.com/optuna/optuna/releases/tag/v3.0.0. Use suggest_float(..., log=True) instead.\n",
            "\n",
            "/var/folders/0h/6t5rrrkd413d6v0z43zmchmm0000gn/T/ipykernel_38998/847976484.py:54: FutureWarning:\n",
            "\n",
            "suggest_loguniform has been deprecated in v3.0.0. This feature will be removed in v6.0.0. See https://github.com/optuna/optuna/releases/tag/v3.0.0. Use suggest_float(..., log=True) instead.\n",
            "\n"
          ]
        },
        {
          "name": "stdout",
          "output_type": "stream",
          "text": [
            "[LightGBM] [Info] Number of positive: 3362, number of negative: 3781\n",
            "[LightGBM] [Info] Auto-choosing row-wise multi-threading, the overhead of testing was 0.000914 seconds.\n",
            "You can set `force_row_wise=true` to remove the overhead.\n",
            "And if memory is not enough, you can set `force_col_wise=true`.\n",
            "[LightGBM] [Info] Total Bins 733\n",
            "[LightGBM] [Info] Number of data points in the train set: 7143, number of used features: 41\n",
            "[LightGBM] [Info] [binary:BoostFromScore]: pavg=0.470671 -> initscore=-0.117452\n",
            "[LightGBM] [Info] Start training from score -0.117452\n"
          ]
        },
        {
          "name": "stderr",
          "output_type": "stream",
          "text": [
            "[I 2024-09-20 04:09:35,626] Trial 276 finished with value: 0.6962909351859494 and parameters: {'rf_n_estimators': 295, 'rf_max_depth': 23, 'rf_min_samples_split': 10, 'xgb_n_estimators': 186, 'xgb_learning_rate': 0.16680988304935182, 'xgb_max_depth': 3, 'lgbm_n_estimators': 266, 'lgbm_learning_rate': 0.306500458362918, 'lgbm_num_leaves': 67}. Best is trial 257 with value: 0.7118772960901607.\n",
            "/var/folders/0h/6t5rrrkd413d6v0z43zmchmm0000gn/T/ipykernel_38998/847976484.py:48: FutureWarning:\n",
            "\n",
            "suggest_loguniform has been deprecated in v3.0.0. This feature will be removed in v6.0.0. See https://github.com/optuna/optuna/releases/tag/v3.0.0. Use suggest_float(..., log=True) instead.\n",
            "\n",
            "/var/folders/0h/6t5rrrkd413d6v0z43zmchmm0000gn/T/ipykernel_38998/847976484.py:54: FutureWarning:\n",
            "\n",
            "suggest_loguniform has been deprecated in v3.0.0. This feature will be removed in v6.0.0. See https://github.com/optuna/optuna/releases/tag/v3.0.0. Use suggest_float(..., log=True) instead.\n",
            "\n"
          ]
        },
        {
          "name": "stdout",
          "output_type": "stream",
          "text": [
            "[LightGBM] [Info] Number of positive: 3362, number of negative: 3781\n",
            "[LightGBM] [Info] Auto-choosing row-wise multi-threading, the overhead of testing was 0.000835 seconds.\n",
            "You can set `force_row_wise=true` to remove the overhead.\n",
            "And if memory is not enough, you can set `force_col_wise=true`.\n",
            "[LightGBM] [Info] Total Bins 733\n",
            "[LightGBM] [Info] Number of data points in the train set: 7143, number of used features: 41\n",
            "[LightGBM] [Info] [binary:BoostFromScore]: pavg=0.470671 -> initscore=-0.117452\n",
            "[LightGBM] [Info] Start training from score -0.117452\n"
          ]
        },
        {
          "name": "stderr",
          "output_type": "stream",
          "text": [
            "[I 2024-09-20 04:09:38,436] Trial 277 finished with value: 0.7019393099776619 and parameters: {'rf_n_estimators': 103, 'rf_max_depth': 26, 'rf_min_samples_split': 2, 'xgb_n_estimators': 269, 'xgb_learning_rate': 0.08761318002558895, 'xgb_max_depth': 4, 'lgbm_n_estimators': 273, 'lgbm_learning_rate': 0.35706985343800984, 'lgbm_num_leaves': 37}. Best is trial 257 with value: 0.7118772960901607.\n",
            "/var/folders/0h/6t5rrrkd413d6v0z43zmchmm0000gn/T/ipykernel_38998/847976484.py:48: FutureWarning:\n",
            "\n",
            "suggest_loguniform has been deprecated in v3.0.0. This feature will be removed in v6.0.0. See https://github.com/optuna/optuna/releases/tag/v3.0.0. Use suggest_float(..., log=True) instead.\n",
            "\n",
            "/var/folders/0h/6t5rrrkd413d6v0z43zmchmm0000gn/T/ipykernel_38998/847976484.py:54: FutureWarning:\n",
            "\n",
            "suggest_loguniform has been deprecated in v3.0.0. This feature will be removed in v6.0.0. See https://github.com/optuna/optuna/releases/tag/v3.0.0. Use suggest_float(..., log=True) instead.\n",
            "\n"
          ]
        },
        {
          "name": "stdout",
          "output_type": "stream",
          "text": [
            "[LightGBM] [Info] Number of positive: 3362, number of negative: 3781\n",
            "[LightGBM] [Info] Auto-choosing row-wise multi-threading, the overhead of testing was 0.000889 seconds.\n",
            "You can set `force_row_wise=true` to remove the overhead.\n",
            "And if memory is not enough, you can set `force_col_wise=true`.\n",
            "[LightGBM] [Info] Total Bins 733\n",
            "[LightGBM] [Info] Number of data points in the train set: 7143, number of used features: 41\n",
            "[LightGBM] [Info] [binary:BoostFromScore]: pavg=0.470671 -> initscore=-0.117452\n",
            "[LightGBM] [Info] Start training from score -0.117452\n"
          ]
        },
        {
          "name": "stderr",
          "output_type": "stream",
          "text": [
            "[I 2024-09-20 04:09:41,741] Trial 278 finished with value: 0.6827875960759662 and parameters: {'rf_n_estimators': 274, 'rf_max_depth': 9, 'rf_min_samples_split': 2, 'xgb_n_estimators': 265, 'xgb_learning_rate': 0.0011510417238408588, 'xgb_max_depth': 7, 'lgbm_n_estimators': 263, 'lgbm_learning_rate': 0.5046970871583919, 'lgbm_num_leaves': 33}. Best is trial 257 with value: 0.7118772960901607.\n",
            "/var/folders/0h/6t5rrrkd413d6v0z43zmchmm0000gn/T/ipykernel_38998/847976484.py:48: FutureWarning:\n",
            "\n",
            "suggest_loguniform has been deprecated in v3.0.0. This feature will be removed in v6.0.0. See https://github.com/optuna/optuna/releases/tag/v3.0.0. Use suggest_float(..., log=True) instead.\n",
            "\n",
            "/var/folders/0h/6t5rrrkd413d6v0z43zmchmm0000gn/T/ipykernel_38998/847976484.py:54: FutureWarning:\n",
            "\n",
            "suggest_loguniform has been deprecated in v3.0.0. This feature will be removed in v6.0.0. See https://github.com/optuna/optuna/releases/tag/v3.0.0. Use suggest_float(..., log=True) instead.\n",
            "\n"
          ]
        },
        {
          "name": "stdout",
          "output_type": "stream",
          "text": [
            "[LightGBM] [Info] Number of positive: 3362, number of negative: 3781\n",
            "[LightGBM] [Info] Auto-choosing row-wise multi-threading, the overhead of testing was 0.000945 seconds.\n",
            "You can set `force_row_wise=true` to remove the overhead.\n",
            "And if memory is not enough, you can set `force_col_wise=true`.\n",
            "[LightGBM] [Info] Total Bins 733\n",
            "[LightGBM] [Info] Number of data points in the train set: 7143, number of used features: 41\n",
            "[LightGBM] [Info] [binary:BoostFromScore]: pavg=0.470671 -> initscore=-0.117452\n",
            "[LightGBM] [Info] Start training from score -0.117452\n"
          ]
        },
        {
          "name": "stderr",
          "output_type": "stream",
          "text": [
            "[I 2024-09-20 04:09:46,163] Trial 279 finished with value: 0.7031123569418333 and parameters: {'rf_n_estimators': 266, 'rf_max_depth': 24, 'rf_min_samples_split': 5, 'xgb_n_estimators': 232, 'xgb_learning_rate': 0.06495145995876056, 'xgb_max_depth': 9, 'lgbm_n_estimators': 286, 'lgbm_learning_rate': 0.26306710884647233, 'lgbm_num_leaves': 36}. Best is trial 257 with value: 0.7118772960901607.\n",
            "/var/folders/0h/6t5rrrkd413d6v0z43zmchmm0000gn/T/ipykernel_38998/847976484.py:48: FutureWarning:\n",
            "\n",
            "suggest_loguniform has been deprecated in v3.0.0. This feature will be removed in v6.0.0. See https://github.com/optuna/optuna/releases/tag/v3.0.0. Use suggest_float(..., log=True) instead.\n",
            "\n",
            "/var/folders/0h/6t5rrrkd413d6v0z43zmchmm0000gn/T/ipykernel_38998/847976484.py:54: FutureWarning:\n",
            "\n",
            "suggest_loguniform has been deprecated in v3.0.0. This feature will be removed in v6.0.0. See https://github.com/optuna/optuna/releases/tag/v3.0.0. Use suggest_float(..., log=True) instead.\n",
            "\n"
          ]
        },
        {
          "name": "stdout",
          "output_type": "stream",
          "text": [
            "[LightGBM] [Info] Number of positive: 3362, number of negative: 3781\n",
            "[LightGBM] [Info] Auto-choosing row-wise multi-threading, the overhead of testing was 0.000861 seconds.\n",
            "You can set `force_row_wise=true` to remove the overhead.\n",
            "And if memory is not enough, you can set `force_col_wise=true`.\n",
            "[LightGBM] [Info] Total Bins 733\n",
            "[LightGBM] [Info] Number of data points in the train set: 7143, number of used features: 41\n",
            "[LightGBM] [Info] [binary:BoostFromScore]: pavg=0.470671 -> initscore=-0.117452\n",
            "[LightGBM] [Info] Start training from score -0.117452\n"
          ]
        },
        {
          "name": "stderr",
          "output_type": "stream",
          "text": [
            "[I 2024-09-20 04:09:50,511] Trial 280 finished with value: 0.7017603984372982 and parameters: {'rf_n_estimators': 300, 'rf_max_depth': 23, 'rf_min_samples_split': 9, 'xgb_n_estimators': 257, 'xgb_learning_rate': 0.1386557729891803, 'xgb_max_depth': 9, 'lgbm_n_estimators': 269, 'lgbm_learning_rate': 0.05639746093818995, 'lgbm_num_leaves': 31}. Best is trial 257 with value: 0.7118772960901607.\n",
            "/var/folders/0h/6t5rrrkd413d6v0z43zmchmm0000gn/T/ipykernel_38998/847976484.py:48: FutureWarning:\n",
            "\n",
            "suggest_loguniform has been deprecated in v3.0.0. This feature will be removed in v6.0.0. See https://github.com/optuna/optuna/releases/tag/v3.0.0. Use suggest_float(..., log=True) instead.\n",
            "\n",
            "/var/folders/0h/6t5rrrkd413d6v0z43zmchmm0000gn/T/ipykernel_38998/847976484.py:54: FutureWarning:\n",
            "\n",
            "suggest_loguniform has been deprecated in v3.0.0. This feature will be removed in v6.0.0. See https://github.com/optuna/optuna/releases/tag/v3.0.0. Use suggest_float(..., log=True) instead.\n",
            "\n"
          ]
        },
        {
          "name": "stdout",
          "output_type": "stream",
          "text": [
            "[LightGBM] [Info] Number of positive: 3362, number of negative: 3781\n",
            "[LightGBM] [Info] Auto-choosing row-wise multi-threading, the overhead of testing was 0.000854 seconds.\n",
            "You can set `force_row_wise=true` to remove the overhead.\n",
            "And if memory is not enough, you can set `force_col_wise=true`.\n",
            "[LightGBM] [Info] Total Bins 733\n",
            "[LightGBM] [Info] Number of data points in the train set: 7143, number of used features: 41\n",
            "[LightGBM] [Info] [binary:BoostFromScore]: pavg=0.470671 -> initscore=-0.117452\n",
            "[LightGBM] [Info] Start training from score -0.117452\n"
          ]
        },
        {
          "name": "stderr",
          "output_type": "stream",
          "text": [
            "[I 2024-09-20 04:09:54,441] Trial 281 finished with value: 0.7047064664448072 and parameters: {'rf_n_estimators': 288, 'rf_max_depth': 23, 'rf_min_samples_split': 9, 'xgb_n_estimators': 198, 'xgb_learning_rate': 0.11212637930702701, 'xgb_max_depth': 7, 'lgbm_n_estimators': 278, 'lgbm_learning_rate': 0.4192016497152313, 'lgbm_num_leaves': 26}. Best is trial 257 with value: 0.7118772960901607.\n",
            "/var/folders/0h/6t5rrrkd413d6v0z43zmchmm0000gn/T/ipykernel_38998/847976484.py:48: FutureWarning:\n",
            "\n",
            "suggest_loguniform has been deprecated in v3.0.0. This feature will be removed in v6.0.0. See https://github.com/optuna/optuna/releases/tag/v3.0.0. Use suggest_float(..., log=True) instead.\n",
            "\n",
            "/var/folders/0h/6t5rrrkd413d6v0z43zmchmm0000gn/T/ipykernel_38998/847976484.py:54: FutureWarning:\n",
            "\n",
            "suggest_loguniform has been deprecated in v3.0.0. This feature will be removed in v6.0.0. See https://github.com/optuna/optuna/releases/tag/v3.0.0. Use suggest_float(..., log=True) instead.\n",
            "\n"
          ]
        },
        {
          "name": "stdout",
          "output_type": "stream",
          "text": [
            "[LightGBM] [Info] Number of positive: 3362, number of negative: 3781\n",
            "[LightGBM] [Info] Auto-choosing row-wise multi-threading, the overhead of testing was 0.000904 seconds.\n",
            "You can set `force_row_wise=true` to remove the overhead.\n",
            "And if memory is not enough, you can set `force_col_wise=true`.\n",
            "[LightGBM] [Info] Total Bins 733\n",
            "[LightGBM] [Info] Number of data points in the train set: 7143, number of used features: 41\n",
            "[LightGBM] [Info] [binary:BoostFromScore]: pavg=0.470671 -> initscore=-0.117452\n",
            "[LightGBM] [Info] Start training from score -0.117452\n"
          ]
        },
        {
          "name": "stderr",
          "output_type": "stream",
          "text": [
            "[I 2024-09-20 04:10:00,229] Trial 282 finished with value: 0.6967969550377631 and parameters: {'rf_n_estimators': 284, 'rf_max_depth': 25, 'rf_min_samples_split': 2, 'xgb_n_estimators': 243, 'xgb_learning_rate': 0.07573456585197226, 'xgb_max_depth': 9, 'lgbm_n_estimators': 260, 'lgbm_learning_rate': 0.32550249117423613, 'lgbm_num_leaves': 69}. Best is trial 257 with value: 0.7118772960901607.\n",
            "/var/folders/0h/6t5rrrkd413d6v0z43zmchmm0000gn/T/ipykernel_38998/847976484.py:48: FutureWarning:\n",
            "\n",
            "suggest_loguniform has been deprecated in v3.0.0. This feature will be removed in v6.0.0. See https://github.com/optuna/optuna/releases/tag/v3.0.0. Use suggest_float(..., log=True) instead.\n",
            "\n",
            "/var/folders/0h/6t5rrrkd413d6v0z43zmchmm0000gn/T/ipykernel_38998/847976484.py:54: FutureWarning:\n",
            "\n",
            "suggest_loguniform has been deprecated in v3.0.0. This feature will be removed in v6.0.0. See https://github.com/optuna/optuna/releases/tag/v3.0.0. Use suggest_float(..., log=True) instead.\n",
            "\n"
          ]
        },
        {
          "name": "stdout",
          "output_type": "stream",
          "text": [
            "[LightGBM] [Info] Number of positive: 3362, number of negative: 3781\n",
            "[LightGBM] [Info] Auto-choosing row-wise multi-threading, the overhead of testing was 0.001301 seconds.\n",
            "You can set `force_row_wise=true` to remove the overhead.\n",
            "And if memory is not enough, you can set `force_col_wise=true`.\n",
            "[LightGBM] [Info] Total Bins 733\n",
            "[LightGBM] [Info] Number of data points in the train set: 7143, number of used features: 41\n",
            "[LightGBM] [Info] [binary:BoostFromScore]: pavg=0.470671 -> initscore=-0.117452\n",
            "[LightGBM] [Info] Start training from score -0.117452\n"
          ]
        },
        {
          "name": "stderr",
          "output_type": "stream",
          "text": [
            "[I 2024-09-20 04:10:05,072] Trial 283 finished with value: 0.706359360565353 and parameters: {'rf_n_estimators': 248, 'rf_max_depth': 24, 'rf_min_samples_split': 7, 'xgb_n_estimators': 252, 'xgb_learning_rate': 0.09290352060858019, 'xgb_max_depth': 10, 'lgbm_n_estimators': 254, 'lgbm_learning_rate': 0.39403665487736095, 'lgbm_num_leaves': 39}. Best is trial 257 with value: 0.7118772960901607.\n",
            "/var/folders/0h/6t5rrrkd413d6v0z43zmchmm0000gn/T/ipykernel_38998/847976484.py:48: FutureWarning:\n",
            "\n",
            "suggest_loguniform has been deprecated in v3.0.0. This feature will be removed in v6.0.0. See https://github.com/optuna/optuna/releases/tag/v3.0.0. Use suggest_float(..., log=True) instead.\n",
            "\n",
            "/var/folders/0h/6t5rrrkd413d6v0z43zmchmm0000gn/T/ipykernel_38998/847976484.py:54: FutureWarning:\n",
            "\n",
            "suggest_loguniform has been deprecated in v3.0.0. This feature will be removed in v6.0.0. See https://github.com/optuna/optuna/releases/tag/v3.0.0. Use suggest_float(..., log=True) instead.\n",
            "\n"
          ]
        },
        {
          "name": "stdout",
          "output_type": "stream",
          "text": [
            "[LightGBM] [Info] Number of positive: 3362, number of negative: 3781\n",
            "[LightGBM] [Info] Auto-choosing row-wise multi-threading, the overhead of testing was 0.000890 seconds.\n",
            "You can set `force_row_wise=true` to remove the overhead.\n",
            "And if memory is not enough, you can set `force_col_wise=true`.\n",
            "[LightGBM] [Info] Total Bins 733\n",
            "[LightGBM] [Info] Number of data points in the train set: 7143, number of used features: 41\n",
            "[LightGBM] [Info] [binary:BoostFromScore]: pavg=0.470671 -> initscore=-0.117452\n",
            "[LightGBM] [Info] Start training from score -0.117452\n"
          ]
        },
        {
          "name": "stderr",
          "output_type": "stream",
          "text": [
            "[I 2024-09-20 04:10:09,679] Trial 284 finished with value: 0.6978639895382998 and parameters: {'rf_n_estimators': 252, 'rf_max_depth': 24, 'rf_min_samples_split': 7, 'xgb_n_estimators': 252, 'xgb_learning_rate': 0.09465085930006263, 'xgb_max_depth': 10, 'lgbm_n_estimators': 253, 'lgbm_learning_rate': 0.0013238734325497342, 'lgbm_num_leaves': 38}. Best is trial 257 with value: 0.7118772960901607.\n",
            "/var/folders/0h/6t5rrrkd413d6v0z43zmchmm0000gn/T/ipykernel_38998/847976484.py:48: FutureWarning:\n",
            "\n",
            "suggest_loguniform has been deprecated in v3.0.0. This feature will be removed in v6.0.0. See https://github.com/optuna/optuna/releases/tag/v3.0.0. Use suggest_float(..., log=True) instead.\n",
            "\n",
            "/var/folders/0h/6t5rrrkd413d6v0z43zmchmm0000gn/T/ipykernel_38998/847976484.py:54: FutureWarning:\n",
            "\n",
            "suggest_loguniform has been deprecated in v3.0.0. This feature will be removed in v6.0.0. See https://github.com/optuna/optuna/releases/tag/v3.0.0. Use suggest_float(..., log=True) instead.\n",
            "\n"
          ]
        },
        {
          "name": "stdout",
          "output_type": "stream",
          "text": [
            "[LightGBM] [Info] Number of positive: 3362, number of negative: 3781\n",
            "[LightGBM] [Info] Auto-choosing row-wise multi-threading, the overhead of testing was 0.000966 seconds.\n",
            "You can set `force_row_wise=true` to remove the overhead.\n",
            "And if memory is not enough, you can set `force_col_wise=true`.\n",
            "[LightGBM] [Info] Total Bins 733\n",
            "[LightGBM] [Info] Number of data points in the train set: 7143, number of used features: 41\n",
            "[LightGBM] [Info] [binary:BoostFromScore]: pavg=0.470671 -> initscore=-0.117452\n",
            "[LightGBM] [Info] Start training from score -0.117452\n"
          ]
        },
        {
          "name": "stderr",
          "output_type": "stream",
          "text": [
            "[I 2024-09-20 04:10:12,730] Trial 285 finished with value: 0.6954910772814762 and parameters: {'rf_n_estimators': 112, 'rf_max_depth': 24, 'rf_min_samples_split': 7, 'xgb_n_estimators': 261, 'xgb_learning_rate': 0.08524586129274611, 'xgb_max_depth': 8, 'lgbm_n_estimators': 247, 'lgbm_learning_rate': 0.15418050444393316, 'lgbm_num_leaves': 39}. Best is trial 257 with value: 0.7118772960901607.\n",
            "/var/folders/0h/6t5rrrkd413d6v0z43zmchmm0000gn/T/ipykernel_38998/847976484.py:48: FutureWarning:\n",
            "\n",
            "suggest_loguniform has been deprecated in v3.0.0. This feature will be removed in v6.0.0. See https://github.com/optuna/optuna/releases/tag/v3.0.0. Use suggest_float(..., log=True) instead.\n",
            "\n",
            "/var/folders/0h/6t5rrrkd413d6v0z43zmchmm0000gn/T/ipykernel_38998/847976484.py:54: FutureWarning:\n",
            "\n",
            "suggest_loguniform has been deprecated in v3.0.0. This feature will be removed in v6.0.0. See https://github.com/optuna/optuna/releases/tag/v3.0.0. Use suggest_float(..., log=True) instead.\n",
            "\n"
          ]
        },
        {
          "name": "stdout",
          "output_type": "stream",
          "text": [
            "[LightGBM] [Info] Number of positive: 3362, number of negative: 3781\n",
            "[LightGBM] [Info] Auto-choosing row-wise multi-threading, the overhead of testing was 0.000877 seconds.\n",
            "You can set `force_row_wise=true` to remove the overhead.\n",
            "And if memory is not enough, you can set `force_col_wise=true`.\n",
            "[LightGBM] [Info] Total Bins 733\n",
            "[LightGBM] [Info] Number of data points in the train set: 7143, number of used features: 41\n",
            "[LightGBM] [Info] [binary:BoostFromScore]: pavg=0.470671 -> initscore=-0.117452\n",
            "[LightGBM] [Info] Start training from score -0.117452\n"
          ]
        },
        {
          "name": "stderr",
          "output_type": "stream",
          "text": [
            "[I 2024-09-20 04:10:17,443] Trial 286 finished with value: 0.703101716926184 and parameters: {'rf_n_estimators': 257, 'rf_max_depth': 25, 'rf_min_samples_split': 6, 'xgb_n_estimators': 247, 'xgb_learning_rate': 0.07132802851290053, 'xgb_max_depth': 10, 'lgbm_n_estimators': 256, 'lgbm_learning_rate': 0.07973510490900564, 'lgbm_num_leaves': 49}. Best is trial 257 with value: 0.7118772960901607.\n",
            "/var/folders/0h/6t5rrrkd413d6v0z43zmchmm0000gn/T/ipykernel_38998/847976484.py:48: FutureWarning:\n",
            "\n",
            "suggest_loguniform has been deprecated in v3.0.0. This feature will be removed in v6.0.0. See https://github.com/optuna/optuna/releases/tag/v3.0.0. Use suggest_float(..., log=True) instead.\n",
            "\n",
            "/var/folders/0h/6t5rrrkd413d6v0z43zmchmm0000gn/T/ipykernel_38998/847976484.py:54: FutureWarning:\n",
            "\n",
            "suggest_loguniform has been deprecated in v3.0.0. This feature will be removed in v6.0.0. See https://github.com/optuna/optuna/releases/tag/v3.0.0. Use suggest_float(..., log=True) instead.\n",
            "\n"
          ]
        },
        {
          "name": "stdout",
          "output_type": "stream",
          "text": [
            "[LightGBM] [Info] Number of positive: 3362, number of negative: 3781\n",
            "[LightGBM] [Info] Auto-choosing row-wise multi-threading, the overhead of testing was 0.000987 seconds.\n",
            "You can set `force_row_wise=true` to remove the overhead.\n",
            "And if memory is not enough, you can set `force_col_wise=true`.\n",
            "[LightGBM] [Info] Total Bins 733\n",
            "[LightGBM] [Info] Number of data points in the train set: 7143, number of used features: 41\n",
            "[LightGBM] [Info] [binary:BoostFromScore]: pavg=0.470671 -> initscore=-0.117452\n",
            "[LightGBM] [Info] Start training from score -0.117452\n"
          ]
        },
        {
          "name": "stderr",
          "output_type": "stream",
          "text": [
            "[I 2024-09-20 04:10:21,946] Trial 287 finished with value: 0.7068416403662799 and parameters: {'rf_n_estimators': 251, 'rf_max_depth': 24, 'rf_min_samples_split': 7, 'xgb_n_estimators': 254, 'xgb_learning_rate': 0.0986695195402382, 'xgb_max_depth': 10, 'lgbm_n_estimators': 251, 'lgbm_learning_rate': 0.3929857435743128, 'lgbm_num_leaves': 40}. Best is trial 257 with value: 0.7118772960901607.\n",
            "/var/folders/0h/6t5rrrkd413d6v0z43zmchmm0000gn/T/ipykernel_38998/847976484.py:48: FutureWarning:\n",
            "\n",
            "suggest_loguniform has been deprecated in v3.0.0. This feature will be removed in v6.0.0. See https://github.com/optuna/optuna/releases/tag/v3.0.0. Use suggest_float(..., log=True) instead.\n",
            "\n",
            "/var/folders/0h/6t5rrrkd413d6v0z43zmchmm0000gn/T/ipykernel_38998/847976484.py:54: FutureWarning:\n",
            "\n",
            "suggest_loguniform has been deprecated in v3.0.0. This feature will be removed in v6.0.0. See https://github.com/optuna/optuna/releases/tag/v3.0.0. Use suggest_float(..., log=True) instead.\n",
            "\n"
          ]
        },
        {
          "name": "stdout",
          "output_type": "stream",
          "text": [
            "[LightGBM] [Info] Number of positive: 3362, number of negative: 3781\n",
            "[LightGBM] [Info] Auto-choosing row-wise multi-threading, the overhead of testing was 0.000823 seconds.\n",
            "You can set `force_row_wise=true` to remove the overhead.\n",
            "And if memory is not enough, you can set `force_col_wise=true`.\n",
            "[LightGBM] [Info] Total Bins 733\n",
            "[LightGBM] [Info] Number of data points in the train set: 7143, number of used features: 41\n",
            "[LightGBM] [Info] [binary:BoostFromScore]: pavg=0.470671 -> initscore=-0.117452\n",
            "[LightGBM] [Info] Start training from score -0.117452\n"
          ]
        },
        {
          "name": "stderr",
          "output_type": "stream",
          "text": [
            "[I 2024-09-20 04:10:26,595] Trial 288 finished with value: 0.6966746838679255 and parameters: {'rf_n_estimators': 250, 'rf_max_depth': 23, 'rf_min_samples_split': 9, 'xgb_n_estimators': 256, 'xgb_learning_rate': 0.11537299447882532, 'xgb_max_depth': 10, 'lgbm_n_estimators': 242, 'lgbm_learning_rate': 0.46222183361091845, 'lgbm_num_leaves': 44}. Best is trial 257 with value: 0.7118772960901607.\n",
            "/var/folders/0h/6t5rrrkd413d6v0z43zmchmm0000gn/T/ipykernel_38998/847976484.py:48: FutureWarning:\n",
            "\n",
            "suggest_loguniform has been deprecated in v3.0.0. This feature will be removed in v6.0.0. See https://github.com/optuna/optuna/releases/tag/v3.0.0. Use suggest_float(..., log=True) instead.\n",
            "\n",
            "/var/folders/0h/6t5rrrkd413d6v0z43zmchmm0000gn/T/ipykernel_38998/847976484.py:54: FutureWarning:\n",
            "\n",
            "suggest_loguniform has been deprecated in v3.0.0. This feature will be removed in v6.0.0. See https://github.com/optuna/optuna/releases/tag/v3.0.0. Use suggest_float(..., log=True) instead.\n",
            "\n"
          ]
        },
        {
          "name": "stdout",
          "output_type": "stream",
          "text": [
            "[LightGBM] [Info] Number of positive: 3362, number of negative: 3781\n",
            "[LightGBM] [Info] Auto-choosing row-wise multi-threading, the overhead of testing was 0.000927 seconds.\n",
            "You can set `force_row_wise=true` to remove the overhead.\n",
            "And if memory is not enough, you can set `force_col_wise=true`.\n",
            "[LightGBM] [Info] Total Bins 733\n",
            "[LightGBM] [Info] Number of data points in the train set: 7143, number of used features: 41\n",
            "[LightGBM] [Info] [binary:BoostFromScore]: pavg=0.470671 -> initscore=-0.117452\n",
            "[LightGBM] [Info] Start training from score -0.117452\n"
          ]
        },
        {
          "name": "stderr",
          "output_type": "stream",
          "text": [
            "[I 2024-09-20 04:10:31,243] Trial 289 finished with value: 0.69872034526517 and parameters: {'rf_n_estimators': 277, 'rf_max_depth': 27, 'rf_min_samples_split': 9, 'xgb_n_estimators': 244, 'xgb_learning_rate': 0.10397279387384391, 'xgb_max_depth': 7, 'lgbm_n_estimators': 250, 'lgbm_learning_rate': 0.35076302364274664, 'lgbm_num_leaves': 40}. Best is trial 257 with value: 0.7118772960901607.\n",
            "/var/folders/0h/6t5rrrkd413d6v0z43zmchmm0000gn/T/ipykernel_38998/847976484.py:48: FutureWarning:\n",
            "\n",
            "suggest_loguniform has been deprecated in v3.0.0. This feature will be removed in v6.0.0. See https://github.com/optuna/optuna/releases/tag/v3.0.0. Use suggest_float(..., log=True) instead.\n",
            "\n",
            "/var/folders/0h/6t5rrrkd413d6v0z43zmchmm0000gn/T/ipykernel_38998/847976484.py:54: FutureWarning:\n",
            "\n",
            "suggest_loguniform has been deprecated in v3.0.0. This feature will be removed in v6.0.0. See https://github.com/optuna/optuna/releases/tag/v3.0.0. Use suggest_float(..., log=True) instead.\n",
            "\n"
          ]
        },
        {
          "name": "stdout",
          "output_type": "stream",
          "text": [
            "[LightGBM] [Info] Number of positive: 3362, number of negative: 3781\n",
            "[LightGBM] [Info] Auto-choosing row-wise multi-threading, the overhead of testing was 0.000969 seconds.\n",
            "You can set `force_row_wise=true` to remove the overhead.\n",
            "And if memory is not enough, you can set `force_col_wise=true`.\n",
            "[LightGBM] [Info] Total Bins 733\n",
            "[LightGBM] [Info] Number of data points in the train set: 7143, number of used features: 41\n",
            "[LightGBM] [Info] [binary:BoostFromScore]: pavg=0.470671 -> initscore=-0.117452\n",
            "[LightGBM] [Info] Start training from score -0.117452\n"
          ]
        },
        {
          "name": "stderr",
          "output_type": "stream",
          "text": [
            "[I 2024-09-20 04:10:34,174] Trial 290 finished with value: 0.6957823642626565 and parameters: {'rf_n_estimators': 95, 'rf_max_depth': 18, 'rf_min_samples_split': 9, 'xgb_n_estimators': 263, 'xgb_learning_rate': 0.081549044872615, 'xgb_max_depth': 9, 'lgbm_n_estimators': 262, 'lgbm_learning_rate': 0.27328496542559644, 'lgbm_num_leaves': 35}. Best is trial 257 with value: 0.7118772960901607.\n",
            "/var/folders/0h/6t5rrrkd413d6v0z43zmchmm0000gn/T/ipykernel_38998/847976484.py:48: FutureWarning:\n",
            "\n",
            "suggest_loguniform has been deprecated in v3.0.0. This feature will be removed in v6.0.0. See https://github.com/optuna/optuna/releases/tag/v3.0.0. Use suggest_float(..., log=True) instead.\n",
            "\n",
            "/var/folders/0h/6t5rrrkd413d6v0z43zmchmm0000gn/T/ipykernel_38998/847976484.py:54: FutureWarning:\n",
            "\n",
            "suggest_loguniform has been deprecated in v3.0.0. This feature will be removed in v6.0.0. See https://github.com/optuna/optuna/releases/tag/v3.0.0. Use suggest_float(..., log=True) instead.\n",
            "\n"
          ]
        },
        {
          "name": "stdout",
          "output_type": "stream",
          "text": [
            "[LightGBM] [Info] Number of positive: 3362, number of negative: 3781\n",
            "[LightGBM] [Info] Auto-choosing row-wise multi-threading, the overhead of testing was 0.000858 seconds.\n",
            "You can set `force_row_wise=true` to remove the overhead.\n",
            "And if memory is not enough, you can set `force_col_wise=true`.\n",
            "[LightGBM] [Info] Total Bins 733\n",
            "[LightGBM] [Info] Number of data points in the train set: 7143, number of used features: 41\n",
            "[LightGBM] [Info] [binary:BoostFromScore]: pavg=0.470671 -> initscore=-0.117452\n",
            "[LightGBM] [Info] Start training from score -0.117452\n"
          ]
        },
        {
          "name": "stderr",
          "output_type": "stream",
          "text": [
            "[I 2024-09-20 04:10:38,649] Trial 291 finished with value: 0.702802369183755 and parameters: {'rf_n_estimators': 240, 'rf_max_depth': 25, 'rf_min_samples_split': 9, 'xgb_n_estimators': 208, 'xgb_learning_rate': 0.04438833757885952, 'xgb_max_depth': 10, 'lgbm_n_estimators': 288, 'lgbm_learning_rate': 0.4182183683604874, 'lgbm_num_leaves': 42}. Best is trial 257 with value: 0.7118772960901607.\n",
            "/var/folders/0h/6t5rrrkd413d6v0z43zmchmm0000gn/T/ipykernel_38998/847976484.py:48: FutureWarning:\n",
            "\n",
            "suggest_loguniform has been deprecated in v3.0.0. This feature will be removed in v6.0.0. See https://github.com/optuna/optuna/releases/tag/v3.0.0. Use suggest_float(..., log=True) instead.\n",
            "\n",
            "/var/folders/0h/6t5rrrkd413d6v0z43zmchmm0000gn/T/ipykernel_38998/847976484.py:54: FutureWarning:\n",
            "\n",
            "suggest_loguniform has been deprecated in v3.0.0. This feature will be removed in v6.0.0. See https://github.com/optuna/optuna/releases/tag/v3.0.0. Use suggest_float(..., log=True) instead.\n",
            "\n"
          ]
        },
        {
          "name": "stdout",
          "output_type": "stream",
          "text": [
            "[LightGBM] [Info] Number of positive: 3362, number of negative: 3781\n",
            "[LightGBM] [Info] Auto-choosing row-wise multi-threading, the overhead of testing was 0.000712 seconds.\n",
            "You can set `force_row_wise=true` to remove the overhead.\n",
            "And if memory is not enough, you can set `force_col_wise=true`.\n",
            "[LightGBM] [Info] Total Bins 733\n",
            "[LightGBM] [Info] Number of data points in the train set: 7143, number of used features: 41\n",
            "[LightGBM] [Info] [binary:BoostFromScore]: pavg=0.470671 -> initscore=-0.117452\n",
            "[LightGBM] [Info] Start training from score -0.117452\n"
          ]
        },
        {
          "name": "stderr",
          "output_type": "stream",
          "text": [
            "[I 2024-09-20 04:10:42,565] Trial 292 finished with value: 0.7071726969192413 and parameters: {'rf_n_estimators': 225, 'rf_max_depth': 23, 'rf_min_samples_split': 9, 'xgb_n_estimators': 223, 'xgb_learning_rate': 0.10261844466325039, 'xgb_max_depth': 9, 'lgbm_n_estimators': 276, 'lgbm_learning_rate': 0.30044765461855205, 'lgbm_num_leaves': 33}. Best is trial 257 with value: 0.7118772960901607.\n",
            "/var/folders/0h/6t5rrrkd413d6v0z43zmchmm0000gn/T/ipykernel_38998/847976484.py:48: FutureWarning:\n",
            "\n",
            "suggest_loguniform has been deprecated in v3.0.0. This feature will be removed in v6.0.0. See https://github.com/optuna/optuna/releases/tag/v3.0.0. Use suggest_float(..., log=True) instead.\n",
            "\n",
            "/var/folders/0h/6t5rrrkd413d6v0z43zmchmm0000gn/T/ipykernel_38998/847976484.py:54: FutureWarning:\n",
            "\n",
            "suggest_loguniform has been deprecated in v3.0.0. This feature will be removed in v6.0.0. See https://github.com/optuna/optuna/releases/tag/v3.0.0. Use suggest_float(..., log=True) instead.\n",
            "\n"
          ]
        },
        {
          "name": "stdout",
          "output_type": "stream",
          "text": [
            "[LightGBM] [Info] Number of positive: 3362, number of negative: 3781\n",
            "[LightGBM] [Info] Auto-choosing row-wise multi-threading, the overhead of testing was 0.000835 seconds.\n",
            "You can set `force_row_wise=true` to remove the overhead.\n",
            "And if memory is not enough, you can set `force_col_wise=true`.\n",
            "[LightGBM] [Info] Total Bins 733\n",
            "[LightGBM] [Info] Number of data points in the train set: 7143, number of used features: 41\n",
            "[LightGBM] [Info] [binary:BoostFromScore]: pavg=0.470671 -> initscore=-0.117452\n",
            "[LightGBM] [Info] Start training from score -0.117452\n"
          ]
        },
        {
          "name": "stderr",
          "output_type": "stream",
          "text": [
            "[I 2024-09-20 04:10:46,256] Trial 293 finished with value: 0.698177847392678 and parameters: {'rf_n_estimators': 233, 'rf_max_depth': 23, 'rf_min_samples_split': 9, 'xgb_n_estimators': 227, 'xgb_learning_rate': 0.13149610089234168, 'xgb_max_depth': 8, 'lgbm_n_estimators': 272, 'lgbm_learning_rate': 0.22993334015802117, 'lgbm_num_leaves': 30}. Best is trial 257 with value: 0.7118772960901607.\n",
            "/var/folders/0h/6t5rrrkd413d6v0z43zmchmm0000gn/T/ipykernel_38998/847976484.py:48: FutureWarning:\n",
            "\n",
            "suggest_loguniform has been deprecated in v3.0.0. This feature will be removed in v6.0.0. See https://github.com/optuna/optuna/releases/tag/v3.0.0. Use suggest_float(..., log=True) instead.\n",
            "\n",
            "/var/folders/0h/6t5rrrkd413d6v0z43zmchmm0000gn/T/ipykernel_38998/847976484.py:54: FutureWarning:\n",
            "\n",
            "suggest_loguniform has been deprecated in v3.0.0. This feature will be removed in v6.0.0. See https://github.com/optuna/optuna/releases/tag/v3.0.0. Use suggest_float(..., log=True) instead.\n",
            "\n"
          ]
        },
        {
          "name": "stdout",
          "output_type": "stream",
          "text": [
            "[LightGBM] [Info] Number of positive: 3362, number of negative: 3781\n",
            "[LightGBM] [Info] Auto-choosing row-wise multi-threading, the overhead of testing was 0.000856 seconds.\n",
            "You can set `force_row_wise=true` to remove the overhead.\n",
            "And if memory is not enough, you can set `force_col_wise=true`.\n",
            "[LightGBM] [Info] Total Bins 733\n",
            "[LightGBM] [Info] Number of data points in the train set: 7143, number of used features: 41\n",
            "[LightGBM] [Info] [binary:BoostFromScore]: pavg=0.470671 -> initscore=-0.117452\n",
            "[LightGBM] [Info] Start training from score -0.117452\n"
          ]
        },
        {
          "name": "stderr",
          "output_type": "stream",
          "text": [
            "[I 2024-09-20 04:10:50,061] Trial 294 finished with value: 0.7004488794658495 and parameters: {'rf_n_estimators': 246, 'rf_max_depth': 23, 'rf_min_samples_split': 10, 'xgb_n_estimators': 218, 'xgb_learning_rate': 0.18619829207018918, 'xgb_max_depth': 7, 'lgbm_n_estimators': 276, 'lgbm_learning_rate': 0.3027627716018004, 'lgbm_num_leaves': 32}. Best is trial 257 with value: 0.7118772960901607.\n",
            "/var/folders/0h/6t5rrrkd413d6v0z43zmchmm0000gn/T/ipykernel_38998/847976484.py:48: FutureWarning:\n",
            "\n",
            "suggest_loguniform has been deprecated in v3.0.0. This feature will be removed in v6.0.0. See https://github.com/optuna/optuna/releases/tag/v3.0.0. Use suggest_float(..., log=True) instead.\n",
            "\n",
            "/var/folders/0h/6t5rrrkd413d6v0z43zmchmm0000gn/T/ipykernel_38998/847976484.py:54: FutureWarning:\n",
            "\n",
            "suggest_loguniform has been deprecated in v3.0.0. This feature will be removed in v6.0.0. See https://github.com/optuna/optuna/releases/tag/v3.0.0. Use suggest_float(..., log=True) instead.\n",
            "\n"
          ]
        },
        {
          "name": "stdout",
          "output_type": "stream",
          "text": [
            "[LightGBM] [Info] Number of positive: 3362, number of negative: 3781\n",
            "[LightGBM] [Info] Auto-choosing row-wise multi-threading, the overhead of testing was 0.001018 seconds.\n",
            "You can set `force_row_wise=true` to remove the overhead.\n",
            "And if memory is not enough, you can set `force_col_wise=true`.\n",
            "[LightGBM] [Info] Total Bins 733\n",
            "[LightGBM] [Info] Number of data points in the train set: 7143, number of used features: 41\n",
            "[LightGBM] [Info] [binary:BoostFromScore]: pavg=0.470671 -> initscore=-0.117452\n",
            "[LightGBM] [Info] Start training from score -0.117452\n"
          ]
        },
        {
          "name": "stderr",
          "output_type": "stream",
          "text": [
            "[I 2024-09-20 04:10:53,692] Trial 295 finished with value: 0.7038655429636395 and parameters: {'rf_n_estimators': 224, 'rf_max_depth': 19, 'rf_min_samples_split': 9, 'xgb_n_estimators': 223, 'xgb_learning_rate': 0.09275068291436704, 'xgb_max_depth': 9, 'lgbm_n_estimators': 266, 'lgbm_learning_rate': 0.5330773826250851, 'lgbm_num_leaves': 34}. Best is trial 257 with value: 0.7118772960901607.\n",
            "/var/folders/0h/6t5rrrkd413d6v0z43zmchmm0000gn/T/ipykernel_38998/847976484.py:48: FutureWarning:\n",
            "\n",
            "suggest_loguniform has been deprecated in v3.0.0. This feature will be removed in v6.0.0. See https://github.com/optuna/optuna/releases/tag/v3.0.0. Use suggest_float(..., log=True) instead.\n",
            "\n",
            "/var/folders/0h/6t5rrrkd413d6v0z43zmchmm0000gn/T/ipykernel_38998/847976484.py:54: FutureWarning:\n",
            "\n",
            "suggest_loguniform has been deprecated in v3.0.0. This feature will be removed in v6.0.0. See https://github.com/optuna/optuna/releases/tag/v3.0.0. Use suggest_float(..., log=True) instead.\n",
            "\n"
          ]
        },
        {
          "name": "stdout",
          "output_type": "stream",
          "text": [
            "[LightGBM] [Info] Number of positive: 3362, number of negative: 3781\n",
            "[LightGBM] [Info] Auto-choosing row-wise multi-threading, the overhead of testing was 0.000826 seconds.\n",
            "You can set `force_row_wise=true` to remove the overhead.\n",
            "And if memory is not enough, you can set `force_col_wise=true`.\n",
            "[LightGBM] [Info] Total Bins 733\n",
            "[LightGBM] [Info] Number of data points in the train set: 7143, number of used features: 41\n",
            "[LightGBM] [Info] [binary:BoostFromScore]: pavg=0.470671 -> initscore=-0.117452\n",
            "[LightGBM] [Info] Start training from score -0.117452\n"
          ]
        },
        {
          "name": "stderr",
          "output_type": "stream",
          "text": [
            "[I 2024-09-20 04:10:57,332] Trial 296 finished with value: 0.7004498008485501 and parameters: {'rf_n_estimators': 211, 'rf_max_depth': 23, 'rf_min_samples_split': 9, 'xgb_n_estimators': 231, 'xgb_learning_rate': 0.15248196506394746, 'xgb_max_depth': 9, 'lgbm_n_estimators': 259, 'lgbm_learning_rate': 0.27452626667372, 'lgbm_num_leaves': 33}. Best is trial 257 with value: 0.7118772960901607.\n",
            "/var/folders/0h/6t5rrrkd413d6v0z43zmchmm0000gn/T/ipykernel_38998/847976484.py:48: FutureWarning:\n",
            "\n",
            "suggest_loguniform has been deprecated in v3.0.0. This feature will be removed in v6.0.0. See https://github.com/optuna/optuna/releases/tag/v3.0.0. Use suggest_float(..., log=True) instead.\n",
            "\n",
            "/var/folders/0h/6t5rrrkd413d6v0z43zmchmm0000gn/T/ipykernel_38998/847976484.py:54: FutureWarning:\n",
            "\n",
            "suggest_loguniform has been deprecated in v3.0.0. This feature will be removed in v6.0.0. See https://github.com/optuna/optuna/releases/tag/v3.0.0. Use suggest_float(..., log=True) instead.\n",
            "\n"
          ]
        },
        {
          "name": "stdout",
          "output_type": "stream",
          "text": [
            "[LightGBM] [Info] Number of positive: 3362, number of negative: 3781\n",
            "[LightGBM] [Info] Auto-choosing row-wise multi-threading, the overhead of testing was 0.000947 seconds.\n",
            "You can set `force_row_wise=true` to remove the overhead.\n",
            "And if memory is not enough, you can set `force_col_wise=true`.\n",
            "[LightGBM] [Info] Total Bins 733\n",
            "[LightGBM] [Info] Number of data points in the train set: 7143, number of used features: 41\n",
            "[LightGBM] [Info] [binary:BoostFromScore]: pavg=0.470671 -> initscore=-0.117452\n",
            "[LightGBM] [Info] Start training from score -0.117452\n"
          ]
        },
        {
          "name": "stderr",
          "output_type": "stream",
          "text": [
            "[I 2024-09-20 04:11:01,411] Trial 297 finished with value: 0.6933970753775122 and parameters: {'rf_n_estimators': 294, 'rf_max_depth': 24, 'rf_min_samples_split': 9, 'xgb_n_estimators': 217, 'xgb_learning_rate': 0.07876782617627792, 'xgb_max_depth': 7, 'lgbm_n_estimators': 272, 'lgbm_learning_rate': 0.3872663522590297, 'lgbm_num_leaves': 31}. Best is trial 257 with value: 0.7118772960901607.\n",
            "/var/folders/0h/6t5rrrkd413d6v0z43zmchmm0000gn/T/ipykernel_38998/847976484.py:48: FutureWarning:\n",
            "\n",
            "suggest_loguniform has been deprecated in v3.0.0. This feature will be removed in v6.0.0. See https://github.com/optuna/optuna/releases/tag/v3.0.0. Use suggest_float(..., log=True) instead.\n",
            "\n",
            "/var/folders/0h/6t5rrrkd413d6v0z43zmchmm0000gn/T/ipykernel_38998/847976484.py:54: FutureWarning:\n",
            "\n",
            "suggest_loguniform has been deprecated in v3.0.0. This feature will be removed in v6.0.0. See https://github.com/optuna/optuna/releases/tag/v3.0.0. Use suggest_float(..., log=True) instead.\n",
            "\n"
          ]
        },
        {
          "name": "stdout",
          "output_type": "stream",
          "text": [
            "[LightGBM] [Info] Number of positive: 3362, number of negative: 3781\n",
            "[LightGBM] [Info] Auto-choosing row-wise multi-threading, the overhead of testing was 0.000876 seconds.\n",
            "You can set `force_row_wise=true` to remove the overhead.\n",
            "And if memory is not enough, you can set `force_col_wise=true`.\n",
            "[LightGBM] [Info] Total Bins 733\n",
            "[LightGBM] [Info] Number of data points in the train set: 7143, number of used features: 41\n",
            "[LightGBM] [Info] [binary:BoostFromScore]: pavg=0.470671 -> initscore=-0.117452\n",
            "[LightGBM] [Info] Start training from score -0.117452\n"
          ]
        },
        {
          "name": "stderr",
          "output_type": "stream",
          "text": [
            "[I 2024-09-20 04:11:05,872] Trial 298 finished with value: 0.7043544183222211 and parameters: {'rf_n_estimators': 261, 'rf_max_depth': 22, 'rf_min_samples_split': 7, 'xgb_n_estimators': 232, 'xgb_learning_rate': 0.06524930830975542, 'xgb_max_depth': 9, 'lgbm_n_estimators': 264, 'lgbm_learning_rate': 0.18626931436901653, 'lgbm_num_leaves': 46}. Best is trial 257 with value: 0.7118772960901607.\n",
            "/var/folders/0h/6t5rrrkd413d6v0z43zmchmm0000gn/T/ipykernel_38998/847976484.py:48: FutureWarning:\n",
            "\n",
            "suggest_loguniform has been deprecated in v3.0.0. This feature will be removed in v6.0.0. See https://github.com/optuna/optuna/releases/tag/v3.0.0. Use suggest_float(..., log=True) instead.\n",
            "\n",
            "/var/folders/0h/6t5rrrkd413d6v0z43zmchmm0000gn/T/ipykernel_38998/847976484.py:54: FutureWarning:\n",
            "\n",
            "suggest_loguniform has been deprecated in v3.0.0. This feature will be removed in v6.0.0. See https://github.com/optuna/optuna/releases/tag/v3.0.0. Use suggest_float(..., log=True) instead.\n",
            "\n"
          ]
        },
        {
          "name": "stdout",
          "output_type": "stream",
          "text": [
            "[LightGBM] [Info] Number of positive: 3362, number of negative: 3781\n",
            "[LightGBM] [Info] Auto-choosing row-wise multi-threading, the overhead of testing was 0.001011 seconds.\n",
            "You can set `force_row_wise=true` to remove the overhead.\n",
            "And if memory is not enough, you can set `force_col_wise=true`.\n",
            "[LightGBM] [Info] Total Bins 733\n",
            "[LightGBM] [Info] Number of data points in the train set: 7143, number of used features: 41\n",
            "[LightGBM] [Info] [binary:BoostFromScore]: pavg=0.470671 -> initscore=-0.117452\n",
            "[LightGBM] [Info] Start training from score -0.117452\n"
          ]
        },
        {
          "name": "stderr",
          "output_type": "stream",
          "text": [
            "[I 2024-09-20 04:11:10,127] Trial 299 finished with value: 0.6997131211222334 and parameters: {'rf_n_estimators': 290, 'rf_max_depth': 24, 'rf_min_samples_split': 8, 'xgb_n_estimators': 224, 'xgb_learning_rate': 0.11559821235262113, 'xgb_max_depth': 9, 'lgbm_n_estimators': 248, 'lgbm_learning_rate': 0.06279629106035517, 'lgbm_num_leaves': 29}. Best is trial 257 with value: 0.7118772960901607.\n"
          ]
        },
        {
          "name": "stdout",
          "output_type": "stream",
          "text": [
            "[LightGBM] [Info] Number of positive: 4222, number of negative: 4707\n",
            "[LightGBM] [Info] Auto-choosing row-wise multi-threading, the overhead of testing was 0.000865 seconds.\n",
            "You can set `force_row_wise=true` to remove the overhead.\n",
            "And if memory is not enough, you can set `force_col_wise=true`.\n",
            "[LightGBM] [Info] Total Bins 735\n",
            "[LightGBM] [Info] Number of data points in the train set: 8929, number of used features: 41\n",
            "[LightGBM] [Info] [binary:BoostFromScore]: pavg=0.472841 -> initscore=-0.108742\n",
            "[LightGBM] [Info] Start training from score -0.108742\n",
            "optuna Accuracy: 0.7273\n",
            "optuna AUC: 0.7929\n",
            "optuna Recall: 0.6401\n"
          ]
        }
      ],
      "source": [
        "import numpy as np\n",
        "import pandas as pd\n",
        "import optuna\n",
        "from sklearn.model_selection import train_test_split\n",
        "from sklearn.ensemble import RandomForestClassifier, VotingClassifier\n",
        "from sklearn.metrics import roc_auc_score, recall_score, make_scorer\n",
        "from xgboost import XGBClassifier\n",
        "from lightgbm import LGBMClassifier\n",
        "# from optuna.integration import LightGBMPruningCallback\n",
        "import joblib\n",
        "\n",
        "# 데이터 준비 (이전 코드와 동일)\n",
        "X = df.drop(['deposit', 'duration'], axis=1)\n",
        "df['deposit'] = df['deposit'].replace({'yes': 1, 'no': 0})\n",
        "y = df['deposit']\n",
        "\n",
        "# 범주형 변수 원-핫 인코딩\n",
        "X = pd.get_dummies(X, drop_first=True)\n",
        "\n",
        "# 데이터를 train+validation과 test로 분할\n",
        "X_train_val, X_test, y_train_val, y_test = train_test_split(X, y, test_size=0.2, random_state=42)\n",
        "\n",
        "# train+validation을 다시 train과 validation으로 분할\n",
        "X_train, X_val, y_train, y_val = train_test_split(X_train_val, y_train_val, test_size=0.2, random_state=42)\n",
        "\n",
        "\n",
        "\n",
        "\n",
        "# SQLite 데이터베이스 URL 설정\n",
        "STUDY_NAME = 'bank_marketing_optimization'\n",
        "DB_URL = f'sqlite:///{STUDY_NAME}.db'\n",
        "\n",
        "\n",
        "# def custom_score(y_true, y_pred_proba):\n",
        "#     auc = roc_auc_score(y_true, y_pred_proba)\n",
        "#     recall = recall_score(y_true, y_pred_proba > 0.5, pos_label=1)\n",
        "#     return 2 * (auc * recall) / (auc + recall)\n",
        "\n",
        "def objective(trial):\n",
        "    rf_params = {\n",
        "        'n_estimators': trial.suggest_int('rf_n_estimators', 50, 300),\n",
        "        'max_depth': trial.suggest_int('rf_max_depth', 5, 30),\n",
        "        'min_samples_split': trial.suggest_int('rf_min_samples_split', 2, 10)\n",
        "    }\n",
        "    \n",
        "    xgb_params = {\n",
        "        'n_estimators': trial.suggest_int('xgb_n_estimators', 50, 300),\n",
        "        'learning_rate': trial.suggest_loguniform('xgb_learning_rate', 1e-3, 1.0),\n",
        "        'max_depth': trial.suggest_int('xgb_max_depth', 3, 10)\n",
        "    }\n",
        "    \n",
        "    lgbm_params = {\n",
        "        'n_estimators': trial.suggest_int('lgbm_n_estimators', 50, 300),\n",
        "        'learning_rate': trial.suggest_loguniform('lgbm_learning_rate', 1e-3, 1.0),\n",
        "        'num_leaves': trial.suggest_int('lgbm_num_leaves', 20, 100)\n",
        "    }\n",
        "    \n",
        "    rf = RandomForestClassifier(**rf_params, random_state=42)\n",
        "    xgb = XGBClassifier(**xgb_params, random_state=42)\n",
        "    lgbm = LGBMClassifier(**lgbm_params, random_state=42)\n",
        "    \n",
        "    voting_clf = VotingClassifier([\n",
        "        ('rf', rf),\n",
        "        ('xgb', xgb),\n",
        "        ('lgbm', lgbm)\n",
        "    ], voting='soft')\n",
        "    \n",
        "    voting_clf.fit(X_train, y_train)\n",
        "    y_pred_proba = voting_clf.predict_proba(X_val)[:, 1]\n",
        "    \n",
        "    return custom_score(y_val, y_pred_proba)\n",
        "\n",
        "# Optuna 스터디 생성 (SQLite 데이터베이스 사용)\n",
        "study = optuna.create_study(\n",
        "    study_name=STUDY_NAME,\n",
        "    storage=DB_URL,\n",
        "    load_if_exists=True,\n",
        "    direction='maximize'\n",
        ")\n",
        "\n",
        "# 최적화 실행\n",
        "study.optimize(objective, n_trials=100)\n",
        "\n",
        "# 최적의 하이퍼파라미터로 모델 생성\n",
        "best_params = study.best_params\n",
        "rf = RandomForestClassifier(\n",
        "    n_estimators=best_params['rf_n_estimators'],\n",
        "    max_depth=best_params['rf_max_depth'],\n",
        "    min_samples_split=best_params['rf_min_samples_split'],\n",
        "    random_state=42\n",
        ")\n",
        "xgb = XGBClassifier(\n",
        "    n_estimators=best_params['xgb_n_estimators'],\n",
        "    learning_rate=best_params['xgb_learning_rate'],\n",
        "    max_depth=best_params['xgb_max_depth'],\n",
        "    random_state=42\n",
        ")\n",
        "lgbm = LGBMClassifier(\n",
        "    n_estimators=best_params['lgbm_n_estimators'],\n",
        "    learning_rate=best_params['lgbm_learning_rate'],\n",
        "    num_leaves=best_params['lgbm_num_leaves'],\n",
        "    random_state=42\n",
        ")\n",
        "\n",
        "best_voting_clf = VotingClassifier([\n",
        "    ('rf', rf),\n",
        "    ('xgb', xgb),\n",
        "    ('lgbm', lgbm)\n",
        "], voting='soft')\n",
        " \n",
        "# 최종 모델 학습\n",
        "best_voting_clf.fit(X_train_val, y_train_val)\n",
        "\n",
        "# 모델 저장\n",
        "joblib.dump(best_voting_clf, 'best_voting_clf.joblib')\n",
        "\n",
        "# 테스트 세트에서 성능 평가\n",
        "y_pred = best_voting_clf.predict(X_test)\n",
        "y_pred_proba = best_voting_clf.predict_proba(X_test)[:, 1]\n",
        "\n",
        "# accuracy, AUC와 Recall 계산\n",
        "accuracy = accuracy_score(y_test, y_pred)\n",
        "auc = roc_auc_score(y_test, y_pred_proba)\n",
        "recall = recall_score(y_test, y_pred, pos_label=1)\n",
        "\n",
        "print(f\"optuna Accuracy: {accuracy:.4f}\")\n",
        "print(f\"optuna AUC: {auc:.4f}\")\n",
        "print(f\"optuna Recall: {recall:.4f}\")\n"
      ]
    },
    {
      "cell_type": "code",
      "execution_count": null,
      "metadata": {},
      "outputs": [],
      "source": []
    },
    {
      "cell_type": "code",
      "execution_count": 7,
      "metadata": {
        "colab": {
          "base_uri": "https://localhost:8080/"
        },
        "id": "tmSJNQHUx1TV",
        "outputId": "fbbff4ab-184e-49c2-c92f-8b04f3ece88e"
      },
      "outputs": [
        {
          "name": "stderr",
          "output_type": "stream",
          "text": [
            "[I 2024-09-20 03:00:29,632] A new study created in memory with name: bank_marketing_optimization\n",
            "/var/folders/0h/6t5rrrkd413d6v0z43zmchmm0000gn/T/ipykernel_38998/738175.py:42: FutureWarning: suggest_loguniform has been deprecated in v3.0.0. This feature will be removed in v6.0.0. See https://github.com/optuna/optuna/releases/tag/v3.0.0. Use suggest_float(..., log=True) instead.\n",
            "  'learning_rate': trial.suggest_loguniform('xgb_learning_rate', 1e-3, 1.0),\n",
            "/var/folders/0h/6t5rrrkd413d6v0z43zmchmm0000gn/T/ipykernel_38998/738175.py:48: FutureWarning: suggest_loguniform has been deprecated in v3.0.0. This feature will be removed in v6.0.0. See https://github.com/optuna/optuna/releases/tag/v3.0.0. Use suggest_float(..., log=True) instead.\n",
            "  'learning_rate': trial.suggest_loguniform('lgbm_learning_rate', 1e-3, 1.0),\n"
          ]
        },
        {
          "name": "stdout",
          "output_type": "stream",
          "text": [
            "[LightGBM] [Info] Number of positive: 3362, number of negative: 3781\n",
            "[LightGBM] [Info] Auto-choosing row-wise multi-threading, the overhead of testing was 0.000880 seconds.\n",
            "You can set `force_row_wise=true` to remove the overhead.\n",
            "And if memory is not enough, you can set `force_col_wise=true`.\n",
            "[LightGBM] [Info] Total Bins 733\n",
            "[LightGBM] [Info] Number of data points in the train set: 7143, number of used features: 41\n",
            "[LightGBM] [Info] [binary:BoostFromScore]: pavg=0.470671 -> initscore=-0.117452\n",
            "[LightGBM] [Info] Start training from score -0.117452\n"
          ]
        },
        {
          "name": "stderr",
          "output_type": "stream",
          "text": [
            "[I 2024-09-20 03:00:31,875] Trial 0 finished with value: 0.6865007965959817 and parameters: {'rf_n_estimators': 137, 'rf_max_depth': 10, 'rf_min_samples_split': 7, 'xgb_n_estimators': 105, 'xgb_learning_rate': 0.0010858672397783306, 'xgb_max_depth': 3, 'lgbm_n_estimators': 173, 'lgbm_learning_rate': 0.3098067994913723, 'lgbm_num_leaves': 60}. Best is trial 0 with value: 0.6865007965959817.\n",
            "/var/folders/0h/6t5rrrkd413d6v0z43zmchmm0000gn/T/ipykernel_38998/738175.py:42: FutureWarning: suggest_loguniform has been deprecated in v3.0.0. This feature will be removed in v6.0.0. See https://github.com/optuna/optuna/releases/tag/v3.0.0. Use suggest_float(..., log=True) instead.\n",
            "  'learning_rate': trial.suggest_loguniform('xgb_learning_rate', 1e-3, 1.0),\n",
            "/var/folders/0h/6t5rrrkd413d6v0z43zmchmm0000gn/T/ipykernel_38998/738175.py:48: FutureWarning: suggest_loguniform has been deprecated in v3.0.0. This feature will be removed in v6.0.0. See https://github.com/optuna/optuna/releases/tag/v3.0.0. Use suggest_float(..., log=True) instead.\n",
            "  'learning_rate': trial.suggest_loguniform('lgbm_learning_rate', 1e-3, 1.0),\n"
          ]
        },
        {
          "name": "stdout",
          "output_type": "stream",
          "text": [
            "[LightGBM] [Info] Number of positive: 3362, number of negative: 3781\n",
            "[LightGBM] [Info] Auto-choosing row-wise multi-threading, the overhead of testing was 0.001035 seconds.\n",
            "You can set `force_row_wise=true` to remove the overhead.\n",
            "And if memory is not enough, you can set `force_col_wise=true`.\n",
            "[LightGBM] [Info] Total Bins 733\n",
            "[LightGBM] [Info] Number of data points in the train set: 7143, number of used features: 41\n",
            "[LightGBM] [Info] [binary:BoostFromScore]: pavg=0.470671 -> initscore=-0.117452\n",
            "[LightGBM] [Info] Start training from score -0.117452\n"
          ]
        },
        {
          "name": "stderr",
          "output_type": "stream",
          "text": [
            "[I 2024-09-20 03:00:36,326] Trial 1 finished with value: 0.687827754775586 and parameters: {'rf_n_estimators': 274, 'rf_max_depth': 17, 'rf_min_samples_split': 7, 'xgb_n_estimators': 113, 'xgb_learning_rate': 0.08193602485634323, 'xgb_max_depth': 7, 'lgbm_n_estimators': 267, 'lgbm_learning_rate': 0.02103318755258792, 'lgbm_num_leaves': 59}. Best is trial 1 with value: 0.687827754775586.\n",
            "/var/folders/0h/6t5rrrkd413d6v0z43zmchmm0000gn/T/ipykernel_38998/738175.py:42: FutureWarning: suggest_loguniform has been deprecated in v3.0.0. This feature will be removed in v6.0.0. See https://github.com/optuna/optuna/releases/tag/v3.0.0. Use suggest_float(..., log=True) instead.\n",
            "  'learning_rate': trial.suggest_loguniform('xgb_learning_rate', 1e-3, 1.0),\n",
            "/var/folders/0h/6t5rrrkd413d6v0z43zmchmm0000gn/T/ipykernel_38998/738175.py:48: FutureWarning: suggest_loguniform has been deprecated in v3.0.0. This feature will be removed in v6.0.0. See https://github.com/optuna/optuna/releases/tag/v3.0.0. Use suggest_float(..., log=True) instead.\n",
            "  'learning_rate': trial.suggest_loguniform('lgbm_learning_rate', 1e-3, 1.0),\n"
          ]
        },
        {
          "name": "stdout",
          "output_type": "stream",
          "text": [
            "[LightGBM] [Info] Number of positive: 3362, number of negative: 3781\n",
            "[LightGBM] [Info] Auto-choosing row-wise multi-threading, the overhead of testing was 0.000898 seconds.\n",
            "You can set `force_row_wise=true` to remove the overhead.\n",
            "And if memory is not enough, you can set `force_col_wise=true`.\n",
            "[LightGBM] [Info] Total Bins 733\n",
            "[LightGBM] [Info] Number of data points in the train set: 7143, number of used features: 41\n",
            "[LightGBM] [Info] [binary:BoostFromScore]: pavg=0.470671 -> initscore=-0.117452\n",
            "[LightGBM] [Info] Start training from score -0.117452\n"
          ]
        },
        {
          "name": "stderr",
          "output_type": "stream",
          "text": [
            "[I 2024-09-20 03:00:38,709] Trial 2 finished with value: 0.6906418562566786 and parameters: {'rf_n_estimators': 171, 'rf_max_depth': 19, 'rf_min_samples_split': 6, 'xgb_n_estimators': 61, 'xgb_learning_rate': 0.13959102330086468, 'xgb_max_depth': 3, 'lgbm_n_estimators': 165, 'lgbm_learning_rate': 0.3017847186815914, 'lgbm_num_leaves': 46}. Best is trial 2 with value: 0.6906418562566786.\n",
            "/var/folders/0h/6t5rrrkd413d6v0z43zmchmm0000gn/T/ipykernel_38998/738175.py:42: FutureWarning: suggest_loguniform has been deprecated in v3.0.0. This feature will be removed in v6.0.0. See https://github.com/optuna/optuna/releases/tag/v3.0.0. Use suggest_float(..., log=True) instead.\n",
            "  'learning_rate': trial.suggest_loguniform('xgb_learning_rate', 1e-3, 1.0),\n",
            "/var/folders/0h/6t5rrrkd413d6v0z43zmchmm0000gn/T/ipykernel_38998/738175.py:48: FutureWarning: suggest_loguniform has been deprecated in v3.0.0. This feature will be removed in v6.0.0. See https://github.com/optuna/optuna/releases/tag/v3.0.0. Use suggest_float(..., log=True) instead.\n",
            "  'learning_rate': trial.suggest_loguniform('lgbm_learning_rate', 1e-3, 1.0),\n"
          ]
        },
        {
          "name": "stdout",
          "output_type": "stream",
          "text": [
            "[LightGBM] [Info] Number of positive: 3362, number of negative: 3781\n",
            "[LightGBM] [Info] Auto-choosing row-wise multi-threading, the overhead of testing was 0.000764 seconds.\n",
            "You can set `force_row_wise=true` to remove the overhead.\n",
            "And if memory is not enough, you can set `force_col_wise=true`.\n",
            "[LightGBM] [Info] Total Bins 733\n",
            "[LightGBM] [Info] Number of data points in the train set: 7143, number of used features: 41\n",
            "[LightGBM] [Info] [binary:BoostFromScore]: pavg=0.470671 -> initscore=-0.117452\n",
            "[LightGBM] [Info] Start training from score -0.117452\n"
          ]
        },
        {
          "name": "stderr",
          "output_type": "stream",
          "text": [
            "[I 2024-09-20 03:00:41,358] Trial 3 finished with value: 0.6685462331750591 and parameters: {'rf_n_estimators': 266, 'rf_max_depth': 7, 'rf_min_samples_split': 2, 'xgb_n_estimators': 141, 'xgb_learning_rate': 0.04040745968238633, 'xgb_max_depth': 4, 'lgbm_n_estimators': 243, 'lgbm_learning_rate': 0.0432334986176473, 'lgbm_num_leaves': 41}. Best is trial 2 with value: 0.6906418562566786.\n",
            "/var/folders/0h/6t5rrrkd413d6v0z43zmchmm0000gn/T/ipykernel_38998/738175.py:42: FutureWarning: suggest_loguniform has been deprecated in v3.0.0. This feature will be removed in v6.0.0. See https://github.com/optuna/optuna/releases/tag/v3.0.0. Use suggest_float(..., log=True) instead.\n",
            "  'learning_rate': trial.suggest_loguniform('xgb_learning_rate', 1e-3, 1.0),\n",
            "/var/folders/0h/6t5rrrkd413d6v0z43zmchmm0000gn/T/ipykernel_38998/738175.py:48: FutureWarning: suggest_loguniform has been deprecated in v3.0.0. This feature will be removed in v6.0.0. See https://github.com/optuna/optuna/releases/tag/v3.0.0. Use suggest_float(..., log=True) instead.\n",
            "  'learning_rate': trial.suggest_loguniform('lgbm_learning_rate', 1e-3, 1.0),\n"
          ]
        },
        {
          "name": "stdout",
          "output_type": "stream",
          "text": [
            "[LightGBM] [Info] Number of positive: 3362, number of negative: 3781\n",
            "[LightGBM] [Info] Auto-choosing row-wise multi-threading, the overhead of testing was 0.000838 seconds.\n",
            "You can set `force_row_wise=true` to remove the overhead.\n",
            "And if memory is not enough, you can set `force_col_wise=true`.\n",
            "[LightGBM] [Info] Total Bins 733\n",
            "[LightGBM] [Info] Number of data points in the train set: 7143, number of used features: 41\n",
            "[LightGBM] [Info] [binary:BoostFromScore]: pavg=0.470671 -> initscore=-0.117452\n",
            "[LightGBM] [Info] Start training from score -0.117452\n"
          ]
        },
        {
          "name": "stderr",
          "output_type": "stream",
          "text": [
            "[I 2024-09-20 03:00:46,765] Trial 4 finished with value: 0.6876072086038133 and parameters: {'rf_n_estimators': 88, 'rf_max_depth': 24, 'rf_min_samples_split': 6, 'xgb_n_estimators': 252, 'xgb_learning_rate': 0.0048360637260057805, 'xgb_max_depth': 6, 'lgbm_n_estimators': 296, 'lgbm_learning_rate': 0.019933809897522792, 'lgbm_num_leaves': 99}. Best is trial 2 with value: 0.6906418562566786.\n",
            "/var/folders/0h/6t5rrrkd413d6v0z43zmchmm0000gn/T/ipykernel_38998/738175.py:42: FutureWarning: suggest_loguniform has been deprecated in v3.0.0. This feature will be removed in v6.0.0. See https://github.com/optuna/optuna/releases/tag/v3.0.0. Use suggest_float(..., log=True) instead.\n",
            "  'learning_rate': trial.suggest_loguniform('xgb_learning_rate', 1e-3, 1.0),\n",
            "/var/folders/0h/6t5rrrkd413d6v0z43zmchmm0000gn/T/ipykernel_38998/738175.py:48: FutureWarning: suggest_loguniform has been deprecated in v3.0.0. This feature will be removed in v6.0.0. See https://github.com/optuna/optuna/releases/tag/v3.0.0. Use suggest_float(..., log=True) instead.\n",
            "  'learning_rate': trial.suggest_loguniform('lgbm_learning_rate', 1e-3, 1.0),\n"
          ]
        },
        {
          "name": "stdout",
          "output_type": "stream",
          "text": [
            "[LightGBM] [Info] Number of positive: 3362, number of negative: 3781\n",
            "[LightGBM] [Info] Auto-choosing row-wise multi-threading, the overhead of testing was 0.000856 seconds.\n",
            "You can set `force_row_wise=true` to remove the overhead.\n",
            "And if memory is not enough, you can set `force_col_wise=true`.\n",
            "[LightGBM] [Info] Total Bins 733\n",
            "[LightGBM] [Info] Number of data points in the train set: 7143, number of used features: 41\n",
            "[LightGBM] [Info] [binary:BoostFromScore]: pavg=0.470671 -> initscore=-0.117452\n",
            "[LightGBM] [Info] Start training from score -0.117452\n"
          ]
        },
        {
          "name": "stderr",
          "output_type": "stream",
          "text": [
            "[I 2024-09-20 03:00:49,243] Trial 5 finished with value: 0.6635400775646547 and parameters: {'rf_n_estimators': 143, 'rf_max_depth': 13, 'rf_min_samples_split': 3, 'xgb_n_estimators': 215, 'xgb_learning_rate': 0.011205517110993287, 'xgb_max_depth': 5, 'lgbm_n_estimators': 130, 'lgbm_learning_rate': 0.01926115512640384, 'lgbm_num_leaves': 63}. Best is trial 2 with value: 0.6906418562566786.\n",
            "/var/folders/0h/6t5rrrkd413d6v0z43zmchmm0000gn/T/ipykernel_38998/738175.py:42: FutureWarning: suggest_loguniform has been deprecated in v3.0.0. This feature will be removed in v6.0.0. See https://github.com/optuna/optuna/releases/tag/v3.0.0. Use suggest_float(..., log=True) instead.\n",
            "  'learning_rate': trial.suggest_loguniform('xgb_learning_rate', 1e-3, 1.0),\n",
            "/var/folders/0h/6t5rrrkd413d6v0z43zmchmm0000gn/T/ipykernel_38998/738175.py:48: FutureWarning: suggest_loguniform has been deprecated in v3.0.0. This feature will be removed in v6.0.0. See https://github.com/optuna/optuna/releases/tag/v3.0.0. Use suggest_float(..., log=True) instead.\n",
            "  'learning_rate': trial.suggest_loguniform('lgbm_learning_rate', 1e-3, 1.0),\n"
          ]
        },
        {
          "name": "stdout",
          "output_type": "stream",
          "text": [
            "[LightGBM] [Info] Number of positive: 3362, number of negative: 3781\n",
            "[LightGBM] [Info] Auto-choosing row-wise multi-threading, the overhead of testing was 0.000873 seconds.\n",
            "You can set `force_row_wise=true` to remove the overhead.\n",
            "And if memory is not enough, you can set `force_col_wise=true`.\n",
            "[LightGBM] [Info] Total Bins 733\n",
            "[LightGBM] [Info] Number of data points in the train set: 7143, number of used features: 41\n",
            "[LightGBM] [Info] [binary:BoostFromScore]: pavg=0.470671 -> initscore=-0.117452\n",
            "[LightGBM] [Info] Start training from score -0.117452\n"
          ]
        },
        {
          "name": "stderr",
          "output_type": "stream",
          "text": [
            "[I 2024-09-20 03:00:52,354] Trial 6 finished with value: 0.660416252612027 and parameters: {'rf_n_estimators': 245, 'rf_max_depth': 28, 'rf_min_samples_split': 4, 'xgb_n_estimators': 120, 'xgb_learning_rate': 0.003157264738327718, 'xgb_max_depth': 9, 'lgbm_n_estimators': 200, 'lgbm_learning_rate': 0.0029863636084826507, 'lgbm_num_leaves': 25}. Best is trial 2 with value: 0.6906418562566786.\n",
            "/var/folders/0h/6t5rrrkd413d6v0z43zmchmm0000gn/T/ipykernel_38998/738175.py:42: FutureWarning: suggest_loguniform has been deprecated in v3.0.0. This feature will be removed in v6.0.0. See https://github.com/optuna/optuna/releases/tag/v3.0.0. Use suggest_float(..., log=True) instead.\n",
            "  'learning_rate': trial.suggest_loguniform('xgb_learning_rate', 1e-3, 1.0),\n",
            "/var/folders/0h/6t5rrrkd413d6v0z43zmchmm0000gn/T/ipykernel_38998/738175.py:48: FutureWarning: suggest_loguniform has been deprecated in v3.0.0. This feature will be removed in v6.0.0. See https://github.com/optuna/optuna/releases/tag/v3.0.0. Use suggest_float(..., log=True) instead.\n",
            "  'learning_rate': trial.suggest_loguniform('lgbm_learning_rate', 1e-3, 1.0),\n"
          ]
        },
        {
          "name": "stdout",
          "output_type": "stream",
          "text": [
            "[LightGBM] [Info] Number of positive: 3362, number of negative: 3781\n",
            "[LightGBM] [Info] Auto-choosing row-wise multi-threading, the overhead of testing was 0.000833 seconds.\n",
            "You can set `force_row_wise=true` to remove the overhead.\n",
            "And if memory is not enough, you can set `force_col_wise=true`.\n",
            "[LightGBM] [Info] Total Bins 733\n",
            "[LightGBM] [Info] Number of data points in the train set: 7143, number of used features: 41\n",
            "[LightGBM] [Info] [binary:BoostFromScore]: pavg=0.470671 -> initscore=-0.117452\n",
            "[LightGBM] [Info] Start training from score -0.117452\n"
          ]
        },
        {
          "name": "stderr",
          "output_type": "stream",
          "text": [
            "[I 2024-09-20 03:00:54,164] Trial 7 finished with value: 0.6373083415966139 and parameters: {'rf_n_estimators': 99, 'rf_max_depth': 6, 'rf_min_samples_split': 3, 'xgb_n_estimators': 273, 'xgb_learning_rate': 0.011948840884790464, 'xgb_max_depth': 3, 'lgbm_n_estimators': 152, 'lgbm_learning_rate': 0.005516529700813564, 'lgbm_num_leaves': 50}. Best is trial 2 with value: 0.6906418562566786.\n",
            "/var/folders/0h/6t5rrrkd413d6v0z43zmchmm0000gn/T/ipykernel_38998/738175.py:42: FutureWarning: suggest_loguniform has been deprecated in v3.0.0. This feature will be removed in v6.0.0. See https://github.com/optuna/optuna/releases/tag/v3.0.0. Use suggest_float(..., log=True) instead.\n",
            "  'learning_rate': trial.suggest_loguniform('xgb_learning_rate', 1e-3, 1.0),\n",
            "/var/folders/0h/6t5rrrkd413d6v0z43zmchmm0000gn/T/ipykernel_38998/738175.py:48: FutureWarning: suggest_loguniform has been deprecated in v3.0.0. This feature will be removed in v6.0.0. See https://github.com/optuna/optuna/releases/tag/v3.0.0. Use suggest_float(..., log=True) instead.\n",
            "  'learning_rate': trial.suggest_loguniform('lgbm_learning_rate', 1e-3, 1.0),\n"
          ]
        },
        {
          "name": "stdout",
          "output_type": "stream",
          "text": [
            "[LightGBM] [Info] Number of positive: 3362, number of negative: 3781\n",
            "[LightGBM] [Info] Auto-choosing row-wise multi-threading, the overhead of testing was 0.000841 seconds.\n",
            "You can set `force_row_wise=true` to remove the overhead.\n",
            "And if memory is not enough, you can set `force_col_wise=true`.\n",
            "[LightGBM] [Info] Total Bins 733\n",
            "[LightGBM] [Info] Number of data points in the train set: 7143, number of used features: 41\n",
            "[LightGBM] [Info] [binary:BoostFromScore]: pavg=0.470671 -> initscore=-0.117452\n",
            "[LightGBM] [Info] Start training from score -0.117452\n"
          ]
        },
        {
          "name": "stderr",
          "output_type": "stream",
          "text": [
            "[I 2024-09-20 03:00:58,100] Trial 8 finished with value: 0.6918208028031556 and parameters: {'rf_n_estimators': 93, 'rf_max_depth': 28, 'rf_min_samples_split': 9, 'xgb_n_estimators': 238, 'xgb_learning_rate': 0.004256857212893228, 'xgb_max_depth': 6, 'lgbm_n_estimators': 198, 'lgbm_learning_rate': 0.03526194703177866, 'lgbm_num_leaves': 99}. Best is trial 8 with value: 0.6918208028031556.\n",
            "/var/folders/0h/6t5rrrkd413d6v0z43zmchmm0000gn/T/ipykernel_38998/738175.py:42: FutureWarning: suggest_loguniform has been deprecated in v3.0.0. This feature will be removed in v6.0.0. See https://github.com/optuna/optuna/releases/tag/v3.0.0. Use suggest_float(..., log=True) instead.\n",
            "  'learning_rate': trial.suggest_loguniform('xgb_learning_rate', 1e-3, 1.0),\n",
            "/var/folders/0h/6t5rrrkd413d6v0z43zmchmm0000gn/T/ipykernel_38998/738175.py:48: FutureWarning: suggest_loguniform has been deprecated in v3.0.0. This feature will be removed in v6.0.0. See https://github.com/optuna/optuna/releases/tag/v3.0.0. Use suggest_float(..., log=True) instead.\n",
            "  'learning_rate': trial.suggest_loguniform('lgbm_learning_rate', 1e-3, 1.0),\n"
          ]
        },
        {
          "name": "stdout",
          "output_type": "stream",
          "text": [
            "[LightGBM] [Info] Number of positive: 3362, number of negative: 3781\n",
            "[LightGBM] [Info] Auto-choosing row-wise multi-threading, the overhead of testing was 0.000939 seconds.\n",
            "You can set `force_row_wise=true` to remove the overhead.\n",
            "And if memory is not enough, you can set `force_col_wise=true`.\n",
            "[LightGBM] [Info] Total Bins 733\n",
            "[LightGBM] [Info] Number of data points in the train set: 7143, number of used features: 41\n",
            "[LightGBM] [Info] [binary:BoostFromScore]: pavg=0.470671 -> initscore=-0.117452\n",
            "[LightGBM] [Info] Start training from score -0.117452\n"
          ]
        },
        {
          "name": "stderr",
          "output_type": "stream",
          "text": [
            "[I 2024-09-20 03:01:03,284] Trial 9 finished with value: 0.6798431434689399 and parameters: {'rf_n_estimators': 150, 'rf_max_depth': 10, 'rf_min_samples_split': 9, 'xgb_n_estimators': 208, 'xgb_learning_rate': 0.09774828539327773, 'xgb_max_depth': 4, 'lgbm_n_estimators': 286, 'lgbm_learning_rate': 0.0036281911514646054, 'lgbm_num_leaves': 99}. Best is trial 8 with value: 0.6918208028031556.\n",
            "/var/folders/0h/6t5rrrkd413d6v0z43zmchmm0000gn/T/ipykernel_38998/738175.py:42: FutureWarning: suggest_loguniform has been deprecated in v3.0.0. This feature will be removed in v6.0.0. See https://github.com/optuna/optuna/releases/tag/v3.0.0. Use suggest_float(..., log=True) instead.\n",
            "  'learning_rate': trial.suggest_loguniform('xgb_learning_rate', 1e-3, 1.0),\n",
            "/var/folders/0h/6t5rrrkd413d6v0z43zmchmm0000gn/T/ipykernel_38998/738175.py:48: FutureWarning: suggest_loguniform has been deprecated in v3.0.0. This feature will be removed in v6.0.0. See https://github.com/optuna/optuna/releases/tag/v3.0.0. Use suggest_float(..., log=True) instead.\n",
            "  'learning_rate': trial.suggest_loguniform('lgbm_learning_rate', 1e-3, 1.0),\n"
          ]
        },
        {
          "name": "stdout",
          "output_type": "stream",
          "text": [
            "[LightGBM] [Info] Number of positive: 3362, number of negative: 3781\n",
            "[LightGBM] [Info] Auto-choosing row-wise multi-threading, the overhead of testing was 0.000900 seconds.\n",
            "You can set `force_row_wise=true` to remove the overhead.\n",
            "And if memory is not enough, you can set `force_col_wise=true`.\n",
            "[LightGBM] [Info] Total Bins 733\n",
            "[LightGBM] [Info] Number of data points in the train set: 7143, number of used features: 41\n",
            "[LightGBM] [Info] [binary:BoostFromScore]: pavg=0.470671 -> initscore=-0.117452\n",
            "[LightGBM] [Info] Start training from score -0.117452\n"
          ]
        },
        {
          "name": "stderr",
          "output_type": "stream",
          "text": [
            "[I 2024-09-20 03:01:05,054] Trial 10 finished with value: 0.7048421125805019 and parameters: {'rf_n_estimators': 52, 'rf_max_depth': 29, 'rf_min_samples_split': 10, 'xgb_n_estimators': 300, 'xgb_learning_rate': 0.6074090385671979, 'xgb_max_depth': 8, 'lgbm_n_estimators': 57, 'lgbm_learning_rate': 0.1007946616482779, 'lgbm_num_leaves': 82}. Best is trial 10 with value: 0.7048421125805019.\n",
            "/var/folders/0h/6t5rrrkd413d6v0z43zmchmm0000gn/T/ipykernel_38998/738175.py:42: FutureWarning: suggest_loguniform has been deprecated in v3.0.0. This feature will be removed in v6.0.0. See https://github.com/optuna/optuna/releases/tag/v3.0.0. Use suggest_float(..., log=True) instead.\n",
            "  'learning_rate': trial.suggest_loguniform('xgb_learning_rate', 1e-3, 1.0),\n",
            "/var/folders/0h/6t5rrrkd413d6v0z43zmchmm0000gn/T/ipykernel_38998/738175.py:48: FutureWarning: suggest_loguniform has been deprecated in v3.0.0. This feature will be removed in v6.0.0. See https://github.com/optuna/optuna/releases/tag/v3.0.0. Use suggest_float(..., log=True) instead.\n",
            "  'learning_rate': trial.suggest_loguniform('lgbm_learning_rate', 1e-3, 1.0),\n"
          ]
        },
        {
          "name": "stdout",
          "output_type": "stream",
          "text": [
            "[LightGBM] [Info] Number of positive: 3362, number of negative: 3781\n",
            "[LightGBM] [Info] Auto-choosing row-wise multi-threading, the overhead of testing was 0.000822 seconds.\n",
            "You can set `force_row_wise=true` to remove the overhead.\n",
            "And if memory is not enough, you can set `force_col_wise=true`.\n",
            "[LightGBM] [Info] Total Bins 733\n",
            "[LightGBM] [Info] Number of data points in the train set: 7143, number of used features: 41\n",
            "[LightGBM] [Info] [binary:BoostFromScore]: pavg=0.470671 -> initscore=-0.117452\n",
            "[LightGBM] [Info] Start training from score -0.117452\n"
          ]
        },
        {
          "name": "stderr",
          "output_type": "stream",
          "text": [
            "[I 2024-09-20 03:01:06,904] Trial 11 finished with value: 0.7004949039018028 and parameters: {'rf_n_estimators': 53, 'rf_max_depth': 30, 'rf_min_samples_split': 10, 'xgb_n_estimators': 300, 'xgb_learning_rate': 0.8279164805431508, 'xgb_max_depth': 8, 'lgbm_n_estimators': 55, 'lgbm_learning_rate': 0.08602767583868451, 'lgbm_num_leaves': 83}. Best is trial 10 with value: 0.7048421125805019.\n",
            "/var/folders/0h/6t5rrrkd413d6v0z43zmchmm0000gn/T/ipykernel_38998/738175.py:42: FutureWarning: suggest_loguniform has been deprecated in v3.0.0. This feature will be removed in v6.0.0. See https://github.com/optuna/optuna/releases/tag/v3.0.0. Use suggest_float(..., log=True) instead.\n",
            "  'learning_rate': trial.suggest_loguniform('xgb_learning_rate', 1e-3, 1.0),\n",
            "/var/folders/0h/6t5rrrkd413d6v0z43zmchmm0000gn/T/ipykernel_38998/738175.py:48: FutureWarning: suggest_loguniform has been deprecated in v3.0.0. This feature will be removed in v6.0.0. See https://github.com/optuna/optuna/releases/tag/v3.0.0. Use suggest_float(..., log=True) instead.\n",
            "  'learning_rate': trial.suggest_loguniform('lgbm_learning_rate', 1e-3, 1.0),\n"
          ]
        },
        {
          "name": "stdout",
          "output_type": "stream",
          "text": [
            "[LightGBM] [Info] Number of positive: 3362, number of negative: 3781\n",
            "[LightGBM] [Info] Auto-choosing row-wise multi-threading, the overhead of testing was 0.000898 seconds.\n",
            "You can set `force_row_wise=true` to remove the overhead.\n",
            "And if memory is not enough, you can set `force_col_wise=true`.\n",
            "[LightGBM] [Info] Total Bins 733\n",
            "[LightGBM] [Info] Number of data points in the train set: 7143, number of used features: 41\n",
            "[LightGBM] [Info] [binary:BoostFromScore]: pavg=0.470671 -> initscore=-0.117452\n",
            "[LightGBM] [Info] Start training from score -0.117452\n"
          ]
        },
        {
          "name": "stderr",
          "output_type": "stream",
          "text": [
            "[I 2024-09-20 03:01:08,682] Trial 12 finished with value: 0.6990581102666733 and parameters: {'rf_n_estimators': 52, 'rf_max_depth': 30, 'rf_min_samples_split': 10, 'xgb_n_estimators': 300, 'xgb_learning_rate': 0.8320895697536357, 'xgb_max_depth': 9, 'lgbm_n_estimators': 52, 'lgbm_learning_rate': 0.10166550158920368, 'lgbm_num_leaves': 80}. Best is trial 10 with value: 0.7048421125805019.\n",
            "/var/folders/0h/6t5rrrkd413d6v0z43zmchmm0000gn/T/ipykernel_38998/738175.py:42: FutureWarning: suggest_loguniform has been deprecated in v3.0.0. This feature will be removed in v6.0.0. See https://github.com/optuna/optuna/releases/tag/v3.0.0. Use suggest_float(..., log=True) instead.\n",
            "  'learning_rate': trial.suggest_loguniform('xgb_learning_rate', 1e-3, 1.0),\n",
            "/var/folders/0h/6t5rrrkd413d6v0z43zmchmm0000gn/T/ipykernel_38998/738175.py:48: FutureWarning: suggest_loguniform has been deprecated in v3.0.0. This feature will be removed in v6.0.0. See https://github.com/optuna/optuna/releases/tag/v3.0.0. Use suggest_float(..., log=True) instead.\n",
            "  'learning_rate': trial.suggest_loguniform('lgbm_learning_rate', 1e-3, 1.0),\n"
          ]
        },
        {
          "name": "stdout",
          "output_type": "stream",
          "text": [
            "[LightGBM] [Info] Number of positive: 3362, number of negative: 3781\n",
            "[LightGBM] [Info] Auto-choosing row-wise multi-threading, the overhead of testing was 0.000860 seconds.\n",
            "You can set `force_row_wise=true` to remove the overhead.\n",
            "And if memory is not enough, you can set `force_col_wise=true`.\n",
            "[LightGBM] [Info] Total Bins 733\n",
            "[LightGBM] [Info] Number of data points in the train set: 7143, number of used features: 41\n",
            "[LightGBM] [Info] [binary:BoostFromScore]: pavg=0.470671 -> initscore=-0.117452\n",
            "[LightGBM] [Info] Start training from score -0.117452\n"
          ]
        },
        {
          "name": "stderr",
          "output_type": "stream",
          "text": [
            "[I 2024-09-20 03:01:10,337] Trial 13 finished with value: 0.6894769307039205 and parameters: {'rf_n_estimators': 50, 'rf_max_depth': 23, 'rf_min_samples_split': 10, 'xgb_n_estimators': 286, 'xgb_learning_rate': 0.935350597371468, 'xgb_max_depth': 8, 'lgbm_n_estimators': 51, 'lgbm_learning_rate': 0.9941738145928719, 'lgbm_num_leaves': 82}. Best is trial 10 with value: 0.7048421125805019.\n",
            "/var/folders/0h/6t5rrrkd413d6v0z43zmchmm0000gn/T/ipykernel_38998/738175.py:42: FutureWarning: suggest_loguniform has been deprecated in v3.0.0. This feature will be removed in v6.0.0. See https://github.com/optuna/optuna/releases/tag/v3.0.0. Use suggest_float(..., log=True) instead.\n",
            "  'learning_rate': trial.suggest_loguniform('xgb_learning_rate', 1e-3, 1.0),\n",
            "/var/folders/0h/6t5rrrkd413d6v0z43zmchmm0000gn/T/ipykernel_38998/738175.py:48: FutureWarning: suggest_loguniform has been deprecated in v3.0.0. This feature will be removed in v6.0.0. See https://github.com/optuna/optuna/releases/tag/v3.0.0. Use suggest_float(..., log=True) instead.\n",
            "  'learning_rate': trial.suggest_loguniform('lgbm_learning_rate', 1e-3, 1.0),\n"
          ]
        },
        {
          "name": "stdout",
          "output_type": "stream",
          "text": [
            "[LightGBM] [Info] Number of positive: 3362, number of negative: 3781\n",
            "[LightGBM] [Info] Auto-choosing row-wise multi-threading, the overhead of testing was 0.000894 seconds.\n",
            "You can set `force_row_wise=true` to remove the overhead.\n",
            "And if memory is not enough, you can set `force_col_wise=true`.\n",
            "[LightGBM] [Info] Total Bins 733\n",
            "[LightGBM] [Info] Number of data points in the train set: 7143, number of used features: 41\n",
            "[LightGBM] [Info] [binary:BoostFromScore]: pavg=0.470671 -> initscore=-0.117452\n",
            "[LightGBM] [Info] Start training from score -0.117452\n"
          ]
        },
        {
          "name": "stderr",
          "output_type": "stream",
          "text": [
            "[I 2024-09-20 03:01:13,839] Trial 14 finished with value: 0.7014797924647453 and parameters: {'rf_n_estimators': 215, 'rf_max_depth': 24, 'rf_min_samples_split': 8, 'xgb_n_estimators': 180, 'xgb_learning_rate': 0.31908974272317875, 'xgb_max_depth': 10, 'lgbm_n_estimators': 90, 'lgbm_learning_rate': 0.11869113752358486, 'lgbm_num_leaves': 81}. Best is trial 10 with value: 0.7048421125805019.\n",
            "/var/folders/0h/6t5rrrkd413d6v0z43zmchmm0000gn/T/ipykernel_38998/738175.py:42: FutureWarning: suggest_loguniform has been deprecated in v3.0.0. This feature will be removed in v6.0.0. See https://github.com/optuna/optuna/releases/tag/v3.0.0. Use suggest_float(..., log=True) instead.\n",
            "  'learning_rate': trial.suggest_loguniform('xgb_learning_rate', 1e-3, 1.0),\n",
            "/var/folders/0h/6t5rrrkd413d6v0z43zmchmm0000gn/T/ipykernel_38998/738175.py:48: FutureWarning: suggest_loguniform has been deprecated in v3.0.0. This feature will be removed in v6.0.0. See https://github.com/optuna/optuna/releases/tag/v3.0.0. Use suggest_float(..., log=True) instead.\n",
            "  'learning_rate': trial.suggest_loguniform('lgbm_learning_rate', 1e-3, 1.0),\n"
          ]
        },
        {
          "name": "stdout",
          "output_type": "stream",
          "text": [
            "[LightGBM] [Info] Number of positive: 3362, number of negative: 3781\n",
            "[LightGBM] [Info] Auto-choosing row-wise multi-threading, the overhead of testing was 0.000910 seconds.\n",
            "You can set `force_row_wise=true` to remove the overhead.\n",
            "And if memory is not enough, you can set `force_col_wise=true`.\n",
            "[LightGBM] [Info] Total Bins 733\n",
            "[LightGBM] [Info] Number of data points in the train set: 7143, number of used features: 41\n",
            "[LightGBM] [Info] [binary:BoostFromScore]: pavg=0.470671 -> initscore=-0.117452\n",
            "[LightGBM] [Info] Start training from score -0.117452\n"
          ]
        },
        {
          "name": "stderr",
          "output_type": "stream",
          "text": [
            "[I 2024-09-20 03:01:17,092] Trial 15 finished with value: 0.7020850404174626 and parameters: {'rf_n_estimators': 217, 'rf_max_depth': 23, 'rf_min_samples_split': 8, 'xgb_n_estimators': 167, 'xgb_learning_rate': 0.2766842893101033, 'xgb_max_depth': 10, 'lgbm_n_estimators': 100, 'lgbm_learning_rate': 0.22728127780463092, 'lgbm_num_leaves': 71}. Best is trial 10 with value: 0.7048421125805019.\n",
            "/var/folders/0h/6t5rrrkd413d6v0z43zmchmm0000gn/T/ipykernel_38998/738175.py:42: FutureWarning: suggest_loguniform has been deprecated in v3.0.0. This feature will be removed in v6.0.0. See https://github.com/optuna/optuna/releases/tag/v3.0.0. Use suggest_float(..., log=True) instead.\n",
            "  'learning_rate': trial.suggest_loguniform('xgb_learning_rate', 1e-3, 1.0),\n",
            "/var/folders/0h/6t5rrrkd413d6v0z43zmchmm0000gn/T/ipykernel_38998/738175.py:48: FutureWarning: suggest_loguniform has been deprecated in v3.0.0. This feature will be removed in v6.0.0. See https://github.com/optuna/optuna/releases/tag/v3.0.0. Use suggest_float(..., log=True) instead.\n",
            "  'learning_rate': trial.suggest_loguniform('lgbm_learning_rate', 1e-3, 1.0),\n"
          ]
        },
        {
          "name": "stdout",
          "output_type": "stream",
          "text": [
            "[LightGBM] [Info] Number of positive: 3362, number of negative: 3781\n",
            "[LightGBM] [Info] Auto-choosing row-wise multi-threading, the overhead of testing was 0.000853 seconds.\n",
            "You can set `force_row_wise=true` to remove the overhead.\n",
            "And if memory is not enough, you can set `force_col_wise=true`.\n",
            "[LightGBM] [Info] Total Bins 733\n",
            "[LightGBM] [Info] Number of data points in the train set: 7143, number of used features: 41\n",
            "[LightGBM] [Info] [binary:BoostFromScore]: pavg=0.470671 -> initscore=-0.117452\n",
            "[LightGBM] [Info] Start training from score -0.117452\n"
          ]
        },
        {
          "name": "stderr",
          "output_type": "stream",
          "text": [
            "[I 2024-09-20 03:01:20,275] Trial 16 finished with value: 0.704169135825427 and parameters: {'rf_n_estimators': 210, 'rf_max_depth': 20, 'rf_min_samples_split': 8, 'xgb_n_estimators': 169, 'xgb_learning_rate': 0.23900572727259425, 'xgb_max_depth': 10, 'lgbm_n_estimators': 102, 'lgbm_learning_rate': 0.3838402932221899, 'lgbm_num_leaves': 71}. Best is trial 10 with value: 0.7048421125805019.\n",
            "/var/folders/0h/6t5rrrkd413d6v0z43zmchmm0000gn/T/ipykernel_38998/738175.py:42: FutureWarning: suggest_loguniform has been deprecated in v3.0.0. This feature will be removed in v6.0.0. See https://github.com/optuna/optuna/releases/tag/v3.0.0. Use suggest_float(..., log=True) instead.\n",
            "  'learning_rate': trial.suggest_loguniform('xgb_learning_rate', 1e-3, 1.0),\n",
            "/var/folders/0h/6t5rrrkd413d6v0z43zmchmm0000gn/T/ipykernel_38998/738175.py:48: FutureWarning: suggest_loguniform has been deprecated in v3.0.0. This feature will be removed in v6.0.0. See https://github.com/optuna/optuna/releases/tag/v3.0.0. Use suggest_float(..., log=True) instead.\n",
            "  'learning_rate': trial.suggest_loguniform('lgbm_learning_rate', 1e-3, 1.0),\n"
          ]
        },
        {
          "name": "stdout",
          "output_type": "stream",
          "text": [
            "[LightGBM] [Info] Number of positive: 3362, number of negative: 3781\n",
            "[LightGBM] [Info] Auto-choosing row-wise multi-threading, the overhead of testing was 0.000826 seconds.\n",
            "You can set `force_row_wise=true` to remove the overhead.\n",
            "And if memory is not enough, you can set `force_col_wise=true`.\n",
            "[LightGBM] [Info] Total Bins 733\n",
            "[LightGBM] [Info] Number of data points in the train set: 7143, number of used features: 41\n",
            "[LightGBM] [Info] [binary:BoostFromScore]: pavg=0.470671 -> initscore=-0.117452\n",
            "[LightGBM] [Info] Start training from score -0.117452\n"
          ]
        },
        {
          "name": "stderr",
          "output_type": "stream",
          "text": [
            "[I 2024-09-20 03:01:23,398] Trial 17 finished with value: 0.6959512822996461 and parameters: {'rf_n_estimators': 214, 'rf_max_depth': 19, 'rf_min_samples_split': 8, 'xgb_n_estimators': 178, 'xgb_learning_rate': 0.3980257795218724, 'xgb_max_depth': 8, 'lgbm_n_estimators': 96, 'lgbm_learning_rate': 0.9835950872096055, 'lgbm_num_leaves': 71}. Best is trial 10 with value: 0.7048421125805019.\n",
            "/var/folders/0h/6t5rrrkd413d6v0z43zmchmm0000gn/T/ipykernel_38998/738175.py:42: FutureWarning: suggest_loguniform has been deprecated in v3.0.0. This feature will be removed in v6.0.0. See https://github.com/optuna/optuna/releases/tag/v3.0.0. Use suggest_float(..., log=True) instead.\n",
            "  'learning_rate': trial.suggest_loguniform('xgb_learning_rate', 1e-3, 1.0),\n",
            "/var/folders/0h/6t5rrrkd413d6v0z43zmchmm0000gn/T/ipykernel_38998/738175.py:48: FutureWarning: suggest_loguniform has been deprecated in v3.0.0. This feature will be removed in v6.0.0. See https://github.com/optuna/optuna/releases/tag/v3.0.0. Use suggest_float(..., log=True) instead.\n",
            "  'learning_rate': trial.suggest_loguniform('lgbm_learning_rate', 1e-3, 1.0),\n"
          ]
        },
        {
          "name": "stdout",
          "output_type": "stream",
          "text": [
            "[LightGBM] [Info] Number of positive: 3362, number of negative: 3781\n",
            "[LightGBM] [Info] Auto-choosing row-wise multi-threading, the overhead of testing was 0.000811 seconds.\n",
            "You can set `force_row_wise=true` to remove the overhead.\n",
            "And if memory is not enough, you can set `force_col_wise=true`.\n",
            "[LightGBM] [Info] Total Bins 733\n",
            "[LightGBM] [Info] Number of data points in the train set: 7143, number of used features: 41\n",
            "[LightGBM] [Info] [binary:BoostFromScore]: pavg=0.470671 -> initscore=-0.117452\n",
            "[LightGBM] [Info] Start training from score -0.117452\n"
          ]
        },
        {
          "name": "stderr",
          "output_type": "stream",
          "text": [
            "[I 2024-09-20 03:01:26,806] Trial 18 finished with value: 0.7026831861184764 and parameters: {'rf_n_estimators': 185, 'rf_max_depth': 16, 'rf_min_samples_split': 9, 'xgb_n_estimators': 213, 'xgb_learning_rate': 0.03628923671283623, 'xgb_max_depth': 9, 'lgbm_n_estimators': 124, 'lgbm_learning_rate': 0.4891042362480032, 'lgbm_num_leaves': 90}. Best is trial 10 with value: 0.7048421125805019.\n",
            "/var/folders/0h/6t5rrrkd413d6v0z43zmchmm0000gn/T/ipykernel_38998/738175.py:42: FutureWarning: suggest_loguniform has been deprecated in v3.0.0. This feature will be removed in v6.0.0. See https://github.com/optuna/optuna/releases/tag/v3.0.0. Use suggest_float(..., log=True) instead.\n",
            "  'learning_rate': trial.suggest_loguniform('xgb_learning_rate', 1e-3, 1.0),\n",
            "/var/folders/0h/6t5rrrkd413d6v0z43zmchmm0000gn/T/ipykernel_38998/738175.py:48: FutureWarning: suggest_loguniform has been deprecated in v3.0.0. This feature will be removed in v6.0.0. See https://github.com/optuna/optuna/releases/tag/v3.0.0. Use suggest_float(..., log=True) instead.\n",
            "  'learning_rate': trial.suggest_loguniform('lgbm_learning_rate', 1e-3, 1.0),\n"
          ]
        },
        {
          "name": "stdout",
          "output_type": "stream",
          "text": [
            "[LightGBM] [Info] Number of positive: 3362, number of negative: 3781\n",
            "[LightGBM] [Info] Auto-choosing row-wise multi-threading, the overhead of testing was 0.000843 seconds.\n",
            "You can set `force_row_wise=true` to remove the overhead.\n",
            "And if memory is not enough, you can set `force_col_wise=true`.\n",
            "[LightGBM] [Info] Total Bins 733\n",
            "[LightGBM] [Info] Number of data points in the train set: 7143, number of used features: 41\n",
            "[LightGBM] [Info] [binary:BoostFromScore]: pavg=0.470671 -> initscore=-0.117452\n",
            "[LightGBM] [Info] Start training from score -0.117452\n"
          ]
        },
        {
          "name": "stderr",
          "output_type": "stream",
          "text": [
            "[I 2024-09-20 03:01:30,370] Trial 19 finished with value: 0.6984727738235745 and parameters: {'rf_n_estimators': 299, 'rf_max_depth': 26, 'rf_min_samples_split': 7, 'xgb_n_estimators': 71, 'xgb_learning_rate': 0.16915405552398208, 'xgb_max_depth': 10, 'lgbm_n_estimators': 84, 'lgbm_learning_rate': 0.008129470947316727, 'lgbm_num_leaves': 71}. Best is trial 10 with value: 0.7048421125805019.\n",
            "/var/folders/0h/6t5rrrkd413d6v0z43zmchmm0000gn/T/ipykernel_38998/738175.py:42: FutureWarning: suggest_loguniform has been deprecated in v3.0.0. This feature will be removed in v6.0.0. See https://github.com/optuna/optuna/releases/tag/v3.0.0. Use suggest_float(..., log=True) instead.\n",
            "  'learning_rate': trial.suggest_loguniform('xgb_learning_rate', 1e-3, 1.0),\n",
            "/var/folders/0h/6t5rrrkd413d6v0z43zmchmm0000gn/T/ipykernel_38998/738175.py:48: FutureWarning: suggest_loguniform has been deprecated in v3.0.0. This feature will be removed in v6.0.0. See https://github.com/optuna/optuna/releases/tag/v3.0.0. Use suggest_float(..., log=True) instead.\n",
            "  'learning_rate': trial.suggest_loguniform('lgbm_learning_rate', 1e-3, 1.0),\n"
          ]
        },
        {
          "name": "stdout",
          "output_type": "stream",
          "text": [
            "[LightGBM] [Info] Number of positive: 3362, number of negative: 3781\n",
            "[LightGBM] [Info] Auto-choosing row-wise multi-threading, the overhead of testing was 0.000878 seconds.\n",
            "You can set `force_row_wise=true` to remove the overhead.\n",
            "And if memory is not enough, you can set `force_col_wise=true`.\n",
            "[LightGBM] [Info] Total Bins 733\n",
            "[LightGBM] [Info] Number of data points in the train set: 7143, number of used features: 41\n",
            "[LightGBM] [Info] [binary:BoostFromScore]: pavg=0.470671 -> initscore=-0.117452\n",
            "[LightGBM] [Info] Start training from score -0.117452\n"
          ]
        },
        {
          "name": "stderr",
          "output_type": "stream",
          "text": [
            "[I 2024-09-20 03:01:33,422] Trial 20 finished with value: 0.6933365348670909 and parameters: {'rf_n_estimators': 120, 'rf_max_depth': 21, 'rf_min_samples_split': 5, 'xgb_n_estimators': 143, 'xgb_learning_rate': 0.4970092596866242, 'xgb_max_depth': 7, 'lgbm_n_estimators': 131, 'lgbm_learning_rate': 0.0010075762092128068, 'lgbm_num_leaves': 88}. Best is trial 10 with value: 0.7048421125805019.\n",
            "/var/folders/0h/6t5rrrkd413d6v0z43zmchmm0000gn/T/ipykernel_38998/738175.py:42: FutureWarning: suggest_loguniform has been deprecated in v3.0.0. This feature will be removed in v6.0.0. See https://github.com/optuna/optuna/releases/tag/v3.0.0. Use suggest_float(..., log=True) instead.\n",
            "  'learning_rate': trial.suggest_loguniform('xgb_learning_rate', 1e-3, 1.0),\n",
            "/var/folders/0h/6t5rrrkd413d6v0z43zmchmm0000gn/T/ipykernel_38998/738175.py:48: FutureWarning: suggest_loguniform has been deprecated in v3.0.0. This feature will be removed in v6.0.0. See https://github.com/optuna/optuna/releases/tag/v3.0.0. Use suggest_float(..., log=True) instead.\n",
            "  'learning_rate': trial.suggest_loguniform('lgbm_learning_rate', 1e-3, 1.0),\n"
          ]
        },
        {
          "name": "stdout",
          "output_type": "stream",
          "text": [
            "[LightGBM] [Info] Number of positive: 3362, number of negative: 3781\n",
            "[LightGBM] [Info] Auto-choosing row-wise multi-threading, the overhead of testing was 0.000884 seconds.\n",
            "You can set `force_row_wise=true` to remove the overhead.\n",
            "And if memory is not enough, you can set `force_col_wise=true`.\n",
            "[LightGBM] [Info] Total Bins 733\n",
            "[LightGBM] [Info] Number of data points in the train set: 7143, number of used features: 41\n",
            "[LightGBM] [Info] [binary:BoostFromScore]: pavg=0.470671 -> initscore=-0.117452\n",
            "[LightGBM] [Info] Start training from score -0.117452\n"
          ]
        },
        {
          "name": "stderr",
          "output_type": "stream",
          "text": [
            "[I 2024-09-20 03:01:36,861] Trial 21 finished with value: 0.6936320293144012 and parameters: {'rf_n_estimators': 190, 'rf_max_depth': 15, 'rf_min_samples_split': 9, 'xgb_n_estimators': 208, 'xgb_learning_rate': 0.04598796675853631, 'xgb_max_depth': 9, 'lgbm_n_estimators': 120, 'lgbm_learning_rate': 0.4644767130780696, 'lgbm_num_leaves': 89}. Best is trial 10 with value: 0.7048421125805019.\n",
            "/var/folders/0h/6t5rrrkd413d6v0z43zmchmm0000gn/T/ipykernel_38998/738175.py:42: FutureWarning: suggest_loguniform has been deprecated in v3.0.0. This feature will be removed in v6.0.0. See https://github.com/optuna/optuna/releases/tag/v3.0.0. Use suggest_float(..., log=True) instead.\n",
            "  'learning_rate': trial.suggest_loguniform('xgb_learning_rate', 1e-3, 1.0),\n",
            "/var/folders/0h/6t5rrrkd413d6v0z43zmchmm0000gn/T/ipykernel_38998/738175.py:48: FutureWarning: suggest_loguniform has been deprecated in v3.0.0. This feature will be removed in v6.0.0. See https://github.com/optuna/optuna/releases/tag/v3.0.0. Use suggest_float(..., log=True) instead.\n",
            "  'learning_rate': trial.suggest_loguniform('lgbm_learning_rate', 1e-3, 1.0),\n"
          ]
        },
        {
          "name": "stdout",
          "output_type": "stream",
          "text": [
            "[LightGBM] [Info] Number of positive: 3362, number of negative: 3781\n",
            "[LightGBM] [Info] Auto-choosing row-wise multi-threading, the overhead of testing was 0.000950 seconds.\n",
            "You can set `force_row_wise=true` to remove the overhead.\n",
            "And if memory is not enough, you can set `force_col_wise=true`.\n",
            "[LightGBM] [Info] Total Bins 733\n",
            "[LightGBM] [Info] Number of data points in the train set: 7143, number of used features: 41\n",
            "[LightGBM] [Info] [binary:BoostFromScore]: pavg=0.470671 -> initscore=-0.117452\n",
            "[LightGBM] [Info] Start training from score -0.117452\n"
          ]
        },
        {
          "name": "stderr",
          "output_type": "stream",
          "text": [
            "[I 2024-09-20 03:01:39,912] Trial 22 finished with value: 0.695814731133232 and parameters: {'rf_n_estimators': 175, 'rf_max_depth': 14, 'rf_min_samples_split': 9, 'xgb_n_estimators': 239, 'xgb_learning_rate': 0.019508647391164313, 'xgb_max_depth': 9, 'lgbm_n_estimators': 75, 'lgbm_learning_rate': 0.472498527734395, 'lgbm_num_leaves': 92}. Best is trial 10 with value: 0.7048421125805019.\n",
            "/var/folders/0h/6t5rrrkd413d6v0z43zmchmm0000gn/T/ipykernel_38998/738175.py:42: FutureWarning: suggest_loguniform has been deprecated in v3.0.0. This feature will be removed in v6.0.0. See https://github.com/optuna/optuna/releases/tag/v3.0.0. Use suggest_float(..., log=True) instead.\n",
            "  'learning_rate': trial.suggest_loguniform('xgb_learning_rate', 1e-3, 1.0),\n",
            "/var/folders/0h/6t5rrrkd413d6v0z43zmchmm0000gn/T/ipykernel_38998/738175.py:48: FutureWarning: suggest_loguniform has been deprecated in v3.0.0. This feature will be removed in v6.0.0. See https://github.com/optuna/optuna/releases/tag/v3.0.0. Use suggest_float(..., log=True) instead.\n",
            "  'learning_rate': trial.suggest_loguniform('lgbm_learning_rate', 1e-3, 1.0),\n"
          ]
        },
        {
          "name": "stdout",
          "output_type": "stream",
          "text": [
            "[LightGBM] [Info] Number of positive: 3362, number of negative: 3781\n",
            "[LightGBM] [Info] Auto-choosing row-wise multi-threading, the overhead of testing was 0.000895 seconds.\n",
            "You can set `force_row_wise=true` to remove the overhead.\n",
            "And if memory is not enough, you can set `force_col_wise=true`.\n",
            "[LightGBM] [Info] Total Bins 733\n",
            "[LightGBM] [Info] Number of data points in the train set: 7143, number of used features: 41\n",
            "[LightGBM] [Info] [binary:BoostFromScore]: pavg=0.470671 -> initscore=-0.117452\n",
            "[LightGBM] [Info] Start training from score -0.117452\n"
          ]
        },
        {
          "name": "stderr",
          "output_type": "stream",
          "text": [
            "[I 2024-09-20 03:01:43,219] Trial 23 finished with value: 0.6994269525833529 and parameters: {'rf_n_estimators': 196, 'rf_max_depth': 17, 'rf_min_samples_split': 10, 'xgb_n_estimators': 263, 'xgb_learning_rate': 0.06628616319565991, 'xgb_max_depth': 8, 'lgbm_n_estimators': 116, 'lgbm_learning_rate': 0.17194900755488046, 'lgbm_num_leaves': 76}. Best is trial 10 with value: 0.7048421125805019.\n",
            "/var/folders/0h/6t5rrrkd413d6v0z43zmchmm0000gn/T/ipykernel_38998/738175.py:42: FutureWarning: suggest_loguniform has been deprecated in v3.0.0. This feature will be removed in v6.0.0. See https://github.com/optuna/optuna/releases/tag/v3.0.0. Use suggest_float(..., log=True) instead.\n",
            "  'learning_rate': trial.suggest_loguniform('xgb_learning_rate', 1e-3, 1.0),\n",
            "/var/folders/0h/6t5rrrkd413d6v0z43zmchmm0000gn/T/ipykernel_38998/738175.py:48: FutureWarning: suggest_loguniform has been deprecated in v3.0.0. This feature will be removed in v6.0.0. See https://github.com/optuna/optuna/releases/tag/v3.0.0. Use suggest_float(..., log=True) instead.\n",
            "  'learning_rate': trial.suggest_loguniform('lgbm_learning_rate', 1e-3, 1.0),\n"
          ]
        },
        {
          "name": "stdout",
          "output_type": "stream",
          "text": [
            "[LightGBM] [Info] Number of positive: 3362, number of negative: 3781\n",
            "[LightGBM] [Info] Auto-choosing row-wise multi-threading, the overhead of testing was 0.001162 seconds.\n",
            "You can set `force_row_wise=true` to remove the overhead.\n",
            "And if memory is not enough, you can set `force_col_wise=true`.\n",
            "[LightGBM] [Info] Total Bins 733\n",
            "[LightGBM] [Info] Number of data points in the train set: 7143, number of used features: 41\n",
            "[LightGBM] [Info] [binary:BoostFromScore]: pavg=0.470671 -> initscore=-0.117452\n",
            "[LightGBM] [Info] Start training from score -0.117452\n"
          ]
        },
        {
          "name": "stderr",
          "output_type": "stream",
          "text": [
            "[I 2024-09-20 03:01:47,449] Trial 24 finished with value: 0.6991609717379128 and parameters: {'rf_n_estimators': 228, 'rf_max_depth': 21, 'rf_min_samples_split': 8, 'xgb_n_estimators': 223, 'xgb_learning_rate': 0.21153073974659276, 'xgb_max_depth': 10, 'lgbm_n_estimators': 149, 'lgbm_learning_rate': 0.06585651506136682, 'lgbm_num_leaves': 67}. Best is trial 10 with value: 0.7048421125805019.\n",
            "/var/folders/0h/6t5rrrkd413d6v0z43zmchmm0000gn/T/ipykernel_38998/738175.py:42: FutureWarning: suggest_loguniform has been deprecated in v3.0.0. This feature will be removed in v6.0.0. See https://github.com/optuna/optuna/releases/tag/v3.0.0. Use suggest_float(..., log=True) instead.\n",
            "  'learning_rate': trial.suggest_loguniform('xgb_learning_rate', 1e-3, 1.0),\n",
            "/var/folders/0h/6t5rrrkd413d6v0z43zmchmm0000gn/T/ipykernel_38998/738175.py:48: FutureWarning: suggest_loguniform has been deprecated in v3.0.0. This feature will be removed in v6.0.0. See https://github.com/optuna/optuna/releases/tag/v3.0.0. Use suggest_float(..., log=True) instead.\n",
            "  'learning_rate': trial.suggest_loguniform('lgbm_learning_rate', 1e-3, 1.0),\n"
          ]
        },
        {
          "name": "stdout",
          "output_type": "stream",
          "text": [
            "[LightGBM] [Info] Number of positive: 3362, number of negative: 3781\n",
            "[LightGBM] [Info] Auto-choosing row-wise multi-threading, the overhead of testing was 0.000855 seconds.\n",
            "You can set `force_row_wise=true` to remove the overhead.\n",
            "And if memory is not enough, you can set `force_col_wise=true`.\n",
            "[LightGBM] [Info] Total Bins 733\n",
            "[LightGBM] [Info] Number of data points in the train set: 7143, number of used features: 41\n",
            "[LightGBM] [Info] [binary:BoostFromScore]: pavg=0.470671 -> initscore=-0.117452\n",
            "[LightGBM] [Info] Start training from score -0.117452\n"
          ]
        },
        {
          "name": "stderr",
          "output_type": "stream",
          "text": [
            "[I 2024-09-20 03:01:49,337] Trial 25 finished with value: 0.6929305574492456 and parameters: {'rf_n_estimators': 160, 'rf_max_depth': 10, 'rf_min_samples_split': 9, 'xgb_n_estimators': 190, 'xgb_learning_rate': 0.45289920111060655, 'xgb_max_depth': 9, 'lgbm_n_estimators': 78, 'lgbm_learning_rate': 0.5312338120817938, 'lgbm_num_leaves': 54}. Best is trial 10 with value: 0.7048421125805019.\n",
            "/var/folders/0h/6t5rrrkd413d6v0z43zmchmm0000gn/T/ipykernel_38998/738175.py:42: FutureWarning: suggest_loguniform has been deprecated in v3.0.0. This feature will be removed in v6.0.0. See https://github.com/optuna/optuna/releases/tag/v3.0.0. Use suggest_float(..., log=True) instead.\n",
            "  'learning_rate': trial.suggest_loguniform('xgb_learning_rate', 1e-3, 1.0),\n",
            "/var/folders/0h/6t5rrrkd413d6v0z43zmchmm0000gn/T/ipykernel_38998/738175.py:48: FutureWarning: suggest_loguniform has been deprecated in v3.0.0. This feature will be removed in v6.0.0. See https://github.com/optuna/optuna/releases/tag/v3.0.0. Use suggest_float(..., log=True) instead.\n",
            "  'learning_rate': trial.suggest_loguniform('lgbm_learning_rate', 1e-3, 1.0),\n"
          ]
        },
        {
          "name": "stdout",
          "output_type": "stream",
          "text": [
            "[LightGBM] [Info] Number of positive: 3362, number of negative: 3781\n",
            "[LightGBM] [Info] Auto-choosing row-wise multi-threading, the overhead of testing was 0.000851 seconds.\n",
            "You can set `force_row_wise=true` to remove the overhead.\n",
            "And if memory is not enough, you can set `force_col_wise=true`.\n",
            "[LightGBM] [Info] Total Bins 733\n",
            "[LightGBM] [Info] Number of data points in the train set: 7143, number of used features: 41\n",
            "[LightGBM] [Info] [binary:BoostFromScore]: pavg=0.470671 -> initscore=-0.117452\n",
            "[LightGBM] [Info] Start training from score -0.117452\n"
          ]
        },
        {
          "name": "stderr",
          "output_type": "stream",
          "text": [
            "[I 2024-09-20 03:01:52,115] Trial 26 finished with value: 0.6854321009360699 and parameters: {'rf_n_estimators': 197, 'rf_max_depth': 12, 'rf_min_samples_split': 10, 'xgb_n_estimators': 148, 'xgb_learning_rate': 0.026301591533439816, 'xgb_max_depth': 7, 'lgbm_n_estimators': 104, 'lgbm_learning_rate': 0.1494272740160456, 'lgbm_num_leaves': 89}. Best is trial 10 with value: 0.7048421125805019.\n",
            "/var/folders/0h/6t5rrrkd413d6v0z43zmchmm0000gn/T/ipykernel_38998/738175.py:42: FutureWarning: suggest_loguniform has been deprecated in v3.0.0. This feature will be removed in v6.0.0. See https://github.com/optuna/optuna/releases/tag/v3.0.0. Use suggest_float(..., log=True) instead.\n",
            "  'learning_rate': trial.suggest_loguniform('xgb_learning_rate', 1e-3, 1.0),\n",
            "/var/folders/0h/6t5rrrkd413d6v0z43zmchmm0000gn/T/ipykernel_38998/738175.py:48: FutureWarning: suggest_loguniform has been deprecated in v3.0.0. This feature will be removed in v6.0.0. See https://github.com/optuna/optuna/releases/tag/v3.0.0. Use suggest_float(..., log=True) instead.\n",
            "  'learning_rate': trial.suggest_loguniform('lgbm_learning_rate', 1e-3, 1.0),\n"
          ]
        },
        {
          "name": "stdout",
          "output_type": "stream",
          "text": [
            "[LightGBM] [Info] Number of positive: 3362, number of negative: 3781\n",
            "[LightGBM] [Info] Auto-choosing row-wise multi-threading, the overhead of testing was 0.000847 seconds.\n",
            "You can set `force_row_wise=true` to remove the overhead.\n",
            "And if memory is not enough, you can set `force_col_wise=true`.\n",
            "[LightGBM] [Info] Total Bins 733\n",
            "[LightGBM] [Info] Number of data points in the train set: 7143, number of used features: 41\n",
            "[LightGBM] [Info] [binary:BoostFromScore]: pavg=0.470671 -> initscore=-0.117452\n",
            "[LightGBM] [Info] Start training from score -0.117452\n"
          ]
        },
        {
          "name": "stderr",
          "output_type": "stream",
          "text": [
            "[I 2024-09-20 03:01:54,995] Trial 27 finished with value: 0.6997022054216494 and parameters: {'rf_n_estimators': 242, 'rf_max_depth': 15, 'rf_min_samples_split': 7, 'xgb_n_estimators': 193, 'xgb_learning_rate': 0.12564273151204358, 'xgb_max_depth': 8, 'lgbm_n_estimators': 74, 'lgbm_learning_rate': 0.6461471097025167, 'lgbm_num_leaves': 75}. Best is trial 10 with value: 0.7048421125805019.\n",
            "/var/folders/0h/6t5rrrkd413d6v0z43zmchmm0000gn/T/ipykernel_38998/738175.py:42: FutureWarning: suggest_loguniform has been deprecated in v3.0.0. This feature will be removed in v6.0.0. See https://github.com/optuna/optuna/releases/tag/v3.0.0. Use suggest_float(..., log=True) instead.\n",
            "  'learning_rate': trial.suggest_loguniform('xgb_learning_rate', 1e-3, 1.0),\n",
            "/var/folders/0h/6t5rrrkd413d6v0z43zmchmm0000gn/T/ipykernel_38998/738175.py:48: FutureWarning: suggest_loguniform has been deprecated in v3.0.0. This feature will be removed in v6.0.0. See https://github.com/optuna/optuna/releases/tag/v3.0.0. Use suggest_float(..., log=True) instead.\n",
            "  'learning_rate': trial.suggest_loguniform('lgbm_learning_rate', 1e-3, 1.0),\n"
          ]
        },
        {
          "name": "stdout",
          "output_type": "stream",
          "text": [
            "[LightGBM] [Info] Number of positive: 3362, number of negative: 3781\n",
            "[LightGBM] [Info] Auto-choosing row-wise multi-threading, the overhead of testing was 0.000899 seconds.\n",
            "You can set `force_row_wise=true` to remove the overhead.\n",
            "And if memory is not enough, you can set `force_col_wise=true`.\n",
            "[LightGBM] [Info] Total Bins 733\n",
            "[LightGBM] [Info] Number of data points in the train set: 7143, number of used features: 41\n",
            "[LightGBM] [Info] [binary:BoostFromScore]: pavg=0.470671 -> initscore=-0.117452\n",
            "[LightGBM] [Info] Start training from score -0.117452\n"
          ]
        },
        {
          "name": "stderr",
          "output_type": "stream",
          "text": [
            "[I 2024-09-20 03:01:57,126] Trial 28 finished with value: 0.704513464555711 and parameters: {'rf_n_estimators': 113, 'rf_max_depth': 20, 'rf_min_samples_split': 8, 'xgb_n_estimators': 155, 'xgb_learning_rate': 0.5797994802924393, 'xgb_max_depth': 10, 'lgbm_n_estimators': 149, 'lgbm_learning_rate': 0.2716975548965379, 'lgbm_num_leaves': 34}. Best is trial 10 with value: 0.7048421125805019.\n",
            "/var/folders/0h/6t5rrrkd413d6v0z43zmchmm0000gn/T/ipykernel_38998/738175.py:42: FutureWarning: suggest_loguniform has been deprecated in v3.0.0. This feature will be removed in v6.0.0. See https://github.com/optuna/optuna/releases/tag/v3.0.0. Use suggest_float(..., log=True) instead.\n",
            "  'learning_rate': trial.suggest_loguniform('xgb_learning_rate', 1e-3, 1.0),\n",
            "/var/folders/0h/6t5rrrkd413d6v0z43zmchmm0000gn/T/ipykernel_38998/738175.py:48: FutureWarning: suggest_loguniform has been deprecated in v3.0.0. This feature will be removed in v6.0.0. See https://github.com/optuna/optuna/releases/tag/v3.0.0. Use suggest_float(..., log=True) instead.\n",
            "  'learning_rate': trial.suggest_loguniform('lgbm_learning_rate', 1e-3, 1.0),\n"
          ]
        },
        {
          "name": "stdout",
          "output_type": "stream",
          "text": [
            "[LightGBM] [Info] Number of positive: 3362, number of negative: 3781\n",
            "[LightGBM] [Info] Auto-choosing row-wise multi-threading, the overhead of testing was 0.000827 seconds.\n",
            "You can set `force_row_wise=true` to remove the overhead.\n",
            "And if memory is not enough, you can set `force_col_wise=true`.\n",
            "[LightGBM] [Info] Total Bins 733\n",
            "[LightGBM] [Info] Number of data points in the train set: 7143, number of used features: 41\n",
            "[LightGBM] [Info] [binary:BoostFromScore]: pavg=0.470671 -> initscore=-0.117452\n",
            "[LightGBM] [Info] Start training from score -0.117452\n"
          ]
        },
        {
          "name": "stderr",
          "output_type": "stream",
          "text": [
            "[I 2024-09-20 03:01:58,944] Trial 29 finished with value: 0.6971940388406846 and parameters: {'rf_n_estimators': 126, 'rf_max_depth': 21, 'rf_min_samples_split': 7, 'xgb_n_estimators': 80, 'xgb_learning_rate': 0.5625609641641314, 'xgb_max_depth': 10, 'lgbm_n_estimators': 185, 'lgbm_learning_rate': 0.24521106300635043, 'lgbm_num_leaves': 20}. Best is trial 10 with value: 0.7048421125805019.\n",
            "/var/folders/0h/6t5rrrkd413d6v0z43zmchmm0000gn/T/ipykernel_38998/738175.py:42: FutureWarning: suggest_loguniform has been deprecated in v3.0.0. This feature will be removed in v6.0.0. See https://github.com/optuna/optuna/releases/tag/v3.0.0. Use suggest_float(..., log=True) instead.\n",
            "  'learning_rate': trial.suggest_loguniform('xgb_learning_rate', 1e-3, 1.0),\n",
            "/var/folders/0h/6t5rrrkd413d6v0z43zmchmm0000gn/T/ipykernel_38998/738175.py:48: FutureWarning: suggest_loguniform has been deprecated in v3.0.0. This feature will be removed in v6.0.0. See https://github.com/optuna/optuna/releases/tag/v3.0.0. Use suggest_float(..., log=True) instead.\n",
            "  'learning_rate': trial.suggest_loguniform('lgbm_learning_rate', 1e-3, 1.0),\n"
          ]
        },
        {
          "name": "stdout",
          "output_type": "stream",
          "text": [
            "[LightGBM] [Info] Number of positive: 3362, number of negative: 3781\n",
            "[LightGBM] [Info] Auto-choosing row-wise multi-threading, the overhead of testing was 0.001026 seconds.\n",
            "You can set `force_row_wise=true` to remove the overhead.\n",
            "And if memory is not enough, you can set `force_col_wise=true`.\n",
            "[LightGBM] [Info] Total Bins 733\n",
            "[LightGBM] [Info] Number of data points in the train set: 7143, number of used features: 41\n",
            "[LightGBM] [Info] [binary:BoostFromScore]: pavg=0.470671 -> initscore=-0.117452\n",
            "[LightGBM] [Info] Start training from score -0.117452\n"
          ]
        },
        {
          "name": "stderr",
          "output_type": "stream",
          "text": [
            "[I 2024-09-20 03:02:01,030] Trial 30 finished with value: 0.6907195276594194 and parameters: {'rf_n_estimators': 79, 'rf_max_depth': 19, 'rf_min_samples_split': 5, 'xgb_n_estimators': 162, 'xgb_learning_rate': 0.2548944709667925, 'xgb_max_depth': 10, 'lgbm_n_estimators': 221, 'lgbm_learning_rate': 0.05912282789674485, 'lgbm_num_leaves': 29}. Best is trial 10 with value: 0.7048421125805019.\n",
            "/var/folders/0h/6t5rrrkd413d6v0z43zmchmm0000gn/T/ipykernel_38998/738175.py:42: FutureWarning: suggest_loguniform has been deprecated in v3.0.0. This feature will be removed in v6.0.0. See https://github.com/optuna/optuna/releases/tag/v3.0.0. Use suggest_float(..., log=True) instead.\n",
            "  'learning_rate': trial.suggest_loguniform('xgb_learning_rate', 1e-3, 1.0),\n",
            "/var/folders/0h/6t5rrrkd413d6v0z43zmchmm0000gn/T/ipykernel_38998/738175.py:48: FutureWarning: suggest_loguniform has been deprecated in v3.0.0. This feature will be removed in v6.0.0. See https://github.com/optuna/optuna/releases/tag/v3.0.0. Use suggest_float(..., log=True) instead.\n",
            "  'learning_rate': trial.suggest_loguniform('lgbm_learning_rate', 1e-3, 1.0),\n"
          ]
        },
        {
          "name": "stdout",
          "output_type": "stream",
          "text": [
            "[LightGBM] [Info] Number of positive: 3362, number of negative: 3781\n",
            "[LightGBM] [Info] Auto-choosing row-wise multi-threading, the overhead of testing was 0.000862 seconds.\n",
            "You can set `force_row_wise=true` to remove the overhead.\n",
            "And if memory is not enough, you can set `force_col_wise=true`.\n",
            "[LightGBM] [Info] Total Bins 733\n",
            "[LightGBM] [Info] Number of data points in the train set: 7143, number of used features: 41\n",
            "[LightGBM] [Info] [binary:BoostFromScore]: pavg=0.470671 -> initscore=-0.117452\n",
            "[LightGBM] [Info] Start training from score -0.117452\n"
          ]
        },
        {
          "name": "stderr",
          "output_type": "stream",
          "text": [
            "[I 2024-09-20 03:02:03,088] Trial 31 finished with value: 0.6956109872694026 and parameters: {'rf_n_estimators': 115, 'rf_max_depth': 16, 'rf_min_samples_split': 8, 'xgb_n_estimators': 128, 'xgb_learning_rate': 0.6325915727304553, 'xgb_max_depth': 9, 'lgbm_n_estimators': 141, 'lgbm_learning_rate': 0.35092682374603223, 'lgbm_num_leaves': 41}. Best is trial 10 with value: 0.7048421125805019.\n",
            "/var/folders/0h/6t5rrrkd413d6v0z43zmchmm0000gn/T/ipykernel_38998/738175.py:42: FutureWarning: suggest_loguniform has been deprecated in v3.0.0. This feature will be removed in v6.0.0. See https://github.com/optuna/optuna/releases/tag/v3.0.0. Use suggest_float(..., log=True) instead.\n",
            "  'learning_rate': trial.suggest_loguniform('xgb_learning_rate', 1e-3, 1.0),\n",
            "/var/folders/0h/6t5rrrkd413d6v0z43zmchmm0000gn/T/ipykernel_38998/738175.py:48: FutureWarning: suggest_loguniform has been deprecated in v3.0.0. This feature will be removed in v6.0.0. See https://github.com/optuna/optuna/releases/tag/v3.0.0. Use suggest_float(..., log=True) instead.\n",
            "  'learning_rate': trial.suggest_loguniform('lgbm_learning_rate', 1e-3, 1.0),\n"
          ]
        },
        {
          "name": "stdout",
          "output_type": "stream",
          "text": [
            "[LightGBM] [Info] Number of positive: 3362, number of negative: 3781\n",
            "[LightGBM] [Info] Auto-choosing row-wise multi-threading, the overhead of testing was 0.000838 seconds.\n",
            "You can set `force_row_wise=true` to remove the overhead.\n",
            "And if memory is not enough, you can set `force_col_wise=true`.\n",
            "[LightGBM] [Info] Total Bins 733\n",
            "[LightGBM] [Info] Number of data points in the train set: 7143, number of used features: 41\n",
            "[LightGBM] [Info] [binary:BoostFromScore]: pavg=0.470671 -> initscore=-0.117452\n",
            "[LightGBM] [Info] Start training from score -0.117452\n"
          ]
        },
        {
          "name": "stderr",
          "output_type": "stream",
          "text": [
            "[I 2024-09-20 03:02:05,403] Trial 32 finished with value: 0.6923213586635028 and parameters: {'rf_n_estimators': 79, 'rf_max_depth': 26, 'rf_min_samples_split': 9, 'xgb_n_estimators': 94, 'xgb_learning_rate': 0.0012260611931279814, 'xgb_max_depth': 9, 'lgbm_n_estimators': 164, 'lgbm_learning_rate': 0.19423082543472925, 'lgbm_num_leaves': 61}. Best is trial 10 with value: 0.7048421125805019.\n",
            "/var/folders/0h/6t5rrrkd413d6v0z43zmchmm0000gn/T/ipykernel_38998/738175.py:42: FutureWarning: suggest_loguniform has been deprecated in v3.0.0. This feature will be removed in v6.0.0. See https://github.com/optuna/optuna/releases/tag/v3.0.0. Use suggest_float(..., log=True) instead.\n",
            "  'learning_rate': trial.suggest_loguniform('xgb_learning_rate', 1e-3, 1.0),\n",
            "/var/folders/0h/6t5rrrkd413d6v0z43zmchmm0000gn/T/ipykernel_38998/738175.py:48: FutureWarning: suggest_loguniform has been deprecated in v3.0.0. This feature will be removed in v6.0.0. See https://github.com/optuna/optuna/releases/tag/v3.0.0. Use suggest_float(..., log=True) instead.\n",
            "  'learning_rate': trial.suggest_loguniform('lgbm_learning_rate', 1e-3, 1.0),\n"
          ]
        },
        {
          "name": "stdout",
          "output_type": "stream",
          "text": [
            "[LightGBM] [Info] Number of positive: 3362, number of negative: 3781\n",
            "[LightGBM] [Info] Auto-choosing row-wise multi-threading, the overhead of testing was 0.000874 seconds.\n",
            "You can set `force_row_wise=true` to remove the overhead.\n",
            "And if memory is not enough, you can set `force_col_wise=true`.\n",
            "[LightGBM] [Info] Total Bins 733\n",
            "[LightGBM] [Info] Number of data points in the train set: 7143, number of used features: 41\n",
            "[LightGBM] [Info] [binary:BoostFromScore]: pavg=0.470671 -> initscore=-0.117452\n",
            "[LightGBM] [Info] Start training from score -0.117452\n"
          ]
        },
        {
          "name": "stderr",
          "output_type": "stream",
          "text": [
            "[I 2024-09-20 03:02:07,564] Trial 33 finished with value: 0.6949050804658382 and parameters: {'rf_n_estimators': 163, 'rf_max_depth': 18, 'rf_min_samples_split': 8, 'xgb_n_estimators': 158, 'xgb_learning_rate': 0.17331212230528945, 'xgb_max_depth': 10, 'lgbm_n_estimators': 109, 'lgbm_learning_rate': 0.3580763004836535, 'lgbm_num_leaves': 31}. Best is trial 10 with value: 0.7048421125805019.\n",
            "/var/folders/0h/6t5rrrkd413d6v0z43zmchmm0000gn/T/ipykernel_38998/738175.py:42: FutureWarning: suggest_loguniform has been deprecated in v3.0.0. This feature will be removed in v6.0.0. See https://github.com/optuna/optuna/releases/tag/v3.0.0. Use suggest_float(..., log=True) instead.\n",
            "  'learning_rate': trial.suggest_loguniform('xgb_learning_rate', 1e-3, 1.0),\n",
            "/var/folders/0h/6t5rrrkd413d6v0z43zmchmm0000gn/T/ipykernel_38998/738175.py:48: FutureWarning: suggest_loguniform has been deprecated in v3.0.0. This feature will be removed in v6.0.0. See https://github.com/optuna/optuna/releases/tag/v3.0.0. Use suggest_float(..., log=True) instead.\n",
            "  'learning_rate': trial.suggest_loguniform('lgbm_learning_rate', 1e-3, 1.0),\n"
          ]
        },
        {
          "name": "stdout",
          "output_type": "stream",
          "text": [
            "[LightGBM] [Info] Number of positive: 3362, number of negative: 3781\n",
            "[LightGBM] [Info] Auto-choosing row-wise multi-threading, the overhead of testing was 0.000743 seconds.\n",
            "You can set `force_row_wise=true` to remove the overhead.\n",
            "And if memory is not enough, you can set `force_col_wise=true`.\n",
            "[LightGBM] [Info] Total Bins 733\n",
            "[LightGBM] [Info] Number of data points in the train set: 7143, number of used features: 41\n",
            "[LightGBM] [Info] [binary:BoostFromScore]: pavg=0.470671 -> initscore=-0.117452\n",
            "[LightGBM] [Info] Start training from score -0.117452\n"
          ]
        },
        {
          "name": "stderr",
          "output_type": "stream",
          "text": [
            "[I 2024-09-20 03:02:10,130] Trial 34 finished with value: 0.6874734031295401 and parameters: {'rf_n_estimators': 182, 'rf_max_depth': 20, 'rf_min_samples_split': 6, 'xgb_n_estimators': 101, 'xgb_learning_rate': 0.057731145101338324, 'xgb_max_depth': 9, 'lgbm_n_estimators': 67, 'lgbm_learning_rate': 0.7171404850998354, 'lgbm_num_leaves': 94}. Best is trial 10 with value: 0.7048421125805019.\n",
            "/var/folders/0h/6t5rrrkd413d6v0z43zmchmm0000gn/T/ipykernel_38998/738175.py:42: FutureWarning: suggest_loguniform has been deprecated in v3.0.0. This feature will be removed in v6.0.0. See https://github.com/optuna/optuna/releases/tag/v3.0.0. Use suggest_float(..., log=True) instead.\n",
            "  'learning_rate': trial.suggest_loguniform('xgb_learning_rate', 1e-3, 1.0),\n",
            "/var/folders/0h/6t5rrrkd413d6v0z43zmchmm0000gn/T/ipykernel_38998/738175.py:48: FutureWarning: suggest_loguniform has been deprecated in v3.0.0. This feature will be removed in v6.0.0. See https://github.com/optuna/optuna/releases/tag/v3.0.0. Use suggest_float(..., log=True) instead.\n",
            "  'learning_rate': trial.suggest_loguniform('lgbm_learning_rate', 1e-3, 1.0),\n"
          ]
        },
        {
          "name": "stdout",
          "output_type": "stream",
          "text": [
            "[LightGBM] [Info] Number of positive: 3362, number of negative: 3781\n",
            "[LightGBM] [Info] Auto-choosing row-wise multi-threading, the overhead of testing was 0.000825 seconds.\n",
            "You can set `force_row_wise=true` to remove the overhead.\n",
            "And if memory is not enough, you can set `force_col_wise=true`.\n",
            "[LightGBM] [Info] Total Bins 733\n",
            "[LightGBM] [Info] Number of data points in the train set: 7143, number of used features: 41\n",
            "[LightGBM] [Info] [binary:BoostFromScore]: pavg=0.470671 -> initscore=-0.117452\n",
            "[LightGBM] [Info] Start training from score -0.117452\n"
          ]
        },
        {
          "name": "stderr",
          "output_type": "stream",
          "text": [
            "[I 2024-09-20 03:02:12,199] Trial 35 finished with value: 0.7031688609460052 and parameters: {'rf_n_estimators': 69, 'rf_max_depth': 12, 'rf_min_samples_split': 9, 'xgb_n_estimators': 132, 'xgb_learning_rate': 0.3350945554022972, 'xgb_max_depth': 7, 'lgbm_n_estimators': 172, 'lgbm_learning_rate': 0.30710670241079874, 'lgbm_num_leaves': 55}. Best is trial 10 with value: 0.7048421125805019.\n",
            "/var/folders/0h/6t5rrrkd413d6v0z43zmchmm0000gn/T/ipykernel_38998/738175.py:42: FutureWarning: suggest_loguniform has been deprecated in v3.0.0. This feature will be removed in v6.0.0. See https://github.com/optuna/optuna/releases/tag/v3.0.0. Use suggest_float(..., log=True) instead.\n",
            "  'learning_rate': trial.suggest_loguniform('xgb_learning_rate', 1e-3, 1.0),\n",
            "/var/folders/0h/6t5rrrkd413d6v0z43zmchmm0000gn/T/ipykernel_38998/738175.py:48: FutureWarning: suggest_loguniform has been deprecated in v3.0.0. This feature will be removed in v6.0.0. See https://github.com/optuna/optuna/releases/tag/v3.0.0. Use suggest_float(..., log=True) instead.\n",
            "  'learning_rate': trial.suggest_loguniform('lgbm_learning_rate', 1e-3, 1.0),\n"
          ]
        },
        {
          "name": "stdout",
          "output_type": "stream",
          "text": [
            "[LightGBM] [Info] Number of positive: 3362, number of negative: 3781\n",
            "[LightGBM] [Info] Auto-choosing row-wise multi-threading, the overhead of testing was 0.000898 seconds.\n",
            "You can set `force_row_wise=true` to remove the overhead.\n",
            "And if memory is not enough, you can set `force_col_wise=true`.\n",
            "[LightGBM] [Info] Total Bins 733\n",
            "[LightGBM] [Info] Number of data points in the train set: 7143, number of used features: 41\n",
            "[LightGBM] [Info] [binary:BoostFromScore]: pavg=0.470671 -> initscore=-0.117452\n",
            "[LightGBM] [Info] Start training from score -0.117452\n"
          ]
        },
        {
          "name": "stderr",
          "output_type": "stream",
          "text": [
            "[I 2024-09-20 03:02:14,229] Trial 36 finished with value: 0.6953104823599506 and parameters: {'rf_n_estimators': 68, 'rf_max_depth': 8, 'rf_min_samples_split': 7, 'xgb_n_estimators': 134, 'xgb_learning_rate': 0.3459695874082085, 'xgb_max_depth': 7, 'lgbm_n_estimators': 178, 'lgbm_learning_rate': 0.2950321281157112, 'lgbm_num_leaves': 55}. Best is trial 10 with value: 0.7048421125805019.\n",
            "/var/folders/0h/6t5rrrkd413d6v0z43zmchmm0000gn/T/ipykernel_38998/738175.py:42: FutureWarning: suggest_loguniform has been deprecated in v3.0.0. This feature will be removed in v6.0.0. See https://github.com/optuna/optuna/releases/tag/v3.0.0. Use suggest_float(..., log=True) instead.\n",
            "  'learning_rate': trial.suggest_loguniform('xgb_learning_rate', 1e-3, 1.0),\n",
            "/var/folders/0h/6t5rrrkd413d6v0z43zmchmm0000gn/T/ipykernel_38998/738175.py:48: FutureWarning: suggest_loguniform has been deprecated in v3.0.0. This feature will be removed in v6.0.0. See https://github.com/optuna/optuna/releases/tag/v3.0.0. Use suggest_float(..., log=True) instead.\n",
            "  'learning_rate': trial.suggest_loguniform('lgbm_learning_rate', 1e-3, 1.0),\n"
          ]
        },
        {
          "name": "stdout",
          "output_type": "stream",
          "text": [
            "[LightGBM] [Info] Number of positive: 3362, number of negative: 3781\n",
            "[LightGBM] [Info] Auto-choosing row-wise multi-threading, the overhead of testing was 0.000850 seconds.\n",
            "You can set `force_row_wise=true` to remove the overhead.\n",
            "And if memory is not enough, you can set `force_col_wise=true`.\n",
            "[LightGBM] [Info] Total Bins 733\n",
            "[LightGBM] [Info] Number of data points in the train set: 7143, number of used features: 41\n",
            "[LightGBM] [Info] [binary:BoostFromScore]: pavg=0.470671 -> initscore=-0.117452\n",
            "[LightGBM] [Info] Start training from score -0.117452\n"
          ]
        },
        {
          "name": "stderr",
          "output_type": "stream",
          "text": [
            "[I 2024-09-20 03:02:16,183] Trial 37 finished with value: 0.6904269291566467 and parameters: {'rf_n_estimators': 67, 'rf_max_depth': 13, 'rf_min_samples_split': 10, 'xgb_n_estimators': 112, 'xgb_learning_rate': 0.10521303521086142, 'xgb_max_depth': 6, 'lgbm_n_estimators': 238, 'lgbm_learning_rate': 0.1519439380637648, 'lgbm_num_leaves': 38}. Best is trial 10 with value: 0.7048421125805019.\n",
            "/var/folders/0h/6t5rrrkd413d6v0z43zmchmm0000gn/T/ipykernel_38998/738175.py:42: FutureWarning: suggest_loguniform has been deprecated in v3.0.0. This feature will be removed in v6.0.0. See https://github.com/optuna/optuna/releases/tag/v3.0.0. Use suggest_float(..., log=True) instead.\n",
            "  'learning_rate': trial.suggest_loguniform('xgb_learning_rate', 1e-3, 1.0),\n",
            "/var/folders/0h/6t5rrrkd413d6v0z43zmchmm0000gn/T/ipykernel_38998/738175.py:48: FutureWarning: suggest_loguniform has been deprecated in v3.0.0. This feature will be removed in v6.0.0. See https://github.com/optuna/optuna/releases/tag/v3.0.0. Use suggest_float(..., log=True) instead.\n",
            "  'learning_rate': trial.suggest_loguniform('lgbm_learning_rate', 1e-3, 1.0),\n"
          ]
        },
        {
          "name": "stdout",
          "output_type": "stream",
          "text": [
            "[LightGBM] [Info] Number of positive: 3362, number of negative: 3781\n",
            "[LightGBM] [Info] Auto-choosing row-wise multi-threading, the overhead of testing was 0.000835 seconds.\n",
            "You can set `force_row_wise=true` to remove the overhead.\n",
            "And if memory is not enough, you can set `force_col_wise=true`.\n",
            "[LightGBM] [Info] Total Bins 733\n",
            "[LightGBM] [Info] Number of data points in the train set: 7143, number of used features: 41\n",
            "[LightGBM] [Info] [binary:BoostFromScore]: pavg=0.470671 -> initscore=-0.117452\n",
            "[LightGBM] [Info] Start training from score -0.117452\n"
          ]
        },
        {
          "name": "stderr",
          "output_type": "stream",
          "text": [
            "[I 2024-09-20 03:02:17,988] Trial 38 finished with value: 0.6810214194846117 and parameters: {'rf_n_estimators': 104, 'rf_max_depth': 5, 'rf_min_samples_split': 6, 'xgb_n_estimators': 154, 'xgb_learning_rate': 0.5997557996255192, 'xgb_max_depth': 5, 'lgbm_n_estimators': 163, 'lgbm_learning_rate': 0.053081864485121595, 'lgbm_num_leaves': 47}. Best is trial 10 with value: 0.7048421125805019.\n",
            "/var/folders/0h/6t5rrrkd413d6v0z43zmchmm0000gn/T/ipykernel_38998/738175.py:42: FutureWarning: suggest_loguniform has been deprecated in v3.0.0. This feature will be removed in v6.0.0. See https://github.com/optuna/optuna/releases/tag/v3.0.0. Use suggest_float(..., log=True) instead.\n",
            "  'learning_rate': trial.suggest_loguniform('xgb_learning_rate', 1e-3, 1.0),\n",
            "/var/folders/0h/6t5rrrkd413d6v0z43zmchmm0000gn/T/ipykernel_38998/738175.py:48: FutureWarning: suggest_loguniform has been deprecated in v3.0.0. This feature will be removed in v6.0.0. See https://github.com/optuna/optuna/releases/tag/v3.0.0. Use suggest_float(..., log=True) instead.\n",
            "  'learning_rate': trial.suggest_loguniform('lgbm_learning_rate', 1e-3, 1.0),\n"
          ]
        },
        {
          "name": "stdout",
          "output_type": "stream",
          "text": [
            "[LightGBM] [Info] Number of positive: 3362, number of negative: 3781\n",
            "[LightGBM] [Info] Auto-choosing row-wise multi-threading, the overhead of testing was 0.000820 seconds.\n",
            "You can set `force_row_wise=true` to remove the overhead.\n",
            "And if memory is not enough, you can set `force_col_wise=true`.\n",
            "[LightGBM] [Info] Total Bins 733\n",
            "[LightGBM] [Info] Number of data points in the train set: 7143, number of used features: 41\n",
            "[LightGBM] [Info] [binary:BoostFromScore]: pavg=0.470671 -> initscore=-0.117452\n",
            "[LightGBM] [Info] Start training from score -0.117452\n"
          ]
        },
        {
          "name": "stderr",
          "output_type": "stream",
          "text": [
            "[I 2024-09-20 03:02:20,604] Trial 39 finished with value: 0.6948427829398139 and parameters: {'rf_n_estimators': 133, 'rf_max_depth': 11, 'rf_min_samples_split': 8, 'xgb_n_estimators': 125, 'xgb_learning_rate': 0.23441272576698027, 'xgb_max_depth': 6, 'lgbm_n_estimators': 202, 'lgbm_learning_rate': 0.09382897090836069, 'lgbm_num_leaves': 57}. Best is trial 10 with value: 0.7048421125805019.\n",
            "/var/folders/0h/6t5rrrkd413d6v0z43zmchmm0000gn/T/ipykernel_38998/738175.py:42: FutureWarning: suggest_loguniform has been deprecated in v3.0.0. This feature will be removed in v6.0.0. See https://github.com/optuna/optuna/releases/tag/v3.0.0. Use suggest_float(..., log=True) instead.\n",
            "  'learning_rate': trial.suggest_loguniform('xgb_learning_rate', 1e-3, 1.0),\n",
            "/var/folders/0h/6t5rrrkd413d6v0z43zmchmm0000gn/T/ipykernel_38998/738175.py:48: FutureWarning: suggest_loguniform has been deprecated in v3.0.0. This feature will be removed in v6.0.0. See https://github.com/optuna/optuna/releases/tag/v3.0.0. Use suggest_float(..., log=True) instead.\n",
            "  'learning_rate': trial.suggest_loguniform('lgbm_learning_rate', 1e-3, 1.0),\n"
          ]
        },
        {
          "name": "stdout",
          "output_type": "stream",
          "text": [
            "[LightGBM] [Info] Number of positive: 3362, number of negative: 3781\n",
            "[LightGBM] [Info] Auto-choosing row-wise multi-threading, the overhead of testing was 0.000869 seconds.\n",
            "You can set `force_row_wise=true` to remove the overhead.\n",
            "And if memory is not enough, you can set `force_col_wise=true`.\n",
            "[LightGBM] [Info] Total Bins 733\n",
            "[LightGBM] [Info] Number of data points in the train set: 7143, number of used features: 41\n",
            "[LightGBM] [Info] [binary:BoostFromScore]: pavg=0.470671 -> initscore=-0.117452\n",
            "[LightGBM] [Info] Start training from score -0.117452\n"
          ]
        },
        {
          "name": "stderr",
          "output_type": "stream",
          "text": [
            "[I 2024-09-20 03:02:23,307] Trial 40 finished with value: 0.6924682588198557 and parameters: {'rf_n_estimators': 108, 'rf_max_depth': 26, 'rf_min_samples_split': 9, 'xgb_n_estimators': 197, 'xgb_learning_rate': 0.3816958041656724, 'xgb_max_depth': 7, 'lgbm_n_estimators': 144, 'lgbm_learning_rate': 0.03179203788700004, 'lgbm_num_leaves': 65}. Best is trial 10 with value: 0.7048421125805019.\n",
            "/var/folders/0h/6t5rrrkd413d6v0z43zmchmm0000gn/T/ipykernel_38998/738175.py:42: FutureWarning: suggest_loguniform has been deprecated in v3.0.0. This feature will be removed in v6.0.0. See https://github.com/optuna/optuna/releases/tag/v3.0.0. Use suggest_float(..., log=True) instead.\n",
            "  'learning_rate': trial.suggest_loguniform('xgb_learning_rate', 1e-3, 1.0),\n",
            "/var/folders/0h/6t5rrrkd413d6v0z43zmchmm0000gn/T/ipykernel_38998/738175.py:48: FutureWarning: suggest_loguniform has been deprecated in v3.0.0. This feature will be removed in v6.0.0. See https://github.com/optuna/optuna/releases/tag/v3.0.0. Use suggest_float(..., log=True) instead.\n",
            "  'learning_rate': trial.suggest_loguniform('lgbm_learning_rate', 1e-3, 1.0),\n"
          ]
        },
        {
          "name": "stdout",
          "output_type": "stream",
          "text": [
            "[LightGBM] [Info] Number of positive: 3362, number of negative: 3781\n",
            "[LightGBM] [Info] Auto-choosing row-wise multi-threading, the overhead of testing was 0.000862 seconds.\n",
            "You can set `force_row_wise=true` to remove the overhead.\n",
            "And if memory is not enough, you can set `force_col_wise=true`.\n",
            "[LightGBM] [Info] Total Bins 733\n",
            "[LightGBM] [Info] Number of data points in the train set: 7143, number of used features: 41\n",
            "[LightGBM] [Info] [binary:BoostFromScore]: pavg=0.470671 -> initscore=-0.117452\n",
            "[LightGBM] [Info] Start training from score -0.117452\n"
          ]
        },
        {
          "name": "stderr",
          "output_type": "stream",
          "text": [
            "[I 2024-09-20 03:02:24,793] Trial 41 finished with value: 0.6810623498571272 and parameters: {'rf_n_estimators': 72, 'rf_max_depth': 8, 'rf_min_samples_split': 9, 'xgb_n_estimators': 171, 'xgb_learning_rate': 0.009987829440954549, 'xgb_max_depth': 8, 'lgbm_n_estimators': 124, 'lgbm_learning_rate': 0.3477803566838034, 'lgbm_num_leaves': 36}. Best is trial 10 with value: 0.7048421125805019.\n",
            "/var/folders/0h/6t5rrrkd413d6v0z43zmchmm0000gn/T/ipykernel_38998/738175.py:42: FutureWarning: suggest_loguniform has been deprecated in v3.0.0. This feature will be removed in v6.0.0. See https://github.com/optuna/optuna/releases/tag/v3.0.0. Use suggest_float(..., log=True) instead.\n",
            "  'learning_rate': trial.suggest_loguniform('xgb_learning_rate', 1e-3, 1.0),\n",
            "/var/folders/0h/6t5rrrkd413d6v0z43zmchmm0000gn/T/ipykernel_38998/738175.py:48: FutureWarning: suggest_loguniform has been deprecated in v3.0.0. This feature will be removed in v6.0.0. See https://github.com/optuna/optuna/releases/tag/v3.0.0. Use suggest_float(..., log=True) instead.\n",
            "  'learning_rate': trial.suggest_loguniform('lgbm_learning_rate', 1e-3, 1.0),\n"
          ]
        },
        {
          "name": "stdout",
          "output_type": "stream",
          "text": [
            "[LightGBM] [Info] Number of positive: 3362, number of negative: 3781\n",
            "[LightGBM] [Info] Auto-choosing row-wise multi-threading, the overhead of testing was 0.001088 seconds.\n",
            "You can set `force_row_wise=true` to remove the overhead.\n",
            "And if memory is not enough, you can set `force_col_wise=true`.\n",
            "[LightGBM] [Info] Total Bins 733\n",
            "[LightGBM] [Info] Number of data points in the train set: 7143, number of used features: 41\n",
            "[LightGBM] [Info] [binary:BoostFromScore]: pavg=0.470671 -> initscore=-0.117452\n",
            "[LightGBM] [Info] Start training from score -0.117452\n"
          ]
        },
        {
          "name": "stderr",
          "output_type": "stream",
          "text": [
            "[I 2024-09-20 03:02:27,648] Trial 42 finished with value: 0.7086903608581168 and parameters: {'rf_n_estimators': 88, 'rf_max_depth': 17, 'rf_min_samples_split': 9, 'xgb_n_estimators': 231, 'xgb_learning_rate': 0.15290453025295897, 'xgb_max_depth': 8, 'lgbm_n_estimators': 135, 'lgbm_learning_rate': 0.6864918429057698, 'lgbm_num_leaves': 86}. Best is trial 42 with value: 0.7086903608581168.\n",
            "/var/folders/0h/6t5rrrkd413d6v0z43zmchmm0000gn/T/ipykernel_38998/738175.py:42: FutureWarning: suggest_loguniform has been deprecated in v3.0.0. This feature will be removed in v6.0.0. See https://github.com/optuna/optuna/releases/tag/v3.0.0. Use suggest_float(..., log=True) instead.\n",
            "  'learning_rate': trial.suggest_loguniform('xgb_learning_rate', 1e-3, 1.0),\n",
            "/var/folders/0h/6t5rrrkd413d6v0z43zmchmm0000gn/T/ipykernel_38998/738175.py:48: FutureWarning: suggest_loguniform has been deprecated in v3.0.0. This feature will be removed in v6.0.0. See https://github.com/optuna/optuna/releases/tag/v3.0.0. Use suggest_float(..., log=True) instead.\n",
            "  'learning_rate': trial.suggest_loguniform('lgbm_learning_rate', 1e-3, 1.0),\n"
          ]
        },
        {
          "name": "stdout",
          "output_type": "stream",
          "text": [
            "[LightGBM] [Info] Number of positive: 3362, number of negative: 3781\n",
            "[LightGBM] [Info] Auto-choosing row-wise multi-threading, the overhead of testing was 0.000815 seconds.\n",
            "You can set `force_row_wise=true` to remove the overhead.\n",
            "And if memory is not enough, you can set `force_col_wise=true`.\n",
            "[LightGBM] [Info] Total Bins 733\n",
            "[LightGBM] [Info] Number of data points in the train set: 7143, number of used features: 41\n",
            "[LightGBM] [Info] [binary:BoostFromScore]: pavg=0.470671 -> initscore=-0.117452\n",
            "[LightGBM] [Info] Start training from score -0.117452\n"
          ]
        },
        {
          "name": "stderr",
          "output_type": "stream",
          "text": [
            "[I 2024-09-20 03:02:30,596] Trial 43 finished with value: 0.6993314031933491 and parameters: {'rf_n_estimators': 89, 'rf_max_depth': 22, 'rf_min_samples_split': 10, 'xgb_n_estimators': 251, 'xgb_learning_rate': 0.15452935305653226, 'xgb_max_depth': 7, 'lgbm_n_estimators': 137, 'lgbm_learning_rate': 0.7707894671898485, 'lgbm_num_leaves': 85}. Best is trial 42 with value: 0.7086903608581168.\n",
            "/var/folders/0h/6t5rrrkd413d6v0z43zmchmm0000gn/T/ipykernel_38998/738175.py:42: FutureWarning: suggest_loguniform has been deprecated in v3.0.0. This feature will be removed in v6.0.0. See https://github.com/optuna/optuna/releases/tag/v3.0.0. Use suggest_float(..., log=True) instead.\n",
            "  'learning_rate': trial.suggest_loguniform('xgb_learning_rate', 1e-3, 1.0),\n",
            "/var/folders/0h/6t5rrrkd413d6v0z43zmchmm0000gn/T/ipykernel_38998/738175.py:48: FutureWarning: suggest_loguniform has been deprecated in v3.0.0. This feature will be removed in v6.0.0. See https://github.com/optuna/optuna/releases/tag/v3.0.0. Use suggest_float(..., log=True) instead.\n",
            "  'learning_rate': trial.suggest_loguniform('lgbm_learning_rate', 1e-3, 1.0),\n"
          ]
        },
        {
          "name": "stdout",
          "output_type": "stream",
          "text": [
            "[LightGBM] [Info] Number of positive: 3362, number of negative: 3781\n",
            "[LightGBM] [Info] Auto-choosing row-wise multi-threading, the overhead of testing was 0.000886 seconds.\n",
            "You can set `force_row_wise=true` to remove the overhead.\n",
            "And if memory is not enough, you can set `force_col_wise=true`.\n",
            "[LightGBM] [Info] Total Bins 733\n",
            "[LightGBM] [Info] Number of data points in the train set: 7143, number of used features: 41\n",
            "[LightGBM] [Info] [binary:BoostFromScore]: pavg=0.470671 -> initscore=-0.117452\n",
            "[LightGBM] [Info] Start training from score -0.117452\n"
          ]
        },
        {
          "name": "stderr",
          "output_type": "stream",
          "text": [
            "[I 2024-09-20 03:02:33,683] Trial 44 finished with value: 0.6950576629808934 and parameters: {'rf_n_estimators': 63, 'rf_max_depth': 18, 'rf_min_samples_split': 9, 'xgb_n_estimators': 284, 'xgb_learning_rate': 0.6898202547594806, 'xgb_max_depth': 8, 'lgbm_n_estimators': 158, 'lgbm_learning_rate': 0.015682097966967713, 'lgbm_num_leaves': 79}. Best is trial 42 with value: 0.7086903608581168.\n",
            "/var/folders/0h/6t5rrrkd413d6v0z43zmchmm0000gn/T/ipykernel_38998/738175.py:42: FutureWarning: suggest_loguniform has been deprecated in v3.0.0. This feature will be removed in v6.0.0. See https://github.com/optuna/optuna/releases/tag/v3.0.0. Use suggest_float(..., log=True) instead.\n",
            "  'learning_rate': trial.suggest_loguniform('xgb_learning_rate', 1e-3, 1.0),\n",
            "/var/folders/0h/6t5rrrkd413d6v0z43zmchmm0000gn/T/ipykernel_38998/738175.py:48: FutureWarning: suggest_loguniform has been deprecated in v3.0.0. This feature will be removed in v6.0.0. See https://github.com/optuna/optuna/releases/tag/v3.0.0. Use suggest_float(..., log=True) instead.\n",
            "  'learning_rate': trial.suggest_loguniform('lgbm_learning_rate', 1e-3, 1.0),\n"
          ]
        },
        {
          "name": "stdout",
          "output_type": "stream",
          "text": [
            "[LightGBM] [Info] Number of positive: 3362, number of negative: 3781\n",
            "[LightGBM] [Info] Auto-choosing row-wise multi-threading, the overhead of testing was 0.000844 seconds.\n",
            "You can set `force_row_wise=true` to remove the overhead.\n",
            "And if memory is not enough, you can set `force_col_wise=true`.\n",
            "[LightGBM] [Info] Total Bins 733\n",
            "[LightGBM] [Info] Number of data points in the train set: 7143, number of used features: 41\n",
            "[LightGBM] [Info] [binary:BoostFromScore]: pavg=0.470671 -> initscore=-0.117452\n",
            "[LightGBM] [Info] Start training from score -0.117452\n"
          ]
        },
        {
          "name": "stderr",
          "output_type": "stream",
          "text": [
            "[I 2024-09-20 03:02:36,489] Trial 45 finished with value: 0.6940414141371691 and parameters: {'rf_n_estimators': 95, 'rf_max_depth': 28, 'rf_min_samples_split': 2, 'xgb_n_estimators': 53, 'xgb_learning_rate': 0.08413489855554994, 'xgb_max_depth': 5, 'lgbm_n_estimators': 174, 'lgbm_learning_rate': 0.23805741469351005, 'lgbm_num_leaves': 76}. Best is trial 42 with value: 0.7086903608581168.\n",
            "/var/folders/0h/6t5rrrkd413d6v0z43zmchmm0000gn/T/ipykernel_38998/738175.py:42: FutureWarning: suggest_loguniform has been deprecated in v3.0.0. This feature will be removed in v6.0.0. See https://github.com/optuna/optuna/releases/tag/v3.0.0. Use suggest_float(..., log=True) instead.\n",
            "  'learning_rate': trial.suggest_loguniform('xgb_learning_rate', 1e-3, 1.0),\n",
            "/var/folders/0h/6t5rrrkd413d6v0z43zmchmm0000gn/T/ipykernel_38998/738175.py:48: FutureWarning: suggest_loguniform has been deprecated in v3.0.0. This feature will be removed in v6.0.0. See https://github.com/optuna/optuna/releases/tag/v3.0.0. Use suggest_float(..., log=True) instead.\n",
            "  'learning_rate': trial.suggest_loguniform('lgbm_learning_rate', 1e-3, 1.0),\n"
          ]
        },
        {
          "name": "stdout",
          "output_type": "stream",
          "text": [
            "[LightGBM] [Info] Number of positive: 3362, number of negative: 3781\n",
            "[LightGBM] [Info] Auto-choosing row-wise multi-threading, the overhead of testing was 0.000887 seconds.\n",
            "You can set `force_row_wise=true` to remove the overhead.\n",
            "And if memory is not enough, you can set `force_col_wise=true`.\n",
            "[LightGBM] [Info] Total Bins 733\n",
            "[LightGBM] [Info] Number of data points in the train set: 7143, number of used features: 41\n",
            "[LightGBM] [Info] [binary:BoostFromScore]: pavg=0.470671 -> initscore=-0.117452\n",
            "[LightGBM] [Info] Start training from score -0.117452\n"
          ]
        },
        {
          "name": "stderr",
          "output_type": "stream",
          "text": [
            "[I 2024-09-20 03:02:40,055] Trial 46 finished with value: 0.698799783289898 and parameters: {'rf_n_estimators': 84, 'rf_max_depth': 25, 'rf_min_samples_split': 8, 'xgb_n_estimators': 140, 'xgb_learning_rate': 0.22100483458289966, 'xgb_max_depth': 6, 'lgbm_n_estimators': 196, 'lgbm_learning_rate': 0.13422752056545345, 'lgbm_num_leaves': 95}. Best is trial 42 with value: 0.7086903608581168.\n",
            "/var/folders/0h/6t5rrrkd413d6v0z43zmchmm0000gn/T/ipykernel_38998/738175.py:42: FutureWarning: suggest_loguniform has been deprecated in v3.0.0. This feature will be removed in v6.0.0. See https://github.com/optuna/optuna/releases/tag/v3.0.0. Use suggest_float(..., log=True) instead.\n",
            "  'learning_rate': trial.suggest_loguniform('xgb_learning_rate', 1e-3, 1.0),\n",
            "/var/folders/0h/6t5rrrkd413d6v0z43zmchmm0000gn/T/ipykernel_38998/738175.py:48: FutureWarning: suggest_loguniform has been deprecated in v3.0.0. This feature will be removed in v6.0.0. See https://github.com/optuna/optuna/releases/tag/v3.0.0. Use suggest_float(..., log=True) instead.\n",
            "  'learning_rate': trial.suggest_loguniform('lgbm_learning_rate', 1e-3, 1.0),\n"
          ]
        },
        {
          "name": "stdout",
          "output_type": "stream",
          "text": [
            "[LightGBM] [Info] Number of positive: 3362, number of negative: 3781\n",
            "[LightGBM] [Info] Auto-choosing row-wise multi-threading, the overhead of testing was 0.000871 seconds.\n",
            "You can set `force_row_wise=true` to remove the overhead.\n",
            "And if memory is not enough, you can set `force_col_wise=true`.\n",
            "[LightGBM] [Info] Total Bins 733\n",
            "[LightGBM] [Info] Number of data points in the train set: 7143, number of used features: 41\n",
            "[LightGBM] [Info] [binary:BoostFromScore]: pavg=0.470671 -> initscore=-0.117452\n",
            "[LightGBM] [Info] Start training from score -0.117452\n"
          ]
        },
        {
          "name": "stderr",
          "output_type": "stream",
          "text": [
            "[I 2024-09-20 03:02:41,648] Trial 47 finished with value: 0.6948929256816204 and parameters: {'rf_n_estimators': 56, 'rf_max_depth': 17, 'rf_min_samples_split': 10, 'xgb_n_estimators': 230, 'xgb_learning_rate': 0.3407292959814363, 'xgb_max_depth': 8, 'lgbm_n_estimators': 64, 'lgbm_learning_rate': 0.2816486459875101, 'lgbm_num_leaves': 66}. Best is trial 42 with value: 0.7086903608581168.\n",
            "/var/folders/0h/6t5rrrkd413d6v0z43zmchmm0000gn/T/ipykernel_38998/738175.py:42: FutureWarning: suggest_loguniform has been deprecated in v3.0.0. This feature will be removed in v6.0.0. See https://github.com/optuna/optuna/releases/tag/v3.0.0. Use suggest_float(..., log=True) instead.\n",
            "  'learning_rate': trial.suggest_loguniform('xgb_learning_rate', 1e-3, 1.0),\n",
            "/var/folders/0h/6t5rrrkd413d6v0z43zmchmm0000gn/T/ipykernel_38998/738175.py:48: FutureWarning: suggest_loguniform has been deprecated in v3.0.0. This feature will be removed in v6.0.0. See https://github.com/optuna/optuna/releases/tag/v3.0.0. Use suggest_float(..., log=True) instead.\n",
            "  'learning_rate': trial.suggest_loguniform('lgbm_learning_rate', 1e-3, 1.0),\n"
          ]
        },
        {
          "name": "stdout",
          "output_type": "stream",
          "text": [
            "[LightGBM] [Info] Number of positive: 3362, number of negative: 3781\n",
            "[LightGBM] [Info] Auto-choosing row-wise multi-threading, the overhead of testing was 0.000876 seconds.\n",
            "You can set `force_row_wise=true` to remove the overhead.\n",
            "And if memory is not enough, you can set `force_col_wise=true`.\n",
            "[LightGBM] [Info] Total Bins 733\n",
            "[LightGBM] [Info] Number of data points in the train set: 7143, number of used features: 41\n",
            "[LightGBM] [Info] [binary:BoostFromScore]: pavg=0.470671 -> initscore=-0.117452\n",
            "[LightGBM] [Info] Start training from score -0.117452\n"
          ]
        },
        {
          "name": "stderr",
          "output_type": "stream",
          "text": [
            "[I 2024-09-20 03:02:43,740] Trial 48 finished with value: 0.6975517909094269 and parameters: {'rf_n_estimators': 106, 'rf_max_depth': 19, 'rf_min_samples_split': 10, 'xgb_n_estimators': 255, 'xgb_learning_rate': 0.958996854132697, 'xgb_max_depth': 7, 'lgbm_n_estimators': 110, 'lgbm_learning_rate': 0.6160599253555687, 'lgbm_num_leaves': 49}. Best is trial 42 with value: 0.7086903608581168.\n",
            "/var/folders/0h/6t5rrrkd413d6v0z43zmchmm0000gn/T/ipykernel_38998/738175.py:42: FutureWarning: suggest_loguniform has been deprecated in v3.0.0. This feature will be removed in v6.0.0. See https://github.com/optuna/optuna/releases/tag/v3.0.0. Use suggest_float(..., log=True) instead.\n",
            "  'learning_rate': trial.suggest_loguniform('xgb_learning_rate', 1e-3, 1.0),\n",
            "/var/folders/0h/6t5rrrkd413d6v0z43zmchmm0000gn/T/ipykernel_38998/738175.py:48: FutureWarning: suggest_loguniform has been deprecated in v3.0.0. This feature will be removed in v6.0.0. See https://github.com/optuna/optuna/releases/tag/v3.0.0. Use suggest_float(..., log=True) instead.\n",
            "  'learning_rate': trial.suggest_loguniform('lgbm_learning_rate', 1e-3, 1.0),\n"
          ]
        },
        {
          "name": "stdout",
          "output_type": "stream",
          "text": [
            "[LightGBM] [Info] Number of positive: 3362, number of negative: 3781\n",
            "[LightGBM] [Info] Auto-choosing row-wise multi-threading, the overhead of testing was 0.000845 seconds.\n",
            "You can set `force_row_wise=true` to remove the overhead.\n",
            "And if memory is not enough, you can set `force_col_wise=true`.\n",
            "[LightGBM] [Info] Total Bins 733\n",
            "[LightGBM] [Info] Number of data points in the train set: 7143, number of used features: 41\n",
            "[LightGBM] [Info] [binary:BoostFromScore]: pavg=0.470671 -> initscore=-0.117452\n",
            "[LightGBM] [Info] Start training from score -0.117452\n"
          ]
        },
        {
          "name": "stderr",
          "output_type": "stream",
          "text": [
            "[I 2024-09-20 03:02:45,872] Trial 49 finished with value: 0.6942428331528644 and parameters: {'rf_n_estimators': 74, 'rf_max_depth': 12, 'rf_min_samples_split': 8, 'xgb_n_estimators': 181, 'xgb_learning_rate': 0.13015035094011432, 'xgb_max_depth': 8, 'lgbm_n_estimators': 93, 'lgbm_learning_rate': 0.07863316580612108, 'lgbm_num_leaves': 86}. Best is trial 42 with value: 0.7086903608581168.\n",
            "/var/folders/0h/6t5rrrkd413d6v0z43zmchmm0000gn/T/ipykernel_38998/738175.py:42: FutureWarning: suggest_loguniform has been deprecated in v3.0.0. This feature will be removed in v6.0.0. See https://github.com/optuna/optuna/releases/tag/v3.0.0. Use suggest_float(..., log=True) instead.\n",
            "  'learning_rate': trial.suggest_loguniform('xgb_learning_rate', 1e-3, 1.0),\n",
            "/var/folders/0h/6t5rrrkd413d6v0z43zmchmm0000gn/T/ipykernel_38998/738175.py:48: FutureWarning: suggest_loguniform has been deprecated in v3.0.0. This feature will be removed in v6.0.0. See https://github.com/optuna/optuna/releases/tag/v3.0.0. Use suggest_float(..., log=True) instead.\n",
            "  'learning_rate': trial.suggest_loguniform('lgbm_learning_rate', 1e-3, 1.0),\n"
          ]
        },
        {
          "name": "stdout",
          "output_type": "stream",
          "text": [
            "[LightGBM] [Info] Number of positive: 3362, number of negative: 3781\n",
            "[LightGBM] [Info] Auto-choosing row-wise multi-threading, the overhead of testing was 0.001435 seconds.\n",
            "You can set `force_row_wise=true` to remove the overhead.\n",
            "And if memory is not enough, you can set `force_col_wise=true`.\n",
            "[LightGBM] [Info] Total Bins 733\n",
            "[LightGBM] [Info] Number of data points in the train set: 7143, number of used features: 41\n",
            "[LightGBM] [Info] [binary:BoostFromScore]: pavg=0.470671 -> initscore=-0.117452\n",
            "[LightGBM] [Info] Start training from score -0.117452\n"
          ]
        },
        {
          "name": "stderr",
          "output_type": "stream",
          "text": [
            "[I 2024-09-20 03:02:48,039] Trial 50 finished with value: 0.7012223275599705 and parameters: {'rf_n_estimators': 145, 'rf_max_depth': 8, 'rf_min_samples_split': 9, 'xgb_n_estimators': 114, 'xgb_learning_rate': 0.4772570409238827, 'xgb_max_depth': 10, 'lgbm_n_estimators': 186, 'lgbm_learning_rate': 0.38562430352295574, 'lgbm_num_leaves': 44}. Best is trial 42 with value: 0.7086903608581168.\n",
            "/var/folders/0h/6t5rrrkd413d6v0z43zmchmm0000gn/T/ipykernel_38998/738175.py:42: FutureWarning: suggest_loguniform has been deprecated in v3.0.0. This feature will be removed in v6.0.0. See https://github.com/optuna/optuna/releases/tag/v3.0.0. Use suggest_float(..., log=True) instead.\n",
            "  'learning_rate': trial.suggest_loguniform('xgb_learning_rate', 1e-3, 1.0),\n",
            "/var/folders/0h/6t5rrrkd413d6v0z43zmchmm0000gn/T/ipykernel_38998/738175.py:48: FutureWarning: suggest_loguniform has been deprecated in v3.0.0. This feature will be removed in v6.0.0. See https://github.com/optuna/optuna/releases/tag/v3.0.0. Use suggest_float(..., log=True) instead.\n",
            "  'learning_rate': trial.suggest_loguniform('lgbm_learning_rate', 1e-3, 1.0),\n"
          ]
        },
        {
          "name": "stdout",
          "output_type": "stream",
          "text": [
            "[LightGBM] [Info] Number of positive: 3362, number of negative: 3781\n",
            "[LightGBM] [Info] Auto-choosing row-wise multi-threading, the overhead of testing was 0.000883 seconds.\n",
            "You can set `force_row_wise=true` to remove the overhead.\n",
            "And if memory is not enough, you can set `force_col_wise=true`.\n",
            "[LightGBM] [Info] Total Bins 733\n",
            "[LightGBM] [Info] Number of data points in the train set: 7143, number of used features: 41\n",
            "[LightGBM] [Info] [binary:BoostFromScore]: pavg=0.470671 -> initscore=-0.117452\n",
            "[LightGBM] [Info] Start training from score -0.117452\n"
          ]
        },
        {
          "name": "stderr",
          "output_type": "stream",
          "text": [
            "[I 2024-09-20 03:02:51,824] Trial 51 finished with value: 0.700631995554708 and parameters: {'rf_n_estimators': 205, 'rf_max_depth': 16, 'rf_min_samples_split': 9, 'xgb_n_estimators': 212, 'xgb_learning_rate': 0.03749240798007266, 'xgb_max_depth': 9, 'lgbm_n_estimators': 153, 'lgbm_learning_rate': 0.4536563923775315, 'lgbm_num_leaves': 84}. Best is trial 42 with value: 0.7086903608581168.\n",
            "/var/folders/0h/6t5rrrkd413d6v0z43zmchmm0000gn/T/ipykernel_38998/738175.py:42: FutureWarning: suggest_loguniform has been deprecated in v3.0.0. This feature will be removed in v6.0.0. See https://github.com/optuna/optuna/releases/tag/v3.0.0. Use suggest_float(..., log=True) instead.\n",
            "  'learning_rate': trial.suggest_loguniform('xgb_learning_rate', 1e-3, 1.0),\n",
            "/var/folders/0h/6t5rrrkd413d6v0z43zmchmm0000gn/T/ipykernel_38998/738175.py:48: FutureWarning: suggest_loguniform has been deprecated in v3.0.0. This feature will be removed in v6.0.0. See https://github.com/optuna/optuna/releases/tag/v3.0.0. Use suggest_float(..., log=True) instead.\n",
            "  'learning_rate': trial.suggest_loguniform('lgbm_learning_rate', 1e-3, 1.0),\n"
          ]
        },
        {
          "name": "stdout",
          "output_type": "stream",
          "text": [
            "[LightGBM] [Info] Number of positive: 3362, number of negative: 3781\n",
            "[LightGBM] [Info] Auto-choosing row-wise multi-threading, the overhead of testing was 0.000874 seconds.\n",
            "You can set `force_row_wise=true` to remove the overhead.\n",
            "And if memory is not enough, you can set `force_col_wise=true`.\n",
            "[LightGBM] [Info] Total Bins 733\n",
            "[LightGBM] [Info] Number of data points in the train set: 7143, number of used features: 41\n",
            "[LightGBM] [Info] [binary:BoostFromScore]: pavg=0.470671 -> initscore=-0.117452\n",
            "[LightGBM] [Info] Start training from score -0.117452\n"
          ]
        },
        {
          "name": "stderr",
          "output_type": "stream",
          "text": [
            "[I 2024-09-20 03:02:54,505] Trial 52 finished with value: 0.6888132850480593 and parameters: {'rf_n_estimators': 60, 'rf_max_depth': 14, 'rf_min_samples_split': 9, 'xgb_n_estimators': 198, 'xgb_learning_rate': 0.7732295590437137, 'xgb_max_depth': 9, 'lgbm_n_estimators': 128, 'lgbm_learning_rate': 0.885714022571252, 'lgbm_num_leaves': 92}. Best is trial 42 with value: 0.7086903608581168.\n",
            "/var/folders/0h/6t5rrrkd413d6v0z43zmchmm0000gn/T/ipykernel_38998/738175.py:42: FutureWarning: suggest_loguniform has been deprecated in v3.0.0. This feature will be removed in v6.0.0. See https://github.com/optuna/optuna/releases/tag/v3.0.0. Use suggest_float(..., log=True) instead.\n",
            "  'learning_rate': trial.suggest_loguniform('xgb_learning_rate', 1e-3, 1.0),\n",
            "/var/folders/0h/6t5rrrkd413d6v0z43zmchmm0000gn/T/ipykernel_38998/738175.py:48: FutureWarning: suggest_loguniform has been deprecated in v3.0.0. This feature will be removed in v6.0.0. See https://github.com/optuna/optuna/releases/tag/v3.0.0. Use suggest_float(..., log=True) instead.\n",
            "  'learning_rate': trial.suggest_loguniform('lgbm_learning_rate', 1e-3, 1.0),\n"
          ]
        },
        {
          "name": "stdout",
          "output_type": "stream",
          "text": [
            "[LightGBM] [Info] Number of positive: 3362, number of negative: 3781\n",
            "[LightGBM] [Info] Auto-choosing row-wise multi-threading, the overhead of testing was 0.001027 seconds.\n",
            "You can set `force_row_wise=true` to remove the overhead.\n",
            "And if memory is not enough, you can set `force_col_wise=true`.\n",
            "[LightGBM] [Info] Total Bins 733\n",
            "[LightGBM] [Info] Number of data points in the train set: 7143, number of used features: 41\n",
            "[LightGBM] [Info] [binary:BoostFromScore]: pavg=0.470671 -> initscore=-0.117452\n",
            "[LightGBM] [Info] Start training from score -0.117452\n"
          ]
        },
        {
          "name": "stderr",
          "output_type": "stream",
          "text": [
            "[I 2024-09-20 03:02:58,424] Trial 53 finished with value: 0.6913604895799393 and parameters: {'rf_n_estimators': 227, 'rf_max_depth': 16, 'rf_min_samples_split': 10, 'xgb_n_estimators': 238, 'xgb_learning_rate': 0.016072386419348498, 'xgb_max_depth': 10, 'lgbm_n_estimators': 136, 'lgbm_learning_rate': 0.19179047465052682, 'lgbm_num_leaves': 79}. Best is trial 42 with value: 0.7086903608581168.\n",
            "/var/folders/0h/6t5rrrkd413d6v0z43zmchmm0000gn/T/ipykernel_38998/738175.py:42: FutureWarning: suggest_loguniform has been deprecated in v3.0.0. This feature will be removed in v6.0.0. See https://github.com/optuna/optuna/releases/tag/v3.0.0. Use suggest_float(..., log=True) instead.\n",
            "  'learning_rate': trial.suggest_loguniform('xgb_learning_rate', 1e-3, 1.0),\n",
            "/var/folders/0h/6t5rrrkd413d6v0z43zmchmm0000gn/T/ipykernel_38998/738175.py:48: FutureWarning: suggest_loguniform has been deprecated in v3.0.0. This feature will be removed in v6.0.0. See https://github.com/optuna/optuna/releases/tag/v3.0.0. Use suggest_float(..., log=True) instead.\n",
            "  'learning_rate': trial.suggest_loguniform('lgbm_learning_rate', 1e-3, 1.0),\n"
          ]
        },
        {
          "name": "stdout",
          "output_type": "stream",
          "text": [
            "[LightGBM] [Info] Number of positive: 3362, number of negative: 3781\n",
            "[LightGBM] [Info] Auto-choosing row-wise multi-threading, the overhead of testing was 0.000810 seconds.\n",
            "You can set `force_row_wise=true` to remove the overhead.\n",
            "And if memory is not enough, you can set `force_col_wise=true`.\n",
            "[LightGBM] [Info] Total Bins 733\n",
            "[LightGBM] [Info] Number of data points in the train set: 7143, number of used features: 41\n",
            "[LightGBM] [Info] [binary:BoostFromScore]: pavg=0.470671 -> initscore=-0.117452\n",
            "[LightGBM] [Info] Start training from score -0.117452\n"
          ]
        },
        {
          "name": "stderr",
          "output_type": "stream",
          "text": [
            "[I 2024-09-20 03:03:01,946] Trial 54 finished with value: 0.6934676357276324 and parameters: {'rf_n_estimators': 158, 'rf_max_depth': 20, 'rf_min_samples_split': 8, 'xgb_n_estimators': 284, 'xgb_learning_rate': 0.28511043899893296, 'xgb_max_depth': 9, 'lgbm_n_estimators': 117, 'lgbm_learning_rate': 0.555686249187541, 'lgbm_num_leaves': 97}. Best is trial 42 with value: 0.7086903608581168.\n",
            "/var/folders/0h/6t5rrrkd413d6v0z43zmchmm0000gn/T/ipykernel_38998/738175.py:42: FutureWarning: suggest_loguniform has been deprecated in v3.0.0. This feature will be removed in v6.0.0. See https://github.com/optuna/optuna/releases/tag/v3.0.0. Use suggest_float(..., log=True) instead.\n",
            "  'learning_rate': trial.suggest_loguniform('xgb_learning_rate', 1e-3, 1.0),\n",
            "/var/folders/0h/6t5rrrkd413d6v0z43zmchmm0000gn/T/ipykernel_38998/738175.py:48: FutureWarning: suggest_loguniform has been deprecated in v3.0.0. This feature will be removed in v6.0.0. See https://github.com/optuna/optuna/releases/tag/v3.0.0. Use suggest_float(..., log=True) instead.\n",
            "  'learning_rate': trial.suggest_loguniform('lgbm_learning_rate', 1e-3, 1.0),\n"
          ]
        },
        {
          "name": "stdout",
          "output_type": "stream",
          "text": [
            "[LightGBM] [Info] Number of positive: 3362, number of negative: 3781\n",
            "[LightGBM] [Info] Auto-choosing row-wise multi-threading, the overhead of testing was 0.000836 seconds.\n",
            "You can set `force_row_wise=true` to remove the overhead.\n",
            "And if memory is not enough, you can set `force_col_wise=true`.\n",
            "[LightGBM] [Info] Total Bins 733\n",
            "[LightGBM] [Info] Number of data points in the train set: 7143, number of used features: 41\n",
            "[LightGBM] [Info] [binary:BoostFromScore]: pavg=0.470671 -> initscore=-0.117452\n",
            "[LightGBM] [Info] Start training from score -0.117452\n"
          ]
        },
        {
          "name": "stderr",
          "output_type": "stream",
          "text": [
            "[I 2024-09-20 03:03:05,420] Trial 55 finished with value: 0.6973292781564012 and parameters: {'rf_n_estimators': 184, 'rf_max_depth': 23, 'rf_min_samples_split': 7, 'xgb_n_estimators': 222, 'xgb_learning_rate': 0.17938257917452877, 'xgb_max_depth': 8, 'lgbm_n_estimators': 151, 'lgbm_learning_rate': 0.4223431354759929, 'lgbm_num_leaves': 69}. Best is trial 42 with value: 0.7086903608581168.\n",
            "/var/folders/0h/6t5rrrkd413d6v0z43zmchmm0000gn/T/ipykernel_38998/738175.py:42: FutureWarning: suggest_loguniform has been deprecated in v3.0.0. This feature will be removed in v6.0.0. See https://github.com/optuna/optuna/releases/tag/v3.0.0. Use suggest_float(..., log=True) instead.\n",
            "  'learning_rate': trial.suggest_loguniform('xgb_learning_rate', 1e-3, 1.0),\n",
            "/var/folders/0h/6t5rrrkd413d6v0z43zmchmm0000gn/T/ipykernel_38998/738175.py:48: FutureWarning: suggest_loguniform has been deprecated in v3.0.0. This feature will be removed in v6.0.0. See https://github.com/optuna/optuna/releases/tag/v3.0.0. Use suggest_float(..., log=True) instead.\n",
            "  'learning_rate': trial.suggest_loguniform('lgbm_learning_rate', 1e-3, 1.0),\n"
          ]
        },
        {
          "name": "stdout",
          "output_type": "stream",
          "text": [
            "[LightGBM] [Info] Number of positive: 3362, number of negative: 3781\n",
            "[LightGBM] [Info] Auto-choosing row-wise multi-threading, the overhead of testing was 0.000895 seconds.\n",
            "You can set `force_row_wise=true` to remove the overhead.\n",
            "And if memory is not enough, you can set `force_col_wise=true`.\n",
            "[LightGBM] [Info] Total Bins 733\n",
            "[LightGBM] [Info] Number of data points in the train set: 7143, number of used features: 41\n",
            "[LightGBM] [Info] [binary:BoostFromScore]: pavg=0.470671 -> initscore=-0.117452\n",
            "[LightGBM] [Info] Start training from score -0.117452\n"
          ]
        },
        {
          "name": "stderr",
          "output_type": "stream",
          "text": [
            "[I 2024-09-20 03:03:09,805] Trial 56 finished with value: 0.691796097963936 and parameters: {'rf_n_estimators': 261, 'rf_max_depth': 29, 'rf_min_samples_split': 9, 'xgb_n_estimators': 182, 'xgb_learning_rate': 0.0057788342810612525, 'xgb_max_depth': 10, 'lgbm_n_estimators': 169, 'lgbm_learning_rate': 0.10706787822671156, 'lgbm_num_leaves': 74}. Best is trial 42 with value: 0.7086903608581168.\n",
            "/var/folders/0h/6t5rrrkd413d6v0z43zmchmm0000gn/T/ipykernel_38998/738175.py:42: FutureWarning: suggest_loguniform has been deprecated in v3.0.0. This feature will be removed in v6.0.0. See https://github.com/optuna/optuna/releases/tag/v3.0.0. Use suggest_float(..., log=True) instead.\n",
            "  'learning_rate': trial.suggest_loguniform('xgb_learning_rate', 1e-3, 1.0),\n",
            "/var/folders/0h/6t5rrrkd413d6v0z43zmchmm0000gn/T/ipykernel_38998/738175.py:48: FutureWarning: suggest_loguniform has been deprecated in v3.0.0. This feature will be removed in v6.0.0. See https://github.com/optuna/optuna/releases/tag/v3.0.0. Use suggest_float(..., log=True) instead.\n",
            "  'learning_rate': trial.suggest_loguniform('lgbm_learning_rate', 1e-3, 1.0),\n"
          ]
        },
        {
          "name": "stdout",
          "output_type": "stream",
          "text": [
            "[LightGBM] [Info] Number of positive: 3362, number of negative: 3781\n",
            "[LightGBM] [Info] Auto-choosing row-wise multi-threading, the overhead of testing was 0.000908 seconds.\n",
            "You can set `force_row_wise=true` to remove the overhead.\n",
            "And if memory is not enough, you can set `force_col_wise=true`.\n",
            "[LightGBM] [Info] Total Bins 733\n",
            "[LightGBM] [Info] Number of data points in the train set: 7143, number of used features: 41\n",
            "[LightGBM] [Info] [binary:BoostFromScore]: pavg=0.470671 -> initscore=-0.117452\n",
            "[LightGBM] [Info] Start training from score -0.117452\n"
          ]
        },
        {
          "name": "stderr",
          "output_type": "stream",
          "text": [
            "[I 2024-09-20 03:03:11,867] Trial 57 finished with value: 0.6972175283821455 and parameters: {'rf_n_estimators': 85, 'rf_max_depth': 15, 'rf_min_samples_split': 10, 'xgb_n_estimators': 169, 'xgb_learning_rate': 0.41313223126984355, 'xgb_max_depth': 9, 'lgbm_n_estimators': 83, 'lgbm_learning_rate': 0.27797558801008276, 'lgbm_num_leaves': 88}. Best is trial 42 with value: 0.7086903608581168.\n",
            "/var/folders/0h/6t5rrrkd413d6v0z43zmchmm0000gn/T/ipykernel_38998/738175.py:42: FutureWarning: suggest_loguniform has been deprecated in v3.0.0. This feature will be removed in v6.0.0. See https://github.com/optuna/optuna/releases/tag/v3.0.0. Use suggest_float(..., log=True) instead.\n",
            "  'learning_rate': trial.suggest_loguniform('xgb_learning_rate', 1e-3, 1.0),\n",
            "/var/folders/0h/6t5rrrkd413d6v0z43zmchmm0000gn/T/ipykernel_38998/738175.py:48: FutureWarning: suggest_loguniform has been deprecated in v3.0.0. This feature will be removed in v6.0.0. See https://github.com/optuna/optuna/releases/tag/v3.0.0. Use suggest_float(..., log=True) instead.\n",
            "  'learning_rate': trial.suggest_loguniform('lgbm_learning_rate', 1e-3, 1.0),\n"
          ]
        },
        {
          "name": "stdout",
          "output_type": "stream",
          "text": [
            "[LightGBM] [Info] Number of positive: 3362, number of negative: 3781\n",
            "[LightGBM] [Info] Auto-choosing row-wise multi-threading, the overhead of testing was 0.001011 seconds.\n",
            "You can set `force_row_wise=true` to remove the overhead.\n",
            "And if memory is not enough, you can set `force_col_wise=true`.\n",
            "[LightGBM] [Info] Total Bins 733\n",
            "[LightGBM] [Info] Number of data points in the train set: 7143, number of used features: 41\n",
            "[LightGBM] [Info] [binary:BoostFromScore]: pavg=0.470671 -> initscore=-0.117452\n",
            "[LightGBM] [Info] Start training from score -0.117452\n"
          ]
        },
        {
          "name": "stderr",
          "output_type": "stream",
          "text": [
            "[I 2024-09-20 03:03:14,348] Trial 58 finished with value: 0.6842916849119127 and parameters: {'rf_n_estimators': 207, 'rf_max_depth': 14, 'rf_min_samples_split': 9, 'xgb_n_estimators': 266, 'xgb_learning_rate': 0.06961553424989805, 'xgb_max_depth': 3, 'lgbm_n_estimators': 100, 'lgbm_learning_rate': 0.1980448816547716, 'lgbm_num_leaves': 62}. Best is trial 42 with value: 0.7086903608581168.\n",
            "/var/folders/0h/6t5rrrkd413d6v0z43zmchmm0000gn/T/ipykernel_38998/738175.py:42: FutureWarning: suggest_loguniform has been deprecated in v3.0.0. This feature will be removed in v6.0.0. See https://github.com/optuna/optuna/releases/tag/v3.0.0. Use suggest_float(..., log=True) instead.\n",
            "  'learning_rate': trial.suggest_loguniform('xgb_learning_rate', 1e-3, 1.0),\n",
            "/var/folders/0h/6t5rrrkd413d6v0z43zmchmm0000gn/T/ipykernel_38998/738175.py:48: FutureWarning: suggest_loguniform has been deprecated in v3.0.0. This feature will be removed in v6.0.0. See https://github.com/optuna/optuna/releases/tag/v3.0.0. Use suggest_float(..., log=True) instead.\n",
            "  'learning_rate': trial.suggest_loguniform('lgbm_learning_rate', 1e-3, 1.0),\n"
          ]
        },
        {
          "name": "stdout",
          "output_type": "stream",
          "text": [
            "[LightGBM] [Info] Number of positive: 3362, number of negative: 3781\n",
            "[LightGBM] [Info] Auto-choosing row-wise multi-threading, the overhead of testing was 0.000883 seconds.\n",
            "You can set `force_row_wise=true` to remove the overhead.\n",
            "And if memory is not enough, you can set `force_col_wise=true`.\n",
            "[LightGBM] [Info] Total Bins 733\n",
            "[LightGBM] [Info] Number of data points in the train set: 7143, number of used features: 41\n",
            "[LightGBM] [Info] [binary:BoostFromScore]: pavg=0.470671 -> initscore=-0.117452\n",
            "[LightGBM] [Info] Start training from score -0.117452\n"
          ]
        },
        {
          "name": "stderr",
          "output_type": "stream",
          "text": [
            "[I 2024-09-20 03:03:16,209] Trial 59 finished with value: 0.6994990175994777 and parameters: {'rf_n_estimators': 96, 'rf_max_depth': 18, 'rf_min_samples_split': 7, 'xgb_n_estimators': 150, 'xgb_learning_rate': 0.02878498605550331, 'xgb_max_depth': 8, 'lgbm_n_estimators': 60, 'lgbm_learning_rate': 0.7167407669889566, 'lgbm_num_leaves': 82}. Best is trial 42 with value: 0.7086903608581168.\n",
            "/var/folders/0h/6t5rrrkd413d6v0z43zmchmm0000gn/T/ipykernel_38998/738175.py:42: FutureWarning: suggest_loguniform has been deprecated in v3.0.0. This feature will be removed in v6.0.0. See https://github.com/optuna/optuna/releases/tag/v3.0.0. Use suggest_float(..., log=True) instead.\n",
            "  'learning_rate': trial.suggest_loguniform('xgb_learning_rate', 1e-3, 1.0),\n",
            "/var/folders/0h/6t5rrrkd413d6v0z43zmchmm0000gn/T/ipykernel_38998/738175.py:48: FutureWarning: suggest_loguniform has been deprecated in v3.0.0. This feature will be removed in v6.0.0. See https://github.com/optuna/optuna/releases/tag/v3.0.0. Use suggest_float(..., log=True) instead.\n",
            "  'learning_rate': trial.suggest_loguniform('lgbm_learning_rate', 1e-3, 1.0),\n"
          ]
        },
        {
          "name": "stdout",
          "output_type": "stream",
          "text": [
            "[LightGBM] [Info] Number of positive: 3362, number of negative: 3781\n",
            "[LightGBM] [Info] Auto-choosing row-wise multi-threading, the overhead of testing was 0.000880 seconds.\n",
            "You can set `force_row_wise=true` to remove the overhead.\n",
            "And if memory is not enough, you can set `force_col_wise=true`.\n",
            "[LightGBM] [Info] Total Bins 733\n",
            "[LightGBM] [Info] Number of data points in the train set: 7143, number of used features: 41\n",
            "[LightGBM] [Info] [binary:BoostFromScore]: pavg=0.470671 -> initscore=-0.117452\n",
            "[LightGBM] [Info] Start training from score -0.117452\n"
          ]
        },
        {
          "name": "stderr",
          "output_type": "stream",
          "text": [
            "[I 2024-09-20 03:03:18,928] Trial 60 finished with value: 0.7018541968343501 and parameters: {'rf_n_estimators': 51, 'rf_max_depth': 22, 'rf_min_samples_split': 3, 'xgb_n_estimators': 201, 'xgb_learning_rate': 0.5513732751188835, 'xgb_max_depth': 7, 'lgbm_n_estimators': 130, 'lgbm_learning_rate': 0.5413985703160961, 'lgbm_num_leaves': 100}. Best is trial 42 with value: 0.7086903608581168.\n",
            "/var/folders/0h/6t5rrrkd413d6v0z43zmchmm0000gn/T/ipykernel_38998/738175.py:42: FutureWarning: suggest_loguniform has been deprecated in v3.0.0. This feature will be removed in v6.0.0. See https://github.com/optuna/optuna/releases/tag/v3.0.0. Use suggest_float(..., log=True) instead.\n",
            "  'learning_rate': trial.suggest_loguniform('xgb_learning_rate', 1e-3, 1.0),\n",
            "/var/folders/0h/6t5rrrkd413d6v0z43zmchmm0000gn/T/ipykernel_38998/738175.py:48: FutureWarning: suggest_loguniform has been deprecated in v3.0.0. This feature will be removed in v6.0.0. See https://github.com/optuna/optuna/releases/tag/v3.0.0. Use suggest_float(..., log=True) instead.\n",
            "  'learning_rate': trial.suggest_loguniform('lgbm_learning_rate', 1e-3, 1.0),\n"
          ]
        },
        {
          "name": "stdout",
          "output_type": "stream",
          "text": [
            "[LightGBM] [Info] Number of positive: 3362, number of negative: 3781\n",
            "[LightGBM] [Info] Auto-choosing row-wise multi-threading, the overhead of testing was 0.001155 seconds.\n",
            "You can set `force_row_wise=true` to remove the overhead.\n",
            "And if memory is not enough, you can set `force_col_wise=true`.\n",
            "[LightGBM] [Info] Total Bins 733\n",
            "[LightGBM] [Info] Number of data points in the train set: 7143, number of used features: 41\n",
            "[LightGBM] [Info] [binary:BoostFromScore]: pavg=0.470671 -> initscore=-0.117452\n",
            "[LightGBM] [Info] Start training from score -0.117452\n"
          ]
        },
        {
          "name": "stderr",
          "output_type": "stream",
          "text": [
            "[I 2024-09-20 03:03:22,225] Trial 61 finished with value: 0.7021634659827538 and parameters: {'rf_n_estimators': 223, 'rf_max_depth': 20, 'rf_min_samples_split': 8, 'xgb_n_estimators': 167, 'xgb_learning_rate': 0.2715009944626672, 'xgb_max_depth': 10, 'lgbm_n_estimators': 109, 'lgbm_learning_rate': 0.2154812484264087, 'lgbm_num_leaves': 71}. Best is trial 42 with value: 0.7086903608581168.\n",
            "/var/folders/0h/6t5rrrkd413d6v0z43zmchmm0000gn/T/ipykernel_38998/738175.py:42: FutureWarning: suggest_loguniform has been deprecated in v3.0.0. This feature will be removed in v6.0.0. See https://github.com/optuna/optuna/releases/tag/v3.0.0. Use suggest_float(..., log=True) instead.\n",
            "  'learning_rate': trial.suggest_loguniform('xgb_learning_rate', 1e-3, 1.0),\n",
            "/var/folders/0h/6t5rrrkd413d6v0z43zmchmm0000gn/T/ipykernel_38998/738175.py:48: FutureWarning: suggest_loguniform has been deprecated in v3.0.0. This feature will be removed in v6.0.0. See https://github.com/optuna/optuna/releases/tag/v3.0.0. Use suggest_float(..., log=True) instead.\n",
            "  'learning_rate': trial.suggest_loguniform('lgbm_learning_rate', 1e-3, 1.0),\n"
          ]
        },
        {
          "name": "stdout",
          "output_type": "stream",
          "text": [
            "[LightGBM] [Info] Number of positive: 3362, number of negative: 3781\n",
            "[LightGBM] [Info] Auto-choosing row-wise multi-threading, the overhead of testing was 0.000888 seconds.\n",
            "You can set `force_row_wise=true` to remove the overhead.\n",
            "And if memory is not enough, you can set `force_col_wise=true`.\n",
            "[LightGBM] [Info] Total Bins 733\n",
            "[LightGBM] [Info] Number of data points in the train set: 7143, number of used features: 41\n",
            "[LightGBM] [Info] [binary:BoostFromScore]: pavg=0.470671 -> initscore=-0.117452\n",
            "[LightGBM] [Info] Start training from score -0.117452\n"
          ]
        },
        {
          "name": "stderr",
          "output_type": "stream",
          "text": [
            "[I 2024-09-20 03:03:25,633] Trial 62 finished with value: 0.7082493712010757 and parameters: {'rf_n_estimators': 240, 'rf_max_depth': 24, 'rf_min_samples_split': 8, 'xgb_n_estimators': 142, 'xgb_learning_rate': 0.3263952779185908, 'xgb_max_depth': 10, 'lgbm_n_estimators': 109, 'lgbm_learning_rate': 0.2320923953139564, 'lgbm_num_leaves': 73}. Best is trial 42 with value: 0.7086903608581168.\n",
            "/var/folders/0h/6t5rrrkd413d6v0z43zmchmm0000gn/T/ipykernel_38998/738175.py:42: FutureWarning: suggest_loguniform has been deprecated in v3.0.0. This feature will be removed in v6.0.0. See https://github.com/optuna/optuna/releases/tag/v3.0.0. Use suggest_float(..., log=True) instead.\n",
            "  'learning_rate': trial.suggest_loguniform('xgb_learning_rate', 1e-3, 1.0),\n",
            "/var/folders/0h/6t5rrrkd413d6v0z43zmchmm0000gn/T/ipykernel_38998/738175.py:48: FutureWarning: suggest_loguniform has been deprecated in v3.0.0. This feature will be removed in v6.0.0. See https://github.com/optuna/optuna/releases/tag/v3.0.0. Use suggest_float(..., log=True) instead.\n",
            "  'learning_rate': trial.suggest_loguniform('lgbm_learning_rate', 1e-3, 1.0),\n"
          ]
        },
        {
          "name": "stdout",
          "output_type": "stream",
          "text": [
            "[LightGBM] [Info] Number of positive: 3362, number of negative: 3781\n",
            "[LightGBM] [Info] Auto-choosing row-wise multi-threading, the overhead of testing was 0.000910 seconds.\n",
            "You can set `force_row_wise=true` to remove the overhead.\n",
            "And if memory is not enough, you can set `force_col_wise=true`.\n",
            "[LightGBM] [Info] Total Bins 733\n",
            "[LightGBM] [Info] Number of data points in the train set: 7143, number of used features: 41\n",
            "[LightGBM] [Info] [binary:BoostFromScore]: pavg=0.470671 -> initscore=-0.117452\n",
            "[LightGBM] [Info] Start training from score -0.117452\n"
          ]
        },
        {
          "name": "stderr",
          "output_type": "stream",
          "text": [
            "[I 2024-09-20 03:03:29,019] Trial 63 finished with value: 0.7023547017847913 and parameters: {'rf_n_estimators': 252, 'rf_max_depth': 27, 'rf_min_samples_split': 8, 'xgb_n_estimators': 133, 'xgb_learning_rate': 0.11001537817583291, 'xgb_max_depth': 10, 'lgbm_n_estimators': 91, 'lgbm_learning_rate': 0.31472206610077325, 'lgbm_num_leaves': 77}. Best is trial 42 with value: 0.7086903608581168.\n",
            "/var/folders/0h/6t5rrrkd413d6v0z43zmchmm0000gn/T/ipykernel_38998/738175.py:42: FutureWarning: suggest_loguniform has been deprecated in v3.0.0. This feature will be removed in v6.0.0. See https://github.com/optuna/optuna/releases/tag/v3.0.0. Use suggest_float(..., log=True) instead.\n",
            "  'learning_rate': trial.suggest_loguniform('xgb_learning_rate', 1e-3, 1.0),\n",
            "/var/folders/0h/6t5rrrkd413d6v0z43zmchmm0000gn/T/ipykernel_38998/738175.py:48: FutureWarning: suggest_loguniform has been deprecated in v3.0.0. This feature will be removed in v6.0.0. See https://github.com/optuna/optuna/releases/tag/v3.0.0. Use suggest_float(..., log=True) instead.\n",
            "  'learning_rate': trial.suggest_loguniform('lgbm_learning_rate', 1e-3, 1.0),\n"
          ]
        },
        {
          "name": "stdout",
          "output_type": "stream",
          "text": [
            "[LightGBM] [Info] Number of positive: 3362, number of negative: 3781\n",
            "[LightGBM] [Info] Auto-choosing row-wise multi-threading, the overhead of testing was 0.000848 seconds.\n",
            "You can set `force_row_wise=true` to remove the overhead.\n",
            "And if memory is not enough, you can set `force_col_wise=true`.\n",
            "[LightGBM] [Info] Total Bins 733\n",
            "[LightGBM] [Info] Number of data points in the train set: 7143, number of used features: 41\n",
            "[LightGBM] [Info] [binary:BoostFromScore]: pavg=0.470671 -> initscore=-0.117452\n",
            "[LightGBM] [Info] Start training from score -0.117452\n"
          ]
        },
        {
          "name": "stderr",
          "output_type": "stream",
          "text": [
            "[I 2024-09-20 03:03:32,839] Trial 64 finished with value: 0.6930284331910818 and parameters: {'rf_n_estimators': 281, 'rf_max_depth': 25, 'rf_min_samples_split': 8, 'xgb_n_estimators': 143, 'xgb_learning_rate': 0.9986624761930696, 'xgb_max_depth': 9, 'lgbm_n_estimators': 118, 'lgbm_learning_rate': 0.1308777272350741, 'lgbm_num_leaves': 74}. Best is trial 42 with value: 0.7086903608581168.\n",
            "/var/folders/0h/6t5rrrkd413d6v0z43zmchmm0000gn/T/ipykernel_38998/738175.py:42: FutureWarning: suggest_loguniform has been deprecated in v3.0.0. This feature will be removed in v6.0.0. See https://github.com/optuna/optuna/releases/tag/v3.0.0. Use suggest_float(..., log=True) instead.\n",
            "  'learning_rate': trial.suggest_loguniform('xgb_learning_rate', 1e-3, 1.0),\n",
            "/var/folders/0h/6t5rrrkd413d6v0z43zmchmm0000gn/T/ipykernel_38998/738175.py:48: FutureWarning: suggest_loguniform has been deprecated in v3.0.0. This feature will be removed in v6.0.0. See https://github.com/optuna/optuna/releases/tag/v3.0.0. Use suggest_float(..., log=True) instead.\n",
            "  'learning_rate': trial.suggest_loguniform('lgbm_learning_rate', 1e-3, 1.0),\n"
          ]
        },
        {
          "name": "stdout",
          "output_type": "stream",
          "text": [
            "[LightGBM] [Info] Number of positive: 3362, number of negative: 3781\n",
            "[LightGBM] [Info] Auto-choosing row-wise multi-threading, the overhead of testing was 0.000818 seconds.\n",
            "You can set `force_row_wise=true` to remove the overhead.\n",
            "And if memory is not enough, you can set `force_col_wise=true`.\n",
            "[LightGBM] [Info] Total Bins 733\n",
            "[LightGBM] [Info] Number of data points in the train set: 7143, number of used features: 41\n",
            "[LightGBM] [Info] [binary:BoostFromScore]: pavg=0.470671 -> initscore=-0.117452\n",
            "[LightGBM] [Info] Start training from score -0.117452\n"
          ]
        },
        {
          "name": "stderr",
          "output_type": "stream",
          "text": [
            "[I 2024-09-20 03:03:36,890] Trial 65 finished with value: 0.7089327903563837 and parameters: {'rf_n_estimators': 173, 'rf_max_depth': 24, 'rf_min_samples_split': 9, 'xgb_n_estimators': 158, 'xgb_learning_rate': 0.19458710287727474, 'xgb_max_depth': 10, 'lgbm_n_estimators': 269, 'lgbm_learning_rate': 0.42383617178932864, 'lgbm_num_leaves': 59}. Best is trial 65 with value: 0.7089327903563837.\n",
            "/var/folders/0h/6t5rrrkd413d6v0z43zmchmm0000gn/T/ipykernel_38998/738175.py:42: FutureWarning: suggest_loguniform has been deprecated in v3.0.0. This feature will be removed in v6.0.0. See https://github.com/optuna/optuna/releases/tag/v3.0.0. Use suggest_float(..., log=True) instead.\n",
            "  'learning_rate': trial.suggest_loguniform('xgb_learning_rate', 1e-3, 1.0),\n",
            "/var/folders/0h/6t5rrrkd413d6v0z43zmchmm0000gn/T/ipykernel_38998/738175.py:48: FutureWarning: suggest_loguniform has been deprecated in v3.0.0. This feature will be removed in v6.0.0. See https://github.com/optuna/optuna/releases/tag/v3.0.0. Use suggest_float(..., log=True) instead.\n",
            "  'learning_rate': trial.suggest_loguniform('lgbm_learning_rate', 1e-3, 1.0),\n"
          ]
        },
        {
          "name": "stdout",
          "output_type": "stream",
          "text": [
            "[LightGBM] [Info] Number of positive: 3362, number of negative: 3781\n",
            "[LightGBM] [Info] Auto-choosing row-wise multi-threading, the overhead of testing was 0.000846 seconds.\n",
            "You can set `force_row_wise=true` to remove the overhead.\n",
            "And if memory is not enough, you can set `force_col_wise=true`.\n",
            "[LightGBM] [Info] Total Bins 733\n",
            "[LightGBM] [Info] Number of data points in the train set: 7143, number of used features: 41\n",
            "[LightGBM] [Info] [binary:BoostFromScore]: pavg=0.470671 -> initscore=-0.117452\n",
            "[LightGBM] [Info] Start training from score -0.117452\n"
          ]
        },
        {
          "name": "stderr",
          "output_type": "stream",
          "text": [
            "[I 2024-09-20 03:03:41,694] Trial 66 finished with value: 0.705112986475781 and parameters: {'rf_n_estimators': 243, 'rf_max_depth': 24, 'rf_min_samples_split': 9, 'xgb_n_estimators': 156, 'xgb_learning_rate': 0.19373023945323464, 'xgb_max_depth': 10, 'lgbm_n_estimators': 298, 'lgbm_learning_rate': 0.16581678765484412, 'lgbm_num_leaves': 59}. Best is trial 65 with value: 0.7089327903563837.\n",
            "/var/folders/0h/6t5rrrkd413d6v0z43zmchmm0000gn/T/ipykernel_38998/738175.py:42: FutureWarning: suggest_loguniform has been deprecated in v3.0.0. This feature will be removed in v6.0.0. See https://github.com/optuna/optuna/releases/tag/v3.0.0. Use suggest_float(..., log=True) instead.\n",
            "  'learning_rate': trial.suggest_loguniform('xgb_learning_rate', 1e-3, 1.0),\n",
            "/var/folders/0h/6t5rrrkd413d6v0z43zmchmm0000gn/T/ipykernel_38998/738175.py:48: FutureWarning: suggest_loguniform has been deprecated in v3.0.0. This feature will be removed in v6.0.0. See https://github.com/optuna/optuna/releases/tag/v3.0.0. Use suggest_float(..., log=True) instead.\n",
            "  'learning_rate': trial.suggest_loguniform('lgbm_learning_rate', 1e-3, 1.0),\n"
          ]
        },
        {
          "name": "stdout",
          "output_type": "stream",
          "text": [
            "[LightGBM] [Info] Number of positive: 3362, number of negative: 3781\n",
            "[LightGBM] [Info] Auto-choosing row-wise multi-threading, the overhead of testing was 0.000806 seconds.\n",
            "You can set `force_row_wise=true` to remove the overhead.\n",
            "And if memory is not enough, you can set `force_col_wise=true`.\n",
            "[LightGBM] [Info] Total Bins 733\n",
            "[LightGBM] [Info] Number of data points in the train set: 7143, number of used features: 41\n",
            "[LightGBM] [Info] [binary:BoostFromScore]: pavg=0.470671 -> initscore=-0.117452\n",
            "[LightGBM] [Info] Start training from score -0.117452\n"
          ]
        },
        {
          "name": "stderr",
          "output_type": "stream",
          "text": [
            "[I 2024-09-20 03:03:46,265] Trial 67 finished with value: 0.7056739098214391 and parameters: {'rf_n_estimators': 247, 'rf_max_depth': 24, 'rf_min_samples_split': 10, 'xgb_n_estimators': 156, 'xgb_learning_rate': 0.2185635880526257, 'xgb_max_depth': 10, 'lgbm_n_estimators': 300, 'lgbm_learning_rate': 0.16445797474423485, 'lgbm_num_leaves': 52}. Best is trial 65 with value: 0.7089327903563837.\n",
            "/var/folders/0h/6t5rrrkd413d6v0z43zmchmm0000gn/T/ipykernel_38998/738175.py:42: FutureWarning: suggest_loguniform has been deprecated in v3.0.0. This feature will be removed in v6.0.0. See https://github.com/optuna/optuna/releases/tag/v3.0.0. Use suggest_float(..., log=True) instead.\n",
            "  'learning_rate': trial.suggest_loguniform('xgb_learning_rate', 1e-3, 1.0),\n",
            "/var/folders/0h/6t5rrrkd413d6v0z43zmchmm0000gn/T/ipykernel_38998/738175.py:48: FutureWarning: suggest_loguniform has been deprecated in v3.0.0. This feature will be removed in v6.0.0. See https://github.com/optuna/optuna/releases/tag/v3.0.0. Use suggest_float(..., log=True) instead.\n",
            "  'learning_rate': trial.suggest_loguniform('lgbm_learning_rate', 1e-3, 1.0),\n"
          ]
        },
        {
          "name": "stdout",
          "output_type": "stream",
          "text": [
            "[LightGBM] [Info] Number of positive: 3362, number of negative: 3781\n",
            "[LightGBM] [Info] Auto-choosing row-wise multi-threading, the overhead of testing was 0.000851 seconds.\n",
            "You can set `force_row_wise=true` to remove the overhead.\n",
            "And if memory is not enough, you can set `force_col_wise=true`.\n",
            "[LightGBM] [Info] Total Bins 733\n",
            "[LightGBM] [Info] Number of data points in the train set: 7143, number of used features: 41\n",
            "[LightGBM] [Info] [binary:BoostFromScore]: pavg=0.470671 -> initscore=-0.117452\n",
            "[LightGBM] [Info] Start training from score -0.117452\n"
          ]
        },
        {
          "name": "stderr",
          "output_type": "stream",
          "text": [
            "[I 2024-09-20 03:03:50,724] Trial 68 finished with value: 0.7005173771658757 and parameters: {'rf_n_estimators': 241, 'rf_max_depth': 24, 'rf_min_samples_split': 10, 'xgb_n_estimators': 159, 'xgb_learning_rate': 0.20821292605929997, 'xgb_max_depth': 10, 'lgbm_n_estimators': 299, 'lgbm_learning_rate': 0.0408206576605446, 'lgbm_num_leaves': 49}. Best is trial 65 with value: 0.7089327903563837.\n",
            "/var/folders/0h/6t5rrrkd413d6v0z43zmchmm0000gn/T/ipykernel_38998/738175.py:42: FutureWarning: suggest_loguniform has been deprecated in v3.0.0. This feature will be removed in v6.0.0. See https://github.com/optuna/optuna/releases/tag/v3.0.0. Use suggest_float(..., log=True) instead.\n",
            "  'learning_rate': trial.suggest_loguniform('xgb_learning_rate', 1e-3, 1.0),\n",
            "/var/folders/0h/6t5rrrkd413d6v0z43zmchmm0000gn/T/ipykernel_38998/738175.py:48: FutureWarning: suggest_loguniform has been deprecated in v3.0.0. This feature will be removed in v6.0.0. See https://github.com/optuna/optuna/releases/tag/v3.0.0. Use suggest_float(..., log=True) instead.\n",
            "  'learning_rate': trial.suggest_loguniform('lgbm_learning_rate', 1e-3, 1.0),\n"
          ]
        },
        {
          "name": "stdout",
          "output_type": "stream",
          "text": [
            "[LightGBM] [Info] Number of positive: 3362, number of negative: 3781\n",
            "[LightGBM] [Info] Auto-choosing row-wise multi-threading, the overhead of testing was 0.000831 seconds.\n",
            "You can set `force_row_wise=true` to remove the overhead.\n",
            "And if memory is not enough, you can set `force_col_wise=true`.\n",
            "[LightGBM] [Info] Total Bins 733\n",
            "[LightGBM] [Info] Number of data points in the train set: 7143, number of used features: 41\n",
            "[LightGBM] [Info] [binary:BoostFromScore]: pavg=0.470671 -> initscore=-0.117452\n",
            "[LightGBM] [Info] Start training from score -0.117452\n"
          ]
        },
        {
          "name": "stderr",
          "output_type": "stream",
          "text": [
            "[I 2024-09-20 03:03:55,354] Trial 69 finished with value: 0.7025291868427369 and parameters: {'rf_n_estimators': 275, 'rf_max_depth': 24, 'rf_min_samples_split': 10, 'xgb_n_estimators': 150, 'xgb_learning_rate': 0.14335869247933114, 'xgb_max_depth': 10, 'lgbm_n_estimators': 282, 'lgbm_learning_rate': 0.17362280156616208, 'lgbm_num_leaves': 52}. Best is trial 65 with value: 0.7089327903563837.\n",
            "/var/folders/0h/6t5rrrkd413d6v0z43zmchmm0000gn/T/ipykernel_38998/738175.py:42: FutureWarning: suggest_loguniform has been deprecated in v3.0.0. This feature will be removed in v6.0.0. See https://github.com/optuna/optuna/releases/tag/v3.0.0. Use suggest_float(..., log=True) instead.\n",
            "  'learning_rate': trial.suggest_loguniform('xgb_learning_rate', 1e-3, 1.0),\n",
            "/var/folders/0h/6t5rrrkd413d6v0z43zmchmm0000gn/T/ipykernel_38998/738175.py:48: FutureWarning: suggest_loguniform has been deprecated in v3.0.0. This feature will be removed in v6.0.0. See https://github.com/optuna/optuna/releases/tag/v3.0.0. Use suggest_float(..., log=True) instead.\n",
            "  'learning_rate': trial.suggest_loguniform('lgbm_learning_rate', 1e-3, 1.0),\n"
          ]
        },
        {
          "name": "stdout",
          "output_type": "stream",
          "text": [
            "[LightGBM] [Info] Number of positive: 3362, number of negative: 3781\n",
            "[LightGBM] [Info] Auto-choosing row-wise multi-threading, the overhead of testing was 0.000858 seconds.\n",
            "You can set `force_row_wise=true` to remove the overhead.\n",
            "And if memory is not enough, you can set `force_col_wise=true`.\n",
            "[LightGBM] [Info] Total Bins 733\n",
            "[LightGBM] [Info] Number of data points in the train set: 7143, number of used features: 41\n",
            "[LightGBM] [Info] [binary:BoostFromScore]: pavg=0.470671 -> initscore=-0.117452\n",
            "[LightGBM] [Info] Start training from score -0.117452\n"
          ]
        },
        {
          "name": "stderr",
          "output_type": "stream",
          "text": [
            "[I 2024-09-20 03:03:59,849] Trial 70 finished with value: 0.7049522210436304 and parameters: {'rf_n_estimators': 236, 'rf_max_depth': 30, 'rf_min_samples_split': 10, 'xgb_n_estimators': 119, 'xgb_learning_rate': 0.19120256499139246, 'xgb_max_depth': 10, 'lgbm_n_estimators': 286, 'lgbm_learning_rate': 0.11475455287460663, 'lgbm_num_leaves': 58}. Best is trial 65 with value: 0.7089327903563837.\n",
            "/var/folders/0h/6t5rrrkd413d6v0z43zmchmm0000gn/T/ipykernel_38998/738175.py:42: FutureWarning: suggest_loguniform has been deprecated in v3.0.0. This feature will be removed in v6.0.0. See https://github.com/optuna/optuna/releases/tag/v3.0.0. Use suggest_float(..., log=True) instead.\n",
            "  'learning_rate': trial.suggest_loguniform('xgb_learning_rate', 1e-3, 1.0),\n",
            "/var/folders/0h/6t5rrrkd413d6v0z43zmchmm0000gn/T/ipykernel_38998/738175.py:48: FutureWarning: suggest_loguniform has been deprecated in v3.0.0. This feature will be removed in v6.0.0. See https://github.com/optuna/optuna/releases/tag/v3.0.0. Use suggest_float(..., log=True) instead.\n",
            "  'learning_rate': trial.suggest_loguniform('lgbm_learning_rate', 1e-3, 1.0),\n"
          ]
        },
        {
          "name": "stdout",
          "output_type": "stream",
          "text": [
            "[LightGBM] [Info] Number of positive: 3362, number of negative: 3781\n",
            "[LightGBM] [Info] Auto-choosing row-wise multi-threading, the overhead of testing was 0.000857 seconds.\n",
            "You can set `force_row_wise=true` to remove the overhead.\n",
            "And if memory is not enough, you can set `force_col_wise=true`.\n",
            "[LightGBM] [Info] Total Bins 733\n",
            "[LightGBM] [Info] Number of data points in the train set: 7143, number of used features: 41\n",
            "[LightGBM] [Info] [binary:BoostFromScore]: pavg=0.470671 -> initscore=-0.117452\n",
            "[LightGBM] [Info] Start training from score -0.117452\n"
          ]
        },
        {
          "name": "stderr",
          "output_type": "stream",
          "text": [
            "[I 2024-09-20 03:04:04,425] Trial 71 finished with value: 0.6952109276194752 and parameters: {'rf_n_estimators': 237, 'rf_max_depth': 30, 'rf_min_samples_split': 10, 'xgb_n_estimators': 116, 'xgb_learning_rate': 0.4288658778061923, 'xgb_max_depth': 10, 'lgbm_n_estimators': 287, 'lgbm_learning_rate': 0.11553146148974332, 'lgbm_num_leaves': 59}. Best is trial 65 with value: 0.7089327903563837.\n",
            "/var/folders/0h/6t5rrrkd413d6v0z43zmchmm0000gn/T/ipykernel_38998/738175.py:42: FutureWarning: suggest_loguniform has been deprecated in v3.0.0. This feature will be removed in v6.0.0. See https://github.com/optuna/optuna/releases/tag/v3.0.0. Use suggest_float(..., log=True) instead.\n",
            "  'learning_rate': trial.suggest_loguniform('xgb_learning_rate', 1e-3, 1.0),\n",
            "/var/folders/0h/6t5rrrkd413d6v0z43zmchmm0000gn/T/ipykernel_38998/738175.py:48: FutureWarning: suggest_loguniform has been deprecated in v3.0.0. This feature will be removed in v6.0.0. See https://github.com/optuna/optuna/releases/tag/v3.0.0. Use suggest_float(..., log=True) instead.\n",
            "  'learning_rate': trial.suggest_loguniform('lgbm_learning_rate', 1e-3, 1.0),\n"
          ]
        },
        {
          "name": "stdout",
          "output_type": "stream",
          "text": [
            "[LightGBM] [Info] Number of positive: 3362, number of negative: 3781\n",
            "[LightGBM] [Info] Auto-choosing row-wise multi-threading, the overhead of testing was 0.000897 seconds.\n",
            "You can set `force_row_wise=true` to remove the overhead.\n",
            "And if memory is not enough, you can set `force_col_wise=true`.\n",
            "[LightGBM] [Info] Total Bins 733\n",
            "[LightGBM] [Info] Number of data points in the train set: 7143, number of used features: 41\n",
            "[LightGBM] [Info] [binary:BoostFromScore]: pavg=0.470671 -> initscore=-0.117452\n",
            "[LightGBM] [Info] Start training from score -0.117452\n"
          ]
        },
        {
          "name": "stderr",
          "output_type": "stream",
          "text": [
            "[I 2024-09-20 03:04:09,085] Trial 72 finished with value: 0.699630084863577 and parameters: {'rf_n_estimators': 254, 'rf_max_depth': 29, 'rf_min_samples_split': 10, 'xgb_n_estimators': 139, 'xgb_learning_rate': 0.18329437049280461, 'xgb_max_depth': 10, 'lgbm_n_estimators': 268, 'lgbm_learning_rate': 0.08144397443931937, 'lgbm_num_leaves': 59}. Best is trial 65 with value: 0.7089327903563837.\n",
            "/var/folders/0h/6t5rrrkd413d6v0z43zmchmm0000gn/T/ipykernel_38998/738175.py:42: FutureWarning: suggest_loguniform has been deprecated in v3.0.0. This feature will be removed in v6.0.0. See https://github.com/optuna/optuna/releases/tag/v3.0.0. Use suggest_float(..., log=True) instead.\n",
            "  'learning_rate': trial.suggest_loguniform('xgb_learning_rate', 1e-3, 1.0),\n",
            "/var/folders/0h/6t5rrrkd413d6v0z43zmchmm0000gn/T/ipykernel_38998/738175.py:48: FutureWarning: suggest_loguniform has been deprecated in v3.0.0. This feature will be removed in v6.0.0. See https://github.com/optuna/optuna/releases/tag/v3.0.0. Use suggest_float(..., log=True) instead.\n",
            "  'learning_rate': trial.suggest_loguniform('lgbm_learning_rate', 1e-3, 1.0),\n"
          ]
        },
        {
          "name": "stdout",
          "output_type": "stream",
          "text": [
            "[LightGBM] [Info] Number of positive: 3362, number of negative: 3781\n",
            "[LightGBM] [Info] Auto-choosing row-wise multi-threading, the overhead of testing was 0.000811 seconds.\n",
            "You can set `force_row_wise=true` to remove the overhead.\n",
            "And if memory is not enough, you can set `force_col_wise=true`.\n",
            "[LightGBM] [Info] Total Bins 733\n",
            "[LightGBM] [Info] Number of data points in the train set: 7143, number of used features: 41\n",
            "[LightGBM] [Info] [binary:BoostFromScore]: pavg=0.470671 -> initscore=-0.117452\n",
            "[LightGBM] [Info] Start training from score -0.117452\n"
          ]
        },
        {
          "name": "stderr",
          "output_type": "stream",
          "text": [
            "[I 2024-09-20 03:04:13,732] Trial 73 finished with value: 0.7057691917109153 and parameters: {'rf_n_estimators': 236, 'rf_max_depth': 25, 'rf_min_samples_split': 9, 'xgb_n_estimators': 124, 'xgb_learning_rate': 0.29250366744949097, 'xgb_max_depth': 10, 'lgbm_n_estimators': 279, 'lgbm_learning_rate': 0.15414183832656725, 'lgbm_num_leaves': 53}. Best is trial 65 with value: 0.7089327903563837.\n",
            "/var/folders/0h/6t5rrrkd413d6v0z43zmchmm0000gn/T/ipykernel_38998/738175.py:42: FutureWarning: suggest_loguniform has been deprecated in v3.0.0. This feature will be removed in v6.0.0. See https://github.com/optuna/optuna/releases/tag/v3.0.0. Use suggest_float(..., log=True) instead.\n",
            "  'learning_rate': trial.suggest_loguniform('xgb_learning_rate', 1e-3, 1.0),\n",
            "/var/folders/0h/6t5rrrkd413d6v0z43zmchmm0000gn/T/ipykernel_38998/738175.py:48: FutureWarning: suggest_loguniform has been deprecated in v3.0.0. This feature will be removed in v6.0.0. See https://github.com/optuna/optuna/releases/tag/v3.0.0. Use suggest_float(..., log=True) instead.\n",
            "  'learning_rate': trial.suggest_loguniform('lgbm_learning_rate', 1e-3, 1.0),\n"
          ]
        },
        {
          "name": "stdout",
          "output_type": "stream",
          "text": [
            "[LightGBM] [Info] Number of positive: 3362, number of negative: 3781\n",
            "[LightGBM] [Info] Auto-choosing row-wise multi-threading, the overhead of testing was 0.000929 seconds.\n",
            "You can set `force_row_wise=true` to remove the overhead.\n",
            "And if memory is not enough, you can set `force_col_wise=true`.\n",
            "[LightGBM] [Info] Total Bins 733\n",
            "[LightGBM] [Info] Number of data points in the train set: 7143, number of used features: 41\n",
            "[LightGBM] [Info] [binary:BoostFromScore]: pavg=0.470671 -> initscore=-0.117452\n",
            "[LightGBM] [Info] Start training from score -0.117452\n"
          ]
        },
        {
          "name": "stderr",
          "output_type": "stream",
          "text": [
            "[I 2024-09-20 03:04:18,776] Trial 74 finished with value: 0.6960674035890354 and parameters: {'rf_n_estimators': 233, 'rf_max_depth': 27, 'rf_min_samples_split': 9, 'xgb_n_estimators': 104, 'xgb_learning_rate': 0.08944655610650025, 'xgb_max_depth': 10, 'lgbm_n_estimators': 267, 'lgbm_learning_rate': 0.0244591913186634, 'lgbm_num_leaves': 64}. Best is trial 65 with value: 0.7089327903563837.\n",
            "/var/folders/0h/6t5rrrkd413d6v0z43zmchmm0000gn/T/ipykernel_38998/738175.py:42: FutureWarning: suggest_loguniform has been deprecated in v3.0.0. This feature will be removed in v6.0.0. See https://github.com/optuna/optuna/releases/tag/v3.0.0. Use suggest_float(..., log=True) instead.\n",
            "  'learning_rate': trial.suggest_loguniform('xgb_learning_rate', 1e-3, 1.0),\n",
            "/var/folders/0h/6t5rrrkd413d6v0z43zmchmm0000gn/T/ipykernel_38998/738175.py:48: FutureWarning: suggest_loguniform has been deprecated in v3.0.0. This feature will be removed in v6.0.0. See https://github.com/optuna/optuna/releases/tag/v3.0.0. Use suggest_float(..., log=True) instead.\n",
            "  'learning_rate': trial.suggest_loguniform('lgbm_learning_rate', 1e-3, 1.0),\n"
          ]
        },
        {
          "name": "stdout",
          "output_type": "stream",
          "text": [
            "[LightGBM] [Info] Number of positive: 3362, number of negative: 3781\n",
            "[LightGBM] [Info] Auto-choosing row-wise multi-threading, the overhead of testing was 0.000811 seconds.\n",
            "You can set `force_row_wise=true` to remove the overhead.\n",
            "And if memory is not enough, you can set `force_col_wise=true`.\n",
            "[LightGBM] [Info] Total Bins 733\n",
            "[LightGBM] [Info] Number of data points in the train set: 7143, number of used features: 41\n",
            "[LightGBM] [Info] [binary:BoostFromScore]: pavg=0.470671 -> initscore=-0.117452\n",
            "[LightGBM] [Info] Start training from score -0.117452\n"
          ]
        },
        {
          "name": "stderr",
          "output_type": "stream",
          "text": [
            "[I 2024-09-20 03:04:22,768] Trial 75 finished with value: 0.6947419698309945 and parameters: {'rf_n_estimators': 248, 'rf_max_depth': 25, 'rf_min_samples_split': 10, 'xgb_n_estimators': 93, 'xgb_learning_rate': 0.29391351519441883, 'xgb_max_depth': 4, 'lgbm_n_estimators': 270, 'lgbm_learning_rate': 0.16521876710432543, 'lgbm_num_leaves': 52}. Best is trial 65 with value: 0.7089327903563837.\n",
            "/var/folders/0h/6t5rrrkd413d6v0z43zmchmm0000gn/T/ipykernel_38998/738175.py:42: FutureWarning: suggest_loguniform has been deprecated in v3.0.0. This feature will be removed in v6.0.0. See https://github.com/optuna/optuna/releases/tag/v3.0.0. Use suggest_float(..., log=True) instead.\n",
            "  'learning_rate': trial.suggest_loguniform('xgb_learning_rate', 1e-3, 1.0),\n",
            "/var/folders/0h/6t5rrrkd413d6v0z43zmchmm0000gn/T/ipykernel_38998/738175.py:48: FutureWarning: suggest_loguniform has been deprecated in v3.0.0. This feature will be removed in v6.0.0. See https://github.com/optuna/optuna/releases/tag/v3.0.0. Use suggest_float(..., log=True) instead.\n",
            "  'learning_rate': trial.suggest_loguniform('lgbm_learning_rate', 1e-3, 1.0),\n"
          ]
        },
        {
          "name": "stdout",
          "output_type": "stream",
          "text": [
            "[LightGBM] [Info] Number of positive: 3362, number of negative: 3781\n",
            "[LightGBM] [Info] Auto-choosing row-wise multi-threading, the overhead of testing was 0.000861 seconds.\n",
            "You can set `force_row_wise=true` to remove the overhead.\n",
            "And if memory is not enough, you can set `force_col_wise=true`.\n",
            "[LightGBM] [Info] Total Bins 733\n",
            "[LightGBM] [Info] Number of data points in the train set: 7143, number of used features: 41\n",
            "[LightGBM] [Info] [binary:BoostFromScore]: pavg=0.470671 -> initscore=-0.117452\n",
            "[LightGBM] [Info] Start training from score -0.117452\n"
          ]
        },
        {
          "name": "stderr",
          "output_type": "stream",
          "text": [
            "[I 2024-09-20 03:04:27,490] Trial 76 finished with value: 0.6991944708012547 and parameters: {'rf_n_estimators': 267, 'rf_max_depth': 29, 'rf_min_samples_split': 9, 'xgb_n_estimators': 119, 'xgb_learning_rate': 0.127615657146287, 'xgb_max_depth': 10, 'lgbm_n_estimators': 251, 'lgbm_learning_rate': 0.07356016424847969, 'lgbm_num_leaves': 56}. Best is trial 65 with value: 0.7089327903563837.\n",
            "/var/folders/0h/6t5rrrkd413d6v0z43zmchmm0000gn/T/ipykernel_38998/738175.py:42: FutureWarning: suggest_loguniform has been deprecated in v3.0.0. This feature will be removed in v6.0.0. See https://github.com/optuna/optuna/releases/tag/v3.0.0. Use suggest_float(..., log=True) instead.\n",
            "  'learning_rate': trial.suggest_loguniform('xgb_learning_rate', 1e-3, 1.0),\n",
            "/var/folders/0h/6t5rrrkd413d6v0z43zmchmm0000gn/T/ipykernel_38998/738175.py:48: FutureWarning: suggest_loguniform has been deprecated in v3.0.0. This feature will be removed in v6.0.0. See https://github.com/optuna/optuna/releases/tag/v3.0.0. Use suggest_float(..., log=True) instead.\n",
            "  'learning_rate': trial.suggest_loguniform('lgbm_learning_rate', 1e-3, 1.0),\n"
          ]
        },
        {
          "name": "stdout",
          "output_type": "stream",
          "text": [
            "[LightGBM] [Info] Number of positive: 3362, number of negative: 3781\n",
            "[LightGBM] [Info] Auto-choosing row-wise multi-threading, the overhead of testing was 0.000861 seconds.\n",
            "You can set `force_row_wise=true` to remove the overhead.\n",
            "And if memory is not enough, you can set `force_col_wise=true`.\n",
            "[LightGBM] [Info] Total Bins 733\n",
            "[LightGBM] [Info] Number of data points in the train set: 7143, number of used features: 41\n",
            "[LightGBM] [Info] [binary:BoostFromScore]: pavg=0.470671 -> initscore=-0.117452\n",
            "[LightGBM] [Info] Start training from score -0.117452\n"
          ]
        },
        {
          "name": "stderr",
          "output_type": "stream",
          "text": [
            "[I 2024-09-20 03:04:32,512] Trial 77 finished with value: 0.7021201916536846 and parameters: {'rf_n_estimators': 284, 'rf_max_depth': 22, 'rf_min_samples_split': 10, 'xgb_n_estimators': 125, 'xgb_learning_rate': 0.1981692493863139, 'xgb_max_depth': 9, 'lgbm_n_estimators': 291, 'lgbm_learning_rate': 0.1035135234074373, 'lgbm_num_leaves': 58}. Best is trial 65 with value: 0.7089327903563837.\n",
            "/var/folders/0h/6t5rrrkd413d6v0z43zmchmm0000gn/T/ipykernel_38998/738175.py:42: FutureWarning: suggest_loguniform has been deprecated in v3.0.0. This feature will be removed in v6.0.0. See https://github.com/optuna/optuna/releases/tag/v3.0.0. Use suggest_float(..., log=True) instead.\n",
            "  'learning_rate': trial.suggest_loguniform('xgb_learning_rate', 1e-3, 1.0),\n",
            "/var/folders/0h/6t5rrrkd413d6v0z43zmchmm0000gn/T/ipykernel_38998/738175.py:48: FutureWarning: suggest_loguniform has been deprecated in v3.0.0. This feature will be removed in v6.0.0. See https://github.com/optuna/optuna/releases/tag/v3.0.0. Use suggest_float(..., log=True) instead.\n",
            "  'learning_rate': trial.suggest_loguniform('lgbm_learning_rate', 1e-3, 1.0),\n"
          ]
        },
        {
          "name": "stdout",
          "output_type": "stream",
          "text": [
            "[LightGBM] [Info] Number of positive: 3362, number of negative: 3781\n",
            "[LightGBM] [Info] Auto-choosing row-wise multi-threading, the overhead of testing was 0.000866 seconds.\n",
            "You can set `force_row_wise=true` to remove the overhead.\n",
            "And if memory is not enough, you can set `force_col_wise=true`.\n",
            "[LightGBM] [Info] Total Bins 733\n",
            "[LightGBM] [Info] Number of data points in the train set: 7143, number of used features: 41\n",
            "[LightGBM] [Info] [binary:BoostFromScore]: pavg=0.470671 -> initscore=-0.117452\n",
            "[LightGBM] [Info] Start training from score -0.117452\n"
          ]
        },
        {
          "name": "stderr",
          "output_type": "stream",
          "text": [
            "[I 2024-09-20 03:04:37,859] Trial 78 finished with value: 0.6955150576130449 and parameters: {'rf_n_estimators': 218, 'rf_max_depth': 27, 'rf_min_samples_split': 9, 'xgb_n_estimators': 294, 'xgb_learning_rate': 0.24336592863453813, 'xgb_max_depth': 10, 'lgbm_n_estimators': 258, 'lgbm_learning_rate': 0.0010930853828944476, 'lgbm_num_leaves': 61}. Best is trial 65 with value: 0.7089327903563837.\n",
            "/var/folders/0h/6t5rrrkd413d6v0z43zmchmm0000gn/T/ipykernel_38998/738175.py:42: FutureWarning: suggest_loguniform has been deprecated in v3.0.0. This feature will be removed in v6.0.0. See https://github.com/optuna/optuna/releases/tag/v3.0.0. Use suggest_float(..., log=True) instead.\n",
            "  'learning_rate': trial.suggest_loguniform('xgb_learning_rate', 1e-3, 1.0),\n",
            "/var/folders/0h/6t5rrrkd413d6v0z43zmchmm0000gn/T/ipykernel_38998/738175.py:48: FutureWarning: suggest_loguniform has been deprecated in v3.0.0. This feature will be removed in v6.0.0. See https://github.com/optuna/optuna/releases/tag/v3.0.0. Use suggest_float(..., log=True) instead.\n",
            "  'learning_rate': trial.suggest_loguniform('lgbm_learning_rate', 1e-3, 1.0),\n"
          ]
        },
        {
          "name": "stdout",
          "output_type": "stream",
          "text": [
            "[LightGBM] [Info] Number of positive: 3362, number of negative: 3781\n",
            "[LightGBM] [Info] Auto-choosing row-wise multi-threading, the overhead of testing was 0.000855 seconds.\n",
            "You can set `force_row_wise=true` to remove the overhead.\n",
            "And if memory is not enough, you can set `force_col_wise=true`.\n",
            "[LightGBM] [Info] Total Bins 733\n",
            "[LightGBM] [Info] Number of data points in the train set: 7143, number of used features: 41\n",
            "[LightGBM] [Info] [binary:BoostFromScore]: pavg=0.470671 -> initscore=-0.117452\n",
            "[LightGBM] [Info] Start training from score -0.117452\n"
          ]
        },
        {
          "name": "stderr",
          "output_type": "stream",
          "text": [
            "[I 2024-09-20 03:04:42,589] Trial 79 finished with value: 0.705473130525453 and parameters: {'rf_n_estimators': 259, 'rf_max_depth': 28, 'rf_min_samples_split': 10, 'xgb_n_estimators': 163, 'xgb_learning_rate': 0.1617379949312218, 'xgb_max_depth': 9, 'lgbm_n_estimators': 277, 'lgbm_learning_rate': 0.05351649013273288, 'lgbm_num_leaves': 52}. Best is trial 65 with value: 0.7089327903563837.\n",
            "/var/folders/0h/6t5rrrkd413d6v0z43zmchmm0000gn/T/ipykernel_38998/738175.py:42: FutureWarning: suggest_loguniform has been deprecated in v3.0.0. This feature will be removed in v6.0.0. See https://github.com/optuna/optuna/releases/tag/v3.0.0. Use suggest_float(..., log=True) instead.\n",
            "  'learning_rate': trial.suggest_loguniform('xgb_learning_rate', 1e-3, 1.0),\n",
            "/var/folders/0h/6t5rrrkd413d6v0z43zmchmm0000gn/T/ipykernel_38998/738175.py:48: FutureWarning: suggest_loguniform has been deprecated in v3.0.0. This feature will be removed in v6.0.0. See https://github.com/optuna/optuna/releases/tag/v3.0.0. Use suggest_float(..., log=True) instead.\n",
            "  'learning_rate': trial.suggest_loguniform('lgbm_learning_rate', 1e-3, 1.0),\n"
          ]
        },
        {
          "name": "stdout",
          "output_type": "stream",
          "text": [
            "[LightGBM] [Info] Number of positive: 3362, number of negative: 3781\n",
            "[LightGBM] [Info] Auto-choosing row-wise multi-threading, the overhead of testing was 0.000873 seconds.\n",
            "You can set `force_row_wise=true` to remove the overhead.\n",
            "And if memory is not enough, you can set `force_col_wise=true`.\n",
            "[LightGBM] [Info] Total Bins 733\n",
            "[LightGBM] [Info] Number of data points in the train set: 7143, number of used features: 41\n",
            "[LightGBM] [Info] [binary:BoostFromScore]: pavg=0.470671 -> initscore=-0.117452\n",
            "[LightGBM] [Info] Start training from score -0.117452\n"
          ]
        },
        {
          "name": "stderr",
          "output_type": "stream",
          "text": [
            "[I 2024-09-20 03:04:47,216] Trial 80 finished with value: 0.6915841634943347 and parameters: {'rf_n_estimators': 261, 'rf_max_depth': 28, 'rf_min_samples_split': 10, 'xgb_n_estimators': 161, 'xgb_learning_rate': 0.054878241925670854, 'xgb_max_depth': 9, 'lgbm_n_estimators': 278, 'lgbm_learning_rate': 0.0429963611476744, 'lgbm_num_leaves': 52}. Best is trial 65 with value: 0.7089327903563837.\n",
            "/var/folders/0h/6t5rrrkd413d6v0z43zmchmm0000gn/T/ipykernel_38998/738175.py:42: FutureWarning: suggest_loguniform has been deprecated in v3.0.0. This feature will be removed in v6.0.0. See https://github.com/optuna/optuna/releases/tag/v3.0.0. Use suggest_float(..., log=True) instead.\n",
            "  'learning_rate': trial.suggest_loguniform('xgb_learning_rate', 1e-3, 1.0),\n",
            "/var/folders/0h/6t5rrrkd413d6v0z43zmchmm0000gn/T/ipykernel_38998/738175.py:48: FutureWarning: suggest_loguniform has been deprecated in v3.0.0. This feature will be removed in v6.0.0. See https://github.com/optuna/optuna/releases/tag/v3.0.0. Use suggest_float(..., log=True) instead.\n",
            "  'learning_rate': trial.suggest_loguniform('lgbm_learning_rate', 1e-3, 1.0),\n"
          ]
        },
        {
          "name": "stdout",
          "output_type": "stream",
          "text": [
            "[LightGBM] [Info] Number of positive: 3362, number of negative: 3781\n",
            "[LightGBM] [Info] Auto-choosing row-wise multi-threading, the overhead of testing was 0.000866 seconds.\n",
            "You can set `force_row_wise=true` to remove the overhead.\n",
            "And if memory is not enough, you can set `force_col_wise=true`.\n",
            "[LightGBM] [Info] Total Bins 733\n",
            "[LightGBM] [Info] Number of data points in the train set: 7143, number of used features: 41\n",
            "[LightGBM] [Info] [binary:BoostFromScore]: pavg=0.470671 -> initscore=-0.117452\n",
            "[LightGBM] [Info] Start training from score -0.117452\n"
          ]
        },
        {
          "name": "stderr",
          "output_type": "stream",
          "text": [
            "[I 2024-09-20 03:04:51,635] Trial 81 finished with value: 0.7022064038522481 and parameters: {'rf_n_estimators': 231, 'rf_max_depth': 26, 'rf_min_samples_split': 10, 'xgb_n_estimators': 176, 'xgb_learning_rate': 0.1597369356350731, 'xgb_max_depth': 10, 'lgbm_n_estimators': 296, 'lgbm_learning_rate': 0.13774078399445192, 'lgbm_num_leaves': 47}. Best is trial 65 with value: 0.7089327903563837.\n",
            "/var/folders/0h/6t5rrrkd413d6v0z43zmchmm0000gn/T/ipykernel_38998/738175.py:42: FutureWarning: suggest_loguniform has been deprecated in v3.0.0. This feature will be removed in v6.0.0. See https://github.com/optuna/optuna/releases/tag/v3.0.0. Use suggest_float(..., log=True) instead.\n",
            "  'learning_rate': trial.suggest_loguniform('xgb_learning_rate', 1e-3, 1.0),\n",
            "/var/folders/0h/6t5rrrkd413d6v0z43zmchmm0000gn/T/ipykernel_38998/738175.py:48: FutureWarning: suggest_loguniform has been deprecated in v3.0.0. This feature will be removed in v6.0.0. See https://github.com/optuna/optuna/releases/tag/v3.0.0. Use suggest_float(..., log=True) instead.\n",
            "  'learning_rate': trial.suggest_loguniform('lgbm_learning_rate', 1e-3, 1.0),\n"
          ]
        },
        {
          "name": "stdout",
          "output_type": "stream",
          "text": [
            "[LightGBM] [Info] Number of positive: 3362, number of negative: 3781\n",
            "[LightGBM] [Info] Auto-choosing row-wise multi-threading, the overhead of testing was 0.000868 seconds.\n",
            "You can set `force_row_wise=true` to remove the overhead.\n",
            "And if memory is not enough, you can set `force_col_wise=true`.\n",
            "[LightGBM] [Info] Total Bins 733\n",
            "[LightGBM] [Info] Number of data points in the train set: 7143, number of used features: 41\n",
            "[LightGBM] [Info] [binary:BoostFromScore]: pavg=0.470671 -> initscore=-0.117452\n",
            "[LightGBM] [Info] Start training from score -0.117452\n"
          ]
        },
        {
          "name": "stderr",
          "output_type": "stream",
          "text": [
            "[I 2024-09-20 03:04:56,402] Trial 82 finished with value: 0.7092890820329893 and parameters: {'rf_n_estimators': 245, 'rf_max_depth': 30, 'rf_min_samples_split': 10, 'xgb_n_estimators': 145, 'xgb_learning_rate': 0.31593614648571106, 'xgb_max_depth': 10, 'lgbm_n_estimators': 278, 'lgbm_learning_rate': 0.05905141389653998, 'lgbm_num_leaves': 54}. Best is trial 82 with value: 0.7092890820329893.\n",
            "/var/folders/0h/6t5rrrkd413d6v0z43zmchmm0000gn/T/ipykernel_38998/738175.py:42: FutureWarning: suggest_loguniform has been deprecated in v3.0.0. This feature will be removed in v6.0.0. See https://github.com/optuna/optuna/releases/tag/v3.0.0. Use suggest_float(..., log=True) instead.\n",
            "  'learning_rate': trial.suggest_loguniform('xgb_learning_rate', 1e-3, 1.0),\n",
            "/var/folders/0h/6t5rrrkd413d6v0z43zmchmm0000gn/T/ipykernel_38998/738175.py:48: FutureWarning: suggest_loguniform has been deprecated in v3.0.0. This feature will be removed in v6.0.0. See https://github.com/optuna/optuna/releases/tag/v3.0.0. Use suggest_float(..., log=True) instead.\n",
            "  'learning_rate': trial.suggest_loguniform('lgbm_learning_rate', 1e-3, 1.0),\n"
          ]
        },
        {
          "name": "stdout",
          "output_type": "stream",
          "text": [
            "[LightGBM] [Info] Number of positive: 3362, number of negative: 3781\n",
            "[LightGBM] [Info] Auto-choosing row-wise multi-threading, the overhead of testing was 0.000848 seconds.\n",
            "You can set `force_row_wise=true` to remove the overhead.\n",
            "And if memory is not enough, you can set `force_col_wise=true`.\n",
            "[LightGBM] [Info] Total Bins 733\n",
            "[LightGBM] [Info] Number of data points in the train set: 7143, number of used features: 41\n",
            "[LightGBM] [Info] [binary:BoostFromScore]: pavg=0.470671 -> initscore=-0.117452\n",
            "[LightGBM] [Info] Start training from score -0.117452\n"
          ]
        },
        {
          "name": "stderr",
          "output_type": "stream",
          "text": [
            "[I 2024-09-20 03:05:01,093] Trial 83 finished with value: 0.7035383975476717 and parameters: {'rf_n_estimators': 244, 'rf_max_depth': 30, 'rf_min_samples_split': 9, 'xgb_n_estimators': 187, 'xgb_learning_rate': 0.11389742760151329, 'xgb_max_depth': 10, 'lgbm_n_estimators': 276, 'lgbm_learning_rate': 0.059820953803748696, 'lgbm_num_leaves': 44}. Best is trial 82 with value: 0.7092890820329893.\n",
            "/var/folders/0h/6t5rrrkd413d6v0z43zmchmm0000gn/T/ipykernel_38998/738175.py:42: FutureWarning: suggest_loguniform has been deprecated in v3.0.0. This feature will be removed in v6.0.0. See https://github.com/optuna/optuna/releases/tag/v3.0.0. Use suggest_float(..., log=True) instead.\n",
            "  'learning_rate': trial.suggest_loguniform('xgb_learning_rate', 1e-3, 1.0),\n",
            "/var/folders/0h/6t5rrrkd413d6v0z43zmchmm0000gn/T/ipykernel_38998/738175.py:48: FutureWarning: suggest_loguniform has been deprecated in v3.0.0. This feature will be removed in v6.0.0. See https://github.com/optuna/optuna/releases/tag/v3.0.0. Use suggest_float(..., log=True) instead.\n",
            "  'learning_rate': trial.suggest_loguniform('lgbm_learning_rate', 1e-3, 1.0),\n"
          ]
        },
        {
          "name": "stdout",
          "output_type": "stream",
          "text": [
            "[LightGBM] [Info] Number of positive: 3362, number of negative: 3781\n",
            "[LightGBM] [Info] Auto-choosing row-wise multi-threading, the overhead of testing was 0.001093 seconds.\n",
            "You can set `force_row_wise=true` to remove the overhead.\n",
            "And if memory is not enough, you can set `force_col_wise=true`.\n",
            "[LightGBM] [Info] Total Bins 733\n",
            "[LightGBM] [Info] Number of data points in the train set: 7143, number of used features: 41\n",
            "[LightGBM] [Info] [binary:BoostFromScore]: pavg=0.470671 -> initscore=-0.117452\n",
            "[LightGBM] [Info] Start training from score -0.117452\n"
          ]
        },
        {
          "name": "stderr",
          "output_type": "stream",
          "text": [
            "[I 2024-09-20 03:05:06,382] Trial 84 finished with value: 0.7042322667589693 and parameters: {'rf_n_estimators': 293, 'rf_max_depth': 29, 'rf_min_samples_split': 10, 'xgb_n_estimators': 148, 'xgb_learning_rate': 0.3118134234873169, 'xgb_max_depth': 10, 'lgbm_n_estimators': 258, 'lgbm_learning_rate': 0.052069717221730455, 'lgbm_num_leaves': 52}. Best is trial 82 with value: 0.7092890820329893.\n",
            "/var/folders/0h/6t5rrrkd413d6v0z43zmchmm0000gn/T/ipykernel_38998/738175.py:42: FutureWarning: suggest_loguniform has been deprecated in v3.0.0. This feature will be removed in v6.0.0. See https://github.com/optuna/optuna/releases/tag/v3.0.0. Use suggest_float(..., log=True) instead.\n",
            "  'learning_rate': trial.suggest_loguniform('xgb_learning_rate', 1e-3, 1.0),\n",
            "/var/folders/0h/6t5rrrkd413d6v0z43zmchmm0000gn/T/ipykernel_38998/738175.py:48: FutureWarning: suggest_loguniform has been deprecated in v3.0.0. This feature will be removed in v6.0.0. See https://github.com/optuna/optuna/releases/tag/v3.0.0. Use suggest_float(..., log=True) instead.\n",
            "  'learning_rate': trial.suggest_loguniform('lgbm_learning_rate', 1e-3, 1.0),\n"
          ]
        },
        {
          "name": "stdout",
          "output_type": "stream",
          "text": [
            "[LightGBM] [Info] Number of positive: 3362, number of negative: 3781\n",
            "[LightGBM] [Info] Auto-choosing row-wise multi-threading, the overhead of testing was 0.000831 seconds.\n",
            "You can set `force_row_wise=true` to remove the overhead.\n",
            "And if memory is not enough, you can set `force_col_wise=true`.\n",
            "[LightGBM] [Info] Total Bins 733\n",
            "[LightGBM] [Info] Number of data points in the train set: 7143, number of used features: 41\n",
            "[LightGBM] [Info] [binary:BoostFromScore]: pavg=0.470671 -> initscore=-0.117452\n",
            "[LightGBM] [Info] Start training from score -0.117452\n"
          ]
        },
        {
          "name": "stderr",
          "output_type": "stream",
          "text": [
            "[I 2024-09-20 03:05:11,904] Trial 85 finished with value: 0.6974838973934071 and parameters: {'rf_n_estimators': 258, 'rf_max_depth': 24, 'rf_min_samples_split': 9, 'xgb_n_estimators': 137, 'xgb_learning_rate': 0.3758212865443021, 'xgb_max_depth': 9, 'lgbm_n_estimators': 292, 'lgbm_learning_rate': 0.06841669421484811, 'lgbm_num_leaves': 63}. Best is trial 82 with value: 0.7092890820329893.\n",
            "/var/folders/0h/6t5rrrkd413d6v0z43zmchmm0000gn/T/ipykernel_38998/738175.py:42: FutureWarning: suggest_loguniform has been deprecated in v3.0.0. This feature will be removed in v6.0.0. See https://github.com/optuna/optuna/releases/tag/v3.0.0. Use suggest_float(..., log=True) instead.\n",
            "  'learning_rate': trial.suggest_loguniform('xgb_learning_rate', 1e-3, 1.0),\n",
            "/var/folders/0h/6t5rrrkd413d6v0z43zmchmm0000gn/T/ipykernel_38998/738175.py:48: FutureWarning: suggest_loguniform has been deprecated in v3.0.0. This feature will be removed in v6.0.0. See https://github.com/optuna/optuna/releases/tag/v3.0.0. Use suggest_float(..., log=True) instead.\n",
            "  'learning_rate': trial.suggest_loguniform('lgbm_learning_rate', 1e-3, 1.0),\n"
          ]
        },
        {
          "name": "stdout",
          "output_type": "stream",
          "text": [
            "[LightGBM] [Info] Number of positive: 3362, number of negative: 3781\n",
            "[LightGBM] [Info] Auto-choosing row-wise multi-threading, the overhead of testing was 0.000796 seconds.\n",
            "You can set `force_row_wise=true` to remove the overhead.\n",
            "And if memory is not enough, you can set `force_col_wise=true`.\n",
            "[LightGBM] [Info] Total Bins 733\n",
            "[LightGBM] [Info] Number of data points in the train set: 7143, number of used features: 41\n",
            "[LightGBM] [Info] [binary:BoostFromScore]: pavg=0.470671 -> initscore=-0.117452\n",
            "[LightGBM] [Info] Start training from score -0.117452\n"
          ]
        },
        {
          "name": "stderr",
          "output_type": "stream",
          "text": [
            "[I 2024-09-20 03:05:16,923] Trial 86 finished with value: 0.7011135130484837 and parameters: {'rf_n_estimators': 268, 'rf_max_depth': 23, 'rf_min_samples_split': 5, 'xgb_n_estimators': 128, 'xgb_learning_rate': 0.15083967172635893, 'xgb_max_depth': 10, 'lgbm_n_estimators': 234, 'lgbm_learning_rate': 0.24621167755158044, 'lgbm_num_leaves': 68}. Best is trial 82 with value: 0.7092890820329893.\n",
            "/var/folders/0h/6t5rrrkd413d6v0z43zmchmm0000gn/T/ipykernel_38998/738175.py:42: FutureWarning: suggest_loguniform has been deprecated in v3.0.0. This feature will be removed in v6.0.0. See https://github.com/optuna/optuna/releases/tag/v3.0.0. Use suggest_float(..., log=True) instead.\n",
            "  'learning_rate': trial.suggest_loguniform('xgb_learning_rate', 1e-3, 1.0),\n",
            "/var/folders/0h/6t5rrrkd413d6v0z43zmchmm0000gn/T/ipykernel_38998/738175.py:48: FutureWarning: suggest_loguniform has been deprecated in v3.0.0. This feature will be removed in v6.0.0. See https://github.com/optuna/optuna/releases/tag/v3.0.0. Use suggest_float(..., log=True) instead.\n",
            "  'learning_rate': trial.suggest_loguniform('lgbm_learning_rate', 1e-3, 1.0),\n"
          ]
        },
        {
          "name": "stdout",
          "output_type": "stream",
          "text": [
            "[LightGBM] [Info] Number of positive: 3362, number of negative: 3781\n",
            "[LightGBM] [Info] Auto-choosing row-wise multi-threading, the overhead of testing was 0.000914 seconds.\n",
            "You can set `force_row_wise=true` to remove the overhead.\n",
            "And if memory is not enough, you can set `force_col_wise=true`.\n",
            "[LightGBM] [Info] Total Bins 733\n",
            "[LightGBM] [Info] Number of data points in the train set: 7143, number of used features: 41\n",
            "[LightGBM] [Info] [binary:BoostFromScore]: pavg=0.470671 -> initscore=-0.117452\n",
            "[LightGBM] [Info] Start training from score -0.117452\n"
          ]
        },
        {
          "name": "stderr",
          "output_type": "stream",
          "text": [
            "[I 2024-09-20 03:05:21,373] Trial 87 finished with value: 0.7018359874829403 and parameters: {'rf_n_estimators': 223, 'rf_max_depth': 28, 'rf_min_samples_split': 10, 'xgb_n_estimators': 146, 'xgb_learning_rate': 0.24463949365974935, 'xgb_max_depth': 10, 'lgbm_n_estimators': 277, 'lgbm_learning_rate': 0.12571346038569817, 'lgbm_num_leaves': 54}. Best is trial 82 with value: 0.7092890820329893.\n",
            "/var/folders/0h/6t5rrrkd413d6v0z43zmchmm0000gn/T/ipykernel_38998/738175.py:42: FutureWarning: suggest_loguniform has been deprecated in v3.0.0. This feature will be removed in v6.0.0. See https://github.com/optuna/optuna/releases/tag/v3.0.0. Use suggest_float(..., log=True) instead.\n",
            "  'learning_rate': trial.suggest_loguniform('xgb_learning_rate', 1e-3, 1.0),\n",
            "/var/folders/0h/6t5rrrkd413d6v0z43zmchmm0000gn/T/ipykernel_38998/738175.py:48: FutureWarning: suggest_loguniform has been deprecated in v3.0.0. This feature will be removed in v6.0.0. See https://github.com/optuna/optuna/releases/tag/v3.0.0. Use suggest_float(..., log=True) instead.\n",
            "  'learning_rate': trial.suggest_loguniform('lgbm_learning_rate', 1e-3, 1.0),\n"
          ]
        },
        {
          "name": "stdout",
          "output_type": "stream",
          "text": [
            "[LightGBM] [Info] Number of positive: 3362, number of negative: 3781\n",
            "[LightGBM] [Info] Auto-choosing row-wise multi-threading, the overhead of testing was 0.000932 seconds.\n",
            "You can set `force_row_wise=true` to remove the overhead.\n",
            "And if memory is not enough, you can set `force_col_wise=true`.\n",
            "[LightGBM] [Info] Total Bins 733\n",
            "[LightGBM] [Info] Number of data points in the train set: 7143, number of used features: 41\n",
            "[LightGBM] [Info] [binary:BoostFromScore]: pavg=0.470671 -> initscore=-0.117452\n",
            "[LightGBM] [Info] Start training from score -0.117452\n"
          ]
        },
        {
          "name": "stderr",
          "output_type": "stream",
          "text": [
            "[I 2024-09-20 03:05:25,892] Trial 88 finished with value: 0.7003146055557515 and parameters: {'rf_n_estimators': 250, 'rf_max_depth': 25, 'rf_min_samples_split': 9, 'xgb_n_estimators': 155, 'xgb_learning_rate': 0.20099205288132674, 'xgb_max_depth': 9, 'lgbm_n_estimators': 285, 'lgbm_learning_rate': 0.09481353823718276, 'lgbm_num_leaves': 45}. Best is trial 82 with value: 0.7092890820329893.\n",
            "/var/folders/0h/6t5rrrkd413d6v0z43zmchmm0000gn/T/ipykernel_38998/738175.py:42: FutureWarning: suggest_loguniform has been deprecated in v3.0.0. This feature will be removed in v6.0.0. See https://github.com/optuna/optuna/releases/tag/v3.0.0. Use suggest_float(..., log=True) instead.\n",
            "  'learning_rate': trial.suggest_loguniform('xgb_learning_rate', 1e-3, 1.0),\n",
            "/var/folders/0h/6t5rrrkd413d6v0z43zmchmm0000gn/T/ipykernel_38998/738175.py:48: FutureWarning: suggest_loguniform has been deprecated in v3.0.0. This feature will be removed in v6.0.0. See https://github.com/optuna/optuna/releases/tag/v3.0.0. Use suggest_float(..., log=True) instead.\n",
            "  'learning_rate': trial.suggest_loguniform('lgbm_learning_rate', 1e-3, 1.0),\n"
          ]
        },
        {
          "name": "stdout",
          "output_type": "stream",
          "text": [
            "[LightGBM] [Info] Number of positive: 3362, number of negative: 3781\n",
            "[LightGBM] [Info] Auto-choosing row-wise multi-threading, the overhead of testing was 0.000861 seconds.\n",
            "You can set `force_row_wise=true` to remove the overhead.\n",
            "And if memory is not enough, you can set `force_col_wise=true`.\n",
            "[LightGBM] [Info] Total Bins 733\n",
            "[LightGBM] [Info] Number of data points in the train set: 7143, number of used features: 41\n",
            "[LightGBM] [Info] [binary:BoostFromScore]: pavg=0.470671 -> initscore=-0.117452\n",
            "[LightGBM] [Info] Start training from score -0.117452\n"
          ]
        },
        {
          "name": "stderr",
          "output_type": "stream",
          "text": [
            "[I 2024-09-20 03:05:30,842] Trial 89 finished with value: 0.6955285907114083 and parameters: {'rf_n_estimators': 240, 'rf_max_depth': 27, 'rf_min_samples_split': 10, 'xgb_n_estimators': 166, 'xgb_learning_rate': 0.07647329671911271, 'xgb_max_depth': 10, 'lgbm_n_estimators': 300, 'lgbm_learning_rate': 0.02319713692223047, 'lgbm_num_leaves': 57}. Best is trial 82 with value: 0.7092890820329893.\n",
            "/var/folders/0h/6t5rrrkd413d6v0z43zmchmm0000gn/T/ipykernel_38998/738175.py:42: FutureWarning: suggest_loguniform has been deprecated in v3.0.0. This feature will be removed in v6.0.0. See https://github.com/optuna/optuna/releases/tag/v3.0.0. Use suggest_float(..., log=True) instead.\n",
            "  'learning_rate': trial.suggest_loguniform('xgb_learning_rate', 1e-3, 1.0),\n",
            "/var/folders/0h/6t5rrrkd413d6v0z43zmchmm0000gn/T/ipykernel_38998/738175.py:48: FutureWarning: suggest_loguniform has been deprecated in v3.0.0. This feature will be removed in v6.0.0. See https://github.com/optuna/optuna/releases/tag/v3.0.0. Use suggest_float(..., log=True) instead.\n",
            "  'learning_rate': trial.suggest_loguniform('lgbm_learning_rate', 1e-3, 1.0),\n"
          ]
        },
        {
          "name": "stdout",
          "output_type": "stream",
          "text": [
            "[LightGBM] [Info] Number of positive: 3362, number of negative: 3781\n",
            "[LightGBM] [Info] Auto-choosing row-wise multi-threading, the overhead of testing was 0.001001 seconds.\n",
            "You can set `force_row_wise=true` to remove the overhead.\n",
            "And if memory is not enough, you can set `force_col_wise=true`.\n",
            "[LightGBM] [Info] Total Bins 733\n",
            "[LightGBM] [Info] Number of data points in the train set: 7143, number of used features: 41\n",
            "[LightGBM] [Info] [binary:BoostFromScore]: pavg=0.470671 -> initscore=-0.117452\n",
            "[LightGBM] [Info] Start training from score -0.117452\n"
          ]
        },
        {
          "name": "stderr",
          "output_type": "stream",
          "text": [
            "[I 2024-09-20 03:05:35,207] Trial 90 finished with value: 0.703863751946217 and parameters: {'rf_n_estimators': 235, 'rf_max_depth': 30, 'rf_min_samples_split': 9, 'xgb_n_estimators': 111, 'xgb_learning_rate': 0.3158471980453957, 'xgb_max_depth': 10, 'lgbm_n_estimators': 291, 'lgbm_learning_rate': 0.15602283535447278, 'lgbm_num_leaves': 50}. Best is trial 82 with value: 0.7092890820329893.\n",
            "/var/folders/0h/6t5rrrkd413d6v0z43zmchmm0000gn/T/ipykernel_38998/738175.py:42: FutureWarning: suggest_loguniform has been deprecated in v3.0.0. This feature will be removed in v6.0.0. See https://github.com/optuna/optuna/releases/tag/v3.0.0. Use suggest_float(..., log=True) instead.\n",
            "  'learning_rate': trial.suggest_loguniform('xgb_learning_rate', 1e-3, 1.0),\n",
            "/var/folders/0h/6t5rrrkd413d6v0z43zmchmm0000gn/T/ipykernel_38998/738175.py:48: FutureWarning: suggest_loguniform has been deprecated in v3.0.0. This feature will be removed in v6.0.0. See https://github.com/optuna/optuna/releases/tag/v3.0.0. Use suggest_float(..., log=True) instead.\n",
            "  'learning_rate': trial.suggest_loguniform('lgbm_learning_rate', 1e-3, 1.0),\n"
          ]
        },
        {
          "name": "stdout",
          "output_type": "stream",
          "text": [
            "[LightGBM] [Info] Number of positive: 3362, number of negative: 3781\n",
            "[LightGBM] [Info] Auto-choosing row-wise multi-threading, the overhead of testing was 0.000859 seconds.\n",
            "You can set `force_row_wise=true` to remove the overhead.\n",
            "And if memory is not enough, you can set `force_col_wise=true`.\n",
            "[LightGBM] [Info] Total Bins 733\n",
            "[LightGBM] [Info] Number of data points in the train set: 7143, number of used features: 41\n",
            "[LightGBM] [Info] [binary:BoostFromScore]: pavg=0.470671 -> initscore=-0.117452\n",
            "[LightGBM] [Info] Start training from score -0.117452\n"
          ]
        },
        {
          "name": "stderr",
          "output_type": "stream",
          "text": [
            "[I 2024-09-20 03:05:39,810] Trial 91 finished with value: 0.6924328306229347 and parameters: {'rf_n_estimators': 274, 'rf_max_depth': 28, 'rf_min_samples_split': 10, 'xgb_n_estimators': 163, 'xgb_learning_rate': 0.4988418511573861, 'xgb_max_depth': 9, 'lgbm_n_estimators': 259, 'lgbm_learning_rate': 0.05058339241000086, 'lgbm_num_leaves': 54}. Best is trial 82 with value: 0.7092890820329893.\n",
            "/var/folders/0h/6t5rrrkd413d6v0z43zmchmm0000gn/T/ipykernel_38998/738175.py:42: FutureWarning: suggest_loguniform has been deprecated in v3.0.0. This feature will be removed in v6.0.0. See https://github.com/optuna/optuna/releases/tag/v3.0.0. Use suggest_float(..., log=True) instead.\n",
            "  'learning_rate': trial.suggest_loguniform('xgb_learning_rate', 1e-3, 1.0),\n",
            "/var/folders/0h/6t5rrrkd413d6v0z43zmchmm0000gn/T/ipykernel_38998/738175.py:48: FutureWarning: suggest_loguniform has been deprecated in v3.0.0. This feature will be removed in v6.0.0. See https://github.com/optuna/optuna/releases/tag/v3.0.0. Use suggest_float(..., log=True) instead.\n",
            "  'learning_rate': trial.suggest_loguniform('lgbm_learning_rate', 1e-3, 1.0),\n"
          ]
        },
        {
          "name": "stdout",
          "output_type": "stream",
          "text": [
            "[LightGBM] [Info] Number of positive: 3362, number of negative: 3781\n",
            "[LightGBM] [Info] Auto-choosing row-wise multi-threading, the overhead of testing was 0.000882 seconds.\n",
            "You can set `force_row_wise=true` to remove the overhead.\n",
            "And if memory is not enough, you can set `force_col_wise=true`.\n",
            "[LightGBM] [Info] Total Bins 733\n",
            "[LightGBM] [Info] Number of data points in the train set: 7143, number of used features: 41\n",
            "[LightGBM] [Info] [binary:BoostFromScore]: pavg=0.470671 -> initscore=-0.117452\n",
            "[LightGBM] [Info] Start training from score -0.117452\n"
          ]
        },
        {
          "name": "stderr",
          "output_type": "stream",
          "text": [
            "[I 2024-09-20 03:05:43,926] Trial 92 finished with value: 0.6997353459988419 and parameters: {'rf_n_estimators': 258, 'rf_max_depth': 26, 'rf_min_samples_split': 10, 'xgb_n_estimators': 152, 'xgb_learning_rate': 0.26713921424957615, 'xgb_max_depth': 10, 'lgbm_n_estimators': 275, 'lgbm_learning_rate': 0.08566855905574204, 'lgbm_num_leaves': 41}. Best is trial 82 with value: 0.7092890820329893.\n",
            "/var/folders/0h/6t5rrrkd413d6v0z43zmchmm0000gn/T/ipykernel_38998/738175.py:42: FutureWarning: suggest_loguniform has been deprecated in v3.0.0. This feature will be removed in v6.0.0. See https://github.com/optuna/optuna/releases/tag/v3.0.0. Use suggest_float(..., log=True) instead.\n",
            "  'learning_rate': trial.suggest_loguniform('xgb_learning_rate', 1e-3, 1.0),\n",
            "/var/folders/0h/6t5rrrkd413d6v0z43zmchmm0000gn/T/ipykernel_38998/738175.py:48: FutureWarning: suggest_loguniform has been deprecated in v3.0.0. This feature will be removed in v6.0.0. See https://github.com/optuna/optuna/releases/tag/v3.0.0. Use suggest_float(..., log=True) instead.\n",
            "  'learning_rate': trial.suggest_loguniform('lgbm_learning_rate', 1e-3, 1.0),\n"
          ]
        },
        {
          "name": "stdout",
          "output_type": "stream",
          "text": [
            "[LightGBM] [Info] Number of positive: 3362, number of negative: 3781\n",
            "[LightGBM] [Info] Auto-choosing row-wise multi-threading, the overhead of testing was 0.000869 seconds.\n",
            "You can set `force_row_wise=true` to remove the overhead.\n",
            "And if memory is not enough, you can set `force_col_wise=true`.\n",
            "[LightGBM] [Info] Total Bins 733\n",
            "[LightGBM] [Info] Number of data points in the train set: 7143, number of used features: 41\n",
            "[LightGBM] [Info] [binary:BoostFromScore]: pavg=0.470671 -> initscore=-0.117452\n",
            "[LightGBM] [Info] Start training from score -0.117452\n"
          ]
        },
        {
          "name": "stderr",
          "output_type": "stream",
          "text": [
            "[I 2024-09-20 03:05:48,785] Trial 93 finished with value: 0.6942571896284262 and parameters: {'rf_n_estimators': 245, 'rf_max_depth': 30, 'rf_min_samples_split': 10, 'xgb_n_estimators': 173, 'xgb_learning_rate': 0.7017767021605961, 'xgb_max_depth': 10, 'lgbm_n_estimators': 281, 'lgbm_learning_rate': 0.033192094010787765, 'lgbm_num_leaves': 60}. Best is trial 82 with value: 0.7092890820329893.\n",
            "/var/folders/0h/6t5rrrkd413d6v0z43zmchmm0000gn/T/ipykernel_38998/738175.py:42: FutureWarning: suggest_loguniform has been deprecated in v3.0.0. This feature will be removed in v6.0.0. See https://github.com/optuna/optuna/releases/tag/v3.0.0. Use suggest_float(..., log=True) instead.\n",
            "  'learning_rate': trial.suggest_loguniform('xgb_learning_rate', 1e-3, 1.0),\n",
            "/var/folders/0h/6t5rrrkd413d6v0z43zmchmm0000gn/T/ipykernel_38998/738175.py:48: FutureWarning: suggest_loguniform has been deprecated in v3.0.0. This feature will be removed in v6.0.0. See https://github.com/optuna/optuna/releases/tag/v3.0.0. Use suggest_float(..., log=True) instead.\n",
            "  'learning_rate': trial.suggest_loguniform('lgbm_learning_rate', 1e-3, 1.0),\n"
          ]
        },
        {
          "name": "stdout",
          "output_type": "stream",
          "text": [
            "[LightGBM] [Info] Number of positive: 3362, number of negative: 3781\n",
            "[LightGBM] [Info] Auto-choosing row-wise multi-threading, the overhead of testing was 0.000866 seconds.\n",
            "You can set `force_row_wise=true` to remove the overhead.\n",
            "And if memory is not enough, you can set `force_col_wise=true`.\n",
            "[LightGBM] [Info] Total Bins 733\n",
            "[LightGBM] [Info] Number of data points in the train set: 7143, number of used features: 41\n",
            "[LightGBM] [Info] [binary:BoostFromScore]: pavg=0.470671 -> initscore=-0.117452\n",
            "[LightGBM] [Info] Start training from score -0.117452\n"
          ]
        },
        {
          "name": "stderr",
          "output_type": "stream",
          "text": [
            "[I 2024-09-20 03:05:53,145] Trial 94 finished with value: 0.7024023384902622 and parameters: {'rf_n_estimators': 200, 'rf_max_depth': 29, 'rf_min_samples_split': 9, 'xgb_n_estimators': 123, 'xgb_learning_rate': 0.1804909292318509, 'xgb_max_depth': 9, 'lgbm_n_estimators': 288, 'lgbm_learning_rate': 0.1794696504406195, 'lgbm_num_leaves': 58}. Best is trial 82 with value: 0.7092890820329893.\n",
            "/var/folders/0h/6t5rrrkd413d6v0z43zmchmm0000gn/T/ipykernel_38998/738175.py:42: FutureWarning: suggest_loguniform has been deprecated in v3.0.0. This feature will be removed in v6.0.0. See https://github.com/optuna/optuna/releases/tag/v3.0.0. Use suggest_float(..., log=True) instead.\n",
            "  'learning_rate': trial.suggest_loguniform('xgb_learning_rate', 1e-3, 1.0),\n",
            "/var/folders/0h/6t5rrrkd413d6v0z43zmchmm0000gn/T/ipykernel_38998/738175.py:48: FutureWarning: suggest_loguniform has been deprecated in v3.0.0. This feature will be removed in v6.0.0. See https://github.com/optuna/optuna/releases/tag/v3.0.0. Use suggest_float(..., log=True) instead.\n",
            "  'learning_rate': trial.suggest_loguniform('lgbm_learning_rate', 1e-3, 1.0),\n"
          ]
        },
        {
          "name": "stdout",
          "output_type": "stream",
          "text": [
            "[LightGBM] [Info] Number of positive: 3362, number of negative: 3781\n",
            "[LightGBM] [Info] Auto-choosing row-wise multi-threading, the overhead of testing was 0.000914 seconds.\n",
            "You can set `force_row_wise=true` to remove the overhead.\n",
            "And if memory is not enough, you can set `force_col_wise=true`.\n",
            "[LightGBM] [Info] Total Bins 733\n",
            "[LightGBM] [Info] Number of data points in the train set: 7143, number of used features: 41\n",
            "[LightGBM] [Info] [binary:BoostFromScore]: pavg=0.470671 -> initscore=-0.117452\n",
            "[LightGBM] [Info] Start training from score -0.117452\n"
          ]
        },
        {
          "name": "stderr",
          "output_type": "stream",
          "text": [
            "[I 2024-09-20 03:05:57,442] Trial 95 finished with value: 0.6993899802261346 and parameters: {'rf_n_estimators': 213, 'rf_max_depth': 23, 'rf_min_samples_split': 10, 'xgb_n_estimators': 133, 'xgb_learning_rate': 0.3724193042977909, 'xgb_max_depth': 10, 'lgbm_n_estimators': 269, 'lgbm_learning_rate': 0.1128121497814647, 'lgbm_num_leaves': 56}. Best is trial 82 with value: 0.7092890820329893.\n",
            "/var/folders/0h/6t5rrrkd413d6v0z43zmchmm0000gn/T/ipykernel_38998/738175.py:42: FutureWarning: suggest_loguniform has been deprecated in v3.0.0. This feature will be removed in v6.0.0. See https://github.com/optuna/optuna/releases/tag/v3.0.0. Use suggest_float(..., log=True) instead.\n",
            "  'learning_rate': trial.suggest_loguniform('xgb_learning_rate', 1e-3, 1.0),\n",
            "/var/folders/0h/6t5rrrkd413d6v0z43zmchmm0000gn/T/ipykernel_38998/738175.py:48: FutureWarning: suggest_loguniform has been deprecated in v3.0.0. This feature will be removed in v6.0.0. See https://github.com/optuna/optuna/releases/tag/v3.0.0. Use suggest_float(..., log=True) instead.\n",
            "  'learning_rate': trial.suggest_loguniform('lgbm_learning_rate', 1e-3, 1.0),\n"
          ]
        },
        {
          "name": "stdout",
          "output_type": "stream",
          "text": [
            "[LightGBM] [Info] Number of positive: 3362, number of negative: 3781\n",
            "[LightGBM] [Info] Auto-choosing row-wise multi-threading, the overhead of testing was 0.001091 seconds.\n",
            "You can set `force_row_wise=true` to remove the overhead.\n",
            "And if memory is not enough, you can set `force_col_wise=true`.\n",
            "[LightGBM] [Info] Total Bins 733\n",
            "[LightGBM] [Info] Number of data points in the train set: 7143, number of used features: 41\n",
            "[LightGBM] [Info] [binary:BoostFromScore]: pavg=0.470671 -> initscore=-0.117452\n",
            "[LightGBM] [Info] Start training from score -0.117452\n"
          ]
        },
        {
          "name": "stderr",
          "output_type": "stream",
          "text": [
            "[I 2024-09-20 03:06:01,223] Trial 96 finished with value: 0.704159760146172 and parameters: {'rf_n_estimators': 175, 'rf_max_depth': 25, 'rf_min_samples_split': 9, 'xgb_n_estimators': 143, 'xgb_learning_rate': 0.22448562449202725, 'xgb_max_depth': 9, 'lgbm_n_estimators': 263, 'lgbm_learning_rate': 0.2218697841100627, 'lgbm_num_leaves': 49}. Best is trial 82 with value: 0.7092890820329893.\n",
            "/var/folders/0h/6t5rrrkd413d6v0z43zmchmm0000gn/T/ipykernel_38998/738175.py:42: FutureWarning: suggest_loguniform has been deprecated in v3.0.0. This feature will be removed in v6.0.0. See https://github.com/optuna/optuna/releases/tag/v3.0.0. Use suggest_float(..., log=True) instead.\n",
            "  'learning_rate': trial.suggest_loguniform('xgb_learning_rate', 1e-3, 1.0),\n",
            "/var/folders/0h/6t5rrrkd413d6v0z43zmchmm0000gn/T/ipykernel_38998/738175.py:48: FutureWarning: suggest_loguniform has been deprecated in v3.0.0. This feature will be removed in v6.0.0. See https://github.com/optuna/optuna/releases/tag/v3.0.0. Use suggest_float(..., log=True) instead.\n",
            "  'learning_rate': trial.suggest_loguniform('lgbm_learning_rate', 1e-3, 1.0),\n"
          ]
        },
        {
          "name": "stdout",
          "output_type": "stream",
          "text": [
            "[LightGBM] [Info] Number of positive: 3362, number of negative: 3781\n",
            "[LightGBM] [Info] Auto-choosing row-wise multi-threading, the overhead of testing was 0.000881 seconds.\n",
            "You can set `force_row_wise=true` to remove the overhead.\n",
            "And if memory is not enough, you can set `force_col_wise=true`.\n",
            "[LightGBM] [Info] Total Bins 733\n",
            "[LightGBM] [Info] Number of data points in the train set: 7143, number of used features: 41\n",
            "[LightGBM] [Info] [binary:BoostFromScore]: pavg=0.470671 -> initscore=-0.117452\n",
            "[LightGBM] [Info] Start training from score -0.117452\n"
          ]
        },
        {
          "name": "stderr",
          "output_type": "stream",
          "text": [
            "[I 2024-09-20 03:06:04,874] Trial 97 finished with value: 0.6980569307038208 and parameters: {'rf_n_estimators': 133, 'rf_max_depth': 22, 'rf_min_samples_split': 10, 'xgb_n_estimators': 96, 'xgb_learning_rate': 0.13974147858743544, 'xgb_max_depth': 10, 'lgbm_n_estimators': 293, 'lgbm_learning_rate': 0.06524624144770476, 'lgbm_num_leaves': 54}. Best is trial 82 with value: 0.7092890820329893.\n",
            "/var/folders/0h/6t5rrrkd413d6v0z43zmchmm0000gn/T/ipykernel_38998/738175.py:42: FutureWarning: suggest_loguniform has been deprecated in v3.0.0. This feature will be removed in v6.0.0. See https://github.com/optuna/optuna/releases/tag/v3.0.0. Use suggest_float(..., log=True) instead.\n",
            "  'learning_rate': trial.suggest_loguniform('xgb_learning_rate', 1e-3, 1.0),\n",
            "/var/folders/0h/6t5rrrkd413d6v0z43zmchmm0000gn/T/ipykernel_38998/738175.py:48: FutureWarning: suggest_loguniform has been deprecated in v3.0.0. This feature will be removed in v6.0.0. See https://github.com/optuna/optuna/releases/tag/v3.0.0. Use suggest_float(..., log=True) instead.\n",
            "  'learning_rate': trial.suggest_loguniform('lgbm_learning_rate', 1e-3, 1.0),\n"
          ]
        },
        {
          "name": "stdout",
          "output_type": "stream",
          "text": [
            "[LightGBM] [Info] Number of positive: 3362, number of negative: 3781\n",
            "[LightGBM] [Info] Auto-choosing row-wise multi-threading, the overhead of testing was 0.000920 seconds.\n",
            "You can set `force_row_wise=true` to remove the overhead.\n",
            "And if memory is not enough, you can set `force_col_wise=true`.\n",
            "[LightGBM] [Info] Total Bins 733\n",
            "[LightGBM] [Info] Number of data points in the train set: 7143, number of used features: 41\n",
            "[LightGBM] [Info] [binary:BoostFromScore]: pavg=0.470671 -> initscore=-0.117452\n",
            "[LightGBM] [Info] Start training from score -0.117452\n"
          ]
        },
        {
          "name": "stderr",
          "output_type": "stream",
          "text": [
            "[I 2024-09-20 03:06:09,265] Trial 98 finished with value: 0.7024198341873777 and parameters: {'rf_n_estimators': 221, 'rf_max_depth': 24, 'rf_min_samples_split': 9, 'xgb_n_estimators': 86, 'xgb_learning_rate': 0.10337094490919163, 'xgb_max_depth': 9, 'lgbm_n_estimators': 250, 'lgbm_learning_rate': 0.0898139637746031, 'lgbm_num_leaves': 65}. Best is trial 82 with value: 0.7092890820329893.\n",
            "/var/folders/0h/6t5rrrkd413d6v0z43zmchmm0000gn/T/ipykernel_38998/738175.py:42: FutureWarning: suggest_loguniform has been deprecated in v3.0.0. This feature will be removed in v6.0.0. See https://github.com/optuna/optuna/releases/tag/v3.0.0. Use suggest_float(..., log=True) instead.\n",
            "  'learning_rate': trial.suggest_loguniform('xgb_learning_rate', 1e-3, 1.0),\n",
            "/var/folders/0h/6t5rrrkd413d6v0z43zmchmm0000gn/T/ipykernel_38998/738175.py:48: FutureWarning: suggest_loguniform has been deprecated in v3.0.0. This feature will be removed in v6.0.0. See https://github.com/optuna/optuna/releases/tag/v3.0.0. Use suggest_float(..., log=True) instead.\n",
            "  'learning_rate': trial.suggest_loguniform('lgbm_learning_rate', 1e-3, 1.0),\n"
          ]
        },
        {
          "name": "stdout",
          "output_type": "stream",
          "text": [
            "[LightGBM] [Info] Number of positive: 3362, number of negative: 3781\n",
            "[LightGBM] [Info] Auto-choosing row-wise multi-threading, the overhead of testing was 0.000868 seconds.\n",
            "You can set `force_row_wise=true` to remove the overhead.\n",
            "And if memory is not enough, you can set `force_col_wise=true`.\n",
            "[LightGBM] [Info] Total Bins 733\n",
            "[LightGBM] [Info] Number of data points in the train set: 7143, number of used features: 41\n",
            "[LightGBM] [Info] [binary:BoostFromScore]: pavg=0.470671 -> initscore=-0.117452\n",
            "[LightGBM] [Info] Start training from score -0.117452\n"
          ]
        },
        {
          "name": "stderr",
          "output_type": "stream",
          "text": [
            "[I 2024-09-20 03:06:13,935] Trial 99 finished with value: 0.6921957408645932 and parameters: {'rf_n_estimators': 228, 'rf_max_depth': 27, 'rf_min_samples_split': 10, 'xgb_n_estimators': 276, 'xgb_learning_rate': 0.43883812269882744, 'xgb_max_depth': 10, 'lgbm_n_estimators': 274, 'lgbm_learning_rate': 0.15591303972707565, 'lgbm_num_leaves': 51}. Best is trial 82 with value: 0.7092890820329893.\n"
          ]
        },
        {
          "name": "stdout",
          "output_type": "stream",
          "text": [
            "[LightGBM] [Info] Number of positive: 4222, number of negative: 4707\n",
            "[LightGBM] [Info] Auto-choosing row-wise multi-threading, the overhead of testing was 0.000994 seconds.\n",
            "You can set `force_row_wise=true` to remove the overhead.\n",
            "And if memory is not enough, you can set `force_col_wise=true`.\n",
            "[LightGBM] [Info] Total Bins 735\n",
            "[LightGBM] [Info] Number of data points in the train set: 8929, number of used features: 41\n",
            "[LightGBM] [Info] [binary:BoostFromScore]: pavg=0.472841 -> initscore=-0.108742\n",
            "[LightGBM] [Info] Start training from score -0.108742\n",
            "AUC: 0.7984\n",
            "Recall: 0.6457\n",
            "Custom Score: 0.7140\n"
          ]
        }
      ],
      "source": [
        "\n",
        "# 커스텀 스코어 함수 (AUC와 Recall의 조화 평균)\n",
        "def custom_score(y_true, y_pred_proba):\n",
        "    auc = roc_auc_score(y_true, y_pred_proba)\n",
        "    recall = recall_score(y_true, y_pred_proba > 0.5, pos_label=1)\n",
        "    return 2 * (auc * recall) / (auc + recall)\n",
        "\n",
        "# Optuna를 사용한 하이퍼파라미터 최적화\n",
        "def objective(trial):\n",
        "    rf_params = {\n",
        "        'n_estimators': trial.suggest_int('rf_n_estimators', 50, 300),\n",
        "        'max_depth': trial.suggest_int('rf_max_depth', 5, 30),\n",
        "        'min_samples_split': trial.suggest_int('rf_min_samples_split', 2, 10)\n",
        "    }\n",
        "    \n",
        "    xgb_params = {\n",
        "        'n_estimators': trial.suggest_int('xgb_n_estimators', 50, 300),\n",
        "        'learning_rate': trial.suggest_loguniform('xgb_learning_rate', 1e-3, 1.0),\n",
        "        'max_depth': trial.suggest_int('xgb_max_depth', 3, 10)\n",
        "    }\n",
        "    \n",
        "    lgbm_params = {\n",
        "        'n_estimators': trial.suggest_int('lgbm_n_estimators', 50, 300),\n",
        "        'learning_rate': trial.suggest_loguniform('lgbm_learning_rate', 1e-3, 1.0),\n",
        "        'num_leaves': trial.suggest_int('lgbm_num_leaves', 20, 100)\n",
        "    }\n",
        "    \n",
        "    rf = RandomForestClassifier(**rf_params, random_state=42)\n",
        "    xgb = XGBClassifier(**xgb_params, random_state=42)\n",
        "    lgbm = LGBMClassifier(**lgbm_params, random_state=42)\n",
        "    \n",
        "    voting_clf = VotingClassifier([\n",
        "        ('rf', rf),\n",
        "        ('xgb', xgb),\n",
        "        ('lgbm', lgbm)\n",
        "    ], voting='soft')\n",
        "    \n",
        "    voting_clf.fit(X_train, y_train)\n",
        "    y_pred_proba = voting_clf.predict_proba(X_val)[:, 1]\n",
        "    \n",
        "    return custom_score(y_val, y_pred_proba)\n",
        "\n",
        "# Optuna 스터디 생성 및 최적화 실행\n",
        "study = optuna.create_study(direction='maximize', study_name='bank_marketing_optimization')\n",
        "study.optimize(objective, n_trials=100)\n",
        "\n",
        "# 최적의 하이퍼파라미터로 모델 생성\n",
        "best_params = study.best_params\n",
        "rf = RandomForestClassifier(\n",
        "    n_estimators=best_params['rf_n_estimators'],\n",
        "    max_depth=best_params['rf_max_depth'],\n",
        "    min_samples_split=best_params['rf_min_samples_split'],\n",
        "    random_state=42\n",
        ")\n",
        "xgb = XGBClassifier(\n",
        "    n_estimators=best_params['xgb_n_estimators'],\n",
        "    learning_rate=best_params['xgb_learning_rate'],\n",
        "    max_depth=best_params['xgb_max_depth'],\n",
        "    random_state=42\n",
        ")\n",
        "lgbm = LGBMClassifier(\n",
        "    n_estimators=best_params['lgbm_n_estimators'],\n",
        "    learning_rate=best_params['lgbm_learning_rate'],\n",
        "    num_leaves=best_params['lgbm_num_leaves'],\n",
        "    random_state=42\n",
        ")\n",
        "\n",
        "best_voting_clf = VotingClassifier([\n",
        "    ('rf', rf),\n",
        "    ('xgb', xgb),\n",
        "    ('lgbm', lgbm)\n",
        "], voting='soft')\n",
        "\n",
        "# 최종 모델 학습\n",
        "best_voting_clf.fit(X_train_val, y_train_val)\n",
        "\n",
        "# 모델 저장\n",
        "joblib.dump(best_voting_clf, 'best_voting_clf.joblib')\n",
        "\n",
        "# 테스트 세트에서 성능 평가\n",
        "y_pred = best_voting_clf.predict(X_test)\n",
        "y_pred_proba = best_voting_clf.predict_proba(X_test)[:, 1]\n",
        "\n",
        "auc = roc_auc_score(y_test, y_pred_proba)\n",
        "recall = recall_score(y_test, y_pred, pos_label=1)\n",
        "custom_score_value = custom_score(y_test, y_pred_proba)\n",
        "\n"
      ]
    },
    {
      "cell_type": "code",
      "execution_count": 14,
      "metadata": {},
      "outputs": [
        {
          "name": "stdout",
          "output_type": "stream",
          "text": [
            "Accuracy: 0.7371\n",
            "AUC: 0.7995\n",
            "Recall: 0.6429\n",
            "Precision: 0.7691\n",
            "F1 Score: 0.7004\n",
            "Custom Score: 0.7127\n",
            "Best trial value (from Optuna): 0.7110\n",
            "Best hyperparameters: {'rf_n_estimators': 176, 'rf_max_depth': 20, 'rf_min_samples_split': 9, 'xgb_n_estimators': 162, 'xgb_learning_rate': 0.084437396689471, 'xgb_max_depth': 5, 'lgbm_n_estimators': 270, 'lgbm_learning_rate': 0.39502413530407376, 'lgbm_num_leaves': 46}\n"
          ]
        }
      ],
      "source": [
        "from sklearn.metrics import roc_auc_score, recall_score, accuracy_score, precision_score, f1_score, make_scorer\n",
        "\n",
        "# 테스트 세트에서 성능 평가\n",
        "y_pred = best_voting_clf.predict(X_test)\n",
        "y_pred_proba = best_voting_clf.predict_proba(X_test)[:, 1]\n",
        "\n",
        "accuracy = accuracy_score(y_test, y_pred)\n",
        "auc = roc_auc_score(y_test, y_pred_proba)\n",
        "recall = recall_score(y_test, y_pred)\n",
        "precision = precision_score(y_test, y_pred)\n",
        "f1 = f1_score(y_test, y_pred)\n",
        "custom_score_value = custom_score(y_test, y_pred_proba)\n",
        "\n",
        "\n",
        "print(f\"Accuracy: {accuracy:.4f}\")\n",
        "print(f\"AUC: {auc:.4f}\")\n",
        "print(f\"Recall: {recall:.4f}\")\n",
        "print(f\"Precision: {precision:.4f}\")\n",
        "print(f\"F1 Score: {f1:.4f}\")\n",
        "print(f\"Custom Score: {custom_score_value:.4f}\")\n",
        "\n",
        "# Optuna 최적화 결과 출력\n",
        "print(f\"Best trial value (from Optuna): {study.best_value:.4f}\")\n",
        "print(\"Best hyperparameters:\", study.best_params)"
      ]
    },
    {
      "cell_type": "code",
      "execution_count": null,
      "metadata": {
        "id": "GCiPguJvDyxz"
      },
      "outputs": [],
      "source": []
    }
  ],
  "metadata": {
    "accelerator": "TPU",
    "colab": {
      "gpuType": "V28",
      "machine_shape": "hm",
      "provenance": [],
      "toc_visible": true
    },
    "kernelspec": {
      "display_name": "Python 3",
      "name": "python3"
    },
    "language_info": {
      "codemirror_mode": {
        "name": "ipython",
        "version": 3
      },
      "file_extension": ".py",
      "mimetype": "text/x-python",
      "name": "python",
      "nbconvert_exporter": "python",
      "pygments_lexer": "ipython3",
      "version": "3.11.10"
    }
  },
  "nbformat": 4,
  "nbformat_minor": 0
}
