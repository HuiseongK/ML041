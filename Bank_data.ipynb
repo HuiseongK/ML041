{
  "nbformat": 4,
  "nbformat_minor": 0,
  "metadata": {
    "colab": {
      "provenance": []
    },
    "kernelspec": {
      "name": "python3",
      "display_name": "Python 3"
    },
    "language_info": {
      "name": "python"
    },
    "widgets": {
      "application/vnd.jupyter.widget-state+json": {
        "ce2116d75c9243ac990c05a595440342": {
          "model_module": "@jupyter-widgets/controls",
          "model_name": "HBoxModel",
          "model_module_version": "1.5.0",
          "state": {
            "_dom_classes": [],
            "_model_module": "@jupyter-widgets/controls",
            "_model_module_version": "1.5.0",
            "_model_name": "HBoxModel",
            "_view_count": null,
            "_view_module": "@jupyter-widgets/controls",
            "_view_module_version": "1.5.0",
            "_view_name": "HBoxView",
            "box_style": "",
            "children": [
              "IPY_MODEL_b17fbb2b1e334b7ab8d3397bc7c1fca9",
              "IPY_MODEL_e139e3e6c47846ee8e0bac14eefd1535",
              "IPY_MODEL_73e37e430f1249ca9fe3c2992431151a"
            ],
            "layout": "IPY_MODEL_cc774b291e39491382273e485c1317c1"
          }
        },
        "b17fbb2b1e334b7ab8d3397bc7c1fca9": {
          "model_module": "@jupyter-widgets/controls",
          "model_name": "HTMLModel",
          "model_module_version": "1.5.0",
          "state": {
            "_dom_classes": [],
            "_model_module": "@jupyter-widgets/controls",
            "_model_module_version": "1.5.0",
            "_model_name": "HTMLModel",
            "_view_count": null,
            "_view_module": "@jupyter-widgets/controls",
            "_view_module_version": "1.5.0",
            "_view_name": "HTMLView",
            "description": "",
            "description_tooltip": null,
            "layout": "IPY_MODEL_057dbf8c82a045ba8c1f02789a72ad31",
            "placeholder": "​",
            "style": "IPY_MODEL_0429eac251f24fe98bb930bd35bc4aaf",
            "value": "Processing: 100%"
          }
        },
        "e139e3e6c47846ee8e0bac14eefd1535": {
          "model_module": "@jupyter-widgets/controls",
          "model_name": "FloatProgressModel",
          "model_module_version": "1.5.0",
          "state": {
            "_dom_classes": [],
            "_model_module": "@jupyter-widgets/controls",
            "_model_module_version": "1.5.0",
            "_model_name": "FloatProgressModel",
            "_view_count": null,
            "_view_module": "@jupyter-widgets/controls",
            "_view_module_version": "1.5.0",
            "_view_name": "ProgressView",
            "bar_style": "",
            "description": "",
            "description_tooltip": null,
            "layout": "IPY_MODEL_f1d83919ac1048aa8e0c567236a2c59d",
            "max": 65,
            "min": 0,
            "orientation": "horizontal",
            "style": "IPY_MODEL_75e60e17631d4c44ad9c56a0c541aa3b",
            "value": 65
          }
        },
        "73e37e430f1249ca9fe3c2992431151a": {
          "model_module": "@jupyter-widgets/controls",
          "model_name": "HTMLModel",
          "model_module_version": "1.5.0",
          "state": {
            "_dom_classes": [],
            "_model_module": "@jupyter-widgets/controls",
            "_model_module_version": "1.5.0",
            "_model_name": "HTMLModel",
            "_view_count": null,
            "_view_module": "@jupyter-widgets/controls",
            "_view_module_version": "1.5.0",
            "_view_name": "HTMLView",
            "description": "",
            "description_tooltip": null,
            "layout": "IPY_MODEL_2759e6677bdd4fc695f26e0a253ad39c",
            "placeholder": "​",
            "style": "IPY_MODEL_e04873f1076e41cda7cba5cf7212566a",
            "value": " 65/65 [00:55&lt;00:00,  1.71it/s]"
          }
        },
        "cc774b291e39491382273e485c1317c1": {
          "model_module": "@jupyter-widgets/base",
          "model_name": "LayoutModel",
          "model_module_version": "1.2.0",
          "state": {
            "_model_module": "@jupyter-widgets/base",
            "_model_module_version": "1.2.0",
            "_model_name": "LayoutModel",
            "_view_count": null,
            "_view_module": "@jupyter-widgets/base",
            "_view_module_version": "1.2.0",
            "_view_name": "LayoutView",
            "align_content": null,
            "align_items": null,
            "align_self": null,
            "border": null,
            "bottom": null,
            "display": null,
            "flex": null,
            "flex_flow": null,
            "grid_area": null,
            "grid_auto_columns": null,
            "grid_auto_flow": null,
            "grid_auto_rows": null,
            "grid_column": null,
            "grid_gap": null,
            "grid_row": null,
            "grid_template_areas": null,
            "grid_template_columns": null,
            "grid_template_rows": null,
            "height": null,
            "justify_content": null,
            "justify_items": null,
            "left": null,
            "margin": null,
            "max_height": null,
            "max_width": null,
            "min_height": null,
            "min_width": null,
            "object_fit": null,
            "object_position": null,
            "order": null,
            "overflow": null,
            "overflow_x": null,
            "overflow_y": null,
            "padding": null,
            "right": null,
            "top": null,
            "visibility": "hidden",
            "width": null
          }
        },
        "057dbf8c82a045ba8c1f02789a72ad31": {
          "model_module": "@jupyter-widgets/base",
          "model_name": "LayoutModel",
          "model_module_version": "1.2.0",
          "state": {
            "_model_module": "@jupyter-widgets/base",
            "_model_module_version": "1.2.0",
            "_model_name": "LayoutModel",
            "_view_count": null,
            "_view_module": "@jupyter-widgets/base",
            "_view_module_version": "1.2.0",
            "_view_name": "LayoutView",
            "align_content": null,
            "align_items": null,
            "align_self": null,
            "border": null,
            "bottom": null,
            "display": null,
            "flex": null,
            "flex_flow": null,
            "grid_area": null,
            "grid_auto_columns": null,
            "grid_auto_flow": null,
            "grid_auto_rows": null,
            "grid_column": null,
            "grid_gap": null,
            "grid_row": null,
            "grid_template_areas": null,
            "grid_template_columns": null,
            "grid_template_rows": null,
            "height": null,
            "justify_content": null,
            "justify_items": null,
            "left": null,
            "margin": null,
            "max_height": null,
            "max_width": null,
            "min_height": null,
            "min_width": null,
            "object_fit": null,
            "object_position": null,
            "order": null,
            "overflow": null,
            "overflow_x": null,
            "overflow_y": null,
            "padding": null,
            "right": null,
            "top": null,
            "visibility": null,
            "width": null
          }
        },
        "0429eac251f24fe98bb930bd35bc4aaf": {
          "model_module": "@jupyter-widgets/controls",
          "model_name": "DescriptionStyleModel",
          "model_module_version": "1.5.0",
          "state": {
            "_model_module": "@jupyter-widgets/controls",
            "_model_module_version": "1.5.0",
            "_model_name": "DescriptionStyleModel",
            "_view_count": null,
            "_view_module": "@jupyter-widgets/base",
            "_view_module_version": "1.2.0",
            "_view_name": "StyleView",
            "description_width": ""
          }
        },
        "f1d83919ac1048aa8e0c567236a2c59d": {
          "model_module": "@jupyter-widgets/base",
          "model_name": "LayoutModel",
          "model_module_version": "1.2.0",
          "state": {
            "_model_module": "@jupyter-widgets/base",
            "_model_module_version": "1.2.0",
            "_model_name": "LayoutModel",
            "_view_count": null,
            "_view_module": "@jupyter-widgets/base",
            "_view_module_version": "1.2.0",
            "_view_name": "LayoutView",
            "align_content": null,
            "align_items": null,
            "align_self": null,
            "border": null,
            "bottom": null,
            "display": null,
            "flex": null,
            "flex_flow": null,
            "grid_area": null,
            "grid_auto_columns": null,
            "grid_auto_flow": null,
            "grid_auto_rows": null,
            "grid_column": null,
            "grid_gap": null,
            "grid_row": null,
            "grid_template_areas": null,
            "grid_template_columns": null,
            "grid_template_rows": null,
            "height": null,
            "justify_content": null,
            "justify_items": null,
            "left": null,
            "margin": null,
            "max_height": null,
            "max_width": null,
            "min_height": null,
            "min_width": null,
            "object_fit": null,
            "object_position": null,
            "order": null,
            "overflow": null,
            "overflow_x": null,
            "overflow_y": null,
            "padding": null,
            "right": null,
            "top": null,
            "visibility": null,
            "width": null
          }
        },
        "75e60e17631d4c44ad9c56a0c541aa3b": {
          "model_module": "@jupyter-widgets/controls",
          "model_name": "ProgressStyleModel",
          "model_module_version": "1.5.0",
          "state": {
            "_model_module": "@jupyter-widgets/controls",
            "_model_module_version": "1.5.0",
            "_model_name": "ProgressStyleModel",
            "_view_count": null,
            "_view_module": "@jupyter-widgets/base",
            "_view_module_version": "1.2.0",
            "_view_name": "StyleView",
            "bar_color": null,
            "description_width": ""
          }
        },
        "2759e6677bdd4fc695f26e0a253ad39c": {
          "model_module": "@jupyter-widgets/base",
          "model_name": "LayoutModel",
          "model_module_version": "1.2.0",
          "state": {
            "_model_module": "@jupyter-widgets/base",
            "_model_module_version": "1.2.0",
            "_model_name": "LayoutModel",
            "_view_count": null,
            "_view_module": "@jupyter-widgets/base",
            "_view_module_version": "1.2.0",
            "_view_name": "LayoutView",
            "align_content": null,
            "align_items": null,
            "align_self": null,
            "border": null,
            "bottom": null,
            "display": null,
            "flex": null,
            "flex_flow": null,
            "grid_area": null,
            "grid_auto_columns": null,
            "grid_auto_flow": null,
            "grid_auto_rows": null,
            "grid_column": null,
            "grid_gap": null,
            "grid_row": null,
            "grid_template_areas": null,
            "grid_template_columns": null,
            "grid_template_rows": null,
            "height": null,
            "justify_content": null,
            "justify_items": null,
            "left": null,
            "margin": null,
            "max_height": null,
            "max_width": null,
            "min_height": null,
            "min_width": null,
            "object_fit": null,
            "object_position": null,
            "order": null,
            "overflow": null,
            "overflow_x": null,
            "overflow_y": null,
            "padding": null,
            "right": null,
            "top": null,
            "visibility": null,
            "width": null
          }
        },
        "e04873f1076e41cda7cba5cf7212566a": {
          "model_module": "@jupyter-widgets/controls",
          "model_name": "DescriptionStyleModel",
          "model_module_version": "1.5.0",
          "state": {
            "_model_module": "@jupyter-widgets/controls",
            "_model_module_version": "1.5.0",
            "_model_name": "DescriptionStyleModel",
            "_view_count": null,
            "_view_module": "@jupyter-widgets/base",
            "_view_module_version": "1.2.0",
            "_view_name": "StyleView",
            "description_width": ""
          }
        }
      }
    }
  },
  "cells": [
    {
      "cell_type": "code",
      "source": [
        "import pandas as pd\n",
        "import numpy as np\n",
        "import matplotlib.pyplot as plt\n",
        "import seaborn as sns\n",
        "from sklearn.preprocessing import StandardScaler, OneHotEncoder\n",
        "from sklearn.compose import ColumnTransformer\n",
        "from sklearn.pipeline import Pipeline\n",
        "from sklearn.model_selection import train_test_split\n",
        "from sklearn.feature_selection import SequentialFeatureSelector\n",
        "from sklearn.linear_model import LogisticRegression\n",
        "from sklearn.ensemble import RandomForestClassifier, GradientBoostingClassifier\n",
        "from sklearn.svm import SVC\n",
        "from sklearn.metrics import roc_auc_score, recall_score, classification_report\n",
        "import optuna\n",
        "from pycaret.classification import *"
      ],
      "metadata": {
        "id": "U49NQeRl7Lr9"
      },
      "execution_count": 3,
      "outputs": []
    },
    {
      "cell_type": "code",
      "source": [
        "# 셀 2: 데이터 로드 및 전처리\n",
        "data = pd.read_csv('bank.csv')\n",
        "print(data.info())\n",
        "print(\"\\nTarget variable distribution before handling missing values:\")\n",
        "print(data['deposit'].value_counts(normalize=True))"
      ],
      "metadata": {
        "colab": {
          "base_uri": "https://localhost:8080/"
        },
        "id": "y-mDH3jX7vOw",
        "outputId": "d9c6efc8-16a6-4c7c-e0ef-899f34e5cbf2"
      },
      "execution_count": 20,
      "outputs": [
        {
          "output_type": "stream",
          "name": "stdout",
          "text": [
            "<class 'pandas.core.frame.DataFrame'>\n",
            "RangeIndex: 11162 entries, 0 to 11161\n",
            "Data columns (total 17 columns):\n",
            " #   Column     Non-Null Count  Dtype \n",
            "---  ------     --------------  ----- \n",
            " 0   age        11162 non-null  int64 \n",
            " 1   job        11162 non-null  object\n",
            " 2   marital    11162 non-null  object\n",
            " 3   education  11162 non-null  object\n",
            " 4   default    11162 non-null  object\n",
            " 5   balance    11162 non-null  int64 \n",
            " 6   housing    11162 non-null  object\n",
            " 7   loan       11162 non-null  object\n",
            " 8   contact    11162 non-null  object\n",
            " 9   day        11162 non-null  int64 \n",
            " 10  month      11162 non-null  object\n",
            " 11  duration   11162 non-null  int64 \n",
            " 12  campaign   11162 non-null  int64 \n",
            " 13  pdays      11162 non-null  int64 \n",
            " 14  previous   11162 non-null  int64 \n",
            " 15  poutcome   11162 non-null  object\n",
            " 16  deposit    11162 non-null  object\n",
            "dtypes: int64(7), object(10)\n",
            "memory usage: 1.4+ MB\n",
            "None\n",
            "\n",
            "Target variable distribution before handling missing values:\n",
            "deposit\n",
            "no     0.52616\n",
            "yes    0.47384\n",
            "Name: proportion, dtype: float64\n"
          ]
        }
      ]
    },
    {
      "cell_type": "code",
      "source": [
        "# 결측값 처리\n",
        "data = data.dropna()\n",
        "print(\"\\nTarget variable distribution after handling missing values:\")\n",
        "print(data['deposit'].value_counts(normalize=True))"
      ],
      "metadata": {
        "colab": {
          "base_uri": "https://localhost:8080/"
        },
        "id": "18FG91HE_Z2_",
        "outputId": "1349129d-161e-4d95-fdbc-a201659c087b"
      },
      "execution_count": 21,
      "outputs": [
        {
          "output_type": "stream",
          "name": "stdout",
          "text": [
            "\n",
            "Target variable distribution after handling missing values:\n",
            "deposit\n",
            "no     0.52616\n",
            "yes    0.47384\n",
            "Name: proportion, dtype: float64\n"
          ]
        }
      ]
    },
    {
      "cell_type": "code",
      "source": [
        "# 타겟 변수 인코딩\n",
        "data['deposit'] = (data['deposit'] == 'yes').astype(int)"
      ],
      "metadata": {
        "id": "rtWueTFJ_ckb"
      },
      "execution_count": 23,
      "outputs": []
    },
    {
      "cell_type": "code",
      "source": [
        "# 특성과 타겟 분리\n",
        "X = data.drop('deposit', axis=1)\n",
        "y = data['deposit']"
      ],
      "metadata": {
        "id": "CrUMGn7N_gSD"
      },
      "execution_count": 24,
      "outputs": []
    },
    {
      "cell_type": "code",
      "source": [
        "# 데이터 분할\n",
        "X_train, X_test, y_train, y_test = train_test_split(X, y, test_size=0.2, random_state=42)"
      ],
      "metadata": {
        "id": "Vn97cJye_iyB"
      },
      "execution_count": 25,
      "outputs": []
    },
    {
      "cell_type": "code",
      "source": [
        "# 셀 3: 데이터 전처리 및 특성 선택\n",
        "categorical_features = ['job', 'marital', 'education', 'default', 'housing', 'loan', 'contact', 'month', 'poutcome']\n",
        "numeric_features = ['age', 'balance', 'day', 'duration', 'campaign', 'pdays', 'previous']\n",
        "\n",
        "preprocessor = ColumnTransformer(\n",
        "    transformers=[\n",
        "        ('num', StandardScaler(), numeric_features),\n",
        "        ('cat', OneHotEncoder(drop='first', sparse_output=False), categorical_features)\n",
        "    ])\n"
      ],
      "metadata": {
        "id": "OJG473Px_k0v"
      },
      "execution_count": 26,
      "outputs": []
    },
    {
      "cell_type": "code",
      "source": [
        "# 전처리 적용\n",
        "X_train_preprocessed = preprocessor.fit_transform(X_train)\n",
        "X_test_preprocessed = preprocessor.transform(X_test)"
      ],
      "metadata": {
        "id": "DzgsfJIE_otK"
      },
      "execution_count": 28,
      "outputs": []
    },
    {
      "cell_type": "code",
      "source": [
        "# 특성 이름 생성\n",
        "feature_names = (numeric_features +\n",
        "                 preprocessor.named_transformers_['cat']\n",
        "                 .get_feature_names_out(categorical_features).tolist())\n"
      ],
      "metadata": {
        "id": "hhkaNwNw_rl1"
      },
      "execution_count": 29,
      "outputs": []
    },
    {
      "cell_type": "code",
      "source": [
        "# 특성 선택\n",
        "sfs = SequentialFeatureSelector(LogisticRegression(random_state=42), n_features_to_select='auto', direction='forward', cv=5)\n",
        "sfs.fit(X_train_preprocessed, y_train)\n",
        "\n",
        "selected_features = np.array(feature_names)[sfs.get_support()].tolist()\n",
        "print(f\"선택된 특성: {selected_features}\")\n",
        "\n",
        "X_train_selected = sfs.transform(X_train_preprocessed)\n",
        "X_test_selected = sfs.transform(X_test_preprocessed)"
      ],
      "metadata": {
        "colab": {
          "base_uri": "https://localhost:8080/"
        },
        "id": "EsMuLAFH_sgy",
        "outputId": "f9f69e6f-4bd0-43e0-fe77-c4126f9f3316"
      },
      "execution_count": 30,
      "outputs": [
        {
          "output_type": "stream",
          "name": "stdout",
          "text": [
            "선택된 특성: ['balance', 'duration', 'job_entrepreneur', 'job_housemaid', 'job_management', 'job_self-employed', 'job_student', 'job_unknown', 'education_secondary', 'education_unknown', 'housing_yes', 'loan_yes', 'contact_unknown', 'month_dec', 'month_jun', 'month_mar', 'month_may', 'month_oct', 'month_sep', 'poutcome_success', 'poutcome_unknown']\n"
          ]
        }
      ]
    },
    {
      "cell_type": "code",
      "source": [
        "# 셀 4: 여러 알고리즘 비교\n",
        "models = {\n",
        "    'Random Forest': RandomForestClassifier(random_state=42),\n",
        "    'Gradient Boosting': GradientBoostingClassifier(random_state=42),\n",
        "    'SVM': SVC(probability=True, random_state=42)\n",
        "}\n",
        "\n",
        "results = {}\n",
        "\n",
        "for name, model in models.items():\n",
        "    model.fit(X_train_selected, y_train)\n",
        "    y_pred = model.predict(X_test_selected)\n",
        "    y_prob = model.predict_proba(X_test_selected)[:, 1]\n",
        "\n",
        "    auc = roc_auc_score(y_test, y_prob)\n",
        "    recall = recall_score(y_test, y_pred)\n",
        "\n",
        "    results[name] = {'auc': auc, 'recall': recall}\n",
        "    print(f\"{name} - AUC: {auc:.4f}, Recall: {recall:.4f}\")\n",
        "    print(classification_report(y_test, y_pred))"
      ],
      "metadata": {
        "colab": {
          "base_uri": "https://localhost:8080/"
        },
        "id": "4mzfYpua_zgC",
        "outputId": "a843ea37-652d-4c63-f6a9-16dd3f003208"
      },
      "execution_count": 31,
      "outputs": [
        {
          "output_type": "stream",
          "name": "stdout",
          "text": [
            "Random Forest - AUC: 0.8862, Recall: 0.8060\n",
            "              precision    recall  f1-score   support\n",
            "\n",
            "           0       0.82      0.80      0.81      1166\n",
            "           1       0.79      0.81      0.80      1067\n",
            "\n",
            "    accuracy                           0.80      2233\n",
            "   macro avg       0.80      0.80      0.80      2233\n",
            "weighted avg       0.80      0.80      0.80      2233\n",
            "\n",
            "Gradient Boosting - AUC: 0.8984, Recall: 0.8285\n",
            "              precision    recall  f1-score   support\n",
            "\n",
            "           0       0.84      0.81      0.83      1166\n",
            "           1       0.80      0.83      0.82      1067\n",
            "\n",
            "    accuracy                           0.82      2233\n",
            "   macro avg       0.82      0.82      0.82      2233\n",
            "weighted avg       0.82      0.82      0.82      2233\n",
            "\n",
            "SVM - AUC: 0.8933, Recall: 0.8247\n",
            "              precision    recall  f1-score   support\n",
            "\n",
            "           0       0.84      0.82      0.83      1166\n",
            "           1       0.80      0.82      0.81      1067\n",
            "\n",
            "    accuracy                           0.82      2233\n",
            "   macro avg       0.82      0.82      0.82      2233\n",
            "weighted avg       0.82      0.82      0.82      2233\n",
            "\n"
          ]
        }
      ]
    },
    {
      "cell_type": "code",
      "source": [
        "# 셀 5: AutoML (PyCaret)\n",
        "train_data = pd.DataFrame(X_train_selected, columns=[f'feature_{i}' for i in range(X_train_selected.shape[1])])\n",
        "train_data['deposit'] = y_train.values\n",
        "\n",
        "clf = setup(data=train_data, target='deposit', session_id=42, verbose=False)\n",
        "\n",
        "best_model = compare_models()\n",
        "\n",
        "test_data = pd.DataFrame(X_test_selected, columns=[f'feature_{i}' for i in range(X_test_selected.shape[1])])\n",
        "pycaret_predictions = predict_model(best_model, data=test_data)\n",
        "pycaret_auc = roc_auc_score(y_test, pycaret_predictions['prediction_score'])\n",
        "pycaret_recall = recall_score(y_test, pycaret_predictions['prediction_label'])\n",
        "\n",
        "print(f\"PyCaret Best Model - AUC: {pycaret_auc:.4f}, Recall: {pycaret_recall:.4f}\")\n",
        "print(classification_report(y_test, pycaret_predictions['prediction_label']))\n"
      ],
      "metadata": {
        "colab": {
          "base_uri": "https://localhost:8080/",
          "height": 698,
          "referenced_widgets": [
            "ce2116d75c9243ac990c05a595440342",
            "b17fbb2b1e334b7ab8d3397bc7c1fca9",
            "e139e3e6c47846ee8e0bac14eefd1535",
            "73e37e430f1249ca9fe3c2992431151a",
            "cc774b291e39491382273e485c1317c1",
            "057dbf8c82a045ba8c1f02789a72ad31",
            "0429eac251f24fe98bb930bd35bc4aaf",
            "f1d83919ac1048aa8e0c567236a2c59d",
            "75e60e17631d4c44ad9c56a0c541aa3b",
            "2759e6677bdd4fc695f26e0a253ad39c",
            "e04873f1076e41cda7cba5cf7212566a"
          ]
        },
        "id": "Z4PYbLE2_28V",
        "outputId": "7bae29fa-34a6-447e-b911-6f4fe345db8b"
      },
      "execution_count": 32,
      "outputs": [
        {
          "output_type": "display_data",
          "data": {
            "text/plain": [
              "<IPython.core.display.HTML object>"
            ],
            "text/html": []
          },
          "metadata": {}
        },
        {
          "output_type": "display_data",
          "data": {
            "text/plain": [
              "<pandas.io.formats.style.Styler at 0x7b4213441a80>"
            ],
            "text/html": [
              "<style type=\"text/css\">\n",
              "#T_87f5b th {\n",
              "  text-align: left;\n",
              "}\n",
              "#T_87f5b_row0_col0, #T_87f5b_row0_col4, #T_87f5b_row1_col0, #T_87f5b_row1_col1, #T_87f5b_row1_col2, #T_87f5b_row1_col3, #T_87f5b_row1_col4, #T_87f5b_row1_col5, #T_87f5b_row1_col6, #T_87f5b_row1_col7, #T_87f5b_row2_col0, #T_87f5b_row2_col1, #T_87f5b_row2_col2, #T_87f5b_row2_col3, #T_87f5b_row2_col4, #T_87f5b_row2_col5, #T_87f5b_row2_col6, #T_87f5b_row2_col7, #T_87f5b_row3_col0, #T_87f5b_row3_col1, #T_87f5b_row3_col2, #T_87f5b_row3_col3, #T_87f5b_row3_col4, #T_87f5b_row3_col5, #T_87f5b_row3_col6, #T_87f5b_row3_col7, #T_87f5b_row4_col0, #T_87f5b_row4_col1, #T_87f5b_row4_col2, #T_87f5b_row4_col3, #T_87f5b_row4_col4, #T_87f5b_row4_col5, #T_87f5b_row4_col6, #T_87f5b_row4_col7, #T_87f5b_row5_col0, #T_87f5b_row5_col1, #T_87f5b_row5_col2, #T_87f5b_row5_col3, #T_87f5b_row5_col4, #T_87f5b_row5_col5, #T_87f5b_row5_col6, #T_87f5b_row5_col7, #T_87f5b_row6_col0, #T_87f5b_row6_col1, #T_87f5b_row6_col2, #T_87f5b_row6_col3, #T_87f5b_row6_col4, #T_87f5b_row6_col5, #T_87f5b_row6_col6, #T_87f5b_row6_col7, #T_87f5b_row7_col0, #T_87f5b_row7_col1, #T_87f5b_row7_col2, #T_87f5b_row7_col3, #T_87f5b_row7_col4, #T_87f5b_row7_col5, #T_87f5b_row7_col6, #T_87f5b_row7_col7, #T_87f5b_row8_col0, #T_87f5b_row8_col1, #T_87f5b_row8_col2, #T_87f5b_row8_col3, #T_87f5b_row8_col4, #T_87f5b_row8_col5, #T_87f5b_row8_col6, #T_87f5b_row8_col7, #T_87f5b_row9_col0, #T_87f5b_row9_col1, #T_87f5b_row9_col2, #T_87f5b_row9_col3, #T_87f5b_row9_col4, #T_87f5b_row9_col5, #T_87f5b_row9_col6, #T_87f5b_row9_col7, #T_87f5b_row10_col0, #T_87f5b_row10_col1, #T_87f5b_row10_col2, #T_87f5b_row10_col3, #T_87f5b_row10_col4, #T_87f5b_row10_col5, #T_87f5b_row10_col6, #T_87f5b_row10_col7, #T_87f5b_row11_col0, #T_87f5b_row11_col1, #T_87f5b_row11_col2, #T_87f5b_row11_col3, #T_87f5b_row11_col4, #T_87f5b_row11_col5, #T_87f5b_row11_col6, #T_87f5b_row11_col7, #T_87f5b_row12_col0, #T_87f5b_row12_col1, #T_87f5b_row12_col2, #T_87f5b_row12_col3, #T_87f5b_row12_col5, #T_87f5b_row12_col6, #T_87f5b_row12_col7, #T_87f5b_row13_col0, #T_87f5b_row13_col1, #T_87f5b_row13_col2, #T_87f5b_row13_col3, #T_87f5b_row13_col4, #T_87f5b_row13_col5, #T_87f5b_row13_col6, #T_87f5b_row13_col7, #T_87f5b_row14_col0, #T_87f5b_row14_col1, #T_87f5b_row14_col2, #T_87f5b_row14_col3, #T_87f5b_row14_col4, #T_87f5b_row14_col5, #T_87f5b_row14_col6, #T_87f5b_row14_col7 {\n",
              "  text-align: left;\n",
              "}\n",
              "#T_87f5b_row0_col1, #T_87f5b_row0_col2, #T_87f5b_row0_col3, #T_87f5b_row0_col5, #T_87f5b_row0_col6, #T_87f5b_row0_col7, #T_87f5b_row12_col4 {\n",
              "  text-align: left;\n",
              "  background-color: yellow;\n",
              "}\n",
              "#T_87f5b_row0_col8, #T_87f5b_row1_col8, #T_87f5b_row2_col8, #T_87f5b_row3_col8, #T_87f5b_row4_col8, #T_87f5b_row5_col8, #T_87f5b_row6_col8, #T_87f5b_row7_col8, #T_87f5b_row8_col8, #T_87f5b_row9_col8, #T_87f5b_row10_col8, #T_87f5b_row11_col8, #T_87f5b_row12_col8, #T_87f5b_row13_col8 {\n",
              "  text-align: left;\n",
              "  background-color: lightgrey;\n",
              "}\n",
              "#T_87f5b_row14_col8 {\n",
              "  text-align: left;\n",
              "  background-color: yellow;\n",
              "  background-color: lightgrey;\n",
              "}\n",
              "</style>\n",
              "<table id=\"T_87f5b\" class=\"dataframe\">\n",
              "  <thead>\n",
              "    <tr>\n",
              "      <th class=\"blank level0\" >&nbsp;</th>\n",
              "      <th id=\"T_87f5b_level0_col0\" class=\"col_heading level0 col0\" >Model</th>\n",
              "      <th id=\"T_87f5b_level0_col1\" class=\"col_heading level0 col1\" >Accuracy</th>\n",
              "      <th id=\"T_87f5b_level0_col2\" class=\"col_heading level0 col2\" >AUC</th>\n",
              "      <th id=\"T_87f5b_level0_col3\" class=\"col_heading level0 col3\" >Recall</th>\n",
              "      <th id=\"T_87f5b_level0_col4\" class=\"col_heading level0 col4\" >Prec.</th>\n",
              "      <th id=\"T_87f5b_level0_col5\" class=\"col_heading level0 col5\" >F1</th>\n",
              "      <th id=\"T_87f5b_level0_col6\" class=\"col_heading level0 col6\" >Kappa</th>\n",
              "      <th id=\"T_87f5b_level0_col7\" class=\"col_heading level0 col7\" >MCC</th>\n",
              "      <th id=\"T_87f5b_level0_col8\" class=\"col_heading level0 col8\" >TT (Sec)</th>\n",
              "    </tr>\n",
              "  </thead>\n",
              "  <tbody>\n",
              "    <tr>\n",
              "      <th id=\"T_87f5b_level0_row0\" class=\"row_heading level0 row0\" >gbc</th>\n",
              "      <td id=\"T_87f5b_row0_col0\" class=\"data row0 col0\" >Gradient Boosting Classifier</td>\n",
              "      <td id=\"T_87f5b_row0_col1\" class=\"data row0 col1\" >0.8331</td>\n",
              "      <td id=\"T_87f5b_row0_col2\" class=\"data row0 col2\" >0.9078</td>\n",
              "      <td id=\"T_87f5b_row0_col3\" class=\"data row0 col3\" >0.8447</td>\n",
              "      <td id=\"T_87f5b_row0_col4\" class=\"data row0 col4\" >0.8109</td>\n",
              "      <td id=\"T_87f5b_row0_col5\" class=\"data row0 col5\" >0.8272</td>\n",
              "      <td id=\"T_87f5b_row0_col6\" class=\"data row0 col6\" >0.6660</td>\n",
              "      <td id=\"T_87f5b_row0_col7\" class=\"data row0 col7\" >0.6670</td>\n",
              "      <td id=\"T_87f5b_row0_col8\" class=\"data row0 col8\" >0.8050</td>\n",
              "    </tr>\n",
              "    <tr>\n",
              "      <th id=\"T_87f5b_level0_row1\" class=\"row_heading level0 row1\" >lightgbm</th>\n",
              "      <td id=\"T_87f5b_row1_col0\" class=\"data row1 col0\" >Light Gradient Boosting Machine</td>\n",
              "      <td id=\"T_87f5b_row1_col1\" class=\"data row1 col1\" >0.8307</td>\n",
              "      <td id=\"T_87f5b_row1_col2\" class=\"data row1 col2\" >0.9050</td>\n",
              "      <td id=\"T_87f5b_row1_col3\" class=\"data row1 col3\" >0.8430</td>\n",
              "      <td id=\"T_87f5b_row1_col4\" class=\"data row1 col4\" >0.8079</td>\n",
              "      <td id=\"T_87f5b_row1_col5\" class=\"data row1 col5\" >0.8249</td>\n",
              "      <td id=\"T_87f5b_row1_col6\" class=\"data row1 col6\" >0.6612</td>\n",
              "      <td id=\"T_87f5b_row1_col7\" class=\"data row1 col7\" >0.6620</td>\n",
              "      <td id=\"T_87f5b_row1_col8\" class=\"data row1 col8\" >0.5420</td>\n",
              "    </tr>\n",
              "    <tr>\n",
              "      <th id=\"T_87f5b_level0_row2\" class=\"row_heading level0 row2\" >lr</th>\n",
              "      <td id=\"T_87f5b_row2_col0\" class=\"data row2 col0\" >Logistic Regression</td>\n",
              "      <td id=\"T_87f5b_row2_col1\" class=\"data row2 col1\" >0.8224</td>\n",
              "      <td id=\"T_87f5b_row2_col2\" class=\"data row2 col2\" >0.8998</td>\n",
              "      <td id=\"T_87f5b_row2_col3\" class=\"data row2 col3\" >0.7783</td>\n",
              "      <td id=\"T_87f5b_row2_col4\" class=\"data row2 col4\" >0.8355</td>\n",
              "      <td id=\"T_87f5b_row2_col5\" class=\"data row2 col5\" >0.8057</td>\n",
              "      <td id=\"T_87f5b_row2_col6\" class=\"data row2 col6\" >0.6425</td>\n",
              "      <td id=\"T_87f5b_row2_col7\" class=\"data row2 col7\" >0.6442</td>\n",
              "      <td id=\"T_87f5b_row2_col8\" class=\"data row2 col8\" >0.5780</td>\n",
              "    </tr>\n",
              "    <tr>\n",
              "      <th id=\"T_87f5b_level0_row3\" class=\"row_heading level0 row3\" >svm</th>\n",
              "      <td id=\"T_87f5b_row3_col0\" class=\"data row3 col0\" >SVM - Linear Kernel</td>\n",
              "      <td id=\"T_87f5b_row3_col1\" class=\"data row3 col1\" >0.8208</td>\n",
              "      <td id=\"T_87f5b_row3_col2\" class=\"data row3 col2\" >0.8980</td>\n",
              "      <td id=\"T_87f5b_row3_col3\" class=\"data row3 col3\" >0.7922</td>\n",
              "      <td id=\"T_87f5b_row3_col4\" class=\"data row3 col4\" >0.8247</td>\n",
              "      <td id=\"T_87f5b_row3_col5\" class=\"data row3 col5\" >0.8068</td>\n",
              "      <td id=\"T_87f5b_row3_col6\" class=\"data row3 col6\" >0.6399</td>\n",
              "      <td id=\"T_87f5b_row3_col7\" class=\"data row3 col7\" >0.6421</td>\n",
              "      <td id=\"T_87f5b_row3_col8\" class=\"data row3 col8\" >0.0950</td>\n",
              "    </tr>\n",
              "    <tr>\n",
              "      <th id=\"T_87f5b_level0_row4\" class=\"row_heading level0 row4\" >rf</th>\n",
              "      <td id=\"T_87f5b_row4_col0\" class=\"data row4 col0\" >Random Forest Classifier</td>\n",
              "      <td id=\"T_87f5b_row4_col1\" class=\"data row4 col1\" >0.8206</td>\n",
              "      <td id=\"T_87f5b_row4_col2\" class=\"data row4 col2\" >0.8912</td>\n",
              "      <td id=\"T_87f5b_row4_col3\" class=\"data row4 col3\" >0.8325</td>\n",
              "      <td id=\"T_87f5b_row4_col4\" class=\"data row4 col4\" >0.7979</td>\n",
              "      <td id=\"T_87f5b_row4_col5\" class=\"data row4 col5\" >0.8146</td>\n",
              "      <td id=\"T_87f5b_row4_col6\" class=\"data row4 col6\" >0.6411</td>\n",
              "      <td id=\"T_87f5b_row4_col7\" class=\"data row4 col7\" >0.6420</td>\n",
              "      <td id=\"T_87f5b_row4_col8\" class=\"data row4 col8\" >1.1420</td>\n",
              "    </tr>\n",
              "    <tr>\n",
              "      <th id=\"T_87f5b_level0_row5\" class=\"row_heading level0 row5\" >ada</th>\n",
              "      <td id=\"T_87f5b_row5_col0\" class=\"data row5 col0\" >Ada Boost Classifier</td>\n",
              "      <td id=\"T_87f5b_row5_col1\" class=\"data row5 col1\" >0.8192</td>\n",
              "      <td id=\"T_87f5b_row5_col2\" class=\"data row5 col2\" >0.8976</td>\n",
              "      <td id=\"T_87f5b_row5_col3\" class=\"data row5 col3\" >0.7861</td>\n",
              "      <td id=\"T_87f5b_row5_col4\" class=\"data row5 col4\" >0.8239</td>\n",
              "      <td id=\"T_87f5b_row5_col5\" class=\"data row5 col5\" >0.8043</td>\n",
              "      <td id=\"T_87f5b_row5_col6\" class=\"data row5 col6\" >0.6365</td>\n",
              "      <td id=\"T_87f5b_row5_col7\" class=\"data row5 col7\" >0.6374</td>\n",
              "      <td id=\"T_87f5b_row5_col8\" class=\"data row5 col8\" >0.3140</td>\n",
              "    </tr>\n",
              "    <tr>\n",
              "      <th id=\"T_87f5b_level0_row6\" class=\"row_heading level0 row6\" >xgboost</th>\n",
              "      <td id=\"T_87f5b_row6_col0\" class=\"data row6 col0\" >Extreme Gradient Boosting</td>\n",
              "      <td id=\"T_87f5b_row6_col1\" class=\"data row6 col1\" >0.8173</td>\n",
              "      <td id=\"T_87f5b_row6_col2\" class=\"data row6 col2\" >0.8978</td>\n",
              "      <td id=\"T_87f5b_row6_col3\" class=\"data row6 col3\" >0.8264</td>\n",
              "      <td id=\"T_87f5b_row6_col4\" class=\"data row6 col4\" >0.7957</td>\n",
              "      <td id=\"T_87f5b_row6_col5\" class=\"data row6 col5\" >0.8106</td>\n",
              "      <td id=\"T_87f5b_row6_col6\" class=\"data row6 col6\" >0.6342</td>\n",
              "      <td id=\"T_87f5b_row6_col7\" class=\"data row6 col7\" >0.6349</td>\n",
              "      <td id=\"T_87f5b_row6_col8\" class=\"data row6 col8\" >0.3210</td>\n",
              "    </tr>\n",
              "    <tr>\n",
              "      <th id=\"T_87f5b_level0_row7\" class=\"row_heading level0 row7\" >ridge</th>\n",
              "      <td id=\"T_87f5b_row7_col0\" class=\"data row7 col0\" >Ridge Classifier</td>\n",
              "      <td id=\"T_87f5b_row7_col1\" class=\"data row7 col1\" >0.8117</td>\n",
              "      <td id=\"T_87f5b_row7_col2\" class=\"data row7 col2\" >0.8982</td>\n",
              "      <td id=\"T_87f5b_row7_col3\" class=\"data row7 col3\" >0.7340</td>\n",
              "      <td id=\"T_87f5b_row7_col4\" class=\"data row7 col4\" >0.8480</td>\n",
              "      <td id=\"T_87f5b_row7_col5\" class=\"data row7 col5\" >0.7866</td>\n",
              "      <td id=\"T_87f5b_row7_col6\" class=\"data row7 col6\" >0.6196</td>\n",
              "      <td id=\"T_87f5b_row7_col7\" class=\"data row7 col7\" >0.6252</td>\n",
              "      <td id=\"T_87f5b_row7_col8\" class=\"data row7 col8\" >0.0720</td>\n",
              "    </tr>\n",
              "    <tr>\n",
              "      <th id=\"T_87f5b_level0_row8\" class=\"row_heading level0 row8\" >lda</th>\n",
              "      <td id=\"T_87f5b_row8_col0\" class=\"data row8 col0\" >Linear Discriminant Analysis</td>\n",
              "      <td id=\"T_87f5b_row8_col1\" class=\"data row8 col1\" >0.8115</td>\n",
              "      <td id=\"T_87f5b_row8_col2\" class=\"data row8 col2\" >0.8982</td>\n",
              "      <td id=\"T_87f5b_row8_col3\" class=\"data row8 col3\" >0.7340</td>\n",
              "      <td id=\"T_87f5b_row8_col4\" class=\"data row8 col4\" >0.8477</td>\n",
              "      <td id=\"T_87f5b_row8_col5\" class=\"data row8 col5\" >0.7864</td>\n",
              "      <td id=\"T_87f5b_row8_col6\" class=\"data row8 col6\" >0.6193</td>\n",
              "      <td id=\"T_87f5b_row8_col7\" class=\"data row8 col7\" >0.6248</td>\n",
              "      <td id=\"T_87f5b_row8_col8\" class=\"data row8 col8\" >0.0430</td>\n",
              "    </tr>\n",
              "    <tr>\n",
              "      <th id=\"T_87f5b_level0_row9\" class=\"row_heading level0 row9\" >knn</th>\n",
              "      <td id=\"T_87f5b_row9_col0\" class=\"data row9 col0\" >K Neighbors Classifier</td>\n",
              "      <td id=\"T_87f5b_row9_col1\" class=\"data row9 col1\" >0.8070</td>\n",
              "      <td id=\"T_87f5b_row9_col2\" class=\"data row9 col2\" >0.8669</td>\n",
              "      <td id=\"T_87f5b_row9_col3\" class=\"data row9 col3\" >0.8058</td>\n",
              "      <td id=\"T_87f5b_row9_col4\" class=\"data row9 col4\" >0.7905</td>\n",
              "      <td id=\"T_87f5b_row9_col5\" class=\"data row9 col5\" >0.7979</td>\n",
              "      <td id=\"T_87f5b_row9_col6\" class=\"data row9 col6\" >0.6133</td>\n",
              "      <td id=\"T_87f5b_row9_col7\" class=\"data row9 col7\" >0.6136</td>\n",
              "      <td id=\"T_87f5b_row9_col8\" class=\"data row9 col8\" >0.1150</td>\n",
              "    </tr>\n",
              "    <tr>\n",
              "      <th id=\"T_87f5b_level0_row10\" class=\"row_heading level0 row10\" >et</th>\n",
              "      <td id=\"T_87f5b_row10_col0\" class=\"data row10 col0\" >Extra Trees Classifier</td>\n",
              "      <td id=\"T_87f5b_row10_col1\" class=\"data row10 col1\" >0.7955</td>\n",
              "      <td id=\"T_87f5b_row10_col2\" class=\"data row10 col2\" >0.8745</td>\n",
              "      <td id=\"T_87f5b_row10_col3\" class=\"data row10 col3\" >0.7899</td>\n",
              "      <td id=\"T_87f5b_row10_col4\" class=\"data row10 col4\" >0.7805</td>\n",
              "      <td id=\"T_87f5b_row10_col5\" class=\"data row10 col5\" >0.7850</td>\n",
              "      <td id=\"T_87f5b_row10_col6\" class=\"data row10 col6\" >0.5901</td>\n",
              "      <td id=\"T_87f5b_row10_col7\" class=\"data row10 col7\" >0.5904</td>\n",
              "      <td id=\"T_87f5b_row10_col8\" class=\"data row10 col8\" >0.7420</td>\n",
              "    </tr>\n",
              "    <tr>\n",
              "      <th id=\"T_87f5b_level0_row11\" class=\"row_heading level0 row11\" >dt</th>\n",
              "      <td id=\"T_87f5b_row11_col0\" class=\"data row11 col0\" >Decision Tree Classifier</td>\n",
              "      <td id=\"T_87f5b_row11_col1\" class=\"data row11 col1\" >0.7517</td>\n",
              "      <td id=\"T_87f5b_row11_col2\" class=\"data row11 col2\" >0.7506</td>\n",
              "      <td id=\"T_87f5b_row11_col3\" class=\"data row11 col3\" >0.7296</td>\n",
              "      <td id=\"T_87f5b_row11_col4\" class=\"data row11 col4\" >0.7414</td>\n",
              "      <td id=\"T_87f5b_row11_col5\" class=\"data row11 col5\" >0.7352</td>\n",
              "      <td id=\"T_87f5b_row11_col6\" class=\"data row11 col6\" >0.5015</td>\n",
              "      <td id=\"T_87f5b_row11_col7\" class=\"data row11 col7\" >0.5019</td>\n",
              "      <td id=\"T_87f5b_row11_col8\" class=\"data row11 col8\" >0.0630</td>\n",
              "    </tr>\n",
              "    <tr>\n",
              "      <th id=\"T_87f5b_level0_row12\" class=\"row_heading level0 row12\" >qda</th>\n",
              "      <td id=\"T_87f5b_row12_col0\" class=\"data row12 col0\" >Quadratic Discriminant Analysis</td>\n",
              "      <td id=\"T_87f5b_row12_col1\" class=\"data row12 col1\" >0.7040</td>\n",
              "      <td id=\"T_87f5b_row12_col2\" class=\"data row12 col2\" >0.8533</td>\n",
              "      <td id=\"T_87f5b_row12_col3\" class=\"data row12 col3\" >0.4548</td>\n",
              "      <td id=\"T_87f5b_row12_col4\" class=\"data row12 col4\" >0.8499</td>\n",
              "      <td id=\"T_87f5b_row12_col5\" class=\"data row12 col5\" >0.5921</td>\n",
              "      <td id=\"T_87f5b_row12_col6\" class=\"data row12 col6\" >0.3917</td>\n",
              "      <td id=\"T_87f5b_row12_col7\" class=\"data row12 col7\" >0.4392</td>\n",
              "      <td id=\"T_87f5b_row12_col8\" class=\"data row12 col8\" >0.0470</td>\n",
              "    </tr>\n",
              "    <tr>\n",
              "      <th id=\"T_87f5b_level0_row13\" class=\"row_heading level0 row13\" >nb</th>\n",
              "      <td id=\"T_87f5b_row13_col0\" class=\"data row13 col0\" >Naive Bayes</td>\n",
              "      <td id=\"T_87f5b_row13_col1\" class=\"data row13 col1\" >0.6978</td>\n",
              "      <td id=\"T_87f5b_row13_col2\" class=\"data row13 col2\" >0.8276</td>\n",
              "      <td id=\"T_87f5b_row13_col3\" class=\"data row13 col3\" >0.4403</td>\n",
              "      <td id=\"T_87f5b_row13_col4\" class=\"data row13 col4\" >0.8478</td>\n",
              "      <td id=\"T_87f5b_row13_col5\" class=\"data row13 col5\" >0.5791</td>\n",
              "      <td id=\"T_87f5b_row13_col6\" class=\"data row13 col6\" >0.3783</td>\n",
              "      <td id=\"T_87f5b_row13_col7\" class=\"data row13 col7\" >0.4282</td>\n",
              "      <td id=\"T_87f5b_row13_col8\" class=\"data row13 col8\" >0.0400</td>\n",
              "    </tr>\n",
              "    <tr>\n",
              "      <th id=\"T_87f5b_level0_row14\" class=\"row_heading level0 row14\" >dummy</th>\n",
              "      <td id=\"T_87f5b_row14_col0\" class=\"data row14 col0\" >Dummy Classifier</td>\n",
              "      <td id=\"T_87f5b_row14_col1\" class=\"data row14 col1\" >0.5272</td>\n",
              "      <td id=\"T_87f5b_row14_col2\" class=\"data row14 col2\" >0.5000</td>\n",
              "      <td id=\"T_87f5b_row14_col3\" class=\"data row14 col3\" >0.0000</td>\n",
              "      <td id=\"T_87f5b_row14_col4\" class=\"data row14 col4\" >0.0000</td>\n",
              "      <td id=\"T_87f5b_row14_col5\" class=\"data row14 col5\" >0.0000</td>\n",
              "      <td id=\"T_87f5b_row14_col6\" class=\"data row14 col6\" >0.0000</td>\n",
              "      <td id=\"T_87f5b_row14_col7\" class=\"data row14 col7\" >0.0000</td>\n",
              "      <td id=\"T_87f5b_row14_col8\" class=\"data row14 col8\" >0.0350</td>\n",
              "    </tr>\n",
              "  </tbody>\n",
              "</table>\n"
            ]
          },
          "metadata": {}
        },
        {
          "output_type": "display_data",
          "data": {
            "text/plain": [
              "Processing:   0%|          | 0/65 [00:00<?, ?it/s]"
            ],
            "application/vnd.jupyter.widget-view+json": {
              "version_major": 2,
              "version_minor": 0,
              "model_id": "ce2116d75c9243ac990c05a595440342"
            }
          },
          "metadata": {
            "application/vnd.jupyter.widget-view+json": {
              "colab": {
                "custom_widget_manager": {
                  "url": "https://ssl.gstatic.com/colaboratory-static/widgets/colab-cdn-widget-manager/2b70e893a8ba7c0f/manager.min.js"
                }
              }
            }
          }
        },
        {
          "output_type": "display_data",
          "data": {
            "text/plain": [
              "<IPython.core.display.HTML object>"
            ],
            "text/html": []
          },
          "metadata": {}
        },
        {
          "output_type": "display_data",
          "data": {
            "text/plain": [
              "<IPython.core.display.HTML object>"
            ],
            "text/html": []
          },
          "metadata": {}
        },
        {
          "output_type": "stream",
          "name": "stdout",
          "text": [
            "PyCaret Best Model - AUC: 0.3842, Recall: 0.8332\n",
            "              precision    recall  f1-score   support\n",
            "\n",
            "           0       0.84      0.82      0.83      1166\n",
            "           1       0.81      0.83      0.82      1067\n",
            "\n",
            "    accuracy                           0.83      2233\n",
            "   macro avg       0.83      0.83      0.83      2233\n",
            "weighted avg       0.83      0.83      0.83      2233\n",
            "\n"
          ]
        }
      ]
    },
    {
      "cell_type": "code",
      "source": [
        "# 셀 6: Hyperparameter Tuning (Optuna)\n",
        "import optuna\n",
        "\n",
        "def objective(trial):\n",
        "    n_estimators = trial.suggest_int('n_estimators', 50, 300)\n",
        "    max_depth = trial.suggest_int('max_depth', 3, 10)\n",
        "    min_samples_split = trial.suggest_int('min_samples_split', 2, 10)\n",
        "\n",
        "    model = RandomForestClassifier(\n",
        "        n_estimators=n_estimators,\n",
        "        max_depth=max_depth,\n",
        "        min_samples_split=min_samples_split,\n",
        "        random_state=42\n",
        "    )\n",
        "    model.fit(X_train_selected, y_train)\n",
        "\n",
        "    y_prob = model.predict_proba(X_test_selected)[:, 1]\n",
        "    auc = roc_auc_score(y_test, y_prob)\n",
        "    y_pred = model.predict(X_test_selected)\n",
        "    recall = recall_score(y_test, y_pred)\n",
        "\n",
        "    harmonic_mean = 2 / (1/auc + 1/recall)\n",
        "    return harmonic_mean\n",
        "\n",
        "# SQLite 데이터베이스를 사용하여 Optuna study 생성\n",
        "study = optuna.create_study(\n",
        "    study_name=\"bank_marketing_optimization\",\n",
        "    storage=\"sqlite:///bank_marketing_optuna.db\",\n",
        "    load_if_exists=True,\n",
        "    direction='maximize'\n",
        ")\n",
        "study.optimize(objective, n_trials=100)\n",
        "\n",
        "print(\"Best trial:\")\n",
        "trial = study.best_trial\n",
        "print(\"  Value: \", trial.value)\n",
        "print(\"  Params: \")\n",
        "for key, value in trial.params.items():\n",
        "    print(\"    {}: {}\".format(key, value))"
      ],
      "metadata": {
        "colab": {
          "base_uri": "https://localhost:8080/"
        },
        "id": "DUSLXxuL_44W",
        "outputId": "9acfd1a4-1344-44f0-9a54-2c281d6f23ef"
      },
      "execution_count": 33,
      "outputs": [
        {
          "output_type": "stream",
          "name": "stderr",
          "text": [
            "[I 2024-09-19 06:40:21,508] A new study created in RDB with name: bank_marketing_optimization\n",
            "[I 2024-09-19 06:40:23,417] Trial 0 finished with value: 0.8700697555343092 and parameters: {'n_estimators': 254, 'max_depth': 9, 'min_samples_split': 7}. Best is trial 0 with value: 0.8700697555343092.\n",
            "[I 2024-09-19 06:40:25,723] Trial 1 finished with value: 0.855476278622169 and parameters: {'n_estimators': 297, 'max_depth': 5, 'min_samples_split': 6}. Best is trial 0 with value: 0.8700697555343092.\n",
            "[I 2024-09-19 06:40:28,474] Trial 2 finished with value: 0.8734141391275976 and parameters: {'n_estimators': 235, 'max_depth': 10, 'min_samples_split': 7}. Best is trial 2 with value: 0.8734141391275976.\n",
            "[I 2024-09-19 06:40:30,888] Trial 3 finished with value: 0.8735021224772572 and parameters: {'n_estimators': 293, 'max_depth': 10, 'min_samples_split': 3}. Best is trial 3 with value: 0.8735021224772572.\n",
            "[I 2024-09-19 06:40:32,117] Trial 4 finished with value: 0.8591612956522093 and parameters: {'n_estimators': 203, 'max_depth': 6, 'min_samples_split': 3}. Best is trial 3 with value: 0.8735021224772572.\n",
            "[I 2024-09-19 06:40:33,021] Trial 5 finished with value: 0.8745674436112837 and parameters: {'n_estimators': 104, 'max_depth': 10, 'min_samples_split': 2}. Best is trial 5 with value: 0.8745674436112837.\n",
            "[I 2024-09-19 06:40:35,398] Trial 6 finished with value: 0.8676823075814846 and parameters: {'n_estimators': 267, 'max_depth': 7, 'min_samples_split': 2}. Best is trial 5 with value: 0.8745674436112837.\n",
            "[I 2024-09-19 06:40:37,248] Trial 7 finished with value: 0.8668251441362308 and parameters: {'n_estimators': 179, 'max_depth': 7, 'min_samples_split': 9}. Best is trial 5 with value: 0.8745674436112837.\n",
            "[I 2024-09-19 06:40:37,966] Trial 8 finished with value: 0.8601616142061261 and parameters: {'n_estimators': 57, 'max_depth': 5, 'min_samples_split': 8}. Best is trial 5 with value: 0.8745674436112837.\n",
            "[I 2024-09-19 06:40:41,209] Trial 9 finished with value: 0.8709374957179261 and parameters: {'n_estimators': 222, 'max_depth': 9, 'min_samples_split': 5}. Best is trial 5 with value: 0.8745674436112837.\n",
            "[I 2024-09-19 06:40:42,054] Trial 10 finished with value: 0.7993674992783107 and parameters: {'n_estimators': 108, 'max_depth': 3, 'min_samples_split': 4}. Best is trial 5 with value: 0.8745674436112837.\n",
            "[I 2024-09-19 06:40:43,751] Trial 11 finished with value: 0.8735450621919715 and parameters: {'n_estimators': 119, 'max_depth': 10, 'min_samples_split': 2}. Best is trial 5 with value: 0.8745674436112837.\n",
            "[I 2024-09-19 06:40:44,860] Trial 12 finished with value: 0.8703005697537965 and parameters: {'n_estimators': 125, 'max_depth': 9, 'min_samples_split': 2}. Best is trial 5 with value: 0.8745674436112837.\n",
            "[I 2024-09-19 06:40:45,755] Trial 13 finished with value: 0.8682736323580903 and parameters: {'n_estimators': 120, 'max_depth': 8, 'min_samples_split': 4}. Best is trial 5 with value: 0.8745674436112837.\n",
            "[I 2024-09-19 06:40:46,416] Trial 14 finished with value: 0.8745025205560881 and parameters: {'n_estimators': 70, 'max_depth': 10, 'min_samples_split': 10}. Best is trial 5 with value: 0.8745674436112837.\n",
            "[I 2024-09-19 06:40:46,864] Trial 15 finished with value: 0.8674098122704292 and parameters: {'n_estimators': 51, 'max_depth': 8, 'min_samples_split': 10}. Best is trial 5 with value: 0.8745674436112837.\n",
            "[I 2024-09-19 06:40:47,554] Trial 16 finished with value: 0.871532750170934 and parameters: {'n_estimators': 87, 'max_depth': 8, 'min_samples_split': 10}. Best is trial 5 with value: 0.8745674436112837.\n",
            "[I 2024-09-19 06:40:48,302] Trial 17 finished with value: 0.8187230653422042 and parameters: {'n_estimators': 150, 'max_depth': 3, 'min_samples_split': 6}. Best is trial 5 with value: 0.8745674436112837.\n",
            "[I 2024-09-19 06:40:49,042] Trial 18 finished with value: 0.8732400368183855 and parameters: {'n_estimators': 83, 'max_depth': 10, 'min_samples_split': 8}. Best is trial 5 with value: 0.8745674436112837.\n",
            "[I 2024-09-19 06:40:50,263] Trial 19 finished with value: 0.8696392893121215 and parameters: {'n_estimators': 156, 'max_depth': 9, 'min_samples_split': 9}. Best is trial 5 with value: 0.8745674436112837.\n",
            "[I 2024-09-19 06:40:50,841] Trial 20 finished with value: 0.8581563197574893 and parameters: {'n_estimators': 81, 'max_depth': 6, 'min_samples_split': 5}. Best is trial 5 with value: 0.8745674436112837.\n",
            "[I 2024-09-19 06:40:51,730] Trial 21 finished with value: 0.8750743703896933 and parameters: {'n_estimators': 103, 'max_depth': 10, 'min_samples_split': 2}. Best is trial 21 with value: 0.8750743703896933.\n",
            "[I 2024-09-19 06:40:52,621] Trial 22 finished with value: 0.8723676973383002 and parameters: {'n_estimators': 100, 'max_depth': 10, 'min_samples_split': 3}. Best is trial 21 with value: 0.8750743703896933.\n",
            "[I 2024-09-19 06:40:53,281] Trial 23 finished with value: 0.8689904618041789 and parameters: {'n_estimators': 73, 'max_depth': 9, 'min_samples_split': 4}. Best is trial 21 with value: 0.8750743703896933.\n",
            "[I 2024-09-19 06:40:54,489] Trial 24 finished with value: 0.8679352429856503 and parameters: {'n_estimators': 142, 'max_depth': 8, 'min_samples_split': 2}. Best is trial 21 with value: 0.8750743703896933.\n",
            "[I 2024-09-19 06:40:56,694] Trial 25 finished with value: 0.8732213844472976 and parameters: {'n_estimators': 182, 'max_depth': 10, 'min_samples_split': 3}. Best is trial 21 with value: 0.8750743703896933.\n",
            "[I 2024-09-19 06:40:57,912] Trial 26 finished with value: 0.87105199278686 and parameters: {'n_estimators': 97, 'max_depth': 9, 'min_samples_split': 5}. Best is trial 21 with value: 0.8750743703896933.\n",
            "[I 2024-09-19 06:40:58,692] Trial 27 finished with value: 0.8718220746192733 and parameters: {'n_estimators': 69, 'max_depth': 10, 'min_samples_split': 4}. Best is trial 21 with value: 0.8750743703896933.\n",
            "[I 2024-09-19 06:40:59,644] Trial 28 finished with value: 0.8697452984431173 and parameters: {'n_estimators': 127, 'max_depth': 8, 'min_samples_split': 9}. Best is trial 21 with value: 0.8750743703896933.\n",
            "[I 2024-09-19 06:41:00,919] Trial 29 finished with value: 0.8724443226657187 and parameters: {'n_estimators': 164, 'max_depth': 9, 'min_samples_split': 7}. Best is trial 21 with value: 0.8750743703896933.\n",
            "[I 2024-09-19 06:41:01,505] Trial 30 finished with value: 0.8715440556707649 and parameters: {'n_estimators': 62, 'max_depth': 10, 'min_samples_split': 8}. Best is trial 21 with value: 0.8750743703896933.\n",
            "[I 2024-09-19 06:41:02,436] Trial 31 finished with value: 0.8760548265209719 and parameters: {'n_estimators': 108, 'max_depth': 10, 'min_samples_split': 2}. Best is trial 31 with value: 0.8760548265209719.\n",
            "[I 2024-09-19 06:41:03,584] Trial 32 finished with value: 0.8745653491653695 and parameters: {'n_estimators': 136, 'max_depth': 10, 'min_samples_split': 2}. Best is trial 31 with value: 0.8760548265209719.\n",
            "[I 2024-09-19 06:41:04,712] Trial 33 finished with value: 0.8702489658739229 and parameters: {'n_estimators': 141, 'max_depth': 9, 'min_samples_split': 2}. Best is trial 31 with value: 0.8760548265209719.\n",
            "[I 2024-09-19 06:41:05,532] Trial 34 finished with value: 0.8733930384569706 and parameters: {'n_estimators': 99, 'max_depth': 9, 'min_samples_split': 3}. Best is trial 31 with value: 0.8760548265209719.\n",
            "[I 2024-09-19 06:41:06,177] Trial 35 finished with value: 0.8518005758711579 and parameters: {'n_estimators': 112, 'max_depth': 4, 'min_samples_split': 2}. Best is trial 31 with value: 0.8760548265209719.\n",
            "[I 2024-09-19 06:41:07,310] Trial 36 finished with value: 0.8725166990372477 and parameters: {'n_estimators': 132, 'max_depth': 10, 'min_samples_split': 3}. Best is trial 31 with value: 0.8760548265209719.\n",
            "[I 2024-09-19 06:41:08,598] Trial 37 finished with value: 0.8640404057475495 and parameters: {'n_estimators': 172, 'max_depth': 7, 'min_samples_split': 3}. Best is trial 31 with value: 0.8760548265209719.\n",
            "[I 2024-09-19 06:41:10,322] Trial 38 finished with value: 0.8746102822291655 and parameters: {'n_estimators': 138, 'max_depth': 10, 'min_samples_split': 2}. Best is trial 31 with value: 0.8760548265209719.\n",
            "[I 2024-09-19 06:41:11,967] Trial 39 finished with value: 0.8592613461786791 and parameters: {'n_estimators': 193, 'max_depth': 5, 'min_samples_split': 3}. Best is trial 31 with value: 0.8760548265209719.\n",
            "[I 2024-09-19 06:41:13,260] Trial 40 finished with value: 0.8697003181582914 and parameters: {'n_estimators': 108, 'max_depth': 9, 'min_samples_split': 2}. Best is trial 31 with value: 0.8760548265209719.\n",
            "[I 2024-09-19 06:41:14,398] Trial 41 finished with value: 0.8745642067358664 and parameters: {'n_estimators': 135, 'max_depth': 10, 'min_samples_split': 2}. Best is trial 31 with value: 0.8760548265209719.\n",
            "[I 2024-09-19 06:41:15,670] Trial 42 finished with value: 0.8741395114242173 and parameters: {'n_estimators': 154, 'max_depth': 10, 'min_samples_split': 2}. Best is trial 31 with value: 0.8760548265209719.\n",
            "[I 2024-09-19 06:41:16,499] Trial 43 finished with value: 0.8757860718713054 and parameters: {'n_estimators': 93, 'max_depth': 10, 'min_samples_split': 2}. Best is trial 31 with value: 0.8760548265209719.\n",
            "[I 2024-09-19 06:41:17,320] Trial 44 finished with value: 0.8733930384569706 and parameters: {'n_estimators': 99, 'max_depth': 9, 'min_samples_split': 3}. Best is trial 31 with value: 0.8760548265209719.\n",
            "[I 2024-09-19 06:41:18,103] Trial 45 finished with value: 0.8718722761437495 and parameters: {'n_estimators': 89, 'max_depth': 10, 'min_samples_split': 4}. Best is trial 31 with value: 0.8760548265209719.\n",
            "[I 2024-09-19 06:41:18,866] Trial 46 finished with value: 0.8606163795923903 and parameters: {'n_estimators': 114, 'max_depth': 6, 'min_samples_split': 2}. Best is trial 31 with value: 0.8760548265209719.\n",
            "[I 2024-09-19 06:41:20,866] Trial 47 finished with value: 0.8727642383526423 and parameters: {'n_estimators': 249, 'max_depth': 10, 'min_samples_split': 2}. Best is trial 31 with value: 0.8760548265209719.\n",
            "[I 2024-09-19 06:41:21,853] Trial 48 finished with value: 0.8699218310498749 and parameters: {'n_estimators': 122, 'max_depth': 9, 'min_samples_split': 4}. Best is trial 31 with value: 0.8760548265209719.\n",
            "[I 2024-09-19 06:41:22,695] Trial 49 finished with value: 0.8679460168917534 and parameters: {'n_estimators': 107, 'max_depth': 8, 'min_samples_split': 3}. Best is trial 31 with value: 0.8760548265209719.\n",
            "[I 2024-09-19 06:41:23,679] Trial 50 finished with value: 0.8718971083114904 and parameters: {'n_estimators': 91, 'max_depth': 10, 'min_samples_split': 3}. Best is trial 31 with value: 0.8760548265209719.\n",
            "[I 2024-09-19 06:41:25,432] Trial 51 finished with value: 0.8745760116889473 and parameters: {'n_estimators': 142, 'max_depth': 10, 'min_samples_split': 2}. Best is trial 31 with value: 0.8760548265209719.\n",
            "[I 2024-09-19 06:41:27,255] Trial 52 finished with value: 0.8741621396314914 and parameters: {'n_estimators': 146, 'max_depth': 10, 'min_samples_split': 2}. Best is trial 31 with value: 0.8760548265209719.\n",
            "[I 2024-09-19 06:41:28,075] Trial 53 finished with value: 0.8746980399748683 and parameters: {'n_estimators': 79, 'max_depth': 10, 'min_samples_split': 2}. Best is trial 31 with value: 0.8760548265209719.\n",
            "[I 2024-09-19 06:41:28,779] Trial 54 finished with value: 0.8686025179532324 and parameters: {'n_estimators': 80, 'max_depth': 9, 'min_samples_split': 2}. Best is trial 31 with value: 0.8760548265209719.\n",
            "[I 2024-09-19 06:41:30,521] Trial 55 finished with value: 0.8734244016494273 and parameters: {'n_estimators': 218, 'max_depth': 10, 'min_samples_split': 3}. Best is trial 31 with value: 0.8760548265209719.\n",
            "[I 2024-09-19 06:41:31,054] Trial 56 finished with value: 0.8691054889711816 and parameters: {'n_estimators': 54, 'max_depth': 9, 'min_samples_split': 2}. Best is trial 31 with value: 0.8760548265209719.\n",
            "[I 2024-09-19 06:41:32,079] Trial 57 finished with value: 0.8745265047963389 and parameters: {'n_estimators': 118, 'max_depth': 10, 'min_samples_split': 2}. Best is trial 31 with value: 0.8760548265209719.\n",
            "[I 2024-09-19 06:41:32,790] Trial 58 finished with value: 0.8709462086911622 and parameters: {'n_estimators': 76, 'max_depth': 10, 'min_samples_split': 3}. Best is trial 31 with value: 0.8760548265209719.\n",
            "[I 2024-09-19 06:41:33,367] Trial 59 finished with value: 0.870841072438443 and parameters: {'n_estimators': 62, 'max_depth': 9, 'min_samples_split': 3}. Best is trial 31 with value: 0.8760548265209719.\n",
            "[I 2024-09-19 06:41:34,786] Trial 60 finished with value: 0.8483196097734992 and parameters: {'n_estimators': 287, 'max_depth': 4, 'min_samples_split': 2}. Best is trial 31 with value: 0.8760548265209719.\n",
            "[I 2024-09-19 06:41:35,607] Trial 61 finished with value: 0.8757860718713054 and parameters: {'n_estimators': 93, 'max_depth': 10, 'min_samples_split': 2}. Best is trial 31 with value: 0.8760548265209719.\n",
            "[I 2024-09-19 06:41:36,448] Trial 62 finished with value: 0.8757483061830416 and parameters: {'n_estimators': 94, 'max_depth': 10, 'min_samples_split': 2}. Best is trial 31 with value: 0.8760548265209719.\n",
            "[I 2024-09-19 06:41:37,260] Trial 63 finished with value: 0.8747562810641448 and parameters: {'n_estimators': 92, 'max_depth': 10, 'min_samples_split': 2}. Best is trial 31 with value: 0.8760548265209719.\n",
            "[I 2024-09-19 06:41:38,320] Trial 64 finished with value: 0.8747635130465996 and parameters: {'n_estimators': 91, 'max_depth': 10, 'min_samples_split': 2}. Best is trial 31 with value: 0.8760548265209719.\n",
            "[I 2024-09-19 06:41:39,434] Trial 65 finished with value: 0.8704282235800206 and parameters: {'n_estimators': 91, 'max_depth': 9, 'min_samples_split': 2}. Best is trial 31 with value: 0.8760548265209719.\n",
            "[I 2024-09-19 06:41:40,368] Trial 66 finished with value: 0.8714045054197197 and parameters: {'n_estimators': 65, 'max_depth': 10, 'min_samples_split': 6}. Best is trial 31 with value: 0.8760548265209719.\n",
            "[I 2024-09-19 06:41:41,631] Trial 67 finished with value: 0.8719130563000066 and parameters: {'n_estimators': 92, 'max_depth': 10, 'min_samples_split': 3}. Best is trial 31 with value: 0.8760548265209719.\n",
            "[I 2024-09-19 06:41:42,586] Trial 68 finished with value: 0.8737658315545702 and parameters: {'n_estimators': 103, 'max_depth': 9, 'min_samples_split': 3}. Best is trial 31 with value: 0.8760548265209719.\n",
            "[I 2024-09-19 06:41:43,352] Trial 69 finished with value: 0.8758101027966582 and parameters: {'n_estimators': 83, 'max_depth': 10, 'min_samples_split': 2}. Best is trial 31 with value: 0.8760548265209719.\n",
            "[I 2024-09-19 06:41:44,000] Trial 70 finished with value: 0.8683879585839119 and parameters: {'n_estimators': 72, 'max_depth': 9, 'min_samples_split': 2}. Best is trial 31 with value: 0.8760548265209719.\n",
            "[I 2024-09-19 06:41:44,776] Trial 71 finished with value: 0.8757814943947578 and parameters: {'n_estimators': 85, 'max_depth': 10, 'min_samples_split': 2}. Best is trial 31 with value: 0.8760548265209719.\n",
            "[I 2024-09-19 06:41:45,551] Trial 72 finished with value: 0.8758272668932474 and parameters: {'n_estimators': 84, 'max_depth': 10, 'min_samples_split': 2}. Best is trial 31 with value: 0.8760548265209719.\n",
            "[I 2024-09-19 06:41:46,311] Trial 73 finished with value: 0.8758101027966582 and parameters: {'n_estimators': 83, 'max_depth': 10, 'min_samples_split': 2}. Best is trial 31 with value: 0.8760548265209719.\n",
            "[I 2024-09-19 06:41:46,817] Trial 74 finished with value: 0.8711978284011606 and parameters: {'n_estimators': 50, 'max_depth': 10, 'min_samples_split': 3}. Best is trial 31 with value: 0.8760548265209719.\n",
            "[I 2024-09-19 06:41:47,565] Trial 75 finished with value: 0.8752893257027692 and parameters: {'n_estimators': 82, 'max_depth': 10, 'min_samples_split': 2}. Best is trial 31 with value: 0.8760548265209719.\n",
            "[I 2024-09-19 06:41:48,156] Trial 76 finished with value: 0.8708051708504148 and parameters: {'n_estimators': 60, 'max_depth': 10, 'min_samples_split': 3}. Best is trial 31 with value: 0.8760548265209719.\n",
            "[I 2024-09-19 06:41:48,774] Trial 77 finished with value: 0.869353881814138 and parameters: {'n_estimators': 68, 'max_depth': 9, 'min_samples_split': 2}. Best is trial 31 with value: 0.8760548265209719.\n",
            "[I 2024-09-19 06:41:49,585] Trial 78 finished with value: 0.8667428788515819 and parameters: {'n_estimators': 112, 'max_depth': 7, 'min_samples_split': 4}. Best is trial 31 with value: 0.8760548265209719.\n",
            "[I 2024-09-19 06:41:50,350] Trial 79 finished with value: 0.8757814943947578 and parameters: {'n_estimators': 85, 'max_depth': 10, 'min_samples_split': 2}. Best is trial 31 with value: 0.8760548265209719.\n",
            "[I 2024-09-19 06:41:51,048] Trial 80 finished with value: 0.8703811506766641 and parameters: {'n_estimators': 75, 'max_depth': 10, 'min_samples_split': 3}. Best is trial 31 with value: 0.8760548265209719.\n",
            "[I 2024-09-19 06:41:51,809] Trial 81 finished with value: 0.8758101027966582 and parameters: {'n_estimators': 83, 'max_depth': 10, 'min_samples_split': 2}. Best is trial 31 with value: 0.8760548265209719.\n",
            "[I 2024-09-19 06:41:52,903] Trial 82 finished with value: 0.8758272668932474 and parameters: {'n_estimators': 84, 'max_depth': 10, 'min_samples_split': 2}. Best is trial 31 with value: 0.8760548265209719.\n",
            "[I 2024-09-19 06:41:54,028] Trial 83 finished with value: 0.8757814943947578 and parameters: {'n_estimators': 85, 'max_depth': 10, 'min_samples_split': 2}. Best is trial 31 with value: 0.8760548265209719.\n",
            "[I 2024-09-19 06:41:55,349] Trial 84 finished with value: 0.8755693493891823 and parameters: {'n_estimators': 102, 'max_depth': 10, 'min_samples_split': 2}. Best is trial 31 with value: 0.8760548265209719.\n",
            "[I 2024-09-19 06:41:56,300] Trial 85 finished with value: 0.8743362783806422 and parameters: {'n_estimators': 68, 'max_depth': 10, 'min_samples_split': 2}. Best is trial 31 with value: 0.8760548265209719.\n",
            "[I 2024-09-19 06:41:57,052] Trial 86 finished with value: 0.8694248984952117 and parameters: {'n_estimators': 75, 'max_depth': 9, 'min_samples_split': 3}. Best is trial 31 with value: 0.8760548265209719.\n",
            "[I 2024-09-19 06:41:57,907] Trial 87 finished with value: 0.8747113638216705 and parameters: {'n_estimators': 96, 'max_depth': 10, 'min_samples_split': 2}. Best is trial 31 with value: 0.8760548265209719.\n",
            "[I 2024-09-19 06:41:58,444] Trial 88 finished with value: 0.8710121315693375 and parameters: {'n_estimators': 56, 'max_depth': 9, 'min_samples_split': 3}. Best is trial 31 with value: 0.8760548265209719.\n",
            "[I 2024-09-19 06:41:59,223] Trial 89 finished with value: 0.8757814943947578 and parameters: {'n_estimators': 85, 'max_depth': 10, 'min_samples_split': 2}. Best is trial 31 with value: 0.8760548265209719.\n",
            "[I 2024-09-19 06:42:00,189] Trial 90 finished with value: 0.8734987531863599 and parameters: {'n_estimators': 108, 'max_depth': 10, 'min_samples_split': 7}. Best is trial 31 with value: 0.8760548265209719.\n",
            "[I 2024-09-19 06:42:00,957] Trial 91 finished with value: 0.8758272668932474 and parameters: {'n_estimators': 84, 'max_depth': 10, 'min_samples_split': 2}. Best is trial 31 with value: 0.8760548265209719.\n",
            "[I 2024-09-19 06:42:01,688] Trial 92 finished with value: 0.8746980399748683 and parameters: {'n_estimators': 79, 'max_depth': 10, 'min_samples_split': 2}. Best is trial 31 with value: 0.8760548265209719.\n",
            "[I 2024-09-19 06:42:02,585] Trial 93 finished with value: 0.8755475945949595 and parameters: {'n_estimators': 100, 'max_depth': 10, 'min_samples_split': 2}. Best is trial 31 with value: 0.8760548265209719.\n",
            "[I 2024-09-19 06:42:03,343] Trial 94 finished with value: 0.8699163373084987 and parameters: {'n_estimators': 86, 'max_depth': 9, 'min_samples_split': 2}. Best is trial 31 with value: 0.8760548265209719.\n",
            "[I 2024-09-19 06:42:04,026] Trial 95 finished with value: 0.874203209519582 and parameters: {'n_estimators': 72, 'max_depth': 10, 'min_samples_split': 2}. Best is trial 31 with value: 0.8760548265209719.\n",
            "[I 2024-09-19 06:42:05,130] Trial 96 finished with value: 0.8719914582701821 and parameters: {'n_estimators': 129, 'max_depth': 10, 'min_samples_split': 5}. Best is trial 31 with value: 0.8760548265209719.\n",
            "[I 2024-09-19 06:42:06,142] Trial 97 finished with value: 0.8709443145822648 and parameters: {'n_estimators': 114, 'max_depth': 10, 'min_samples_split': 3}. Best is trial 31 with value: 0.8760548265209719.\n",
            "[I 2024-09-19 06:42:06,689] Trial 98 finished with value: 0.8618595214074535 and parameters: {'n_estimators': 65, 'max_depth': 6, 'min_samples_split': 2}. Best is trial 31 with value: 0.8760548265209719.\n",
            "[I 2024-09-19 06:42:07,540] Trial 99 finished with value: 0.8494371535102995 and parameters: {'n_estimators': 97, 'max_depth': 4, 'min_samples_split': 2}. Best is trial 31 with value: 0.8760548265209719.\n"
          ]
        },
        {
          "output_type": "stream",
          "name": "stdout",
          "text": [
            "Best trial:\n",
            "  Value:  0.8760548265209719\n",
            "  Params: \n",
            "    n_estimators: 108\n",
            "    max_depth: 10\n",
            "    min_samples_split: 2\n"
          ]
        }
      ]
    },
    {
      "cell_type": "code",
      "source": [
        "!pip install optuna-dashboard"
      ],
      "metadata": {
        "colab": {
          "base_uri": "https://localhost:8080/"
        },
        "id": "1CIVUZE2AtIO",
        "outputId": "eb62d791-8641-45e4-e1ef-4ab07b909385"
      },
      "execution_count": 34,
      "outputs": [
        {
          "output_type": "stream",
          "name": "stdout",
          "text": [
            "Collecting optuna-dashboard\n",
            "  Downloading optuna_dashboard-0.16.2-py3-none-any.whl.metadata (7.0 kB)\n",
            "Collecting bottle>=0.13.0 (from optuna-dashboard)\n",
            "  Downloading bottle-0.13.1-py2.py3-none-any.whl.metadata (1.8 kB)\n",
            "Requirement already satisfied: optuna>=3.1.0 in /usr/local/lib/python3.10/dist-packages (from optuna-dashboard) (4.0.0)\n",
            "Requirement already satisfied: packaging in /usr/local/lib/python3.10/dist-packages (from optuna-dashboard) (24.1)\n",
            "Requirement already satisfied: scikit-learn in /usr/local/lib/python3.10/dist-packages (from optuna-dashboard) (1.4.2)\n",
            "Requirement already satisfied: alembic>=1.5.0 in /usr/local/lib/python3.10/dist-packages (from optuna>=3.1.0->optuna-dashboard) (1.13.2)\n",
            "Requirement already satisfied: colorlog in /usr/local/lib/python3.10/dist-packages (from optuna>=3.1.0->optuna-dashboard) (6.8.2)\n",
            "Requirement already satisfied: numpy in /usr/local/lib/python3.10/dist-packages (from optuna>=3.1.0->optuna-dashboard) (1.26.4)\n",
            "Requirement already satisfied: sqlalchemy>=1.3.0 in /usr/local/lib/python3.10/dist-packages (from optuna>=3.1.0->optuna-dashboard) (2.0.34)\n",
            "Requirement already satisfied: tqdm in /usr/local/lib/python3.10/dist-packages (from optuna>=3.1.0->optuna-dashboard) (4.66.5)\n",
            "Requirement already satisfied: PyYAML in /usr/local/lib/python3.10/dist-packages (from optuna>=3.1.0->optuna-dashboard) (6.0.2)\n",
            "Requirement already satisfied: scipy>=1.6.0 in /usr/local/lib/python3.10/dist-packages (from scikit-learn->optuna-dashboard) (1.11.4)\n",
            "Requirement already satisfied: joblib>=1.2.0 in /usr/local/lib/python3.10/dist-packages (from scikit-learn->optuna-dashboard) (1.3.2)\n",
            "Requirement already satisfied: threadpoolctl>=2.0.0 in /usr/local/lib/python3.10/dist-packages (from scikit-learn->optuna-dashboard) (3.5.0)\n",
            "Requirement already satisfied: Mako in /usr/local/lib/python3.10/dist-packages (from alembic>=1.5.0->optuna>=3.1.0->optuna-dashboard) (1.3.5)\n",
            "Requirement already satisfied: typing-extensions>=4 in /usr/local/lib/python3.10/dist-packages (from alembic>=1.5.0->optuna>=3.1.0->optuna-dashboard) (4.12.2)\n",
            "Requirement already satisfied: greenlet!=0.4.17 in /usr/local/lib/python3.10/dist-packages (from sqlalchemy>=1.3.0->optuna>=3.1.0->optuna-dashboard) (3.1.0)\n",
            "Requirement already satisfied: MarkupSafe>=0.9.2 in /usr/local/lib/python3.10/dist-packages (from Mako->alembic>=1.5.0->optuna>=3.1.0->optuna-dashboard) (2.1.5)\n",
            "Downloading optuna_dashboard-0.16.2-py3-none-any.whl (8.4 MB)\n",
            "\u001b[2K   \u001b[90m━━━━━━━━━━━━━━━━━━━━━━━━━━━━━━━━━━━━━━━━\u001b[0m \u001b[32m8.4/8.4 MB\u001b[0m \u001b[31m50.6 MB/s\u001b[0m eta \u001b[36m0:00:00\u001b[0m\n",
            "\u001b[?25hDownloading bottle-0.13.1-py2.py3-none-any.whl (103 kB)\n",
            "\u001b[2K   \u001b[90m━━━━━━━━━━━━━━━━━━━━━━━━━━━━━━━━━━━━━━━━\u001b[0m \u001b[32m103.8/103.8 kB\u001b[0m \u001b[31m7.2 MB/s\u001b[0m eta \u001b[36m0:00:00\u001b[0m\n",
            "\u001b[?25hInstalling collected packages: bottle, optuna-dashboard\n",
            "Successfully installed bottle-0.13.1 optuna-dashboard-0.16.2\n"
          ]
        }
      ]
    },
    {
      "cell_type": "code",
      "source": [
        "# 셀 8: 최종 모델 평가 및 결과 시각화\n",
        "best_params = study.best_params\n",
        "final_model = RandomForestClassifier(**best_params, random_state=42)\n",
        "final_model.fit(X_train_selected, y_train)\n",
        "\n",
        "final_y_prob = final_model.predict_proba(X_test_selected)[:, 1]\n",
        "final_auc = roc_auc_score(y_test, final_y_prob)\n",
        "final_y_pred = final_model.predict(X_test_selected)\n",
        "final_recall = recall_score(y_test, final_y_pred)\n",
        "\n",
        "print(f\"Final Model - AUC: {final_auc:.4f}, Recall: {final_recall:.4f}\")\n",
        "print(f\"Best Hyperparameters: {best_params}\")\n",
        "print(classification_report(y_test, final_y_pred))\n",
        "\n",
        "results['PyCaret'] = {'auc': pycaret_auc, 'recall': pycaret_recall}\n",
        "results['Optuna Tuned'] = {'auc': final_auc, 'recall': final_recall}\n",
        "\n",
        "df_results = pd.DataFrame(results).T\n",
        "df_results['harmonic_mean'] = 2 / (1/df_results['auc'] + 1/df_results['recall'])\n",
        "\n",
        "plt.figure(figsize=(12, 6))\n",
        "df_results[['auc', 'recall']].plot(kind='bar')\n",
        "plt.title('Model Performance Comparison')\n",
        "plt.ylabel('Score')\n",
        "plt.xticks(rotation=45)\n",
        "plt.tight_layout()\n",
        "plt.show()\n",
        "\n",
        "print(df_results.sort_values('harmonic_mean', ascending=False))"
      ],
      "metadata": {
        "colab": {
          "base_uri": "https://localhost:8080/",
          "height": 872
        },
        "id": "UE0rtA7p_63n",
        "outputId": "dd68deee-c09f-4b56-d68d-23576b54c31e"
      },
      "execution_count": 35,
      "outputs": [
        {
          "output_type": "stream",
          "name": "stdout",
          "text": [
            "Final Model - AUC: 0.8985, Recall: 0.8547\n",
            "Best Hyperparameters: {'n_estimators': 108, 'max_depth': 10, 'min_samples_split': 2}\n",
            "              precision    recall  f1-score   support\n",
            "\n",
            "           0       0.86      0.81      0.83      1166\n",
            "           1       0.80      0.85      0.83      1067\n",
            "\n",
            "    accuracy                           0.83      2233\n",
            "   macro avg       0.83      0.83      0.83      2233\n",
            "weighted avg       0.83      0.83      0.83      2233\n",
            "\n"
          ]
        },
        {
          "output_type": "display_data",
          "data": {
            "text/plain": [
              "<Figure size 1200x600 with 0 Axes>"
            ]
          },
          "metadata": {}
        },
        {
          "output_type": "display_data",
          "data": {
            "text/plain": [
              "<Figure size 800x550 with 1 Axes>"
            ],
            "image/png": "[encoded data removed]"
          },
          "metadata": {}
        },
        {
          "output_type": "stream",
          "name": "stdout",
          "text": [
            "                        auc    recall  harmonic_mean\n",
            "Optuna Tuned       0.898468  0.854733       0.876055\n",
            "Gradient Boosting  0.898422  0.828491       0.862040\n",
            "SVM                0.893348  0.824742       0.857675\n",
            "Random Forest      0.886189  0.805998       0.844194\n",
            "PyCaret            0.384209  0.833177       0.525904\n"
          ]
        }
      ]
    }
  ]
}